{
 "cells": [
  {
   "cell_type": "code",
   "execution_count": 39,
   "metadata": {},
   "outputs": [],
   "source": [
    "import pandas as pd\n",
    "import numpy as np\n",
    "# import io\n",
    "import statsmodels.formula.api as smf\n",
    "import scipy.stats as stats\n",
    "import re"
   ]
  },
  {
   "attachments": {},
   "cell_type": "markdown",
   "metadata": {},
   "source": [
    "### 2 Сравнение моделей\n",
    "#### (Вариант 1)\n",
    "\n",
    "#### 2.1 sleep equations\n",
    "\n",
    "Для набора данных `sleep75` рассмотрим несколько моделей регрессии.\n"
   ]
  },
  {
   "cell_type": "code",
   "execution_count": 40,
   "metadata": {},
   "outputs": [],
   "source": [
    "data_str = '''Observations            706         706         706         706         706         706    \n",
    "R2                     0.131       0.134       0.131       0.131       0.135       0.136   \n",
    "Adjusted R2            0.124       0.127       0.124       0.123       0.126       0.125   \n",
    "Akaike Inf. Crit.    10526.410   10525.480   10527.750   10529.800   10526.670   10529.780 \n",
    "Bayesian Inf. Crit.  10558.330   10561.950   10564.230   10570.830   10567.710   10579.940 \n",
    "Residual Std. Error   415.874     415.305     415.975     416.287     415.368     415.701'''"
   ]
  },
  {
   "cell_type": "code",
   "execution_count": 41,
   "metadata": {},
   "outputs": [],
   "source": [
    "data_str = re.findall(r'([-+]?\\d+.\\d+)',data_str)"
   ]
  },
  {
   "cell_type": "code",
   "execution_count": 42,
   "metadata": {},
   "outputs": [
    {
     "data": {
      "text/plain": [
       "array([['706', '706', '706', '706', '706', '706'],\n",
       "       ['0.131', '0.134', '0.131', '0.131', '0.135', '0.136'],\n",
       "       ['0.124', '0.127', '0.124', '0.123', '0.126', '0.125'],\n",
       "       ['10526.410', '10525.480', '10527.750', '10529.800', '10526.670',\n",
       "        '10529.780'],\n",
       "       ['10558.330', '10561.950', '10564.230', '10570.830', '10567.710',\n",
       "        '10579.940'],\n",
       "       ['415.874', '415.305', '415.975', '416.287', '415.368', '415.701']],\n",
       "      dtype='<U9')"
      ]
     },
     "execution_count": 42,
     "metadata": {},
     "output_type": "execute_result"
    }
   ],
   "source": [
    "data_str = np.reshape(data_str,(6,6))\n",
    "data_str"
   ]
  },
  {
   "cell_type": "code",
   "execution_count": 43,
   "metadata": {},
   "outputs": [
    {
     "data": {
      "text/html": [
       "<div>\n",
       "<style scoped>\n",
       "    .dataframe tbody tr th:only-of-type {\n",
       "        vertical-align: middle;\n",
       "    }\n",
       "\n",
       "    .dataframe tbody tr th {\n",
       "        vertical-align: top;\n",
       "    }\n",
       "\n",
       "    .dataframe thead th {\n",
       "        text-align: right;\n",
       "    }\n",
       "</style>\n",
       "<table border=\"1\" class=\"dataframe\">\n",
       "  <thead>\n",
       "    <tr style=\"text-align: right;\">\n",
       "      <th></th>\n",
       "      <th>mod1</th>\n",
       "      <th>mod2</th>\n",
       "      <th>mod3</th>\n",
       "      <th>mod4</th>\n",
       "      <th>mod5</th>\n",
       "      <th>mod6</th>\n",
       "    </tr>\n",
       "  </thead>\n",
       "  <tbody>\n",
       "    <tr>\n",
       "      <th>Observations</th>\n",
       "      <td>706.000</td>\n",
       "      <td>706.000</td>\n",
       "      <td>706.000</td>\n",
       "      <td>706.000</td>\n",
       "      <td>706.000</td>\n",
       "      <td>706.000</td>\n",
       "    </tr>\n",
       "    <tr>\n",
       "      <th>R2</th>\n",
       "      <td>0.131</td>\n",
       "      <td>0.134</td>\n",
       "      <td>0.131</td>\n",
       "      <td>0.131</td>\n",
       "      <td>0.135</td>\n",
       "      <td>0.136</td>\n",
       "    </tr>\n",
       "    <tr>\n",
       "      <th>Adj.R2</th>\n",
       "      <td>0.124</td>\n",
       "      <td>0.127</td>\n",
       "      <td>0.124</td>\n",
       "      <td>0.123</td>\n",
       "      <td>0.126</td>\n",
       "      <td>0.125</td>\n",
       "    </tr>\n",
       "    <tr>\n",
       "      <th>AIC</th>\n",
       "      <td>10526.410</td>\n",
       "      <td>10525.480</td>\n",
       "      <td>10527.750</td>\n",
       "      <td>10529.800</td>\n",
       "      <td>10526.670</td>\n",
       "      <td>10529.780</td>\n",
       "    </tr>\n",
       "    <tr>\n",
       "      <th>BIC</th>\n",
       "      <td>10558.330</td>\n",
       "      <td>10561.950</td>\n",
       "      <td>10564.230</td>\n",
       "      <td>10570.830</td>\n",
       "      <td>10567.710</td>\n",
       "      <td>10579.940</td>\n",
       "    </tr>\n",
       "    <tr>\n",
       "      <th>RSE</th>\n",
       "      <td>415.874</td>\n",
       "      <td>415.305</td>\n",
       "      <td>415.975</td>\n",
       "      <td>416.287</td>\n",
       "      <td>415.368</td>\n",
       "      <td>415.701</td>\n",
       "    </tr>\n",
       "  </tbody>\n",
       "</table>\n",
       "</div>"
      ],
      "text/plain": [
       "                   mod1       mod2       mod3       mod4       mod5       mod6\n",
       "Observations    706.000    706.000    706.000    706.000    706.000    706.000\n",
       "R2                0.131      0.134      0.131      0.131      0.135      0.136\n",
       "Adj.R2            0.124      0.127      0.124      0.123      0.126      0.125\n",
       "AIC           10526.410  10525.480  10527.750  10529.800  10526.670  10529.780\n",
       "BIC           10558.330  10561.950  10564.230  10570.830  10567.710  10579.940\n",
       "RSE             415.874    415.305    415.975    416.287    415.368    415.701"
      ]
     },
     "execution_count": 43,
     "metadata": {},
     "output_type": "execute_result"
    }
   ],
   "source": [
    "rows = ['Observations', 'R2', 'Adj.R2', 'AIC', 'BIC', 'RSE' ]\n",
    "columns = ['mod1', 'mod2', 'mod3', 'mod4', 'mod5', 'mod6'] \n",
    "df = pd.DataFrame(data_str, index=rows, columns=columns).astype(float)\n",
    "df"
   ]
  },
  {
   "cell_type": "code",
   "execution_count": 44,
   "metadata": {},
   "outputs": [
    {
     "data": {
      "text/html": [
       "<div>\n",
       "<style scoped>\n",
       "    .dataframe tbody tr th:only-of-type {\n",
       "        vertical-align: middle;\n",
       "    }\n",
       "\n",
       "    .dataframe tbody tr th {\n",
       "        vertical-align: top;\n",
       "    }\n",
       "\n",
       "    .dataframe thead th {\n",
       "        text-align: right;\n",
       "    }\n",
       "</style>\n",
       "<table border=\"1\" class=\"dataframe\">\n",
       "  <thead>\n",
       "    <tr style=\"text-align: right;\">\n",
       "      <th></th>\n",
       "      <th>Метод</th>\n",
       "      <th>Регрессия</th>\n",
       "    </tr>\n",
       "  </thead>\n",
       "  <tbody>\n",
       "    <tr>\n",
       "      <th>0</th>\n",
       "      <td>Adj.R2</td>\n",
       "      <td>mod2</td>\n",
       "    </tr>\n",
       "    <tr>\n",
       "      <th>1</th>\n",
       "      <td>AIC</td>\n",
       "      <td>mod2</td>\n",
       "    </tr>\n",
       "    <tr>\n",
       "      <th>2</th>\n",
       "      <td>BIC</td>\n",
       "      <td>mod1</td>\n",
       "    </tr>\n",
       "  </tbody>\n",
       "</table>\n",
       "</div>"
      ],
      "text/plain": [
       "    Метод Регрессия\n",
       "0  Adj.R2      mod2\n",
       "1     AIC      mod2\n",
       "2     BIC      mod1"
      ]
     },
     "execution_count": 44,
     "metadata": {},
     "output_type": "execute_result"
    }
   ],
   "source": [
    "df.loc['Adj.R2'].idxmax()\n",
    "df_res = pd.DataFrame(columns=['Метод', 'Регрессия'])\n",
    "df_res.loc[0] = ['Adj.R2', df.loc['Adj.R2'].idxmax()]\n",
    "df_res.loc[1] = ['AIC', df.loc['AIC'].idxmin()]\n",
    "df_res.loc[2] = ['BIC', df.loc['BIC'].idxmin()]\n",
    "df_res"
   ]
  }
 ],
 "metadata": {
  "kernelspec": {
   "display_name": "venv",
   "language": "python",
   "name": "python3"
  },
  "language_info": {
   "codemirror_mode": {
    "name": "ipython",
    "version": 3
   },
   "file_extension": ".py",
   "mimetype": "text/x-python",
   "name": "python",
   "nbconvert_exporter": "python",
   "pygments_lexer": "ipython3",
   "version": "3.9.6"
  },
  "orig_nbformat": 4
 },
 "nbformat": 4,
 "nbformat_minor": 2
}
