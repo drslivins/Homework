{
 "cells": [
  {
   "cell_type": "code",
   "execution_count": 1,
   "metadata": {},
   "outputs": [],
   "source": [
    "import pandas as pd\n",
    "import numpy as np\n",
    "# import io\n",
    "import statsmodels.formula.api as smf\n",
    "import scipy.stats as stats\n",
    "import re"
   ]
  },
  {
   "attachments": {},
   "cell_type": "markdown",
   "metadata": {},
   "source": [
    "### 2 Сравнение моделей\n",
    "#### (Вариант 1)\n",
    "\n",
    "#### 2.2 output equations\n",
    "\n",
    "Для набора данных `Labour` рассмотрим несколько моделей регрессии.\n"
   ]
  },
  {
   "cell_type": "code",
   "execution_count": 2,
   "metadata": {},
   "outputs": [],
   "source": [
    "data_str = '''Observations           569        569        569        569         569          569     \n",
    "R2                    0.8884     0.8957     0.8890     0.8958      0.7439       0.7451   \n",
    "Adjusted R2           0.8878     0.8948     0.8882     0.8947      0.7420       0.7428   \n",
    "Akaike Inf. Crit.    569.2462   534.6260   568.3145   536.2274   1043.9870    1043.1970  \n",
    "Bayesian Inf. Crit.  590.9656   565.0332   594.3778   570.9785   1070.0500    1073.6040  \n",
    "Residual Std. Error   0.3969     0.3844     0.3963     0.3846      0.6019       0.6009'''"
   ]
  },
  {
   "cell_type": "code",
   "execution_count": 3,
   "metadata": {},
   "outputs": [],
   "source": [
    "data_str = re.findall(r'([-+]?\\d+.\\d+)',data_str)"
   ]
  },
  {
   "cell_type": "code",
   "execution_count": 4,
   "metadata": {},
   "outputs": [
    {
     "data": {
      "text/plain": [
       "array([['569', '569', '569', '569', '569', '569'],\n",
       "       ['0.8884', '0.8957', '0.8890', '0.8958', '0.7439', '0.7451'],\n",
       "       ['0.8878', '0.8948', '0.8882', '0.8947', '0.7420', '0.7428'],\n",
       "       ['569.2462', '534.6260', '568.3145', '536.2274', '1043.9870',\n",
       "        '1043.1970'],\n",
       "       ['590.9656', '565.0332', '594.3778', '570.9785', '1070.0500',\n",
       "        '1073.6040'],\n",
       "       ['0.3969', '0.3844', '0.3963', '0.3846', '0.6019', '0.6009']],\n",
       "      dtype='<U9')"
      ]
     },
     "execution_count": 4,
     "metadata": {},
     "output_type": "execute_result"
    }
   ],
   "source": [
    "data_str = np.reshape(data_str,(6,6))\n",
    "data_str"
   ]
  },
  {
   "cell_type": "code",
   "execution_count": 5,
   "metadata": {},
   "outputs": [
    {
     "data": {
      "text/html": [
       "<div>\n",
       "<style scoped>\n",
       "    .dataframe tbody tr th:only-of-type {\n",
       "        vertical-align: middle;\n",
       "    }\n",
       "\n",
       "    .dataframe tbody tr th {\n",
       "        vertical-align: top;\n",
       "    }\n",
       "\n",
       "    .dataframe thead th {\n",
       "        text-align: right;\n",
       "    }\n",
       "</style>\n",
       "<table border=\"1\" class=\"dataframe\">\n",
       "  <thead>\n",
       "    <tr style=\"text-align: right;\">\n",
       "      <th></th>\n",
       "      <th>mod1</th>\n",
       "      <th>mod2</th>\n",
       "      <th>mod3</th>\n",
       "      <th>mod4</th>\n",
       "      <th>mod5</th>\n",
       "      <th>mod6</th>\n",
       "    </tr>\n",
       "  </thead>\n",
       "  <tbody>\n",
       "    <tr>\n",
       "      <th>Observations</th>\n",
       "      <td>569.0000</td>\n",
       "      <td>569.0000</td>\n",
       "      <td>569.0000</td>\n",
       "      <td>569.0000</td>\n",
       "      <td>569.0000</td>\n",
       "      <td>569.0000</td>\n",
       "    </tr>\n",
       "    <tr>\n",
       "      <th>R2</th>\n",
       "      <td>0.8884</td>\n",
       "      <td>0.8957</td>\n",
       "      <td>0.8890</td>\n",
       "      <td>0.8958</td>\n",
       "      <td>0.7439</td>\n",
       "      <td>0.7451</td>\n",
       "    </tr>\n",
       "    <tr>\n",
       "      <th>Adj.R2</th>\n",
       "      <td>0.8878</td>\n",
       "      <td>0.8948</td>\n",
       "      <td>0.8882</td>\n",
       "      <td>0.8947</td>\n",
       "      <td>0.7420</td>\n",
       "      <td>0.7428</td>\n",
       "    </tr>\n",
       "    <tr>\n",
       "      <th>AIC</th>\n",
       "      <td>569.2462</td>\n",
       "      <td>534.6260</td>\n",
       "      <td>568.3145</td>\n",
       "      <td>536.2274</td>\n",
       "      <td>1043.9870</td>\n",
       "      <td>1043.1970</td>\n",
       "    </tr>\n",
       "    <tr>\n",
       "      <th>BIC</th>\n",
       "      <td>590.9656</td>\n",
       "      <td>565.0332</td>\n",
       "      <td>594.3778</td>\n",
       "      <td>570.9785</td>\n",
       "      <td>1070.0500</td>\n",
       "      <td>1073.6040</td>\n",
       "    </tr>\n",
       "    <tr>\n",
       "      <th>RSE</th>\n",
       "      <td>0.3969</td>\n",
       "      <td>0.3844</td>\n",
       "      <td>0.3963</td>\n",
       "      <td>0.3846</td>\n",
       "      <td>0.6019</td>\n",
       "      <td>0.6009</td>\n",
       "    </tr>\n",
       "  </tbody>\n",
       "</table>\n",
       "</div>"
      ],
      "text/plain": [
       "                  mod1      mod2      mod3      mod4       mod5       mod6\n",
       "Observations  569.0000  569.0000  569.0000  569.0000   569.0000   569.0000\n",
       "R2              0.8884    0.8957    0.8890    0.8958     0.7439     0.7451\n",
       "Adj.R2          0.8878    0.8948    0.8882    0.8947     0.7420     0.7428\n",
       "AIC           569.2462  534.6260  568.3145  536.2274  1043.9870  1043.1970\n",
       "BIC           590.9656  565.0332  594.3778  570.9785  1070.0500  1073.6040\n",
       "RSE             0.3969    0.3844    0.3963    0.3846     0.6019     0.6009"
      ]
     },
     "execution_count": 5,
     "metadata": {},
     "output_type": "execute_result"
    }
   ],
   "source": [
    "rows = ['Observations', 'R2', 'Adj.R2', 'AIC', 'BIC', 'RSE' ]\n",
    "columns = ['mod1', 'mod2', 'mod3', 'mod4', 'mod5', 'mod6'] \n",
    "df = pd.DataFrame(data_str, index=rows, columns=columns).astype(float)\n",
    "df"
   ]
  },
  {
   "cell_type": "code",
   "execution_count": 6,
   "metadata": {},
   "outputs": [
    {
     "data": {
      "text/html": [
       "<div>\n",
       "<style scoped>\n",
       "    .dataframe tbody tr th:only-of-type {\n",
       "        vertical-align: middle;\n",
       "    }\n",
       "\n",
       "    .dataframe tbody tr th {\n",
       "        vertical-align: top;\n",
       "    }\n",
       "\n",
       "    .dataframe thead th {\n",
       "        text-align: right;\n",
       "    }\n",
       "</style>\n",
       "<table border=\"1\" class=\"dataframe\">\n",
       "  <thead>\n",
       "    <tr style=\"text-align: right;\">\n",
       "      <th></th>\n",
       "      <th>Метод</th>\n",
       "      <th>Регрессия</th>\n",
       "    </tr>\n",
       "  </thead>\n",
       "  <tbody>\n",
       "    <tr>\n",
       "      <th>0</th>\n",
       "      <td>Adj.R2</td>\n",
       "      <td>mod2</td>\n",
       "    </tr>\n",
       "    <tr>\n",
       "      <th>1</th>\n",
       "      <td>AIC</td>\n",
       "      <td>mod2</td>\n",
       "    </tr>\n",
       "    <tr>\n",
       "      <th>2</th>\n",
       "      <td>BIC</td>\n",
       "      <td>mod2</td>\n",
       "    </tr>\n",
       "  </tbody>\n",
       "</table>\n",
       "</div>"
      ],
      "text/plain": [
       "    Метод Регрессия\n",
       "0  Adj.R2      mod2\n",
       "1     AIC      mod2\n",
       "2     BIC      mod2"
      ]
     },
     "execution_count": 6,
     "metadata": {},
     "output_type": "execute_result"
    }
   ],
   "source": [
    "df.loc['Adj.R2'].idxmax()\n",
    "df_res = pd.DataFrame(columns=['Метод', 'Регрессия'])\n",
    "df_res.loc[0] = ['Adj.R2', df.loc['Adj.R2'].idxmax()]\n",
    "df_res.loc[1] = ['AIC', df.loc['AIC'].idxmin()]\n",
    "df_res.loc[2] = ['BIC', df.loc['BIC'].idxmin()]\n",
    "df_res"
   ]
  }
 ],
 "metadata": {
  "kernelspec": {
   "display_name": "venv",
   "language": "python",
   "name": "python3"
  },
  "language_info": {
   "codemirror_mode": {
    "name": "ipython",
    "version": 3
   },
   "file_extension": ".py",
   "mimetype": "text/x-python",
   "name": "python",
   "nbconvert_exporter": "python",
   "pygments_lexer": "ipython3",
   "version": "3.9.6"
  },
  "orig_nbformat": 4
 },
 "nbformat": 4,
 "nbformat_minor": 2
}
