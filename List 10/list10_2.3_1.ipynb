{
 "cells": [
  {
   "cell_type": "code",
   "execution_count": 1,
   "metadata": {},
   "outputs": [],
   "source": [
    "import pandas as pd\n",
    "import numpy as np\n",
    "# import io\n",
    "import statsmodels.formula.api as smf\n",
    "import scipy.stats as stats\n",
    "import re"
   ]
  },
  {
   "attachments": {},
   "cell_type": "markdown",
   "metadata": {},
   "source": [
    "### 2 Сравнение моделей\n",
    "#### (Вариант 1)\n",
    "\n",
    "#### 2.3 cost equations\n",
    "\n",
    "Для набора данных `Electricity` рассмотрим несколько моделей регрессии.\n"
   ]
  },
  {
   "cell_type": "code",
   "execution_count": 2,
   "metadata": {},
   "outputs": [],
   "source": [
    "data_str = '''Observations           158       158       158       158      158       158   \n",
    "R2                    0.982     0.992     0.511     0.678    0.992     0.683  \n",
    "Adjusted R2           0.982     0.992     0.498     0.667    0.992     0.666  \n",
    "Akaike Inf. Crit.    -39.855  -169.030   483.433   419.566  -165.985  422.654 \n",
    "Bayesian Inf. Crit.  -21.479  -147.592   501.809   441.005  -135.359  453.280 \n",
    "Residual Std. Error   0.209     0.138     1.093     0.890    0.138     0.891'''"
   ]
  },
  {
   "cell_type": "code",
   "execution_count": 3,
   "metadata": {},
   "outputs": [],
   "source": [
    "data_str = re.findall(r'([-+]?\\d+.\\d+)',data_str)"
   ]
  },
  {
   "cell_type": "code",
   "execution_count": 4,
   "metadata": {},
   "outputs": [
    {
     "data": {
      "text/plain": [
       "array([['158', '158', '158', '158', '158', '158'],\n",
       "       ['0.982', '0.992', '0.511', '0.678', '0.992', '0.683'],\n",
       "       ['0.982', '0.992', '0.498', '0.667', '0.992', '0.666'],\n",
       "       ['-39.855', '-169.030', '483.433', '419.566', '-165.985',\n",
       "        '422.654'],\n",
       "       ['-21.479', '-147.592', '501.809', '441.005', '-135.359',\n",
       "        '453.280'],\n",
       "       ['0.209', '0.138', '1.093', '0.890', '0.138', '0.891']],\n",
       "      dtype='<U8')"
      ]
     },
     "execution_count": 4,
     "metadata": {},
     "output_type": "execute_result"
    }
   ],
   "source": [
    "data_str = np.reshape(data_str,(6,6))\n",
    "data_str"
   ]
  },
  {
   "cell_type": "code",
   "execution_count": 5,
   "metadata": {},
   "outputs": [
    {
     "data": {
      "text/html": [
       "<div>\n",
       "<style scoped>\n",
       "    .dataframe tbody tr th:only-of-type {\n",
       "        vertical-align: middle;\n",
       "    }\n",
       "\n",
       "    .dataframe tbody tr th {\n",
       "        vertical-align: top;\n",
       "    }\n",
       "\n",
       "    .dataframe thead th {\n",
       "        text-align: right;\n",
       "    }\n",
       "</style>\n",
       "<table border=\"1\" class=\"dataframe\">\n",
       "  <thead>\n",
       "    <tr style=\"text-align: right;\">\n",
       "      <th></th>\n",
       "      <th>mod1</th>\n",
       "      <th>mod2</th>\n",
       "      <th>mod3</th>\n",
       "      <th>mod4</th>\n",
       "      <th>mod5</th>\n",
       "      <th>mod6</th>\n",
       "    </tr>\n",
       "  </thead>\n",
       "  <tbody>\n",
       "    <tr>\n",
       "      <th>Observations</th>\n",
       "      <td>158.000</td>\n",
       "      <td>158.000</td>\n",
       "      <td>158.000</td>\n",
       "      <td>158.000</td>\n",
       "      <td>158.000</td>\n",
       "      <td>158.000</td>\n",
       "    </tr>\n",
       "    <tr>\n",
       "      <th>R2</th>\n",
       "      <td>0.982</td>\n",
       "      <td>0.992</td>\n",
       "      <td>0.511</td>\n",
       "      <td>0.678</td>\n",
       "      <td>0.992</td>\n",
       "      <td>0.683</td>\n",
       "    </tr>\n",
       "    <tr>\n",
       "      <th>Adj.R2</th>\n",
       "      <td>0.982</td>\n",
       "      <td>0.992</td>\n",
       "      <td>0.498</td>\n",
       "      <td>0.667</td>\n",
       "      <td>0.992</td>\n",
       "      <td>0.666</td>\n",
       "    </tr>\n",
       "    <tr>\n",
       "      <th>AIC</th>\n",
       "      <td>-39.855</td>\n",
       "      <td>-169.030</td>\n",
       "      <td>483.433</td>\n",
       "      <td>419.566</td>\n",
       "      <td>-165.985</td>\n",
       "      <td>422.654</td>\n",
       "    </tr>\n",
       "    <tr>\n",
       "      <th>BIC</th>\n",
       "      <td>-21.479</td>\n",
       "      <td>-147.592</td>\n",
       "      <td>501.809</td>\n",
       "      <td>441.005</td>\n",
       "      <td>-135.359</td>\n",
       "      <td>453.280</td>\n",
       "    </tr>\n",
       "    <tr>\n",
       "      <th>RSE</th>\n",
       "      <td>0.209</td>\n",
       "      <td>0.138</td>\n",
       "      <td>1.093</td>\n",
       "      <td>0.890</td>\n",
       "      <td>0.138</td>\n",
       "      <td>0.891</td>\n",
       "    </tr>\n",
       "  </tbody>\n",
       "</table>\n",
       "</div>"
      ],
      "text/plain": [
       "                 mod1     mod2     mod3     mod4     mod5     mod6\n",
       "Observations  158.000  158.000  158.000  158.000  158.000  158.000\n",
       "R2              0.982    0.992    0.511    0.678    0.992    0.683\n",
       "Adj.R2          0.982    0.992    0.498    0.667    0.992    0.666\n",
       "AIC           -39.855 -169.030  483.433  419.566 -165.985  422.654\n",
       "BIC           -21.479 -147.592  501.809  441.005 -135.359  453.280\n",
       "RSE             0.209    0.138    1.093    0.890    0.138    0.891"
      ]
     },
     "execution_count": 5,
     "metadata": {},
     "output_type": "execute_result"
    }
   ],
   "source": [
    "rows = ['Observations', 'R2', 'Adj.R2', 'AIC', 'BIC', 'RSE' ]\n",
    "columns = ['mod1', 'mod2', 'mod3', 'mod4', 'mod5', 'mod6'] \n",
    "df = pd.DataFrame(data_str, index=rows, columns=columns).astype(float)\n",
    "df"
   ]
  },
  {
   "cell_type": "code",
   "execution_count": 6,
   "metadata": {},
   "outputs": [
    {
     "data": {
      "text/html": [
       "<div>\n",
       "<style scoped>\n",
       "    .dataframe tbody tr th:only-of-type {\n",
       "        vertical-align: middle;\n",
       "    }\n",
       "\n",
       "    .dataframe tbody tr th {\n",
       "        vertical-align: top;\n",
       "    }\n",
       "\n",
       "    .dataframe thead th {\n",
       "        text-align: right;\n",
       "    }\n",
       "</style>\n",
       "<table border=\"1\" class=\"dataframe\">\n",
       "  <thead>\n",
       "    <tr style=\"text-align: right;\">\n",
       "      <th></th>\n",
       "      <th>Метод</th>\n",
       "      <th>Регрессия</th>\n",
       "    </tr>\n",
       "  </thead>\n",
       "  <tbody>\n",
       "    <tr>\n",
       "      <th>0</th>\n",
       "      <td>Adj.R2</td>\n",
       "      <td>mod2</td>\n",
       "    </tr>\n",
       "    <tr>\n",
       "      <th>1</th>\n",
       "      <td>AIC</td>\n",
       "      <td>mod2</td>\n",
       "    </tr>\n",
       "    <tr>\n",
       "      <th>2</th>\n",
       "      <td>BIC</td>\n",
       "      <td>mod2</td>\n",
       "    </tr>\n",
       "  </tbody>\n",
       "</table>\n",
       "</div>"
      ],
      "text/plain": [
       "    Метод Регрессия\n",
       "0  Adj.R2      mod2\n",
       "1     AIC      mod2\n",
       "2     BIC      mod2"
      ]
     },
     "execution_count": 6,
     "metadata": {},
     "output_type": "execute_result"
    }
   ],
   "source": [
    "df.loc['Adj.R2'].idxmax()\n",
    "df_res = pd.DataFrame(columns=['Метод', 'Регрессия'])\n",
    "df_res.loc[0] = ['Adj.R2', df.loc['Adj.R2'].idxmax()]\n",
    "df_res.loc[1] = ['AIC', df.loc['AIC'].idxmin()]\n",
    "df_res.loc[2] = ['BIC', df.loc['BIC'].idxmin()]\n",
    "df_res"
   ]
  }
 ],
 "metadata": {
  "kernelspec": {
   "display_name": "venv",
   "language": "python",
   "name": "python3"
  },
  "language_info": {
   "codemirror_mode": {
    "name": "ipython",
    "version": 3
   },
   "file_extension": ".py",
   "mimetype": "text/x-python",
   "name": "python",
   "nbconvert_exporter": "python",
   "pygments_lexer": "ipython3",
   "version": "3.9.6"
  },
  "orig_nbformat": 4
 },
 "nbformat": 4,
 "nbformat_minor": 2
}
