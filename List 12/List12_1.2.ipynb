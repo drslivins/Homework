{
 "cells": [
  {
   "cell_type": "code",
   "execution_count": 112,
   "id": "76c56c3d",
   "metadata": {},
   "outputs": [],
   "source": [
    "import pandas as pd\n",
    "import numpy as np\n",
    "import statsmodels.formula.api as smf\n",
    "import seaborn as sns\n",
    "import matplotlib.pyplot as plt\n",
    "import scipy.stats as stats\n",
    "from statsmodels.stats.stattools import durbin_watson"
   ]
  },
  {
   "attachments": {},
   "cell_type": "markdown",
   "id": "af28f50f",
   "metadata": {},
   "source": [
    "## 1 DW-тест\n",
    "### 1.2 Consumption equation\n",
    "Для набора данных `Consumption` рассморим регессию с серийной коррецяией первого порядка\n",
    "\n",
    "Модель с серийной корреляцией первого порядка\n",
    "\n",
    "Δlog(ydt)=β0+β1Δlog(cet)+ut\n",
    "\n",
    "ut=ρut−1+vt"
   ]
  },
  {
   "cell_type": "code",
   "execution_count": 113,
   "id": "525850f0",
   "metadata": {},
   "outputs": [
    {
     "data": {
      "text/html": [
       "<div>\n",
       "<style scoped>\n",
       "    .dataframe tbody tr th:only-of-type {\n",
       "        vertical-align: middle;\n",
       "    }\n",
       "\n",
       "    .dataframe tbody tr th {\n",
       "        vertical-align: top;\n",
       "    }\n",
       "\n",
       "    .dataframe thead th {\n",
       "        text-align: right;\n",
       "    }\n",
       "</style>\n",
       "<table border=\"1\" class=\"dataframe\">\n",
       "  <thead>\n",
       "    <tr style=\"text-align: right;\">\n",
       "      <th></th>\n",
       "      <th>Unnamed: 0</th>\n",
       "      <th>yd</th>\n",
       "      <th>ce</th>\n",
       "    </tr>\n",
       "  </thead>\n",
       "  <tbody>\n",
       "    <tr>\n",
       "      <th>0</th>\n",
       "      <td>1</td>\n",
       "      <td>59505.0</td>\n",
       "      <td>57168</td>\n",
       "    </tr>\n",
       "    <tr>\n",
       "      <th>1</th>\n",
       "      <td>2</td>\n",
       "      <td>59717.4</td>\n",
       "      <td>55464</td>\n",
       "    </tr>\n",
       "    <tr>\n",
       "      <th>2</th>\n",
       "      <td>3</td>\n",
       "      <td>59039.1</td>\n",
       "      <td>56332</td>\n",
       "    </tr>\n",
       "    <tr>\n",
       "      <th>3</th>\n",
       "      <td>4</td>\n",
       "      <td>61342.6</td>\n",
       "      <td>55836</td>\n",
       "    </tr>\n",
       "    <tr>\n",
       "      <th>4</th>\n",
       "      <td>5</td>\n",
       "      <td>60544.6</td>\n",
       "      <td>54488</td>\n",
       "    </tr>\n",
       "    <tr>\n",
       "      <th>...</th>\n",
       "      <td>...</td>\n",
       "      <td>...</td>\n",
       "      <td>...</td>\n",
       "    </tr>\n",
       "    <tr>\n",
       "      <th>195</th>\n",
       "      <td>196</td>\n",
       "      <td>390576.6</td>\n",
       "      <td>359372</td>\n",
       "    </tr>\n",
       "    <tr>\n",
       "      <th>196</th>\n",
       "      <td>197</td>\n",
       "      <td>391381.5</td>\n",
       "      <td>363896</td>\n",
       "    </tr>\n",
       "    <tr>\n",
       "      <th>197</th>\n",
       "      <td>198</td>\n",
       "      <td>389502.6</td>\n",
       "      <td>364428</td>\n",
       "    </tr>\n",
       "    <tr>\n",
       "      <th>198</th>\n",
       "      <td>199</td>\n",
       "      <td>388282.1</td>\n",
       "      <td>366224</td>\n",
       "    </tr>\n",
       "    <tr>\n",
       "      <th>199</th>\n",
       "      <td>200</td>\n",
       "      <td>388804.1</td>\n",
       "      <td>371236</td>\n",
       "    </tr>\n",
       "  </tbody>\n",
       "</table>\n",
       "<p>200 rows × 3 columns</p>\n",
       "</div>"
      ],
      "text/plain": [
       "     Unnamed: 0        yd      ce\n",
       "0             1   59505.0   57168\n",
       "1             2   59717.4   55464\n",
       "2             3   59039.1   56332\n",
       "3             4   61342.6   55836\n",
       "4             5   60544.6   54488\n",
       "..          ...       ...     ...\n",
       "195         196  390576.6  359372\n",
       "196         197  391381.5  363896\n",
       "197         198  389502.6  364428\n",
       "198         199  388282.1  366224\n",
       "199         200  388804.1  371236\n",
       "\n",
       "[200 rows x 3 columns]"
      ]
     },
     "execution_count": 113,
     "metadata": {},
     "output_type": "execute_result"
    }
   ],
   "source": [
    "source_file = 'Consumption.csv'\n",
    "url = 'https://raw.githubusercontent.com/artamonoff/Econometrica/master/python-notebooks/data-csv/'\n",
    "df = pd.read_csv(url + source_file)\n",
    "df"
   ]
  },
  {
   "cell_type": "code",
   "execution_count": 114,
   "id": "e933b0cb",
   "metadata": {},
   "outputs": [
    {
     "data": {
      "text/html": [
       "<div>\n",
       "<style scoped>\n",
       "    .dataframe tbody tr th:only-of-type {\n",
       "        vertical-align: middle;\n",
       "    }\n",
       "\n",
       "    .dataframe tbody tr th {\n",
       "        vertical-align: top;\n",
       "    }\n",
       "\n",
       "    .dataframe thead th {\n",
       "        text-align: right;\n",
       "    }\n",
       "</style>\n",
       "<table border=\"1\" class=\"dataframe\">\n",
       "  <thead>\n",
       "    <tr style=\"text-align: right;\">\n",
       "      <th></th>\n",
       "      <th>Unnamed: 0</th>\n",
       "      <th>yd</th>\n",
       "      <th>ce</th>\n",
       "      <th>diff_log_yd</th>\n",
       "      <th>diff_log_ce</th>\n",
       "    </tr>\n",
       "  </thead>\n",
       "  <tbody>\n",
       "    <tr>\n",
       "      <th>0</th>\n",
       "      <td>1</td>\n",
       "      <td>59505.0</td>\n",
       "      <td>57168</td>\n",
       "      <td>0.003563</td>\n",
       "      <td>-0.030260</td>\n",
       "    </tr>\n",
       "    <tr>\n",
       "      <th>1</th>\n",
       "      <td>2</td>\n",
       "      <td>59717.4</td>\n",
       "      <td>55464</td>\n",
       "      <td>-0.011423</td>\n",
       "      <td>0.015529</td>\n",
       "    </tr>\n",
       "    <tr>\n",
       "      <th>2</th>\n",
       "      <td>3</td>\n",
       "      <td>59039.1</td>\n",
       "      <td>56332</td>\n",
       "      <td>0.038275</td>\n",
       "      <td>-0.008844</td>\n",
       "    </tr>\n",
       "    <tr>\n",
       "      <th>3</th>\n",
       "      <td>4</td>\n",
       "      <td>61342.6</td>\n",
       "      <td>55836</td>\n",
       "      <td>-0.013094</td>\n",
       "      <td>-0.024438</td>\n",
       "    </tr>\n",
       "    <tr>\n",
       "      <th>4</th>\n",
       "      <td>5</td>\n",
       "      <td>60544.6</td>\n",
       "      <td>54488</td>\n",
       "      <td>-0.003640</td>\n",
       "      <td>-0.015015</td>\n",
       "    </tr>\n",
       "    <tr>\n",
       "      <th>...</th>\n",
       "      <td>...</td>\n",
       "      <td>...</td>\n",
       "      <td>...</td>\n",
       "      <td>...</td>\n",
       "      <td>...</td>\n",
       "    </tr>\n",
       "    <tr>\n",
       "      <th>195</th>\n",
       "      <td>196</td>\n",
       "      <td>390576.6</td>\n",
       "      <td>359372</td>\n",
       "      <td>0.002059</td>\n",
       "      <td>0.012510</td>\n",
       "    </tr>\n",
       "    <tr>\n",
       "      <th>196</th>\n",
       "      <td>197</td>\n",
       "      <td>391381.5</td>\n",
       "      <td>363896</td>\n",
       "      <td>-0.004812</td>\n",
       "      <td>0.001461</td>\n",
       "    </tr>\n",
       "    <tr>\n",
       "      <th>197</th>\n",
       "      <td>198</td>\n",
       "      <td>389502.6</td>\n",
       "      <td>364428</td>\n",
       "      <td>-0.003138</td>\n",
       "      <td>0.004916</td>\n",
       "    </tr>\n",
       "    <tr>\n",
       "      <th>198</th>\n",
       "      <td>199</td>\n",
       "      <td>388282.1</td>\n",
       "      <td>366224</td>\n",
       "      <td>0.001343</td>\n",
       "      <td>0.013593</td>\n",
       "    </tr>\n",
       "    <tr>\n",
       "      <th>199</th>\n",
       "      <td>200</td>\n",
       "      <td>388804.1</td>\n",
       "      <td>371236</td>\n",
       "      <td>NaN</td>\n",
       "      <td>NaN</td>\n",
       "    </tr>\n",
       "  </tbody>\n",
       "</table>\n",
       "<p>200 rows × 5 columns</p>\n",
       "</div>"
      ],
      "text/plain": [
       "     Unnamed: 0        yd      ce  diff_log_yd  diff_log_ce\n",
       "0             1   59505.0   57168     0.003563    -0.030260\n",
       "1             2   59717.4   55464    -0.011423     0.015529\n",
       "2             3   59039.1   56332     0.038275    -0.008844\n",
       "3             4   61342.6   55836    -0.013094    -0.024438\n",
       "4             5   60544.6   54488    -0.003640    -0.015015\n",
       "..          ...       ...     ...          ...          ...\n",
       "195         196  390576.6  359372     0.002059     0.012510\n",
       "196         197  391381.5  363896    -0.004812     0.001461\n",
       "197         198  389502.6  364428    -0.003138     0.004916\n",
       "198         199  388282.1  366224     0.001343     0.013593\n",
       "199         200  388804.1  371236          NaN          NaN\n",
       "\n",
       "[200 rows x 5 columns]"
      ]
     },
     "execution_count": 114,
     "metadata": {},
     "output_type": "execute_result"
    }
   ],
   "source": [
    "df['diff_log_yd'] = pd.Series(np.diff(np.log(df['yd'])))\n",
    "df['diff_log_ce'] = pd.Series(np.diff(np.log(df['ce'])))\n",
    "df"
   ]
  },
  {
   "cell_type": "code",
   "execution_count": 115,
   "id": "70a3dbc9",
   "metadata": {},
   "outputs": [
    {
     "data": {
      "text/html": [
       "<table class=\"simpletable\">\n",
       "<caption>OLS Regression Results</caption>\n",
       "<tr>\n",
       "  <th>Dep. Variable:</th>       <td>diff_log_yd</td>   <th>  R-squared:         </th> <td>   0.132</td>\n",
       "</tr>\n",
       "<tr>\n",
       "  <th>Model:</th>                   <td>OLS</td>       <th>  Adj. R-squared:    </th> <td>   0.128</td>\n",
       "</tr>\n",
       "<tr>\n",
       "  <th>Method:</th>             <td>Least Squares</td>  <th>  F-statistic:       </th> <td>   30.06</td>\n",
       "</tr>\n",
       "<tr>\n",
       "  <th>Date:</th>             <td>Mon, 08 May 2023</td> <th>  Prob (F-statistic):</th> <td>1.27e-07</td>\n",
       "</tr>\n",
       "<tr>\n",
       "  <th>Time:</th>                 <td>15:21:52</td>     <th>  Log-Likelihood:    </th> <td>  579.44</td>\n",
       "</tr>\n",
       "<tr>\n",
       "  <th>No. Observations:</th>      <td>   199</td>      <th>  AIC:               </th> <td>  -1155.</td>\n",
       "</tr>\n",
       "<tr>\n",
       "  <th>Df Residuals:</th>          <td>   197</td>      <th>  BIC:               </th> <td>  -1148.</td>\n",
       "</tr>\n",
       "<tr>\n",
       "  <th>Df Model:</th>              <td>     1</td>      <th>                     </th>     <td> </td>   \n",
       "</tr>\n",
       "<tr>\n",
       "  <th>Covariance Type:</th>      <td>nonrobust</td>    <th>                     </th>     <td> </td>   \n",
       "</tr>\n",
       "</table>\n",
       "<table class=\"simpletable\">\n",
       "<tr>\n",
       "       <td></td>          <th>coef</th>     <th>std err</th>      <th>t</th>      <th>P>|t|</th>  <th>[0.025</th>    <th>0.975]</th>  \n",
       "</tr>\n",
       "<tr>\n",
       "  <th>Intercept</th>   <td>    0.0059</td> <td>    0.001</td> <td>    5.252</td> <td> 0.000</td> <td>    0.004</td> <td>    0.008</td>\n",
       "</tr>\n",
       "<tr>\n",
       "  <th>diff_log_ce</th> <td>    0.3706</td> <td>    0.068</td> <td>    5.483</td> <td> 0.000</td> <td>    0.237</td> <td>    0.504</td>\n",
       "</tr>\n",
       "</table>\n",
       "<table class=\"simpletable\">\n",
       "<tr>\n",
       "  <th>Omnibus:</th>       <td> 0.730</td> <th>  Durbin-Watson:     </th> <td>   2.382</td>\n",
       "</tr>\n",
       "<tr>\n",
       "  <th>Prob(Omnibus):</th> <td> 0.694</td> <th>  Jarque-Bera (JB):  </th> <td>   0.803</td>\n",
       "</tr>\n",
       "<tr>\n",
       "  <th>Skew:</th>          <td> 0.140</td> <th>  Prob(JB):          </th> <td>   0.669</td>\n",
       "</tr>\n",
       "<tr>\n",
       "  <th>Kurtosis:</th>      <td> 2.866</td> <th>  Cond. No.          </th> <td>    72.1</td>\n",
       "</tr>\n",
       "</table><br/><br/>Notes:<br/>[1] Standard Errors assume that the covariance matrix of the errors is correctly specified."
      ],
      "text/latex": [
       "\\begin{center}\n",
       "\\begin{tabular}{lclc}\n",
       "\\toprule\n",
       "\\textbf{Dep. Variable:}    &  diff\\_log\\_yd   & \\textbf{  R-squared:         } &     0.132   \\\\\n",
       "\\textbf{Model:}            &       OLS        & \\textbf{  Adj. R-squared:    } &     0.128   \\\\\n",
       "\\textbf{Method:}           &  Least Squares   & \\textbf{  F-statistic:       } &     30.06   \\\\\n",
       "\\textbf{Date:}             & Mon, 08 May 2023 & \\textbf{  Prob (F-statistic):} &  1.27e-07   \\\\\n",
       "\\textbf{Time:}             &     15:21:52     & \\textbf{  Log-Likelihood:    } &    579.44   \\\\\n",
       "\\textbf{No. Observations:} &         199      & \\textbf{  AIC:               } &    -1155.   \\\\\n",
       "\\textbf{Df Residuals:}     &         197      & \\textbf{  BIC:               } &    -1148.   \\\\\n",
       "\\textbf{Df Model:}         &           1      & \\textbf{                     } &             \\\\\n",
       "\\textbf{Covariance Type:}  &    nonrobust     & \\textbf{                     } &             \\\\\n",
       "\\bottomrule\n",
       "\\end{tabular}\n",
       "\\begin{tabular}{lcccccc}\n",
       "                       & \\textbf{coef} & \\textbf{std err} & \\textbf{t} & \\textbf{P$> |$t$|$} & \\textbf{[0.025} & \\textbf{0.975]}  \\\\\n",
       "\\midrule\n",
       "\\textbf{Intercept}     &       0.0059  &        0.001     &     5.252  &         0.000        &        0.004    &        0.008     \\\\\n",
       "\\textbf{diff\\_log\\_ce} &       0.3706  &        0.068     &     5.483  &         0.000        &        0.237    &        0.504     \\\\\n",
       "\\bottomrule\n",
       "\\end{tabular}\n",
       "\\begin{tabular}{lclc}\n",
       "\\textbf{Omnibus:}       &  0.730 & \\textbf{  Durbin-Watson:     } &    2.382  \\\\\n",
       "\\textbf{Prob(Omnibus):} &  0.694 & \\textbf{  Jarque-Bera (JB):  } &    0.803  \\\\\n",
       "\\textbf{Skew:}          &  0.140 & \\textbf{  Prob(JB):          } &    0.669  \\\\\n",
       "\\textbf{Kurtosis:}      &  2.866 & \\textbf{  Cond. No.          } &     72.1  \\\\\n",
       "\\bottomrule\n",
       "\\end{tabular}\n",
       "%\\caption{OLS Regression Results}\n",
       "\\end{center}\n",
       "\n",
       "Notes: \\newline\n",
       " [1] Standard Errors assume that the covariance matrix of the errors is correctly specified."
      ],
      "text/plain": [
       "<class 'statsmodels.iolib.summary.Summary'>\n",
       "\"\"\"\n",
       "                            OLS Regression Results                            \n",
       "==============================================================================\n",
       "Dep. Variable:            diff_log_yd   R-squared:                       0.132\n",
       "Model:                            OLS   Adj. R-squared:                  0.128\n",
       "Method:                 Least Squares   F-statistic:                     30.06\n",
       "Date:                Mon, 08 May 2023   Prob (F-statistic):           1.27e-07\n",
       "Time:                        15:21:52   Log-Likelihood:                 579.44\n",
       "No. Observations:                 199   AIC:                            -1155.\n",
       "Df Residuals:                     197   BIC:                            -1148.\n",
       "Df Model:                           1                                         \n",
       "Covariance Type:            nonrobust                                         \n",
       "===============================================================================\n",
       "                  coef    std err          t      P>|t|      [0.025      0.975]\n",
       "-------------------------------------------------------------------------------\n",
       "Intercept       0.0059      0.001      5.252      0.000       0.004       0.008\n",
       "diff_log_ce     0.3706      0.068      5.483      0.000       0.237       0.504\n",
       "==============================================================================\n",
       "Omnibus:                        0.730   Durbin-Watson:                   2.382\n",
       "Prob(Omnibus):                  0.694   Jarque-Bera (JB):                0.803\n",
       "Skew:                           0.140   Prob(JB):                        0.669\n",
       "Kurtosis:                       2.866   Cond. No.                         72.1\n",
       "==============================================================================\n",
       "\n",
       "Notes:\n",
       "[1] Standard Errors assume that the covariance matrix of the errors is correctly specified.\n",
       "\"\"\""
      ]
     },
     "execution_count": 115,
     "metadata": {},
     "output_type": "execute_result"
    }
   ],
   "source": [
    "# model = smf.ols(data=df, formula='diff_log_yd ~ diff_log_ce').fit()\n",
    "# model = smf.ols(data=df, formula='np.log(yd) ~ np.log(ce)').fit()\n",
    "model = smf.ols(data=df, formula='pd.Series(np.diff(np.log(yd))) ~ pd.Series(np.diff(np.log(ce)))').fit()\n",
    "# model.params.round(2)\n",
    "model.summary()"
   ]
  },
  {
   "attachments": {},
   "cell_type": "markdown",
   "id": "f1ccdd24",
   "metadata": {},
   "source": [
    "### Способ 1\n",
    "Вычисляем результат DW-теста по формуле."
   ]
  },
  {
   "cell_type": "markdown",
   "id": "8bff6ea3",
   "metadata": {},
   "source": [
    "$$\n",
    "DW = \\frac{\\sum\\limits_{t=2}^{n}(e_t-e_{t-1})^2}{\\sum\\limits_{t=1}^{n}e_t^2}\n",
    "$$"
   ]
  },
  {
   "cell_type": "code",
   "execution_count": 116,
   "id": "2f3ae46d",
   "metadata": {},
   "outputs": [],
   "source": [
    "# вычислим знаменатель\n",
    "resSq = sum(model.resid**2)"
   ]
  },
  {
   "cell_type": "code",
   "execution_count": 117,
   "id": "ac52ae51",
   "metadata": {},
   "outputs": [],
   "source": [
    "# Вычислим числитель\n",
    "sum_resid = 0\n",
    "for i in range(len(model.resid)-1):\n",
    "    sum_resid+=(model.resid[i+1]-model.resid[i])**2"
   ]
  },
  {
   "cell_type": "code",
   "execution_count": 118,
   "id": "6d55e05b",
   "metadata": {},
   "outputs": [
    {
     "name": "stdout",
     "output_type": "stream",
     "text": [
      "DW = 2.382\n"
     ]
    }
   ],
   "source": [
    "DW = sum_resid/resSq\n",
    "print(f'DW = {DW:.3f}')"
   ]
  },
  {
   "attachments": {},
   "cell_type": "markdown",
   "id": "d794de5f",
   "metadata": {},
   "source": [
    "### Способ 2\n",
    "Вычисляем результат DW-теста с помощью функции библиотеки statsmodels."
   ]
  },
  {
   "cell_type": "code",
   "execution_count": 119,
   "id": "061287e6",
   "metadata": {},
   "outputs": [
    {
     "name": "stdout",
     "output_type": "stream",
     "text": [
      "DW = 2.382\n"
     ]
    }
   ],
   "source": [
    "DW = durbin_watson(model.resid)\n",
    "print(f'DW = {DW:.3f}')"
   ]
  },
  {
   "cell_type": "code",
   "execution_count": 120,
   "id": "b273ee7c",
   "metadata": {},
   "outputs": [
    {
     "name": "stdout",
     "output_type": "stream",
     "text": [
      "Гипотеза отвергается, есть серийная корреляция DW <> 0\n"
     ]
    }
   ],
   "source": [
    "reply = [\n",
    "    'Гипотеза подтверждается, автокорреляции нет DW == 0',\n",
    "    'Гипотеза отвергается, есть серийная корреляция DW <> 0'\n",
    "] \n",
    "print(reply[0] if DW == 0 else reply[1])"
   ]
  },
  {
   "cell_type": "code",
   "execution_count": 121,
   "id": "0cebb598",
   "metadata": {},
   "outputs": [
    {
     "name": "stdout",
     "output_type": "stream",
     "text": [
      "F_cr = 2.42\n"
     ]
    }
   ],
   "source": [
    "j = 4 # Кол-вл регрессоров\n",
    "alpha = 0.05 # Уровень значимости\n",
    "f_cr = stats.f.ppf(1-alpha,j,len(df)-j).round(2)\n",
    "print(f'F_cr = {f_cr:.2f}')"
   ]
  }
 ],
 "metadata": {
  "kernelspec": {
   "display_name": "Python 3 (ipykernel)",
   "language": "python",
   "name": "python3"
  },
  "language_info": {
   "codemirror_mode": {
    "name": "ipython",
    "version": 3
   },
   "file_extension": ".py",
   "mimetype": "text/x-python",
   "name": "python",
   "nbconvert_exporter": "python",
   "pygments_lexer": "ipython3",
   "version": "3.9.6"
  }
 },
 "nbformat": 4,
 "nbformat_minor": 5
}
