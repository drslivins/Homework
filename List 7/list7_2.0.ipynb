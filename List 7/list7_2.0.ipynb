{
 "cells": [
  {
   "cell_type": "code",
   "execution_count": 94,
   "metadata": {},
   "outputs": [],
   "source": [
    "import pandas as pd\n",
    "import numpy as np\n",
    "import io\n",
    "import statsmodels.formula.api as smf\n",
    "import statsmodels.api as sm\n",
    "import scipy.stats as stats\n",
    "import re"
   ]
  },
  {
   "cell_type": "code",
   "execution_count": 95,
   "metadata": {},
   "outputs": [
    {
     "name": "stdout",
     "output_type": "stream",
     "text": [
      "       capital  labour     output       wage\n",
      "0     2.606563     184   9.250759  43.080307\n",
      "1     1.323237      91   3.664310  27.780016\n",
      "2    22.093692     426  28.781516  44.467748\n",
      "3    10.737851      72   4.124642  39.734710\n",
      "4     1.161365      46   2.890150  34.650709\n",
      "..         ...     ...        ...        ...\n",
      "564   2.625403      20   1.424376  33.477545\n",
      "565   1.276386      61   2.109048  26.300732\n",
      "566   1.953869     117   6.241870  41.153979\n",
      "567   1.318527      46   7.902237  66.720139\n",
      "568   2.832391     161   6.804085  36.618435\n",
      "\n",
      "[569 rows x 4 columns]\n",
      "<class 'statsmodels.regression.linear_model.RegressionResultsWrapper'>\n",
      "<statsmodels.regression.linear_model.RegressionResultsWrapper object at 0x13eca6460>\n"
     ]
    },
    {
     "data": {
      "text/plain": [
       "Intercept         -1.711459\n",
       "np.log(capital)    0.207570\n",
       "np.log(labour)     0.714847\n",
       "dtype: float64"
      ]
     },
     "execution_count": 95,
     "metadata": {},
     "output_type": "execute_result"
    }
   ],
   "source": [
    "labour_df = pd.read_csv('https://raw.githubusercontent.com/artamonoff/Econometrica/master/python-notebooks/data-csv/Labour.csv')\n",
    "print(labour_df)\n",
    "mod2 = smf.ols(formula='np.log(output)~np.log(capital)+np.log(labour)', data=labour_df).fit()\n",
    "print(type(mod2))\n",
    "print(mod2)\n",
    "mod2.params"
   ]
  },
  {
   "cell_type": "code",
   "execution_count": 96,
   "metadata": {},
   "outputs": [
    {
     "data": {
      "text/html": [
       "<div>\n",
       "<style scoped>\n",
       "    .dataframe tbody tr th:only-of-type {\n",
       "        vertical-align: middle;\n",
       "    }\n",
       "\n",
       "    .dataframe tbody tr th {\n",
       "        vertical-align: top;\n",
       "    }\n",
       "\n",
       "    .dataframe thead th {\n",
       "        text-align: right;\n",
       "    }\n",
       "</style>\n",
       "<table border=\"1\" class=\"dataframe\">\n",
       "  <thead>\n",
       "    <tr style=\"text-align: right;\">\n",
       "      <th></th>\n",
       "      <th>capital</th>\n",
       "      <th>labour</th>\n",
       "    </tr>\n",
       "  </thead>\n",
       "  <tbody>\n",
       "    <tr>\n",
       "      <th>0</th>\n",
       "      <td>2.97</td>\n",
       "      <td>85</td>\n",
       "    </tr>\n",
       "    <tr>\n",
       "      <th>1</th>\n",
       "      <td>10.45</td>\n",
       "      <td>60</td>\n",
       "    </tr>\n",
       "    <tr>\n",
       "      <th>2</th>\n",
       "      <td>3.85</td>\n",
       "      <td>105</td>\n",
       "    </tr>\n",
       "  </tbody>\n",
       "</table>\n",
       "</div>"
      ],
      "text/plain": [
       "   capital  labour\n",
       "0     2.97      85\n",
       "1    10.45      60\n",
       "2     3.85     105"
      ]
     },
     "execution_count": 96,
     "metadata": {},
     "output_type": "execute_result"
    }
   ],
   "source": [
    "\n",
    "# Рассмотрим три фирмы с характеристиками\n",
    "\n",
    "new_df = pd.DataFrame( {'capital': [2.97, 10.45, 3.85], 'labour': [85, 60, 105]} )\n",
    "new_df"
   ]
  },
  {
   "cell_type": "code",
   "execution_count": 97,
   "metadata": {},
   "outputs": [
    {
     "data": {
      "text/plain": [
       "0    1.690309\n",
       "1    1.702455\n",
       "2    1.895229\n",
       "dtype: float64"
      ]
     },
     "execution_count": 97,
     "metadata": {},
     "output_type": "execute_result"
    }
   ],
   "source": [
    "mod2.predict(exog=new_df, transform=True)"
   ]
  },
  {
   "cell_type": "code",
   "execution_count": 98,
   "metadata": {},
   "outputs": [
    {
     "data": {
      "text/plain": [
       "0    5.42\n",
       "1    5.49\n",
       "2    6.65\n",
       "dtype: float64"
      ]
     },
     "execution_count": 98,
     "metadata": {},
     "output_type": "execute_result"
    }
   ],
   "source": [
    "\n",
    "np.exp(mod2.predict(exog=new_df, transform=True)).round(2)\n",
    "# np.exp(mod2).round(2)\n"
   ]
  },
  {
   "cell_type": "code",
   "execution_count": 99,
   "metadata": {},
   "outputs": [
    {
     "data": {
      "text/plain": [
       "0    5.421154\n",
       "1    5.487400\n",
       "2    6.654073\n",
       "dtype: float64"
      ]
     },
     "execution_count": 99,
     "metadata": {},
     "output_type": "execute_result"
    }
   ],
   "source": [
    "# Непосредственное вычисление без преодразования: transform=False\n",
    "np.exp( mod2.predict(exog=sm.add_constant(np.log(new_df)), transform=False) )"
   ]
  },
  {
   "cell_type": "code",
   "execution_count": 106,
   "metadata": {},
   "outputs": [],
   "source": [
    "nobs = 100\n",
    "X = np.random.random((nobs, 2))"
   ]
  },
  {
   "cell_type": "code",
   "execution_count": 101,
   "metadata": {},
   "outputs": [],
   "source": [
    "X = sm.add_constant(X)"
   ]
  },
  {
   "cell_type": "code",
   "execution_count": 102,
   "metadata": {},
   "outputs": [],
   "source": [
    "beta = [1, .1, .5]\n",
    "e = np.random.random(nobs)"
   ]
  },
  {
   "cell_type": "code",
   "execution_count": 103,
   "metadata": {},
   "outputs": [],
   "source": [
    "\n",
    "y = np.dot(X, beta) + e"
   ]
  },
  {
   "cell_type": "code",
   "execution_count": 104,
   "metadata": {},
   "outputs": [
    {
     "name": "stdout",
     "output_type": "stream",
     "text": [
      "                            OLS Regression Results                            \n",
      "==============================================================================\n",
      "Dep. Variable:                      y   R-squared:                       0.213\n",
      "Model:                            OLS   Adj. R-squared:                  0.197\n",
      "Method:                 Least Squares   F-statistic:                     13.11\n",
      "Date:                Thu, 27 Apr 2023   Prob (F-statistic):           9.11e-06\n",
      "Time:                        17:30:21   Log-Likelihood:                -20.959\n",
      "No. Observations:                 100   AIC:                             47.92\n",
      "Df Residuals:                      97   BIC:                             55.73\n",
      "Df Model:                           2                                         \n",
      "Covariance Type:            nonrobust                                         \n",
      "==============================================================================\n",
      "                 coef    std err          t      P>|t|      [0.025      0.975]\n",
      "------------------------------------------------------------------------------\n",
      "const          1.5698      0.079     19.806      0.000       1.412       1.727\n",
      "x1            -0.0767      0.105     -0.729      0.468      -0.286       0.132\n",
      "x2             0.5234      0.106      4.941      0.000       0.313       0.734\n",
      "==============================================================================\n",
      "Omnibus:                       26.508   Durbin-Watson:                   1.927\n",
      "Prob(Omnibus):                  0.000   Jarque-Bera (JB):                6.129\n",
      "Skew:                           0.205   Prob(JB):                       0.0467\n",
      "Kurtosis:                       1.859   Cond. No.                         5.36\n",
      "==============================================================================\n",
      "\n",
      "Notes:\n",
      "[1] Standard Errors assume that the covariance matrix of the errors is correctly specified.\n"
     ]
    }
   ],
   "source": [
    "\n",
    "# Подходящая регрессионная модель\n",
    "results = sm.OLS(y, X).fit()\n",
    "\n",
    "# Проверить результаты\n",
    "print(results.summary())"
   ]
  }
 ],
 "metadata": {
  "kernelspec": {
   "display_name": "venv",
   "language": "python",
   "name": "python3"
  },
  "language_info": {
   "codemirror_mode": {
    "name": "ipython",
    "version": 3
   },
   "file_extension": ".py",
   "mimetype": "text/x-python",
   "name": "python",
   "nbconvert_exporter": "python",
   "pygments_lexer": "ipython3",
   "version": "3.9.6"
  },
  "orig_nbformat": 4
 },
 "nbformat": 4,
 "nbformat_minor": 2
}
