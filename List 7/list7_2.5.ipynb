{
 "cells": [
  {
   "cell_type": "code",
   "execution_count": 1446,
   "metadata": {},
   "outputs": [],
   "source": [
    "# import pandas as pd\n",
    "import numpy as np\n",
    "# import io\n",
    "import statsmodels.formula.api as smf\n",
    "import statsmodels.api as sm\n",
    "# import scipy.stats as stats\n",
    "import re"
   ]
  },
  {
   "cell_type": "code",
   "execution_count": 1447,
   "metadata": {},
   "outputs": [],
   "source": [
    "data_str = '''log(capital)                 0.208***          \n",
    "                              (0.017)          \n",
    "                                               \n",
    "log(labour)                  0.715***          \n",
    "                              (0.023)          \n",
    "                                               \n",
    "Constant                     -1.711***         \n",
    "                              (0.097)'''"
   ]
  },
  {
   "cell_type": "code",
   "execution_count": 1448,
   "metadata": {},
   "outputs": [
    {
     "data": {
      "text/plain": [
       "['0.208', '0.017', '0.715', '0.023', '-1.711', '0.097']"
      ]
     },
     "execution_count": 1448,
     "metadata": {},
     "output_type": "execute_result"
    }
   ],
   "source": [
    "# Выделим числа из строки с помощью регулярных выражений\n",
    "#(необходимо выделить подстроку, удовлетворяющая определенному шаблону символов)\n",
    "digital_data = re.findall(r'([-+]?\\d+.\\d+)',data_str)\n",
    "digital_data"
   ]
  },
  {
   "cell_type": "code",
   "execution_count": 1449,
   "metadata": {},
   "outputs": [
    {
     "data": {
      "text/plain": [
       "array([ 0.208,  0.715, -1.711])"
      ]
     },
     "execution_count": 1449,
     "metadata": {},
     "output_type": "execute_result"
    }
   ],
   "source": [
    "# Из одномерного списка сделаем двумерный список типа размерности (8,2)\n",
    "# 8 --- количество коэффицентов, включая константу\n",
    "# 2 --- потому что строка содержит оценку коэффицента и его ошибку\n",
    "# так как исходны список содержит оценки коэффицентов и их ошибки\n",
    "arr = np.reshape(digital_data,(3,2))\n",
    "# Удаляем последнюю строчку (она нам не понадобится)\n",
    "# arr = np.delete(arr, 2, 0)\n",
    "# Убираем последний столбец, он тоже не нужен\n",
    "arr = arr[:, 0]\n",
    "# Переводим строки в вещественные числа\n",
    "arr = arr.astype(float)\n",
    "# arr = np.log(arr)\n",
    "# arr = np.exp(arr)\n",
    "arr"
   ]
  },
  {
   "cell_type": "code",
   "execution_count": 1450,
   "metadata": {},
   "outputs": [],
   "source": [
    "# ppl_string --- переменная, которая содержит изначальную строку данных\n",
    "ppl_string = '''capital labour\n",
    "                ----------------\n",
    "                1  2.970    85  \n",
    "                2  10.450    60  \n",
    "                3  3.850   105  '''"
   ]
  },
  {
   "cell_type": "code",
   "execution_count": 1451,
   "metadata": {},
   "outputs": [
    {
     "data": {
      "text/plain": [
       "['1', '2.970', '85', '2', '10.450', '60', '3', '3.850', '105']"
      ]
     },
     "execution_count": 1451,
     "metadata": {},
     "output_type": "execute_result"
    }
   ],
   "source": [
    "# Создадим список из чисел, содержащихся в строке. \n",
    "# ppl_list -- список, который будет состоять из подстрок, каждая из которых удовлетворяет определенному шаблону символов\n",
    "# ppl_lst = re.findall(r'([-+]?\\d+.\\d+|[-+]?\\d+)',ppl_string)\n",
    "ppl_lst = re.findall(r'(\\d+.\\d+|\\d+)',ppl_string)\n",
    "ppl_lst"
   ]
  },
  {
   "cell_type": "code",
   "execution_count": 1452,
   "metadata": {},
   "outputs": [
    {
     "data": {
      "text/plain": [
       "array([['1', '2.970', '85'],\n",
       "       ['2', '10.450', '60'],\n",
       "       ['3', '3.850', '105']], dtype='<U6')"
      ]
     },
     "execution_count": 1452,
     "metadata": {},
     "output_type": "execute_result"
    }
   ],
   "source": [
    "ppl = np.reshape(ppl_lst,(3,3))\n",
    "ppl"
   ]
  },
  {
   "cell_type": "code",
   "execution_count": 1453,
   "metadata": {},
   "outputs": [
    {
     "data": {
      "text/plain": [
       "array([['2.970', '85', '1.0'],\n",
       "       ['10.450', '60', '1.0'],\n",
       "       ['3.850', '105', '1.0']], dtype='<U32')"
      ]
     },
     "execution_count": 1453,
     "metadata": {},
     "output_type": "execute_result"
    }
   ],
   "source": [
    "# Теперь необходимо добавить столбец из единиц для того,\n",
    "#  чтобы совпадало количество столбцов в матрице с количестом элементов \n",
    "ppl = np.delete(ppl,0,1)\n",
    "ppl = np.c_[ppl,np.ones(3)]\n",
    "# X = np.c_[X,np.ones(3)]\n",
    "# X = np.insert (X, 3 , np.ones(3), axis= 1 )\n",
    "ppl"
   ]
  },
  {
   "cell_type": "code",
   "execution_count": 1454,
   "metadata": {},
   "outputs": [
    {
     "data": {
      "text/plain": [
       "(3, 3)"
      ]
     },
     "execution_count": 1454,
     "metadata": {},
     "output_type": "execute_result"
    }
   ],
   "source": [
    "ppl.shape"
   ]
  },
  {
   "cell_type": "code",
   "execution_count": 1455,
   "metadata": {},
   "outputs": [
    {
     "data": {
      "text/plain": [
       "(3,)"
      ]
     },
     "execution_count": 1455,
     "metadata": {},
     "output_type": "execute_result"
    }
   ],
   "source": [
    "arr.shape"
   ]
  },
  {
   "cell_type": "code",
   "execution_count": 1456,
   "metadata": {},
   "outputs": [
    {
     "data": {
      "text/plain": [
       "array([[  2.97,  85.  ,   1.  ],\n",
       "       [ 10.45,  60.  ,   1.  ],\n",
       "       [  3.85, 105.  ,   1.  ]])"
      ]
     },
     "execution_count": 1456,
     "metadata": {},
     "output_type": "execute_result"
    }
   ],
   "source": [
    "# arr = arr.astype(float)\n",
    "ppl =ppl.astype(float)\n",
    "# ppl = np.insert(ppl, 1 , ppl[:,0]**2, axis= 1)\n",
    "ppl"
   ]
  },
  {
   "cell_type": "code",
   "execution_count": 1457,
   "metadata": {},
   "outputs": [],
   "source": [
    "ppl = np.log(ppl)\n",
    "# arr = np.exp(arr)"
   ]
  },
  {
   "cell_type": "code",
   "execution_count": 1458,
   "metadata": {},
   "outputs": [
    {
     "name": "stdout",
     "output_type": "stream",
     "text": [
      "arr\n",
      "[ 0.208  0.715 -1.711]\n",
      "ppl\n",
      "[[1.08856195 4.44265126 0.        ]\n",
      " [2.34660198 4.09434456 0.        ]\n",
      " [1.34807315 4.65396035 0.        ]]\n",
      "[30.05 30.43 36.89]\n",
      "[3.4  3.42 3.61]\n"
     ]
    }
   ],
   "source": [
    "print('arr')\n",
    "print(arr)\n",
    "print('ppl')\n",
    "print(ppl)\n",
    "# res = ((np.exp(ppl)@np.exp(arr))).round(2)\n",
    "# print(res)\n",
    "res = np.exp((ppl@arr)).round(2)\n",
    "print(res)\n",
    "res = (ppl@arr).round(2)\n",
    "print(res)\n"
   ]
  }
 ],
 "metadata": {
  "kernelspec": {
   "display_name": "venv",
   "language": "python",
   "name": "python3"
  },
  "language_info": {
   "codemirror_mode": {
    "name": "ipython",
    "version": 3
   },
   "file_extension": ".py",
   "mimetype": "text/x-python",
   "name": "python",
   "nbconvert_exporter": "python",
   "pygments_lexer": "ipython3",
   "version": "3.9.6"
  },
  "orig_nbformat": 4
 },
 "nbformat": 4,
 "nbformat_minor": 2
}
