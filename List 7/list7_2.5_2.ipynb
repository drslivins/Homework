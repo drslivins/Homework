{
 "cells": [
  {
   "cell_type": "code",
   "execution_count": 513,
   "metadata": {},
   "outputs": [],
   "source": [
    "# import pandas as pd\n",
    "import numpy as np\n",
    "# import io\n",
    "import statsmodels.formula.api as smf\n",
    "import statsmodels.api as sm\n",
    "# import scipy.stats as stats\n",
    "import re"
   ]
  },
  {
   "cell_type": "code",
   "execution_count": 514,
   "metadata": {},
   "outputs": [],
   "source": [
    "data_str = '''log(capital)                 0.208***          \n",
    "                              (0.017)          \n",
    "                                               \n",
    "log(labour)                  0.715***          \n",
    "                              (0.023)          \n",
    "                                               \n",
    "Constant                     -1.711***         \n",
    "                              (0.097)'''"
   ]
  },
  {
   "cell_type": "code",
   "execution_count": 515,
   "metadata": {},
   "outputs": [
    {
     "data": {
      "text/plain": [
       "['0.208', '0.017', '0.715', '0.023', '-1.711', '0.097']"
      ]
     },
     "execution_count": 515,
     "metadata": {},
     "output_type": "execute_result"
    }
   ],
   "source": [
    "# Выделим числа из строки с помощью регулярных выражений\n",
    "#(необходимо выделить подстроку, удовлетворяющая определенному шаблону символов)\n",
    "digital_data = re.findall(r'([-+]?\\d+.\\d+)',data_str)\n",
    "digital_data"
   ]
  },
  {
   "cell_type": "code",
   "execution_count": 516,
   "metadata": {},
   "outputs": [
    {
     "data": {
      "text/plain": [
       "array([ 0.208,  0.715, -1.711])"
      ]
     },
     "execution_count": 516,
     "metadata": {},
     "output_type": "execute_result"
    }
   ],
   "source": [
    "# Из одномерного списка сделаем двумерный список типа размерности (8,2)\n",
    "# 3 --- количество коэффицентов, включая константу\n",
    "# 2 --- потому что строка содержит оценку коэффицента и его ошибку\n",
    "# так как исходны список содержит оценки коэффицентов и их ошибки\n",
    "beta = np.reshape(digital_data,(3,2))\n",
    "# Удаляем последнюю строчку (она нам не понадобится)\n",
    "# beta = np.delete(beta, 2, 0)\n",
    "# Убираем последний столбец, он тоже не нужен\n",
    "beta = beta[:, 0]\n",
    "# Переводим строки в вещественные числа\n",
    "beta = beta.astype(float)\n",
    "# beta = np.insert(beta, 0, 1)\n",
    "# beta = np.delete(beta, 3, 0)\n",
    "# beta = np.log(beta)\n",
    "# beta = np.exp(beta)\n",
    "beta"
   ]
  },
  {
   "cell_type": "code",
   "execution_count": 517,
   "metadata": {},
   "outputs": [],
   "source": [
    "# ppl_string --- переменная, которая содержит изначальную строку данных\n",
    "ppl_string = '''capital labour\n",
    "                ----------------\n",
    "                1  2.970    85  \n",
    "                2  10.450    60  \n",
    "                3  3.850   105  '''"
   ]
  },
  {
   "cell_type": "code",
   "execution_count": 518,
   "metadata": {},
   "outputs": [
    {
     "data": {
      "text/plain": [
       "['1', '2.970', '85', '2', '10.450', '60', '3', '3.850', '105']"
      ]
     },
     "execution_count": 518,
     "metadata": {},
     "output_type": "execute_result"
    }
   ],
   "source": [
    "# Создадим список из чисел, содержащихся в строке. \n",
    "# ppl_list -- список, который будет состоять из подстрок, каждая из которых удовлетворяет определенному шаблону символов\n",
    "# ppl_lst = re.findall(r'([-+]?\\d+.\\d+|[-+]?\\d+)',ppl_string)\n",
    "X = re.findall(r'(\\d+.\\d+|\\d+)',ppl_string)\n",
    "X"
   ]
  },
  {
   "cell_type": "code",
   "execution_count": 519,
   "metadata": {},
   "outputs": [
    {
     "data": {
      "text/plain": [
       "array([['1', '2.970', '85'],\n",
       "       ['2', '10.450', '60'],\n",
       "       ['3', '3.850', '105']], dtype='<U6')"
      ]
     },
     "execution_count": 519,
     "metadata": {},
     "output_type": "execute_result"
    }
   ],
   "source": [
    "X = np.reshape(X,(3,3))\n",
    "X"
   ]
  },
  {
   "cell_type": "code",
   "execution_count": 520,
   "metadata": {},
   "outputs": [
    {
     "data": {
      "text/plain": [
       "array([['2.970', '85'],\n",
       "       ['10.450', '60'],\n",
       "       ['3.850', '105']], dtype='<U6')"
      ]
     },
     "execution_count": 520,
     "metadata": {},
     "output_type": "execute_result"
    }
   ],
   "source": [
    "# Теперь необходимо добавить столбец из единиц для того,\n",
    "#  чтобы совпадало количество столбцов в матрице с количестом элементов \n",
    "X = np.delete(X,0,1)\n",
    "# X = np.c_[X,np.ones(3)]\n",
    "# X = np.insert(X, 0 , '1', axis= 1)\n",
    "# X = np.c_[X,np.ones(3)]\n",
    "# X = np.insert (X, 3 , np.ones(3), axis= 1 )\n",
    "X"
   ]
  },
  {
   "cell_type": "code",
   "execution_count": 521,
   "metadata": {},
   "outputs": [
    {
     "data": {
      "text/plain": [
       "(3, 2)"
      ]
     },
     "execution_count": 521,
     "metadata": {},
     "output_type": "execute_result"
    }
   ],
   "source": [
    "X.shape"
   ]
  },
  {
   "cell_type": "code",
   "execution_count": 522,
   "metadata": {},
   "outputs": [
    {
     "data": {
      "text/plain": [
       "(3,)"
      ]
     },
     "execution_count": 522,
     "metadata": {},
     "output_type": "execute_result"
    }
   ],
   "source": [
    "beta.shape"
   ]
  },
  {
   "cell_type": "code",
   "execution_count": 523,
   "metadata": {},
   "outputs": [
    {
     "data": {
      "text/plain": [
       "array([[1.        , 1.08856195, 4.44265126],\n",
       "       [1.        , 2.34660198, 4.09434456],\n",
       "       [1.        , 1.34807315, 4.65396035]])"
      ]
     },
     "execution_count": 523,
     "metadata": {},
     "output_type": "execute_result"
    }
   ],
   "source": [
    "# arr = arr.astype(float)\n",
    "X = X.astype(float)\n",
    "X = np.log(X)\n",
    "# X = np.insert(X, 0 , 1, axis= 1)\n",
    "X = sm.add_constant(X)\n",
    "X"
   ]
  },
  {
   "cell_type": "code",
   "execution_count": 524,
   "metadata": {},
   "outputs": [
    {
     "data": {
      "text/plain": [
       "array([33.67242489, -1.57559738, -7.14647351])"
      ]
     },
     "execution_count": 524,
     "metadata": {},
     "output_type": "execute_result"
    }
   ],
   "source": [
    "output_eq2 = sm.OLS(beta, X).fit()\n",
    "output_eq2.params\n"
   ]
  },
  {
   "cell_type": "code",
   "execution_count": 527,
   "metadata": {},
   "outputs": [
    {
     "name": "stdout",
     "output_type": "stream",
     "text": [
      "<class 'statsmodels.regression.linear_model.RegressionResultsWrapper'>\n",
      "[33.67242489 -1.57559738 -7.14647351]\n"
     ]
    },
    {
     "data": {
      "text/plain": [
       "array([1.23121317, 2.04418668, 0.18068502])"
      ]
     },
     "execution_count": 527,
     "metadata": {},
     "output_type": "execute_result"
    }
   ],
   "source": [
    "rep = output_eq2.params\n",
    "print(type(output_eq2))\n",
    "print(rep)\n",
    "np.exp(output_eq2.predict(exog=X, transform=False))"
   ]
  },
  {
   "cell_type": "markdown",
   "metadata": {},
   "source": []
  },
  {
   "cell_type": "code",
   "execution_count": 526,
   "metadata": {},
   "outputs": [],
   "source": [
    "# print('X')\n",
    "# print(X)\n",
    "# print('beta')\n",
    "# print(beta)\n",
    "# res = ((np.exp(beta)@np.exp(X))).round(2)\n",
    "# print(res)\n",
    "# res = np.exp((beta@X)).round(2)\n",
    "# res = np.exp((X@beta)).round(2)\n",
    "# print(res)\n",
    "# res = (X@beta).round(2)\n",
    "# print(res)\n"
   ]
  }
 ],
 "metadata": {
  "kernelspec": {
   "display_name": "venv",
   "language": "python",
   "name": "python3"
  },
  "language_info": {
   "codemirror_mode": {
    "name": "ipython",
    "version": 3
   },
   "file_extension": ".py",
   "mimetype": "text/x-python",
   "name": "python",
   "nbconvert_exporter": "python",
   "pygments_lexer": "ipython3",
   "version": "3.9.6"
  },
  "orig_nbformat": 4
 },
 "nbformat": 4,
 "nbformat_minor": 2
}
