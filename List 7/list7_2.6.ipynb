{
 "cells": [
  {
   "cell_type": "code",
   "execution_count": 66,
   "metadata": {},
   "outputs": [],
   "source": [
    "# import pandas as pd\n",
    "import numpy as np\n",
    "# import io\n",
    "import statsmodels.formula.api as smf\n",
    "import statsmodels.api as sm\n",
    "# import scipy.stats as stats\n",
    "import re"
   ]
  },
  {
   "cell_type": "code",
   "execution_count": 67,
   "metadata": {},
   "outputs": [],
   "source": [
    "data_str = '''log(capital)                 0.183***          \n",
    "                              (0.017)          \n",
    "                                               \n",
    "log(labour)                  0.515***          \n",
    "                              (0.083)          \n",
    "                                               \n",
    "I(log(capital)2)             0.023***          \n",
    "                              (0.005)          \n",
    "                                               \n",
    "I(log(labour)2)               0.020**          \n",
    "                              (0.010)          \n",
    "                                               \n",
    "Constant                     -1.304***         \n",
    "                              (0.189)   '''"
   ]
  },
  {
   "cell_type": "code",
   "execution_count": 68,
   "metadata": {},
   "outputs": [
    {
     "data": {
      "text/plain": [
       "['0.183',\n",
       " '0.017',\n",
       " '0.515',\n",
       " '0.083',\n",
       " '0.023',\n",
       " '0.005',\n",
       " '0.020',\n",
       " '0.010',\n",
       " '-1.304',\n",
       " '0.189']"
      ]
     },
     "execution_count": 68,
     "metadata": {},
     "output_type": "execute_result"
    }
   ],
   "source": [
    "# Выделим числа из строки с помощью регулярных выражений\n",
    "#(необходимо выделить подстроку, удовлетворяющая определенному шаблону символов)\n",
    "digital_data = re.findall(r'([-+]?\\d+.\\d+)',data_str)\n",
    "digital_data"
   ]
  },
  {
   "cell_type": "code",
   "execution_count": 69,
   "metadata": {},
   "outputs": [
    {
     "data": {
      "text/plain": [
       "array([ 0.183,  0.515,  0.023,  0.02 , -1.304])"
      ]
     },
     "execution_count": 69,
     "metadata": {},
     "output_type": "execute_result"
    }
   ],
   "source": [
    "# Из одномерного списка сделаем двумерный список типа размерности (8,2)\n",
    "# 8 --- количество коэффицентов, включая константу\n",
    "# 2 --- потому что строка содержит оценку коэффицента и его ошибку\n",
    "# так как исходны список содержит оценки коэффицентов и их ошибки\n",
    "arr = np.reshape(digital_data,(5,2))\n",
    "# Удаляем последнюю строчку (она нам не понадобится)\n",
    "# arr = np.delete(arr, 2, 0)\n",
    "# Убираем последний столбец, он тоже не нужен\n",
    "arr = arr[:, 0]\n",
    "# Переводим строки в вещественные числа\n",
    "arr = arr.astype(float)\n",
    "arr"
   ]
  },
  {
   "cell_type": "code",
   "execution_count": 70,
   "metadata": {},
   "outputs": [],
   "source": [
    "# ppl_string --- переменная, которая содержит изначальную строку данных\n",
    "ppl_string = '''  capital labour\n",
    "                ----------------\n",
    "                1  22.140   407  \n",
    "                2  7.320   197  \n",
    "                3  0.670    31  '''"
   ]
  },
  {
   "cell_type": "code",
   "execution_count": 71,
   "metadata": {},
   "outputs": [
    {
     "data": {
      "text/plain": [
       "['1', '22.140', '407', '2', '7.320', '197', '3', '0.670', '31']"
      ]
     },
     "execution_count": 71,
     "metadata": {},
     "output_type": "execute_result"
    }
   ],
   "source": [
    "# Создадим список из чисел, содержащихся в строке. \n",
    "# ppl_list -- список, который будет состоять из подстрок, каждая из которых удовлетворяет определенному шаблону символов\n",
    "# ppl_lst = re.findall(r'([-+]?\\d+.\\d+|[-+]?\\d+)',ppl_string)\n",
    "ppl_lst = re.findall(r'(\\d+.\\d+|\\d+)',ppl_string)\n",
    "ppl_lst"
   ]
  },
  {
   "cell_type": "code",
   "execution_count": 72,
   "metadata": {},
   "outputs": [
    {
     "data": {
      "text/plain": [
       "array([['1', '22.140', '407'],\n",
       "       ['2', '7.320', '197'],\n",
       "       ['3', '0.670', '31']], dtype='<U6')"
      ]
     },
     "execution_count": 72,
     "metadata": {},
     "output_type": "execute_result"
    }
   ],
   "source": [
    "ppl = np.reshape(ppl_lst,(3,3))\n",
    "ppl"
   ]
  },
  {
   "cell_type": "code",
   "execution_count": 73,
   "metadata": {},
   "outputs": [
    {
     "data": {
      "text/plain": [
       "array([['22.140', '407', '1.0'],\n",
       "       ['7.320', '197', '1.0'],\n",
       "       ['0.670', '31', '1.0']], dtype='<U32')"
      ]
     },
     "execution_count": 73,
     "metadata": {},
     "output_type": "execute_result"
    }
   ],
   "source": [
    "# Убираем колонку с нумерацией строк\n",
    "ppl = np.delete(ppl,0,1)\n",
    "# Теперь необходимо добавить столбец из единиц для того,\n",
    "#  чтобы совпадало количество столбцов в матрице с количестом элементов \n",
    "ppl = np.c_[ppl,np.ones(3)]\n",
    "ppl"
   ]
  },
  {
   "cell_type": "code",
   "execution_count": 74,
   "metadata": {},
   "outputs": [
    {
     "data": {
      "text/plain": [
       "(3, 3)"
      ]
     },
     "execution_count": 74,
     "metadata": {},
     "output_type": "execute_result"
    }
   ],
   "source": [
    "ppl.shape"
   ]
  },
  {
   "cell_type": "code",
   "execution_count": 75,
   "metadata": {},
   "outputs": [
    {
     "data": {
      "text/plain": [
       "(5,)"
      ]
     },
     "execution_count": 75,
     "metadata": {},
     "output_type": "execute_result"
    }
   ],
   "source": [
    "arr.shape"
   ]
  },
  {
   "cell_type": "code",
   "execution_count": 76,
   "metadata": {},
   "outputs": [
    {
     "data": {
      "text/plain": [
       "array([[2.214000e+01, 4.070000e+02, 4.901796e+02, 1.656490e+05,\n",
       "        1.000000e+00],\n",
       "       [7.320000e+00, 1.970000e+02, 5.358240e+01, 3.880900e+04,\n",
       "        1.000000e+00],\n",
       "       [6.700000e-01, 3.100000e+01, 4.489000e-01, 9.610000e+02,\n",
       "        1.000000e+00]])"
      ]
     },
     "execution_count": 76,
     "metadata": {},
     "output_type": "execute_result"
    }
   ],
   "source": [
    "# arr = arr.astype(float)\n",
    "ppl =ppl.astype(float)\n",
    "# Вставляем квадрат значения capital в третью колонку\n",
    "ppl = np.insert(ppl, 2 , ppl[:,0]**2, axis= 1)\n",
    "# Вставляем квадрат значения labour в четвертую колонку\n",
    "ppl = np.insert(ppl, 3 , ppl[:,1]**2, axis= 1)\n",
    "ppl"
   ]
  },
  {
   "cell_type": "code",
   "execution_count": 77,
   "metadata": {},
   "outputs": [
    {
     "data": {
      "text/plain": [
       "(3, 5)"
      ]
     },
     "execution_count": 77,
     "metadata": {},
     "output_type": "execute_result"
    }
   ],
   "source": [
    "ppl.shape"
   ]
  },
  {
   "cell_type": "code",
   "execution_count": 78,
   "metadata": {},
   "outputs": [],
   "source": [
    "ppl = np.log(ppl)\n",
    "# arr = np.exp(arr)"
   ]
  },
  {
   "cell_type": "code",
   "execution_count": 79,
   "metadata": {},
   "outputs": [
    {
     "name": "stdout",
     "output_type": "stream",
     "text": [
      "[4.04 3.39 1.81]\n"
     ]
    }
   ],
   "source": [
    "# print('arr')\n",
    "# print(arr)\n",
    "# print('ppl')\n",
    "# print(ppl)\n",
    "# res = ((np.exp(ppl)@np.exp(arr))).round(2)\n",
    "# print(res)\n",
    "# res = np.exp((ppl@arr)).round(2)\n",
    "# print(res)\n",
    "res = (ppl@arr).round(2)\n",
    "print(res)\n"
   ]
  }
 ],
 "metadata": {
  "kernelspec": {
   "display_name": "venv",
   "language": "python",
   "name": "python3"
  },
  "language_info": {
   "codemirror_mode": {
    "name": "ipython",
    "version": 3
   },
   "file_extension": ".py",
   "mimetype": "text/x-python",
   "name": "python",
   "nbconvert_exporter": "python",
   "pygments_lexer": "ipython3",
   "version": "3.9.6"
  },
  "orig_nbformat": 4
 },
 "nbformat": 4,
 "nbformat_minor": 2
}
