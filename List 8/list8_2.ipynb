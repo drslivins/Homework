{
 "cells": [
  {
   "cell_type": "code",
   "execution_count": 75,
   "metadata": {},
   "outputs": [],
   "source": [
    "import pandas as pd\n",
    "import numpy as np\n",
    "import statsmodels.api as sm \n",
    "import statsmodels.formula.api as smf\n",
    "from statsmodels.iolib.summary2 import summary_params # вывод результатов тестирования\n",
    "from statsmodels.iolib.summary2 import summary_col # вывод результатов тестирования\n",
    "from statsmodels.stats.outliers_influence import variance_inflation_factor # VIF\n",
    "import scipy\n",
    "import matplotlib.pyplot as plt\n",
    "import seaborn as sns"
   ]
  },
  {
   "cell_type": "code",
   "execution_count": 76,
   "metadata": {},
   "outputs": [
    {
     "data": {
      "text/plain": [
       "(706, 34)"
      ]
     },
     "execution_count": 76,
     "metadata": {},
     "output_type": "execute_result"
    }
   ],
   "source": [
    "data_sleep = pd.read_csv('https://raw.githubusercontent.com/artamonoff/Econometrica/master/python-notebooks/data-csv/sleep75.csv')\n",
    "# data_sleep = pd.read_csv('https://raw.githubusercontent.com/artamonoff/Econometrica/master/python-notebooks/data-csv/SwissLabor.csv')\n",
    "data_sleep.shape"
   ]
  },
  {
   "cell_type": "code",
   "execution_count": 77,
   "metadata": {},
   "outputs": [
    {
     "data": {
      "text/html": [
       "<div>\n",
       "<style scoped>\n",
       "    .dataframe tbody tr th:only-of-type {\n",
       "        vertical-align: middle;\n",
       "    }\n",
       "\n",
       "    .dataframe tbody tr th {\n",
       "        vertical-align: top;\n",
       "    }\n",
       "\n",
       "    .dataframe thead th {\n",
       "        text-align: right;\n",
       "    }\n",
       "</style>\n",
       "<table border=\"1\" class=\"dataframe\">\n",
       "  <thead>\n",
       "    <tr style=\"text-align: right;\">\n",
       "      <th></th>\n",
       "      <th>age</th>\n",
       "      <th>black</th>\n",
       "      <th>case</th>\n",
       "      <th>clerical</th>\n",
       "      <th>construc</th>\n",
       "      <th>educ</th>\n",
       "      <th>earns74</th>\n",
       "      <th>gdhlth</th>\n",
       "      <th>inlf</th>\n",
       "      <th>leis1</th>\n",
       "      <th>...</th>\n",
       "      <th>spwrk75</th>\n",
       "      <th>totwrk</th>\n",
       "      <th>union</th>\n",
       "      <th>worknrm</th>\n",
       "      <th>workscnd</th>\n",
       "      <th>exper</th>\n",
       "      <th>yngkid</th>\n",
       "      <th>yrsmarr</th>\n",
       "      <th>hrwage</th>\n",
       "      <th>agesq</th>\n",
       "    </tr>\n",
       "  </thead>\n",
       "  <tbody>\n",
       "    <tr>\n",
       "      <th>0</th>\n",
       "      <td>32</td>\n",
       "      <td>0</td>\n",
       "      <td>1</td>\n",
       "      <td>0.000000</td>\n",
       "      <td>0.000000</td>\n",
       "      <td>12</td>\n",
       "      <td>0</td>\n",
       "      <td>0</td>\n",
       "      <td>1</td>\n",
       "      <td>3529</td>\n",
       "      <td>...</td>\n",
       "      <td>0</td>\n",
       "      <td>3438</td>\n",
       "      <td>0</td>\n",
       "      <td>3438</td>\n",
       "      <td>0</td>\n",
       "      <td>14</td>\n",
       "      <td>0</td>\n",
       "      <td>13</td>\n",
       "      <td>7.070004</td>\n",
       "      <td>1024</td>\n",
       "    </tr>\n",
       "    <tr>\n",
       "      <th>1</th>\n",
       "      <td>31</td>\n",
       "      <td>0</td>\n",
       "      <td>2</td>\n",
       "      <td>0.000000</td>\n",
       "      <td>0.000000</td>\n",
       "      <td>14</td>\n",
       "      <td>9500</td>\n",
       "      <td>1</td>\n",
       "      <td>1</td>\n",
       "      <td>2140</td>\n",
       "      <td>...</td>\n",
       "      <td>0</td>\n",
       "      <td>5020</td>\n",
       "      <td>0</td>\n",
       "      <td>5020</td>\n",
       "      <td>0</td>\n",
       "      <td>11</td>\n",
       "      <td>0</td>\n",
       "      <td>0</td>\n",
       "      <td>1.429999</td>\n",
       "      <td>961</td>\n",
       "    </tr>\n",
       "    <tr>\n",
       "      <th>2</th>\n",
       "      <td>44</td>\n",
       "      <td>0</td>\n",
       "      <td>3</td>\n",
       "      <td>0.000000</td>\n",
       "      <td>0.000000</td>\n",
       "      <td>17</td>\n",
       "      <td>42500</td>\n",
       "      <td>1</td>\n",
       "      <td>1</td>\n",
       "      <td>4595</td>\n",
       "      <td>...</td>\n",
       "      <td>1</td>\n",
       "      <td>2815</td>\n",
       "      <td>0</td>\n",
       "      <td>2815</td>\n",
       "      <td>0</td>\n",
       "      <td>21</td>\n",
       "      <td>0</td>\n",
       "      <td>0</td>\n",
       "      <td>20.529997</td>\n",
       "      <td>1936</td>\n",
       "    </tr>\n",
       "    <tr>\n",
       "      <th>3</th>\n",
       "      <td>30</td>\n",
       "      <td>0</td>\n",
       "      <td>4</td>\n",
       "      <td>0.000000</td>\n",
       "      <td>0.000000</td>\n",
       "      <td>12</td>\n",
       "      <td>42500</td>\n",
       "      <td>1</td>\n",
       "      <td>1</td>\n",
       "      <td>3211</td>\n",
       "      <td>...</td>\n",
       "      <td>1</td>\n",
       "      <td>3786</td>\n",
       "      <td>0</td>\n",
       "      <td>3786</td>\n",
       "      <td>0</td>\n",
       "      <td>12</td>\n",
       "      <td>0</td>\n",
       "      <td>12</td>\n",
       "      <td>9.619998</td>\n",
       "      <td>900</td>\n",
       "    </tr>\n",
       "    <tr>\n",
       "      <th>4</th>\n",
       "      <td>64</td>\n",
       "      <td>0</td>\n",
       "      <td>5</td>\n",
       "      <td>0.000000</td>\n",
       "      <td>0.000000</td>\n",
       "      <td>14</td>\n",
       "      <td>2500</td>\n",
       "      <td>1</td>\n",
       "      <td>1</td>\n",
       "      <td>4052</td>\n",
       "      <td>...</td>\n",
       "      <td>1</td>\n",
       "      <td>2580</td>\n",
       "      <td>0</td>\n",
       "      <td>2580</td>\n",
       "      <td>0</td>\n",
       "      <td>44</td>\n",
       "      <td>0</td>\n",
       "      <td>33</td>\n",
       "      <td>2.750000</td>\n",
       "      <td>4096</td>\n",
       "    </tr>\n",
       "    <tr>\n",
       "      <th>...</th>\n",
       "      <td>...</td>\n",
       "      <td>...</td>\n",
       "      <td>...</td>\n",
       "      <td>...</td>\n",
       "      <td>...</td>\n",
       "      <td>...</td>\n",
       "      <td>...</td>\n",
       "      <td>...</td>\n",
       "      <td>...</td>\n",
       "      <td>...</td>\n",
       "      <td>...</td>\n",
       "      <td>...</td>\n",
       "      <td>...</td>\n",
       "      <td>...</td>\n",
       "      <td>...</td>\n",
       "      <td>...</td>\n",
       "      <td>...</td>\n",
       "      <td>...</td>\n",
       "      <td>...</td>\n",
       "      <td>...</td>\n",
       "      <td>...</td>\n",
       "    </tr>\n",
       "    <tr>\n",
       "      <th>701</th>\n",
       "      <td>45</td>\n",
       "      <td>0</td>\n",
       "      <td>702</td>\n",
       "      <td>0.182331</td>\n",
       "      <td>0.030075</td>\n",
       "      <td>12</td>\n",
       "      <td>5500</td>\n",
       "      <td>1</td>\n",
       "      <td>0</td>\n",
       "      <td>5069</td>\n",
       "      <td>...</td>\n",
       "      <td>1</td>\n",
       "      <td>2026</td>\n",
       "      <td>0</td>\n",
       "      <td>2026</td>\n",
       "      <td>0</td>\n",
       "      <td>27</td>\n",
       "      <td>0</td>\n",
       "      <td>18</td>\n",
       "      <td>NaN</td>\n",
       "      <td>2025</td>\n",
       "    </tr>\n",
       "    <tr>\n",
       "      <th>702</th>\n",
       "      <td>34</td>\n",
       "      <td>0</td>\n",
       "      <td>703</td>\n",
       "      <td>0.182331</td>\n",
       "      <td>0.030075</td>\n",
       "      <td>10</td>\n",
       "      <td>2500</td>\n",
       "      <td>0</td>\n",
       "      <td>0</td>\n",
       "      <td>5885</td>\n",
       "      <td>...</td>\n",
       "      <td>0</td>\n",
       "      <td>675</td>\n",
       "      <td>1</td>\n",
       "      <td>465</td>\n",
       "      <td>210</td>\n",
       "      <td>18</td>\n",
       "      <td>0</td>\n",
       "      <td>4</td>\n",
       "      <td>NaN</td>\n",
       "      <td>1156</td>\n",
       "    </tr>\n",
       "    <tr>\n",
       "      <th>703</th>\n",
       "      <td>37</td>\n",
       "      <td>0</td>\n",
       "      <td>704</td>\n",
       "      <td>0.182331</td>\n",
       "      <td>0.030075</td>\n",
       "      <td>12</td>\n",
       "      <td>3500</td>\n",
       "      <td>1</td>\n",
       "      <td>0</td>\n",
       "      <td>4719</td>\n",
       "      <td>...</td>\n",
       "      <td>1</td>\n",
       "      <td>1851</td>\n",
       "      <td>0</td>\n",
       "      <td>1851</td>\n",
       "      <td>0</td>\n",
       "      <td>19</td>\n",
       "      <td>0</td>\n",
       "      <td>17</td>\n",
       "      <td>NaN</td>\n",
       "      <td>1369</td>\n",
       "    </tr>\n",
       "    <tr>\n",
       "      <th>704</th>\n",
       "      <td>54</td>\n",
       "      <td>0</td>\n",
       "      <td>705</td>\n",
       "      <td>0.182331</td>\n",
       "      <td>0.030075</td>\n",
       "      <td>17</td>\n",
       "      <td>32500</td>\n",
       "      <td>1</td>\n",
       "      <td>0</td>\n",
       "      <td>5149</td>\n",
       "      <td>...</td>\n",
       "      <td>1</td>\n",
       "      <td>1961</td>\n",
       "      <td>1</td>\n",
       "      <td>1481</td>\n",
       "      <td>480</td>\n",
       "      <td>31</td>\n",
       "      <td>0</td>\n",
       "      <td>22</td>\n",
       "      <td>NaN</td>\n",
       "      <td>2916</td>\n",
       "    </tr>\n",
       "    <tr>\n",
       "      <th>705</th>\n",
       "      <td>30</td>\n",
       "      <td>0</td>\n",
       "      <td>706</td>\n",
       "      <td>0.182331</td>\n",
       "      <td>0.030075</td>\n",
       "      <td>16</td>\n",
       "      <td>6750</td>\n",
       "      <td>1</td>\n",
       "      <td>0</td>\n",
       "      <td>4747</td>\n",
       "      <td>...</td>\n",
       "      <td>0</td>\n",
       "      <td>2363</td>\n",
       "      <td>0</td>\n",
       "      <td>2363</td>\n",
       "      <td>0</td>\n",
       "      <td>8</td>\n",
       "      <td>1</td>\n",
       "      <td>9</td>\n",
       "      <td>NaN</td>\n",
       "      <td>900</td>\n",
       "    </tr>\n",
       "  </tbody>\n",
       "</table>\n",
       "<p>706 rows × 34 columns</p>\n",
       "</div>"
      ],
      "text/plain": [
       "     age  black  case  clerical  construc  educ  earns74  gdhlth  inlf  leis1   \n",
       "0     32      0     1  0.000000  0.000000    12        0       0     1   3529  \\\n",
       "1     31      0     2  0.000000  0.000000    14     9500       1     1   2140   \n",
       "2     44      0     3  0.000000  0.000000    17    42500       1     1   4595   \n",
       "3     30      0     4  0.000000  0.000000    12    42500       1     1   3211   \n",
       "4     64      0     5  0.000000  0.000000    14     2500       1     1   4052   \n",
       "..   ...    ...   ...       ...       ...   ...      ...     ...   ...    ...   \n",
       "701   45      0   702  0.182331  0.030075    12     5500       1     0   5069   \n",
       "702   34      0   703  0.182331  0.030075    10     2500       0     0   5885   \n",
       "703   37      0   704  0.182331  0.030075    12     3500       1     0   4719   \n",
       "704   54      0   705  0.182331  0.030075    17    32500       1     0   5149   \n",
       "705   30      0   706  0.182331  0.030075    16     6750       1     0   4747   \n",
       "\n",
       "     ...  spwrk75  totwrk  union  worknrm  workscnd  exper  yngkid  yrsmarr   \n",
       "0    ...        0    3438      0     3438         0     14       0       13  \\\n",
       "1    ...        0    5020      0     5020         0     11       0        0   \n",
       "2    ...        1    2815      0     2815         0     21       0        0   \n",
       "3    ...        1    3786      0     3786         0     12       0       12   \n",
       "4    ...        1    2580      0     2580         0     44       0       33   \n",
       "..   ...      ...     ...    ...      ...       ...    ...     ...      ...   \n",
       "701  ...        1    2026      0     2026         0     27       0       18   \n",
       "702  ...        0     675      1      465       210     18       0        4   \n",
       "703  ...        1    1851      0     1851         0     19       0       17   \n",
       "704  ...        1    1961      1     1481       480     31       0       22   \n",
       "705  ...        0    2363      0     2363         0      8       1        9   \n",
       "\n",
       "        hrwage  agesq  \n",
       "0     7.070004   1024  \n",
       "1     1.429999    961  \n",
       "2    20.529997   1936  \n",
       "3     9.619998    900  \n",
       "4     2.750000   4096  \n",
       "..         ...    ...  \n",
       "701        NaN   2025  \n",
       "702        NaN   1156  \n",
       "703        NaN   1369  \n",
       "704        NaN   2916  \n",
       "705        NaN    900  \n",
       "\n",
       "[706 rows x 34 columns]"
      ]
     },
     "execution_count": 77,
     "metadata": {},
     "output_type": "execute_result"
    }
   ],
   "source": [
    "# sns.pairplot(data_sleep)\n",
    "data_sleep"
   ]
  },
  {
   "attachments": {},
   "cell_type": "markdown",
   "metadata": {},
   "source": [
    "## 2 sleep equation #2\n",
    "### 2.1 VIFs\n",
    "Для набора данных `sleep75` рассмотрим линейную регрессию\n",
    "\n",
    "\n",
    "**sleep на totwrk, age, age^2, smsa, male, south**.\n",
    "\n",
    "Какие регрессии нужно рассматривать для вычисления показателей VIF для коэффициентов\n",
    "**age, age^2, male**?\n",
    "\n",
    "Ответ\n",
    "\n",
    "- **age на totwrk, age, smsa, male, south**\n",
    "- **age^2 на totwrk, age, smsa, male, south**\n",
    "- **male на totwrk, age, age^2 smsa, south**\n"
   ]
  },
  {
   "cell_type": "code",
   "execution_count": 78,
   "metadata": {},
   "outputs": [],
   "source": [
    "# Модель sleep на totwrk, age, age**2, smsa, male, south\n",
    "Sleep_eq21 = smf.ols(formula = 'sleep~totwrk+age+agesq+smsa+male+south', data = data_sleep).fit()"
   ]
  },
  {
   "cell_type": "code",
   "execution_count": 79,
   "metadata": {},
   "outputs": [],
   "source": [
    "# Модель 1:  age на totwrk, agesq, smsa, male, south\n",
    "# Создаем спецификацию модели через формулу и подгоняем модель\n",
    "model_21 = smf.ols(formula = 'age~totwrk+agesq+smsa+male+south', data = data_sleep).fit()"
   ]
  },
  {
   "cell_type": "code",
   "execution_count": 80,
   "metadata": {},
   "outputs": [],
   "source": [
    "# Модель 2: agesq на totwrk, age, smsa, male, south\n",
    "# Создаем спецификацию модели через формулу и подгоняем модель\n",
    "model_22 = smf.ols(formula = 'agesq~totwrk+age+smsa+male+south', data = data_sleep).fit()"
   ]
  },
  {
   "cell_type": "code",
   "execution_count": 81,
   "metadata": {},
   "outputs": [],
   "source": [
    "# Модель 3: male на totwrk, age, agesq, smsa, south\n",
    "# Создаем спецификацию модели через формулу и подгоняем модель\n",
    "model_23 = smf.ols(formula = 'male~totwrk+age+agesq+smsa+south', data = data_sleep).fit()"
   ]
  },
  {
   "cell_type": "code",
   "execution_count": 82,
   "metadata": {},
   "outputs": [
    {
     "name": "stdout",
     "output_type": "stream",
     "text": [
      "\n",
      "===================================================\n",
      "                       age       agesq       male  \n",
      "---------------------------------------------------\n",
      "Intercept           19.015*** -1552.146*** 0.129   \n",
      "                    (0.173)   (19.639)     (0.241) \n",
      "R-squared           0.985     0.985        0.147   \n",
      "R-squared Adj.      0.985     0.985        0.141   \n",
      "age                           83.036***    -0.001  \n",
      "                              (0.392)      (0.012) \n",
      "agesq               0.012***               0.000   \n",
      "                    (0.000)                (0.000) \n",
      "male                -0.011    2.636                \n",
      "                    (0.116)   (9.682)              \n",
      "smsa                0.014     -0.555       0.008   \n",
      "                    (0.111)   (9.320)      (0.036) \n",
      "south               -0.208    17.250       -0.066  \n",
      "                    (0.141)   (11.798)     (0.046) \n",
      "totwrk              0.000***  -0.019***    0.000***\n",
      "                    (0.000)   (0.005)      (0.000) \n",
      "No. Observations    706       706          706     \n",
      "R-squared           0.985     0.985        0.147   \n",
      "Adj. R-squared      0.985     0.985        0.141   \n",
      "Residual Std. Error 1.407     117.727      0.460   \n",
      "F-statistic         9025.467  9043.509     24.168  \n",
      "Prob (F-statistic)  0.000     0.000        0.000   \n",
      "===================================================\n",
      "Standard errors in parentheses.\n",
      "* p<.1, ** p<.05, ***p<.01\n"
     ]
    }
   ],
   "source": [
    "#Результаты подгонки\n",
    "info_dict = {'No. Observations': lambda x: '{0:d}'.format(int(x.nobs)), \n",
    "             'R-squared': lambda x: \"%#8.3f\" % x.rsquared,\n",
    "             'Adj. R-squared': lambda x: \"%#8.3f\" % x.rsquared_adj,\n",
    "             'Residual Std. Error': lambda x: \"%#8.3f\" % x.mse_resid**0.5,\n",
    "             'F-statistic': lambda x: '{:.3f}'.format(x.fvalue), \n",
    "             'Prob (F-statistic)': lambda x: '{:.3f}'.format(x.f_pvalue)\n",
    "             }\n",
    "\n",
    "print(summary_col([model_21, model_22, model_23], stars=True, float_format='%.3f', info_dict = info_dict))"
   ]
  },
  {
   "cell_type": "code",
   "execution_count": 83,
   "metadata": {},
   "outputs": [
    {
     "data": {
      "text/plain": [
       "65.47"
      ]
     },
     "execution_count": 83,
     "metadata": {},
     "output_type": "execute_result"
    }
   ],
   "source": [
    "# VIF для age c округлением до 2-х десятичных знаков\n",
    "VIF_1 = 1/(1 - model_21.rsquared)\n",
    "VIF_1.round(2)"
   ]
  },
  {
   "cell_type": "code",
   "execution_count": 84,
   "metadata": {},
   "outputs": [
    {
     "data": {
      "text/plain": [
       "65.6"
      ]
     },
     "execution_count": 84,
     "metadata": {},
     "output_type": "execute_result"
    }
   ],
   "source": [
    "# VIF для totwrk^2/10000 c округлением до 2-х десятичных знаков\n",
    "VIF_2 = 1/(1 - model_22.rsquared)\n",
    "VIF_2.round(2)"
   ]
  },
  {
   "cell_type": "code",
   "execution_count": 85,
   "metadata": {},
   "outputs": [
    {
     "data": {
      "text/plain": [
       "1.17"
      ]
     },
     "execution_count": 85,
     "metadata": {},
     "output_type": "execute_result"
    }
   ],
   "source": [
    "# VIF для male c округлением до 2-х десятичных знаков\n",
    "VIF_3 = 1/(1 - model_23.rsquared)\n",
    "VIF_3.round(2)"
   ]
  },
  {
   "cell_type": "code",
   "execution_count": 86,
   "metadata": {},
   "outputs": [
    {
     "data": {
      "text/plain": [
       "['Intercept', 'totwrk', 'age', 'agesq', 'smsa', 'male', 'south']"
      ]
     },
     "execution_count": 86,
     "metadata": {},
     "output_type": "execute_result"
    }
   ],
   "source": [
    "# names of exog\n",
    "Sleep_eq21.model.exog_names"
   ]
  },
  {
   "cell_type": "code",
   "execution_count": 87,
   "metadata": {},
   "outputs": [
    {
     "name": "stdout",
     "output_type": "stream",
     "text": [
      "VIF for exog age :  65.47\n"
     ]
    }
   ],
   "source": [
    "# VIF для totwrk/100 c округлением до 2-х десятичных знаков\n",
    "VIF_1 = variance_inflation_factor(exog = Sleep_eq21.model.exog, exog_idx = 2)\n",
    "print('VIF for exog', Sleep_eq21.model.exog_names[2], ': ', VIF_1.round(2))"
   ]
  },
  {
   "cell_type": "code",
   "execution_count": 88,
   "metadata": {},
   "outputs": [
    {
     "name": "stdout",
     "output_type": "stream",
     "text": [
      "VIF for exog agesq :  65.6\n"
     ]
    }
   ],
   "source": [
    "# VIF для totwrk^2/10000 c округлением до 2-х десятичных знаков\n",
    "VIF_2 = variance_inflation_factor(exog = Sleep_eq21.model.exog, exog_idx = 3)\n",
    "print('VIF for exog', Sleep_eq21.model.exog_names[3], ': ', VIF_2.round(2))"
   ]
  },
  {
   "cell_type": "code",
   "execution_count": 89,
   "metadata": {},
   "outputs": [
    {
     "name": "stdout",
     "output_type": "stream",
     "text": [
      "VIF for exog male :  1.17\n"
     ]
    }
   ],
   "source": [
    "# VIF для male c округлением до 2-х десятичных знаков\n",
    "VIF_3 = variance_inflation_factor(exog = Sleep_eq21.model.exog, exog_idx = 5)\n",
    "print('VIF for exog', Sleep_eq21.model.exog_names[5], ': ', VIF_3.round(2))"
   ]
  },
  {
   "attachments": {},
   "cell_type": "markdown",
   "metadata": {},
   "source": [
    "### 2.2 Последствия\n",
    "\n",
    "Для набора данных `sleep75` рассмотрим линейную регрессию\n",
    "**sleep на totwrk, age, age^2, smsa, male, union**.\n",
    "\n",
    "Результаты оценивания:\n"
   ]
  },
  {
   "cell_type": "code",
   "execution_count": 90,
   "metadata": {},
   "outputs": [],
   "source": [
    "# Модель sleep на totwrk/100, totwrk^2/10000, age, smsa, male\n",
    "Sleep_eq22 = smf.ols(formula = 'sleep~totwrk+age+agesq+smsa+male+union', data = data_sleep).fit()\n"
   ]
  },
  {
   "cell_type": "code",
   "execution_count": 91,
   "metadata": {},
   "outputs": [
    {
     "name": "stdout",
     "output_type": "stream",
     "text": [
      "\n",
      "===============================\n",
      "                       sleep   \n",
      "-------------------------------\n",
      "Intercept           3688.551***\n",
      "                    (218.389)  \n",
      "totwrk              -0.165***  \n",
      "                    (0.018)    \n",
      "age                 -7.734     \n",
      "                    (11.213)   \n",
      "agesq               0.127      \n",
      "                    (0.134)    \n",
      "smsa                -74.527**  \n",
      "                    (32.156)   \n",
      "male                86.321**   \n",
      "                    (34.329)   \n",
      "union               8.574      \n",
      "                    (38.195)   \n",
      "R-squared           0.125      \n",
      "R-squared Adj.      0.117      \n",
      "No. Observations    706        \n",
      "Residual Std. Error 417.584    \n",
      "F-statistic         16.583     \n",
      "Prob (F-statistic)  0.000      \n",
      "===============================\n",
      "Standard errors in parentheses.\n",
      "* p<.1, ** p<.05, ***p<.01\n"
     ]
    }
   ],
   "source": [
    "info_dict = {'No. Observations': lambda x: '{0:d}'.format(int(x.nobs)), \n",
    "             'Residual Std. Error': lambda x: \"%#8.3f\" % x.mse_resid**0.5,\n",
    "             'F-statistic': lambda x: '{:.3f}'.format(x.fvalue), \n",
    "             'Prob (F-statistic)': lambda x: '{:.3f}'.format(x.f_pvalue)\n",
    "             }\n",
    "# print(Sleep_eq22)\n",
    "print(summary_col(Sleep_eq22, float_format='%.3f', stars=True, info_dict = info_dict))"
   ]
  },
  {
   "cell_type": "code",
   "execution_count": 92,
   "metadata": {},
   "outputs": [
    {
     "data": {
      "text/html": [
       "<div>\n",
       "<style scoped>\n",
       "    .dataframe tbody tr th:only-of-type {\n",
       "        vertical-align: middle;\n",
       "    }\n",
       "\n",
       "    .dataframe tbody tr th {\n",
       "        vertical-align: top;\n",
       "    }\n",
       "\n",
       "    .dataframe thead th {\n",
       "        text-align: right;\n",
       "    }\n",
       "</style>\n",
       "<table border=\"1\" class=\"dataframe\">\n",
       "  <thead>\n",
       "    <tr style=\"text-align: right;\">\n",
       "      <th></th>\n",
       "      <th>Coef.</th>\n",
       "      <th>Std.Err.</th>\n",
       "      <th>t</th>\n",
       "      <th>P&gt;|t|</th>\n",
       "      <th>[0.05</th>\n",
       "      <th>0.95]</th>\n",
       "      <th>significance</th>\n",
       "    </tr>\n",
       "  </thead>\n",
       "  <tbody>\n",
       "    <tr>\n",
       "      <th>Intercept</th>\n",
       "      <td>3688.551350</td>\n",
       "      <td>218.389349</td>\n",
       "      <td>16.889795</td>\n",
       "      <td>6.295923e-54</td>\n",
       "      <td>3328.856130</td>\n",
       "      <td>4048.246570</td>\n",
       "      <td>Значим</td>\n",
       "    </tr>\n",
       "    <tr>\n",
       "      <th>totwrk</th>\n",
       "      <td>-0.165252</td>\n",
       "      <td>0.018149</td>\n",
       "      <td>-9.105295</td>\n",
       "      <td>8.890671e-19</td>\n",
       "      <td>-0.195144</td>\n",
       "      <td>-0.135360</td>\n",
       "      <td>Значим</td>\n",
       "    </tr>\n",
       "    <tr>\n",
       "      <th>age</th>\n",
       "      <td>-7.733689</td>\n",
       "      <td>11.212815</td>\n",
       "      <td>-0.689719</td>\n",
       "      <td>4.906000e-01</td>\n",
       "      <td>-26.201603</td>\n",
       "      <td>10.734226</td>\n",
       "      <td>Незначим</td>\n",
       "    </tr>\n",
       "    <tr>\n",
       "      <th>agesq</th>\n",
       "      <td>0.127085</td>\n",
       "      <td>0.134030</td>\n",
       "      <td>0.948180</td>\n",
       "      <td>3.433654e-01</td>\n",
       "      <td>-0.093668</td>\n",
       "      <td>0.347838</td>\n",
       "      <td>Незначим</td>\n",
       "    </tr>\n",
       "    <tr>\n",
       "      <th>smsa</th>\n",
       "      <td>-74.526893</td>\n",
       "      <td>32.156290</td>\n",
       "      <td>-2.317646</td>\n",
       "      <td>2.075647e-02</td>\n",
       "      <td>-127.489476</td>\n",
       "      <td>-21.564311</td>\n",
       "      <td>Значим</td>\n",
       "    </tr>\n",
       "    <tr>\n",
       "      <th>male</th>\n",
       "      <td>86.321465</td>\n",
       "      <td>34.328712</td>\n",
       "      <td>2.514556</td>\n",
       "      <td>1.214165e-02</td>\n",
       "      <td>29.780824</td>\n",
       "      <td>142.862105</td>\n",
       "      <td>Значим</td>\n",
       "    </tr>\n",
       "    <tr>\n",
       "      <th>union</th>\n",
       "      <td>8.574424</td>\n",
       "      <td>38.194679</td>\n",
       "      <td>0.224493</td>\n",
       "      <td>8.224396e-01</td>\n",
       "      <td>-54.333604</td>\n",
       "      <td>71.482453</td>\n",
       "      <td>Незначим</td>\n",
       "    </tr>\n",
       "  </tbody>\n",
       "</table>\n",
       "</div>"
      ],
      "text/plain": [
       "                 Coef.    Std.Err.          t         P>|t|        [0.05   \n",
       "Intercept  3688.551350  218.389349  16.889795  6.295923e-54  3328.856130  \\\n",
       "totwrk       -0.165252    0.018149  -9.105295  8.890671e-19    -0.195144   \n",
       "age          -7.733689   11.212815  -0.689719  4.906000e-01   -26.201603   \n",
       "agesq         0.127085    0.134030   0.948180  3.433654e-01    -0.093668   \n",
       "smsa        -74.526893   32.156290  -2.317646  2.075647e-02  -127.489476   \n",
       "male         86.321465   34.328712   2.514556  1.214165e-02    29.780824   \n",
       "union         8.574424   38.194679   0.224493  8.224396e-01   -54.333604   \n",
       "\n",
       "                 0.95] significance  \n",
       "Intercept  4048.246570       Значим  \n",
       "totwrk       -0.135360       Значим  \n",
       "age          10.734226     Незначим  \n",
       "agesq         0.347838     Незначим  \n",
       "smsa        -21.564311       Значим  \n",
       "male        142.862105       Значим  \n",
       "union        71.482453     Незначим  "
      ]
     },
     "execution_count": 92,
     "metadata": {},
     "output_type": "execute_result"
    }
   ],
   "source": [
    "# Уровень значимости 10%\n",
    "alpha = 0.1\n",
    "df = summary_params(Sleep_eq22, alpha=alpha)\n",
    "df['significance'] = df.apply(lambda x: 'Значим' if x['P>|t|']<alpha else 'Незначим', axis=1)\n",
    "df"
   ]
  },
  {
   "attachments": {},
   "cell_type": "markdown",
   "metadata": {},
   "source": [
    "### На уровне значимости 10% значимы коэффициенты: \\\"totwrk\\\" \\\"smsa\\\" \\\"male\\\"\n",
    "\n",
    "\n",
    "## Тестируется значимость влияния занятости, т.е. гипотеза\n",
    "\n",
    "### $H_0:\\beta_{age}=\\beta_{age^2}=0$."
   ]
  },
  {
   "cell_type": "code",
   "execution_count": 93,
   "metadata": {},
   "outputs": [
    {
     "name": "stdout",
     "output_type": "stream",
     "text": [
      "F_stat = 2.497\n"
     ]
    }
   ],
   "source": [
    "# тестовая F_stat\n",
    "f_stat = Sleep_eq22.f_test('age = agesq = 0').fvalue\n",
    "print(f'F_stat = {f_stat:3.3f}')"
   ]
  },
  {
   "cell_type": "code",
   "execution_count": 94,
   "metadata": {},
   "outputs": [
    {
     "name": "stdout",
     "output_type": "stream",
     "text": [
      "F_crit = 2.310\n"
     ]
    }
   ],
   "source": [
    "# критическое значение F_crit\n",
    "# alpha=0.1\n",
    "f_crit = scipy.stats.f.ppf(1-alpha, 2, 700).round(2)\n",
    "print(f'F_crit = {f_crit:3.3f}')"
   ]
  },
  {
   "attachments": {},
   "cell_type": "markdown",
   "metadata": {},
   "source": [
    "### Так как F_stat > F_crit, то гипотеза отвергается. Значит коэффициенты совместно значимы"
   ]
  },
  {
   "cell_type": "code",
   "execution_count": 95,
   "metadata": {},
   "outputs": [
    {
     "data": {
      "text/html": [
       "<div>\n",
       "<style scoped>\n",
       "    .dataframe tbody tr th:only-of-type {\n",
       "        vertical-align: middle;\n",
       "    }\n",
       "\n",
       "    .dataframe tbody tr th {\n",
       "        vertical-align: top;\n",
       "    }\n",
       "\n",
       "    .dataframe thead th {\n",
       "        text-align: right;\n",
       "    }\n",
       "</style>\n",
       "<table border=\"1\" class=\"dataframe\">\n",
       "  <thead>\n",
       "    <tr style=\"text-align: right;\">\n",
       "      <th></th>\n",
       "      <th>VIF</th>\n",
       "    </tr>\n",
       "  </thead>\n",
       "  <tbody>\n",
       "    <tr>\n",
       "      <th>totwrk</th>\n",
       "      <td>1.195469</td>\n",
       "    </tr>\n",
       "    <tr>\n",
       "      <th>age</th>\n",
       "      <td>65.397082</td>\n",
       "    </tr>\n",
       "    <tr>\n",
       "      <th>agesq</th>\n",
       "      <td>65.561373</td>\n",
       "    </tr>\n",
       "    <tr>\n",
       "      <th>smsa</th>\n",
       "      <td>1.004278</td>\n",
       "    </tr>\n",
       "    <tr>\n",
       "      <th>male</th>\n",
       "      <td>1.171666</td>\n",
       "    </tr>\n",
       "    <tr>\n",
       "      <th>union</th>\n",
       "      <td>1.007332</td>\n",
       "    </tr>\n",
       "  </tbody>\n",
       "</table>\n",
       "</div>"
      ],
      "text/plain": [
       "              VIF\n",
       "totwrk   1.195469\n",
       "age     65.397082\n",
       "agesq   65.561373\n",
       "smsa     1.004278\n",
       "male     1.171666\n",
       "union    1.007332"
      ]
     },
     "execution_count": 95,
     "metadata": {},
     "output_type": "execute_result"
    }
   ],
   "source": [
    "#VIFs\n",
    "VIFS = pd.DataFrame({'VIF': [variance_inflation_factor(Sleep_eq22.model.exog, i) for i in range(int(Sleep_eq12.df_model+1))]}, index=Sleep_eq12.model.exog_names)\n",
    "VIFS.drop(index='Intercept', inplace=True)\n",
    "VIFS"
   ]
  },
  {
   "cell_type": "code",
   "execution_count": 96,
   "metadata": {},
   "outputs": [
    {
     "data": {
      "text/html": [
       "<div>\n",
       "<style scoped>\n",
       "    .dataframe tbody tr th:only-of-type {\n",
       "        vertical-align: middle;\n",
       "    }\n",
       "\n",
       "    .dataframe tbody tr th {\n",
       "        vertical-align: top;\n",
       "    }\n",
       "\n",
       "    .dataframe thead th {\n",
       "        text-align: right;\n",
       "    }\n",
       "</style>\n",
       "<table border=\"1\" class=\"dataframe\">\n",
       "  <thead>\n",
       "    <tr style=\"text-align: right;\">\n",
       "      <th></th>\n",
       "      <th>totwrk</th>\n",
       "      <th>age</th>\n",
       "      <th>agesq</th>\n",
       "      <th>smsa</th>\n",
       "      <th>male</th>\n",
       "      <th>union</th>\n",
       "    </tr>\n",
       "  </thead>\n",
       "  <tbody>\n",
       "    <tr>\n",
       "      <th>totwrk</th>\n",
       "      <td>1.000</td>\n",
       "      <td>-0.050</td>\n",
       "      <td>-0.067</td>\n",
       "      <td>-0.038</td>\n",
       "      <td>0.376</td>\n",
       "      <td>0.002</td>\n",
       "    </tr>\n",
       "    <tr>\n",
       "      <th>age</th>\n",
       "      <td>-0.050</td>\n",
       "      <td>1.000</td>\n",
       "      <td>0.992</td>\n",
       "      <td>0.025</td>\n",
       "      <td>0.032</td>\n",
       "      <td>-0.037</td>\n",
       "    </tr>\n",
       "    <tr>\n",
       "      <th>agesq</th>\n",
       "      <td>-0.067</td>\n",
       "      <td>0.992</td>\n",
       "      <td>1.000</td>\n",
       "      <td>0.024</td>\n",
       "      <td>0.026</td>\n",
       "      <td>-0.042</td>\n",
       "    </tr>\n",
       "    <tr>\n",
       "      <th>smsa</th>\n",
       "      <td>-0.038</td>\n",
       "      <td>0.025</td>\n",
       "      <td>0.024</td>\n",
       "      <td>1.000</td>\n",
       "      <td>0.007</td>\n",
       "      <td>-0.039</td>\n",
       "    </tr>\n",
       "    <tr>\n",
       "      <th>male</th>\n",
       "      <td>0.376</td>\n",
       "      <td>0.032</td>\n",
       "      <td>0.026</td>\n",
       "      <td>0.007</td>\n",
       "      <td>1.000</td>\n",
       "      <td>0.040</td>\n",
       "    </tr>\n",
       "    <tr>\n",
       "      <th>union</th>\n",
       "      <td>0.002</td>\n",
       "      <td>-0.037</td>\n",
       "      <td>-0.042</td>\n",
       "      <td>-0.039</td>\n",
       "      <td>0.040</td>\n",
       "      <td>1.000</td>\n",
       "    </tr>\n",
       "  </tbody>\n",
       "</table>\n",
       "</div>"
      ],
      "text/plain": [
       "        totwrk    age  agesq   smsa   male  union\n",
       "totwrk   1.000 -0.050 -0.067 -0.038  0.376  0.002\n",
       "age     -0.050  1.000  0.992  0.025  0.032 -0.037\n",
       "agesq   -0.067  0.992  1.000  0.024  0.026 -0.042\n",
       "smsa    -0.038  0.025  0.024  1.000  0.007 -0.039\n",
       "male     0.376  0.032  0.026  0.007  1.000  0.040\n",
       "union    0.002 -0.037 -0.042 -0.039  0.040  1.000"
      ]
     },
     "execution_count": 96,
     "metadata": {},
     "output_type": "execute_result"
    }
   ],
   "source": [
    "# Матрица корреляций\n",
    "df_sleep = data_sleep[['totwrk', 'age', 'agesq', 'smsa', 'male', 'union']].copy()\n",
    "corr_matrix = df_sleep.corr().round(3)\n",
    "corr_matrix"
   ]
  },
  {
   "cell_type": "code",
   "execution_count": 97,
   "metadata": {},
   "outputs": [
    {
     "data": {
      "image/png": "[encoded data removed]",
      "text/plain": [
       "<Figure size 640x480 with 2 Axes>"
      ]
     },
     "metadata": {},
     "output_type": "display_data"
    }
   ],
   "source": [
    "# Визуализация корреляций\n",
    "sm.graphics.plot_corr(corr_matrix, xnames=df_sleep.columns, normcolor=True, cmap='coolwarm')\n",
    "plt.show()"
   ]
  },
  {
   "cell_type": "code",
   "execution_count": 98,
   "metadata": {},
   "outputs": [
    {
     "data": {
      "text/plain": [
       "Text(0.5, 1.0, 'Correlation Matrix')"
      ]
     },
     "execution_count": 98,
     "metadata": {},
     "output_type": "execute_result"
    },
    {
     "data": {
      "image/png": "[encoded data removed]",
      "text/plain": [
       "<Figure size 640x480 with 2 Axes>"
      ]
     },
     "metadata": {},
     "output_type": "display_data"
    }
   ],
   "source": [
    "# Визуализация корреляций\n",
    "sns.heatmap(corr_matrix, annot=True, fmt='.3g', vmin=-1, vmax=1, center=0, cmap='coolwarm', \n",
    "            square=True, linewidths=1, linecolor='white')\n",
    "# add customized title to heatmap\n",
    "plt.title('Correlation Matrix', loc='center', color='red', size=14, weight='bold')"
   ]
  },
  {
   "attachments": {},
   "cell_type": "markdown",
   "metadata": {},
   "source": [
    "### \"Продвинутая\" визуализация корреляций"
   ]
  },
  {
   "cell_type": "code",
   "execution_count": 99,
   "metadata": {},
   "outputs": [
    {
     "data": {
      "text/plain": [
       "Text(0.5, 1.0, 'Correlation Matrix')"
      ]
     },
     "execution_count": 99,
     "metadata": {},
     "output_type": "execute_result"
    },
    {
     "data": {
      "image/png": "[encoded data removed]",
      "text/plain": [
       "<Figure size 640x480 with 2 Axes>"
      ]
     },
     "metadata": {},
     "output_type": "display_data"
    }
   ],
   "source": [
    "corr_matrix = df_sleep.corr().round(3)\n",
    "# нижнетреугольная матрица корреляций\n",
    "mask = np.triu(corr_matrix)\n",
    "sns.heatmap(\n",
    "    corr_matrix, annot=True, fmt='.2g',\n",
    "    vmin=-1, vmax=1, center=0,\n",
    "    cmap='coolwarm', square=True,\n",
    "    linewidths=1, linecolor='white',\n",
    "    mask=mask\n",
    ")\n",
    "# add customized title to heatmap\n",
    "plt.title('Correlation Matrix', loc='center', color='red', size=14, weight='bold')"
   ]
  },
  {
   "cell_type": "code",
   "execution_count": 100,
   "metadata": {},
   "outputs": [
    {
     "data": {
      "text/plain": [
       "Text(0.5, 1.0, 'Correlation Matrix')"
      ]
     },
     "execution_count": 100,
     "metadata": {},
     "output_type": "execute_result"
    },
    {
     "data": {
      "image/png": "[encoded data removed]",
      "text/plain": [
       "<Figure size 640x480 with 2 Axes>"
      ]
     },
     "metadata": {},
     "output_type": "display_data"
    }
   ],
   "source": [
    "corr_matrix = df_sleep.corr().round(3)\n",
    "# верхнетреугольная матрица корреляций\n",
    "mask = np.tril(corr_matrix)\n",
    "sns.heatmap(corr_matrix, annot=True, fmt='.2g', vmin=-1, vmax=1, center=0, cmap='coolwarm', square=True, linewidths=1, linecolor='white', mask=mask)\n",
    "# add customized title to heatmap\n",
    "plt.title('Correlation Matrix', loc='center', color='red', size=14, weight='bold')"
   ]
  },
  {
   "cell_type": "code",
   "execution_count": 101,
   "metadata": {},
   "outputs": [
    {
     "data": {
      "text/html": [
       "<style type=\"text/css\">\n",
       "#T_bf20e_row0_col0, #T_bf20e_row0_col1, #T_bf20e_row0_col2, #T_bf20e_row0_col3, #T_bf20e_row0_col4, #T_bf20e_row0_col5, #T_bf20e_row1_col1, #T_bf20e_row1_col2, #T_bf20e_row1_col3, #T_bf20e_row1_col4, #T_bf20e_row1_col5, #T_bf20e_row2_col2, #T_bf20e_row2_col3, #T_bf20e_row2_col4, #T_bf20e_row2_col5, #T_bf20e_row3_col3, #T_bf20e_row3_col4, #T_bf20e_row3_col5, #T_bf20e_row4_col4, #T_bf20e_row4_col5, #T_bf20e_row5_col5 {\n",
       "  text-align: center;\n",
       "  background-color: #000000;\n",
       "  color: #f1f1f1;\n",
       "  background-color: #f1f1f1;\n",
       "}\n",
       "#T_bf20e_row1_col0 {\n",
       "  text-align: center;\n",
       "  background-color: #d6dce4;\n",
       "  color: #000000;\n",
       "}\n",
       "#T_bf20e_row2_col0 {\n",
       "  text-align: center;\n",
       "  background-color: #d4dbe6;\n",
       "  color: #000000;\n",
       "}\n",
       "#T_bf20e_row2_col1 {\n",
       "  text-align: center;\n",
       "  background-color: #b50927;\n",
       "  color: #f1f1f1;\n",
       "}\n",
       "#T_bf20e_row3_col0, #T_bf20e_row5_col1, #T_bf20e_row5_col3 {\n",
       "  text-align: center;\n",
       "  background-color: #d8dce2;\n",
       "  color: #000000;\n",
       "}\n",
       "#T_bf20e_row3_col1, #T_bf20e_row3_col2, #T_bf20e_row4_col2 {\n",
       "  text-align: center;\n",
       "  background-color: #e0dbd8;\n",
       "  color: #000000;\n",
       "}\n",
       "#T_bf20e_row4_col0 {\n",
       "  text-align: center;\n",
       "  background-color: #f7b093;\n",
       "  color: #000000;\n",
       "}\n",
       "#T_bf20e_row4_col1 {\n",
       "  text-align: center;\n",
       "  background-color: #e1dad6;\n",
       "  color: #000000;\n",
       "}\n",
       "#T_bf20e_row4_col3, #T_bf20e_row5_col0 {\n",
       "  text-align: center;\n",
       "  background-color: #dddcdc;\n",
       "  color: #000000;\n",
       "}\n",
       "#T_bf20e_row5_col2 {\n",
       "  text-align: center;\n",
       "  background-color: #d7dce3;\n",
       "  color: #000000;\n",
       "}\n",
       "#T_bf20e_row5_col4 {\n",
       "  text-align: center;\n",
       "  background-color: #e2dad5;\n",
       "  color: #000000;\n",
       "}\n",
       "</style>\n",
       "<table id=\"T_bf20e\">\n",
       "  <caption>Correlation Matrix</caption>\n",
       "  <thead>\n",
       "    <tr>\n",
       "      <th class=\"blank level0\" >&nbsp;</th>\n",
       "      <th id=\"T_bf20e_level0_col0\" class=\"col_heading level0 col0\" >totwrk</th>\n",
       "      <th id=\"T_bf20e_level0_col1\" class=\"col_heading level0 col1\" >age</th>\n",
       "      <th id=\"T_bf20e_level0_col2\" class=\"col_heading level0 col2\" >agesq</th>\n",
       "      <th id=\"T_bf20e_level0_col3\" class=\"col_heading level0 col3\" >smsa</th>\n",
       "      <th id=\"T_bf20e_level0_col4\" class=\"col_heading level0 col4\" >male</th>\n",
       "      <th id=\"T_bf20e_level0_col5\" class=\"col_heading level0 col5\" >union</th>\n",
       "    </tr>\n",
       "  </thead>\n",
       "  <tbody>\n",
       "    <tr>\n",
       "      <th id=\"T_bf20e_level0_row0\" class=\"row_heading level0 row0\" >totwrk</th>\n",
       "      <td id=\"T_bf20e_row0_col0\" class=\"data row0 col0\" > </td>\n",
       "      <td id=\"T_bf20e_row0_col1\" class=\"data row0 col1\" > </td>\n",
       "      <td id=\"T_bf20e_row0_col2\" class=\"data row0 col2\" > </td>\n",
       "      <td id=\"T_bf20e_row0_col3\" class=\"data row0 col3\" > </td>\n",
       "      <td id=\"T_bf20e_row0_col4\" class=\"data row0 col4\" > </td>\n",
       "      <td id=\"T_bf20e_row0_col5\" class=\"data row0 col5\" > </td>\n",
       "    </tr>\n",
       "    <tr>\n",
       "      <th id=\"T_bf20e_level0_row1\" class=\"row_heading level0 row1\" >age</th>\n",
       "      <td id=\"T_bf20e_row1_col0\" class=\"data row1 col0\" >-0.05</td>\n",
       "      <td id=\"T_bf20e_row1_col1\" class=\"data row1 col1\" > </td>\n",
       "      <td id=\"T_bf20e_row1_col2\" class=\"data row1 col2\" > </td>\n",
       "      <td id=\"T_bf20e_row1_col3\" class=\"data row1 col3\" > </td>\n",
       "      <td id=\"T_bf20e_row1_col4\" class=\"data row1 col4\" > </td>\n",
       "      <td id=\"T_bf20e_row1_col5\" class=\"data row1 col5\" > </td>\n",
       "    </tr>\n",
       "    <tr>\n",
       "      <th id=\"T_bf20e_level0_row2\" class=\"row_heading level0 row2\" >agesq</th>\n",
       "      <td id=\"T_bf20e_row2_col0\" class=\"data row2 col0\" >-0.07</td>\n",
       "      <td id=\"T_bf20e_row2_col1\" class=\"data row2 col1\" >0.99</td>\n",
       "      <td id=\"T_bf20e_row2_col2\" class=\"data row2 col2\" > </td>\n",
       "      <td id=\"T_bf20e_row2_col3\" class=\"data row2 col3\" > </td>\n",
       "      <td id=\"T_bf20e_row2_col4\" class=\"data row2 col4\" > </td>\n",
       "      <td id=\"T_bf20e_row2_col5\" class=\"data row2 col5\" > </td>\n",
       "    </tr>\n",
       "    <tr>\n",
       "      <th id=\"T_bf20e_level0_row3\" class=\"row_heading level0 row3\" >smsa</th>\n",
       "      <td id=\"T_bf20e_row3_col0\" class=\"data row3 col0\" >-0.04</td>\n",
       "      <td id=\"T_bf20e_row3_col1\" class=\"data row3 col1\" >0.03</td>\n",
       "      <td id=\"T_bf20e_row3_col2\" class=\"data row3 col2\" >0.02</td>\n",
       "      <td id=\"T_bf20e_row3_col3\" class=\"data row3 col3\" > </td>\n",
       "      <td id=\"T_bf20e_row3_col4\" class=\"data row3 col4\" > </td>\n",
       "      <td id=\"T_bf20e_row3_col5\" class=\"data row3 col5\" > </td>\n",
       "    </tr>\n",
       "    <tr>\n",
       "      <th id=\"T_bf20e_level0_row4\" class=\"row_heading level0 row4\" >male</th>\n",
       "      <td id=\"T_bf20e_row4_col0\" class=\"data row4 col0\" >0.38</td>\n",
       "      <td id=\"T_bf20e_row4_col1\" class=\"data row4 col1\" >0.03</td>\n",
       "      <td id=\"T_bf20e_row4_col2\" class=\"data row4 col2\" >0.03</td>\n",
       "      <td id=\"T_bf20e_row4_col3\" class=\"data row4 col3\" >0.01</td>\n",
       "      <td id=\"T_bf20e_row4_col4\" class=\"data row4 col4\" > </td>\n",
       "      <td id=\"T_bf20e_row4_col5\" class=\"data row4 col5\" > </td>\n",
       "    </tr>\n",
       "    <tr>\n",
       "      <th id=\"T_bf20e_level0_row5\" class=\"row_heading level0 row5\" >union</th>\n",
       "      <td id=\"T_bf20e_row5_col0\" class=\"data row5 col0\" >0.00</td>\n",
       "      <td id=\"T_bf20e_row5_col1\" class=\"data row5 col1\" >-0.04</td>\n",
       "      <td id=\"T_bf20e_row5_col2\" class=\"data row5 col2\" >-0.04</td>\n",
       "      <td id=\"T_bf20e_row5_col3\" class=\"data row5 col3\" >-0.04</td>\n",
       "      <td id=\"T_bf20e_row5_col4\" class=\"data row5 col4\" >0.04</td>\n",
       "      <td id=\"T_bf20e_row5_col5\" class=\"data row5 col5\" > </td>\n",
       "    </tr>\n",
       "  </tbody>\n",
       "</table>\n"
      ],
      "text/plain": [
       "<pandas.io.formats.style.Styler at 0x142b4dd00>"
      ]
     },
     "execution_count": 101,
     "metadata": {},
     "output_type": "execute_result"
    }
   ],
   "source": [
    "# Fill diagonal and upper half with NaNs\n",
    "mask = np.zeros_like(corr_matrix, dtype=bool)\n",
    "mask[np.triu_indices_from(mask)] = True\n",
    "corr_matrix[mask] = np.nan\n",
    "(corr_matrix\n",
    " .style\n",
    " .set_properties(**{'text-align': 'center'})\n",
    " .background_gradient(cmap='coolwarm', axis=None, vmin=-1, vmax=1)\n",
    " .highlight_null(color='#f1f1f1')  # Color NaNs grey\n",
    " .format(precision=2, na_rep=\" \")\n",
    " .set_caption('Correlation Matrix'))"
   ]
  }
 ],
 "metadata": {
  "kernelspec": {
   "display_name": "venv",
   "language": "python",
   "name": "python3"
  },
  "language_info": {
   "codemirror_mode": {
    "name": "ipython",
    "version": 3
   },
   "file_extension": ".py",
   "mimetype": "text/x-python",
   "name": "python",
   "nbconvert_exporter": "python",
   "pygments_lexer": "ipython3",
   "version": "3.9.6"
  },
  "orig_nbformat": 4
 },
 "nbformat": 4,
 "nbformat_minor": 2
}
