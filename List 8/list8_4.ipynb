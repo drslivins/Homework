{
 "cells": [
  {
   "cell_type": "code",
   "execution_count": 104,
   "metadata": {},
   "outputs": [],
   "source": [
    "import pandas as pd\n",
    "import numpy as np\n",
    "import statsmodels.api as sm \n",
    "import statsmodels.formula.api as smf\n",
    "from statsmodels.iolib.summary2 import summary_params # вывод результатов тестирования\n",
    "from statsmodels.iolib.summary2 import summary_col # вывод результатов тестирования\n",
    "from statsmodels.stats.outliers_influence import variance_inflation_factor # VIF\n",
    "import scipy\n",
    "import matplotlib.pyplot as plt\n",
    "import seaborn as sns"
   ]
  },
  {
   "attachments": {},
   "cell_type": "markdown",
   "metadata": {},
   "source": [
    "## 4 wage equation #4\n",
    "### 4.1 VIFs\n",
    "Для набора данных `wage2` рассмотрим линейную регрессию\n",
    "\n",
    "\n",
    "**log(wage) на age, age^2, IQ, married, south, urban.**\n",
    "\n",
    "Какие регрессии нужно рассматривать для вычисления показателей VIF для коэффициентов\n",
    "**age, age^2, urban**?\n",
    "\n",
    "Ответ\n",
    "\n",
    "- **age на age^2, IQ, married, south, urban**\n",
    "- **age^2 на age, IQ, married, south, urban**\n",
    "- **urban на age, age^2, IQ, married, south**\n"
   ]
  },
  {
   "cell_type": "code",
   "execution_count": 105,
   "metadata": {},
   "outputs": [
    {
     "data": {
      "text/plain": [
       "(935, 17)"
      ]
     },
     "execution_count": 105,
     "metadata": {},
     "output_type": "execute_result"
    }
   ],
   "source": [
    "df_wage2 = pd.read_csv('https://raw.githubusercontent.com/artamonoff/Econometrica/master/python-notebooks/data-csv/wage2.csv')\n",
    "# data_sleep = pd.read_csv('https://raw.githubusercontent.com/artamonoff/Econometrica/master/python-notebooks/data-csv/SwissLabor.csv')\n",
    "df_wage2.shape"
   ]
  },
  {
   "cell_type": "code",
   "execution_count": 106,
   "metadata": {},
   "outputs": [],
   "source": [
    "# Модель log(wage) на age, age^2, IQ, married, south, urban\n",
    "formula = 'np.log(wage)~age+I(age**2)+IQ+married+south+urban'\n",
    "Wage2_eq41 = smf.ols(formula=formula, data=df_wage2).fit()"
   ]
  },
  {
   "cell_type": "code",
   "execution_count": 107,
   "metadata": {},
   "outputs": [],
   "source": [
    "# Модель 1:  age на age^2, IQ, married, south, urban\n",
    "# Создаем спецификацию модели через формулу и подгоняем модель\n",
    "formula = 'age ~ I(age**2) + IQ + married + south + urban'\n",
    "model_41 = smf.ols(formula=formula, data=df_wage2).fit()"
   ]
  },
  {
   "cell_type": "code",
   "execution_count": 108,
   "metadata": {},
   "outputs": [],
   "source": [
    "# Модель 2: age^2 на age, IQ, married, south, urban\n",
    "# Создаем спецификацию модели через формулу и подгоняем модель\n",
    "formula = 'I(age**2)~age+IQ+married+south+urban'\n",
    "model_42 = smf.ols(formula=formula, data=df_wage2).fit()"
   ]
  },
  {
   "cell_type": "code",
   "execution_count": 109,
   "metadata": {},
   "outputs": [],
   "source": [
    "# Модель 3: urban на age, age^2, IQ, married, south\n",
    "# Создаем спецификацию модели через формулу и подгоняем модель\n",
    "formula = 'urban~age+I(age**2)+IQ+married+south'\n",
    "model_43 = smf.ols(formula = formula, data = df_wage2).fit()"
   ]
  },
  {
   "cell_type": "code",
   "execution_count": 110,
   "metadata": {},
   "outputs": [
    {
     "name": "stdout",
     "output_type": "stream",
     "text": [
      "\n",
      "=====================================================\n",
      "                       age     I(age ** 2)    urban  \n",
      "-----------------------------------------------------\n",
      "I(age ** 2)         0.015***                -0.003   \n",
      "                    (0.000)                 (0.002)  \n",
      "IQ                  -0.000     0.008        0.000    \n",
      "                    (0.000)    (0.018)      (0.001)  \n",
      "Intercept           16.514***  -1096.784*** -2.337   \n",
      "                    (0.039)    (3.612)      (1.963)  \n",
      "R-squared           0.998      0.998        0.016    \n",
      "R-squared Adj.      0.998      0.998        0.011    \n",
      "age                            66.523***    0.188    \n",
      "                               (0.087)      (0.118)  \n",
      "married             -0.003     0.301        -0.053   \n",
      "                    (0.013)    (0.879)      (0.048)  \n",
      "south               0.010      -0.698       -0.102***\n",
      "                    (0.009)    (0.586)      (0.032)  \n",
      "urban               0.014      -0.962                \n",
      "                    (0.009)    (0.603)               \n",
      "No. Observations    935        935          935      \n",
      "R-squared           0.998      0.998        0.016    \n",
      "Adj. R-squared      0.998      0.998        0.011    \n",
      "Residual Std. Error 0.124      8.247        0.448    \n",
      "F-statistic         117401.170 117419.001   3.112    \n",
      "Prob (F-statistic)  0.000      0.000        0.009    \n",
      "=====================================================\n",
      "Standard errors in parentheses.\n",
      "* p<.1, ** p<.05, ***p<.01\n"
     ]
    }
   ],
   "source": [
    "#Результаты подгонки\n",
    "info_dict = {'No. Observations': lambda x: '{0:d}'.format(int(x.nobs)), \n",
    "             'R-squared': lambda x: \"%#8.3f\" % x.rsquared,\n",
    "             'Adj. R-squared': lambda x: \"%#8.3f\" % x.rsquared_adj,\n",
    "             'Residual Std. Error': lambda x: \"%#8.3f\" % x.mse_resid**0.5,\n",
    "             'F-statistic': lambda x: '{:.3f}'.format(x.fvalue), \n",
    "             'Prob (F-statistic)': lambda x: '{:.3f}'.format(x.f_pvalue)\n",
    "             }\n",
    "\n",
    "print(\n",
    "    summary_col(\n",
    "        [model_41, model_42, model_43],\n",
    "        stars=True, float_format='%.3f',\n",
    "        info_dict = info_dict\n",
    "    )\n",
    ")"
   ]
  },
  {
   "cell_type": "code",
   "execution_count": 111,
   "metadata": {},
   "outputs": [
    {
     "data": {
      "text/plain": [
       "632.87"
      ]
     },
     "execution_count": 111,
     "metadata": {},
     "output_type": "execute_result"
    }
   ],
   "source": [
    "# VIF для age c округлением до 2-х десятичных знаков\n",
    "# VIF_1 = 1/(1 - model_41.rsquared.round(3))\n",
    "VIF_1 = 1/(1 - model_41.rsquared)\n",
    "VIF_1.round(2)"
   ]
  },
  {
   "cell_type": "code",
   "execution_count": 112,
   "metadata": {},
   "outputs": [
    {
     "data": {
      "text/plain": [
       "632.96"
      ]
     },
     "execution_count": 112,
     "metadata": {},
     "output_type": "execute_result"
    }
   ],
   "source": [
    "# VIF для age**2 c округлением до 2-х десятичных знаков\n",
    "# VIF_2 = 1/(1 - model_42.rsquared.round(3))\n",
    "VIF_2 = 1/(1 - model_42.rsquared)\n",
    "VIF_2.round(2)"
   ]
  },
  {
   "cell_type": "code",
   "execution_count": 113,
   "metadata": {},
   "outputs": [
    {
     "data": {
      "text/plain": [
       "1.02"
      ]
     },
     "execution_count": 113,
     "metadata": {},
     "output_type": "execute_result"
    }
   ],
   "source": [
    "# VIF для urban c округлением до 2-х десятичных знаков\n",
    "VIF_3 = 1/(1 - model_43.rsquared.round(3))\n",
    "VIF_3.round(2)"
   ]
  },
  {
   "cell_type": "code",
   "execution_count": 114,
   "metadata": {},
   "outputs": [
    {
     "data": {
      "text/plain": [
       "['Intercept', 'age', 'I(age ** 2)', 'IQ', 'married', 'south', 'urban']"
      ]
     },
     "execution_count": 114,
     "metadata": {},
     "output_type": "execute_result"
    }
   ],
   "source": [
    "# names of exog\n",
    "Wage2_eq41.model.exog_names"
   ]
  },
  {
   "cell_type": "code",
   "execution_count": 115,
   "metadata": {},
   "outputs": [
    {
     "name": "stdout",
     "output_type": "stream",
     "text": [
      "VIF for exog age :  632.87\n"
     ]
    }
   ],
   "source": [
    "# VIF для age c округлением до 2-х десятичных знаков\n",
    "VIF_1 = variance_inflation_factor(exog = Wage2_eq41.model.exog, exog_idx = 1)\n",
    "print('VIF for exog', Wage2_eq41.model.exog_names[1], ': ', VIF_1.round(2))"
   ]
  },
  {
   "cell_type": "code",
   "execution_count": 116,
   "metadata": {},
   "outputs": [
    {
     "name": "stdout",
     "output_type": "stream",
     "text": [
      "VIF for exog I(age ** 2) :  632.96\n"
     ]
    }
   ],
   "source": [
    "# VIF для age**2 c округлением до 2-х десятичных знаков\n",
    "VIF_2 = variance_inflation_factor(exog = Wage2_eq41.model.exog, exog_idx = 2)\n",
    "print('VIF for exog', Wage2_eq41.model.exog_names[2], ': ', VIF_2.round(2))"
   ]
  },
  {
   "cell_type": "code",
   "execution_count": 117,
   "metadata": {},
   "outputs": [
    {
     "name": "stdout",
     "output_type": "stream",
     "text": [
      "VIF for exog urban :  1.02\n"
     ]
    }
   ],
   "source": [
    "# VIF для totwrk*south c округлением до 2-х десятичных знаков\n",
    "VIF_3 = variance_inflation_factor(exog = Wage2_eq41.model.exog, exog_idx = 6)\n",
    "print('VIF for exog', Wage2_eq41.model.exog_names[6], ': ', VIF_3.round(2))"
   ]
  },
  {
   "attachments": {},
   "cell_type": "markdown",
   "metadata": {},
   "source": [
    "### 4.2 Последствия\n",
    "\n",
    "Для набора данных `wage` рассмотрим линейную регрессию\n",
    "**log(wage) на age, age^2, IQ, married, south, urban.**\n",
    "\n",
    "Результаты оценивания:\n"
   ]
  },
  {
   "cell_type": "code",
   "execution_count": 118,
   "metadata": {},
   "outputs": [],
   "source": [
    "# Модель log(wage) на age, age^2, IQ, married, south, urban.\n",
    "formula = 'np.log(wage)~age+I(age**2)+IQ+married+south+urban'\n",
    "Wage_eq42 = smf.ols(formula = formula, data = df_wage2).fit()\n"
   ]
  },
  {
   "cell_type": "code",
   "execution_count": 119,
   "metadata": {},
   "outputs": [
    {
     "name": "stdout",
     "output_type": "stream",
     "text": [
      "<statsmodels.regression.linear_model.RegressionResultsWrapper object at 0x1475ded90>\n",
      "\n",
      "================================\n",
      "                    np.log(wage)\n",
      "--------------------------------\n",
      "Intercept           2.938*      \n",
      "                    (1.656)     \n",
      "age                 0.145       \n",
      "                    (0.100)     \n",
      "I(age ** 2)         -0.002      \n",
      "                    (0.002)     \n",
      "IQ                  0.008***    \n",
      "                    (0.001)     \n",
      "married             0.202***    \n",
      "                    (0.040)     \n",
      "south               -0.100***   \n",
      "                    (0.027)     \n",
      "urban               0.173***    \n",
      "                    (0.028)     \n",
      "R-squared           0.201       \n",
      "R-squared Adj.      0.196       \n",
      "No. Observations    935         \n",
      "Residual Std. Error 0.378       \n",
      "F-statistic         38.898      \n",
      "Prob (F-statistic)  0.000       \n",
      "================================\n",
      "Standard errors in parentheses.\n",
      "* p<.1, ** p<.05, ***p<.01\n"
     ]
    }
   ],
   "source": [
    "info_dict = {'No. Observations': lambda x: '{0:d}'.format(int(x.nobs)), \n",
    "             'Residual Std. Error': lambda x: \"%#8.3f\" % x.mse_resid**0.5,\n",
    "             'F-statistic': lambda x: '{:.3f}'.format(x.fvalue), \n",
    "             'Prob (F-statistic)': lambda x: '{:.3f}'.format(x.f_pvalue)\n",
    "             }\n",
    "print(Wage_eq42)\n",
    "print(summary_col(Wage_eq42, float_format='%.3f', stars=True, info_dict = info_dict))"
   ]
  },
  {
   "cell_type": "code",
   "execution_count": 120,
   "metadata": {},
   "outputs": [
    {
     "data": {
      "text/html": [
       "<div>\n",
       "<style scoped>\n",
       "    .dataframe tbody tr th:only-of-type {\n",
       "        vertical-align: middle;\n",
       "    }\n",
       "\n",
       "    .dataframe tbody tr th {\n",
       "        vertical-align: top;\n",
       "    }\n",
       "\n",
       "    .dataframe thead th {\n",
       "        text-align: right;\n",
       "    }\n",
       "</style>\n",
       "<table border=\"1\" class=\"dataframe\">\n",
       "  <thead>\n",
       "    <tr style=\"text-align: right;\">\n",
       "      <th></th>\n",
       "      <th>Coef.</th>\n",
       "      <th>Std.Err.</th>\n",
       "      <th>t</th>\n",
       "      <th>P&gt;|t|</th>\n",
       "      <th>[0.025</th>\n",
       "      <th>0.975]</th>\n",
       "      <th>significance</th>\n",
       "    </tr>\n",
       "  </thead>\n",
       "  <tbody>\n",
       "    <tr>\n",
       "      <th>Intercept</th>\n",
       "      <td>2.937802</td>\n",
       "      <td>1.656234</td>\n",
       "      <td>1.773784</td>\n",
       "      <td>7.642669e-02</td>\n",
       "      <td>-0.312596</td>\n",
       "      <td>6.188201</td>\n",
       "      <td>Незначим</td>\n",
       "    </tr>\n",
       "    <tr>\n",
       "      <th>age</th>\n",
       "      <td>0.144754</td>\n",
       "      <td>0.100033</td>\n",
       "      <td>1.447058</td>\n",
       "      <td>1.482184e-01</td>\n",
       "      <td>-0.051564</td>\n",
       "      <td>0.341072</td>\n",
       "      <td>Незначим</td>\n",
       "    </tr>\n",
       "    <tr>\n",
       "      <th>I(age ** 2)</th>\n",
       "      <td>-0.001857</td>\n",
       "      <td>0.001503</td>\n",
       "      <td>-1.235591</td>\n",
       "      <td>2.169233e-01</td>\n",
       "      <td>-0.004805</td>\n",
       "      <td>0.001092</td>\n",
       "      <td>Незначим</td>\n",
       "    </tr>\n",
       "    <tr>\n",
       "      <th>IQ</th>\n",
       "      <td>0.008216</td>\n",
       "      <td>0.000841</td>\n",
       "      <td>9.769940</td>\n",
       "      <td>1.584051e-21</td>\n",
       "      <td>0.006566</td>\n",
       "      <td>0.009866</td>\n",
       "      <td>Значим</td>\n",
       "    </tr>\n",
       "    <tr>\n",
       "      <th>married</th>\n",
       "      <td>0.201539</td>\n",
       "      <td>0.040240</td>\n",
       "      <td>5.008445</td>\n",
       "      <td>6.567021e-07</td>\n",
       "      <td>0.122567</td>\n",
       "      <td>0.280510</td>\n",
       "      <td>Значим</td>\n",
       "    </tr>\n",
       "    <tr>\n",
       "      <th>south</th>\n",
       "      <td>-0.100273</td>\n",
       "      <td>0.026838</td>\n",
       "      <td>-3.736230</td>\n",
       "      <td>1.982067e-04</td>\n",
       "      <td>-0.152944</td>\n",
       "      <td>-0.047603</td>\n",
       "      <td>Значим</td>\n",
       "    </tr>\n",
       "    <tr>\n",
       "      <th>urban</th>\n",
       "      <td>0.173195</td>\n",
       "      <td>0.027667</td>\n",
       "      <td>6.259939</td>\n",
       "      <td>5.878259e-10</td>\n",
       "      <td>0.118897</td>\n",
       "      <td>0.227492</td>\n",
       "      <td>Значим</td>\n",
       "    </tr>\n",
       "  </tbody>\n",
       "</table>\n",
       "</div>"
      ],
      "text/plain": [
       "                Coef.  Std.Err.         t         P>|t|    [0.025    0.975]   \n",
       "Intercept    2.937802  1.656234  1.773784  7.642669e-02 -0.312596  6.188201  \\\n",
       "age          0.144754  0.100033  1.447058  1.482184e-01 -0.051564  0.341072   \n",
       "I(age ** 2) -0.001857  0.001503 -1.235591  2.169233e-01 -0.004805  0.001092   \n",
       "IQ           0.008216  0.000841  9.769940  1.584051e-21  0.006566  0.009866   \n",
       "married      0.201539  0.040240  5.008445  6.567021e-07  0.122567  0.280510   \n",
       "south       -0.100273  0.026838 -3.736230  1.982067e-04 -0.152944 -0.047603   \n",
       "urban        0.173195  0.027667  6.259939  5.878259e-10  0.118897  0.227492   \n",
       "\n",
       "            significance  \n",
       "Intercept       Незначим  \n",
       "age             Незначим  \n",
       "I(age ** 2)     Незначим  \n",
       "IQ                Значим  \n",
       "married           Значим  \n",
       "south             Значим  \n",
       "urban             Значим  "
      ]
     },
     "execution_count": 120,
     "metadata": {},
     "output_type": "execute_result"
    }
   ],
   "source": [
    "# Уровень значимости 5%\n",
    "alpha = 0.05\n",
    "df = summary_params(Wage_eq42, alpha=alpha)\n",
    "df['significance'] = df.apply(lambda x: 'Значим' if x['P>|t|']<alpha else 'Незначим', axis=1)\n",
    "df"
   ]
  },
  {
   "attachments": {},
   "cell_type": "markdown",
   "metadata": {},
   "source": [
    "#### На уровне значимости 5% значимы коэффициенты: IQ, married, south, urban\n",
    "\n",
    "#### Тестируется значимость влияния занятости, т.е. гипотеза\n",
    "#### $H_0:\\beta_{age}=\\beta_{age^2}=0$."
   ]
  },
  {
   "cell_type": "code",
   "execution_count": 121,
   "metadata": {},
   "outputs": [
    {
     "name": "stdout",
     "output_type": "stream",
     "text": [
      "F_stat = 14.833\n"
     ]
    }
   ],
   "source": [
    "# тестовая F_stat\n",
    "f_stat = Wage_eq42.f_test('age = I(age ** 2) = 0').fvalue\n",
    "print(f'F_stat = {f_stat:3.3f}')"
   ]
  },
  {
   "cell_type": "code",
   "execution_count": 122,
   "metadata": {},
   "outputs": [
    {
     "name": "stdout",
     "output_type": "stream",
     "text": [
      "F_crit = 3.010\n"
     ]
    }
   ],
   "source": [
    "# критическое значение F_crit\n",
    "# alpha=0.1\n",
    "f_crit = scipy.stats.f.ppf(1-alpha, 2, 700).round(2)\n",
    "print(f'F_crit = {f_crit:3.3f}')"
   ]
  },
  {
   "attachments": {},
   "cell_type": "markdown",
   "metadata": {},
   "source": [
    "### Так как F_stat > F_crit, то гипотеза отвергается. Значит коэффициенты совместно значимы"
   ]
  },
  {
   "cell_type": "code",
   "execution_count": 123,
   "metadata": {},
   "outputs": [
    {
     "data": {
      "text/html": [
       "<div>\n",
       "<style scoped>\n",
       "    .dataframe tbody tr th:only-of-type {\n",
       "        vertical-align: middle;\n",
       "    }\n",
       "\n",
       "    .dataframe tbody tr th {\n",
       "        vertical-align: top;\n",
       "    }\n",
       "\n",
       "    .dataframe thead th {\n",
       "        text-align: right;\n",
       "    }\n",
       "</style>\n",
       "<table border=\"1\" class=\"dataframe\">\n",
       "  <thead>\n",
       "    <tr style=\"text-align: right;\">\n",
       "      <th></th>\n",
       "      <th>VIF</th>\n",
       "    </tr>\n",
       "  </thead>\n",
       "  <tbody>\n",
       "    <tr>\n",
       "      <th>age</th>\n",
       "      <td>632.868517</td>\n",
       "    </tr>\n",
       "    <tr>\n",
       "      <th>I(age ** 2)</th>\n",
       "      <td>632.964483</td>\n",
       "    </tr>\n",
       "    <tr>\n",
       "      <th>IQ</th>\n",
       "      <td>1.049260</td>\n",
       "    </tr>\n",
       "    <tr>\n",
       "      <th>married</th>\n",
       "      <td>1.013807</td>\n",
       "    </tr>\n",
       "    <tr>\n",
       "      <th>south</th>\n",
       "      <td>1.061287</td>\n",
       "    </tr>\n",
       "    <tr>\n",
       "      <th>urban</th>\n",
       "      <td>1.016749</td>\n",
       "    </tr>\n",
       "  </tbody>\n",
       "</table>\n",
       "</div>"
      ],
      "text/plain": [
       "                    VIF\n",
       "age          632.868517\n",
       "I(age ** 2)  632.964483\n",
       "IQ             1.049260\n",
       "married        1.013807\n",
       "south          1.061287\n",
       "urban          1.016749"
      ]
     },
     "execution_count": 123,
     "metadata": {},
     "output_type": "execute_result"
    }
   ],
   "source": [
    "#VIFs\n",
    "VIFS = pd.DataFrame(\n",
    "    {'VIF': [variance_inflation_factor(\n",
    "                                          Wage_eq42.model.exog, i\n",
    "                                      ) for i in range(int(Wage_eq42.df_model+1))\n",
    "            ]\n",
    "    }, index=Wage_eq42.model.exog_names\n",
    ")\n",
    "VIFS.drop(index='Intercept', inplace=True)\n",
    "VIFS"
   ]
  },
  {
   "cell_type": "code",
   "execution_count": 124,
   "metadata": {},
   "outputs": [
    {
     "data": {
      "text/html": [
       "<div>\n",
       "<style scoped>\n",
       "    .dataframe tbody tr th:only-of-type {\n",
       "        vertical-align: middle;\n",
       "    }\n",
       "\n",
       "    .dataframe tbody tr th {\n",
       "        vertical-align: top;\n",
       "    }\n",
       "\n",
       "    .dataframe thead th {\n",
       "        text-align: right;\n",
       "    }\n",
       "</style>\n",
       "<table border=\"1\" class=\"dataframe\">\n",
       "  <thead>\n",
       "    <tr style=\"text-align: right;\">\n",
       "      <th></th>\n",
       "      <th>age</th>\n",
       "      <th>IQ</th>\n",
       "      <th>married</th>\n",
       "      <th>south</th>\n",
       "      <th>urban</th>\n",
       "      <th>age**2</th>\n",
       "    </tr>\n",
       "  </thead>\n",
       "  <tbody>\n",
       "    <tr>\n",
       "      <th>age</th>\n",
       "      <td>1.000</td>\n",
       "      <td>-0.044</td>\n",
       "      <td>0.107</td>\n",
       "      <td>-0.029</td>\n",
       "      <td>-0.007</td>\n",
       "      <td>0.999</td>\n",
       "    </tr>\n",
       "    <tr>\n",
       "      <th>IQ</th>\n",
       "      <td>-0.044</td>\n",
       "      <td>1.000</td>\n",
       "      <td>-0.015</td>\n",
       "      <td>-0.210</td>\n",
       "      <td>0.039</td>\n",
       "      <td>-0.043</td>\n",
       "    </tr>\n",
       "    <tr>\n",
       "      <th>married</th>\n",
       "      <td>0.107</td>\n",
       "      <td>-0.015</td>\n",
       "      <td>1.000</td>\n",
       "      <td>0.023</td>\n",
       "      <td>-0.040</td>\n",
       "      <td>0.107</td>\n",
       "    </tr>\n",
       "    <tr>\n",
       "      <th>south</th>\n",
       "      <td>-0.029</td>\n",
       "      <td>-0.210</td>\n",
       "      <td>0.023</td>\n",
       "      <td>1.000</td>\n",
       "      <td>-0.110</td>\n",
       "      <td>-0.031</td>\n",
       "    </tr>\n",
       "    <tr>\n",
       "      <th>urban</th>\n",
       "      <td>-0.007</td>\n",
       "      <td>0.039</td>\n",
       "      <td>-0.040</td>\n",
       "      <td>-0.110</td>\n",
       "      <td>1.000</td>\n",
       "      <td>-0.009</td>\n",
       "    </tr>\n",
       "    <tr>\n",
       "      <th>age**2</th>\n",
       "      <td>0.999</td>\n",
       "      <td>-0.043</td>\n",
       "      <td>0.107</td>\n",
       "      <td>-0.031</td>\n",
       "      <td>-0.009</td>\n",
       "      <td>1.000</td>\n",
       "    </tr>\n",
       "  </tbody>\n",
       "</table>\n",
       "</div>"
      ],
      "text/plain": [
       "           age     IQ  married  south  urban  age**2\n",
       "age      1.000 -0.044    0.107 -0.029 -0.007   0.999\n",
       "IQ      -0.044  1.000   -0.015 -0.210  0.039  -0.043\n",
       "married  0.107 -0.015    1.000  0.023 -0.040   0.107\n",
       "south   -0.029 -0.210    0.023  1.000 -0.110  -0.031\n",
       "urban   -0.007  0.039   -0.040 -0.110  1.000  -0.009\n",
       "age**2   0.999 -0.043    0.107 -0.031 -0.009   1.000"
      ]
     },
     "execution_count": 124,
     "metadata": {},
     "output_type": "execute_result"
    }
   ],
   "source": [
    "# Матрица корреляций\n",
    "df_corr = df_wage2[['age', 'IQ', 'married', 'south', 'urban']].copy()\n",
    "df_corr['age**2'] = df_corr['age'] ** 2\n",
    "# df_sleep['I(totwrk ** 2 / 10000)'] = (data_sleep['totwrk']**2)/10000\n",
    "corr_matrix = df_corr.corr().round(3)\n",
    "corr_matrix"
   ]
  },
  {
   "cell_type": "code",
   "execution_count": 125,
   "metadata": {},
   "outputs": [
    {
     "data": {
      "image/png": "[encoded data removed]",
      "text/plain": [
       "<Figure size 640x480 with 2 Axes>"
      ]
     },
     "metadata": {},
     "output_type": "display_data"
    }
   ],
   "source": [
    "# Визуализация корреляций\n",
    "sm.graphics.plot_corr(corr_matrix, xnames=df_corr.columns, normcolor=True, cmap='coolwarm')\n",
    "plt.show()"
   ]
  },
  {
   "cell_type": "code",
   "execution_count": 126,
   "metadata": {},
   "outputs": [
    {
     "data": {
      "text/plain": [
       "Text(0.5, 1.0, 'Correlation Matrix')"
      ]
     },
     "execution_count": 126,
     "metadata": {},
     "output_type": "execute_result"
    },
    {
     "data": {
      "image/png": "[encoded data removed]",
      "text/plain": [
       "<Figure size 640x480 with 2 Axes>"
      ]
     },
     "metadata": {},
     "output_type": "display_data"
    }
   ],
   "source": [
    "# Визуализация корреляций\n",
    "sns.heatmap(corr_matrix, annot=True, fmt='.3g', vmin=-1, vmax=1, center=0, cmap='coolwarm', \n",
    "            square=True, linewidths=1, linecolor='white')\n",
    "# add customized title to heatmap\n",
    "plt.title('Correlation Matrix', loc='center', color='red', size=14, weight='bold')"
   ]
  },
  {
   "attachments": {},
   "cell_type": "markdown",
   "metadata": {},
   "source": [
    "### \"Продвинутая\" визуализация корреляций"
   ]
  },
  {
   "cell_type": "code",
   "execution_count": 127,
   "metadata": {},
   "outputs": [
    {
     "data": {
      "text/plain": [
       "Text(0.5, 1.0, 'Correlation Matrix')"
      ]
     },
     "execution_count": 127,
     "metadata": {},
     "output_type": "execute_result"
    },
    {
     "data": {
      "image/png": "[encoded data removed]",
      "text/plain": [
       "<Figure size 640x480 with 2 Axes>"
      ]
     },
     "metadata": {},
     "output_type": "display_data"
    }
   ],
   "source": [
    "corr_matrix = df_corr.corr().round(3)\n",
    "# нижнетреугольная матрица корреляций\n",
    "mask = np.triu(corr_matrix)\n",
    "sns.heatmap(corr_matrix, annot=True, fmt='.2g', vmin=-1, vmax=1, center=0, cmap='coolwarm', square=True, linewidths=1, linecolor='white', mask=mask)\n",
    "# add customized title to heatmap\n",
    "plt.title('Correlation Matrix', loc='center', color='red', size=14, weight='bold')"
   ]
  },
  {
   "cell_type": "code",
   "execution_count": 128,
   "metadata": {},
   "outputs": [
    {
     "data": {
      "text/plain": [
       "Text(0.5, 1.0, 'Correlation Matrix')"
      ]
     },
     "execution_count": 128,
     "metadata": {},
     "output_type": "execute_result"
    },
    {
     "data": {
      "image/png": "[encoded data removed]",
      "text/plain": [
       "<Figure size 640x480 with 2 Axes>"
      ]
     },
     "metadata": {},
     "output_type": "display_data"
    }
   ],
   "source": [
    "corr_matrix = df_corr.corr().round(3)\n",
    "# верхнетреугольная матрица корреляций\n",
    "mask = np.tril(corr_matrix)\n",
    "sns.heatmap(corr_matrix, annot=True, fmt='.2g', vmin=-1, vmax=1, center=0, cmap='coolwarm', square=True, linewidths=1, linecolor='white', mask=mask)\n",
    "# add customized title to heatmap\n",
    "plt.title('Correlation Matrix', loc='center', color='red', size=14, weight='bold')"
   ]
  },
  {
   "cell_type": "code",
   "execution_count": 129,
   "metadata": {},
   "outputs": [
    {
     "data": {
      "text/html": [
       "<style type=\"text/css\">\n",
       "#T_543e2_row0_col0, #T_543e2_row0_col1, #T_543e2_row0_col2, #T_543e2_row0_col3, #T_543e2_row0_col4, #T_543e2_row0_col5, #T_543e2_row1_col1, #T_543e2_row1_col2, #T_543e2_row1_col3, #T_543e2_row1_col4, #T_543e2_row1_col5, #T_543e2_row2_col2, #T_543e2_row2_col3, #T_543e2_row2_col4, #T_543e2_row2_col5, #T_543e2_row3_col3, #T_543e2_row3_col4, #T_543e2_row3_col5, #T_543e2_row4_col4, #T_543e2_row4_col5, #T_543e2_row5_col5 {\n",
       "  text-align: center;\n",
       "  background-color: #000000;\n",
       "  color: #f1f1f1;\n",
       "  background-color: #f1f1f1;\n",
       "}\n",
       "#T_543e2_row1_col0, #T_543e2_row4_col2, #T_543e2_row5_col1 {\n",
       "  text-align: center;\n",
       "  background-color: #d7dce3;\n",
       "  color: #000000;\n",
       "}\n",
       "#T_543e2_row2_col0, #T_543e2_row5_col2 {\n",
       "  text-align: center;\n",
       "  background-color: #ead5c9;\n",
       "  color: #000000;\n",
       "}\n",
       "#T_543e2_row2_col1, #T_543e2_row5_col4 {\n",
       "  text-align: center;\n",
       "  background-color: #dbdcde;\n",
       "  color: #000000;\n",
       "}\n",
       "#T_543e2_row3_col0, #T_543e2_row5_col3 {\n",
       "  text-align: center;\n",
       "  background-color: #d9dce1;\n",
       "  color: #000000;\n",
       "}\n",
       "#T_543e2_row3_col1 {\n",
       "  text-align: center;\n",
       "  background-color: #bfd3f6;\n",
       "  color: #000000;\n",
       "}\n",
       "#T_543e2_row3_col2 {\n",
       "  text-align: center;\n",
       "  background-color: #dfdbd9;\n",
       "  color: #000000;\n",
       "}\n",
       "#T_543e2_row4_col0 {\n",
       "  text-align: center;\n",
       "  background-color: #dcdddd;\n",
       "  color: #000000;\n",
       "}\n",
       "#T_543e2_row4_col1 {\n",
       "  text-align: center;\n",
       "  background-color: #e1dad6;\n",
       "  color: #000000;\n",
       "}\n",
       "#T_543e2_row4_col3 {\n",
       "  text-align: center;\n",
       "  background-color: #cdd9ec;\n",
       "  color: #000000;\n",
       "}\n",
       "#T_543e2_row5_col0 {\n",
       "  text-align: center;\n",
       "  background-color: #b40426;\n",
       "  color: #f1f1f1;\n",
       "}\n",
       "</style>\n",
       "<table id=\"T_543e2\">\n",
       "  <caption>Correlation Matrix</caption>\n",
       "  <thead>\n",
       "    <tr>\n",
       "      <th class=\"blank level0\" >&nbsp;</th>\n",
       "      <th id=\"T_543e2_level0_col0\" class=\"col_heading level0 col0\" >age</th>\n",
       "      <th id=\"T_543e2_level0_col1\" class=\"col_heading level0 col1\" >IQ</th>\n",
       "      <th id=\"T_543e2_level0_col2\" class=\"col_heading level0 col2\" >married</th>\n",
       "      <th id=\"T_543e2_level0_col3\" class=\"col_heading level0 col3\" >south</th>\n",
       "      <th id=\"T_543e2_level0_col4\" class=\"col_heading level0 col4\" >urban</th>\n",
       "      <th id=\"T_543e2_level0_col5\" class=\"col_heading level0 col5\" >age**2</th>\n",
       "    </tr>\n",
       "  </thead>\n",
       "  <tbody>\n",
       "    <tr>\n",
       "      <th id=\"T_543e2_level0_row0\" class=\"row_heading level0 row0\" >age</th>\n",
       "      <td id=\"T_543e2_row0_col0\" class=\"data row0 col0\" > </td>\n",
       "      <td id=\"T_543e2_row0_col1\" class=\"data row0 col1\" > </td>\n",
       "      <td id=\"T_543e2_row0_col2\" class=\"data row0 col2\" > </td>\n",
       "      <td id=\"T_543e2_row0_col3\" class=\"data row0 col3\" > </td>\n",
       "      <td id=\"T_543e2_row0_col4\" class=\"data row0 col4\" > </td>\n",
       "      <td id=\"T_543e2_row0_col5\" class=\"data row0 col5\" > </td>\n",
       "    </tr>\n",
       "    <tr>\n",
       "      <th id=\"T_543e2_level0_row1\" class=\"row_heading level0 row1\" >IQ</th>\n",
       "      <td id=\"T_543e2_row1_col0\" class=\"data row1 col0\" >-0.04</td>\n",
       "      <td id=\"T_543e2_row1_col1\" class=\"data row1 col1\" > </td>\n",
       "      <td id=\"T_543e2_row1_col2\" class=\"data row1 col2\" > </td>\n",
       "      <td id=\"T_543e2_row1_col3\" class=\"data row1 col3\" > </td>\n",
       "      <td id=\"T_543e2_row1_col4\" class=\"data row1 col4\" > </td>\n",
       "      <td id=\"T_543e2_row1_col5\" class=\"data row1 col5\" > </td>\n",
       "    </tr>\n",
       "    <tr>\n",
       "      <th id=\"T_543e2_level0_row2\" class=\"row_heading level0 row2\" >married</th>\n",
       "      <td id=\"T_543e2_row2_col0\" class=\"data row2 col0\" >0.11</td>\n",
       "      <td id=\"T_543e2_row2_col1\" class=\"data row2 col1\" >-0.01</td>\n",
       "      <td id=\"T_543e2_row2_col2\" class=\"data row2 col2\" > </td>\n",
       "      <td id=\"T_543e2_row2_col3\" class=\"data row2 col3\" > </td>\n",
       "      <td id=\"T_543e2_row2_col4\" class=\"data row2 col4\" > </td>\n",
       "      <td id=\"T_543e2_row2_col5\" class=\"data row2 col5\" > </td>\n",
       "    </tr>\n",
       "    <tr>\n",
       "      <th id=\"T_543e2_level0_row3\" class=\"row_heading level0 row3\" >south</th>\n",
       "      <td id=\"T_543e2_row3_col0\" class=\"data row3 col0\" >-0.03</td>\n",
       "      <td id=\"T_543e2_row3_col1\" class=\"data row3 col1\" >-0.21</td>\n",
       "      <td id=\"T_543e2_row3_col2\" class=\"data row3 col2\" >0.02</td>\n",
       "      <td id=\"T_543e2_row3_col3\" class=\"data row3 col3\" > </td>\n",
       "      <td id=\"T_543e2_row3_col4\" class=\"data row3 col4\" > </td>\n",
       "      <td id=\"T_543e2_row3_col5\" class=\"data row3 col5\" > </td>\n",
       "    </tr>\n",
       "    <tr>\n",
       "      <th id=\"T_543e2_level0_row4\" class=\"row_heading level0 row4\" >urban</th>\n",
       "      <td id=\"T_543e2_row4_col0\" class=\"data row4 col0\" >-0.01</td>\n",
       "      <td id=\"T_543e2_row4_col1\" class=\"data row4 col1\" >0.04</td>\n",
       "      <td id=\"T_543e2_row4_col2\" class=\"data row4 col2\" >-0.04</td>\n",
       "      <td id=\"T_543e2_row4_col3\" class=\"data row4 col3\" >-0.11</td>\n",
       "      <td id=\"T_543e2_row4_col4\" class=\"data row4 col4\" > </td>\n",
       "      <td id=\"T_543e2_row4_col5\" class=\"data row4 col5\" > </td>\n",
       "    </tr>\n",
       "    <tr>\n",
       "      <th id=\"T_543e2_level0_row5\" class=\"row_heading level0 row5\" >age**2</th>\n",
       "      <td id=\"T_543e2_row5_col0\" class=\"data row5 col0\" >1.00</td>\n",
       "      <td id=\"T_543e2_row5_col1\" class=\"data row5 col1\" >-0.04</td>\n",
       "      <td id=\"T_543e2_row5_col2\" class=\"data row5 col2\" >0.11</td>\n",
       "      <td id=\"T_543e2_row5_col3\" class=\"data row5 col3\" >-0.03</td>\n",
       "      <td id=\"T_543e2_row5_col4\" class=\"data row5 col4\" >-0.01</td>\n",
       "      <td id=\"T_543e2_row5_col5\" class=\"data row5 col5\" > </td>\n",
       "    </tr>\n",
       "  </tbody>\n",
       "</table>\n"
      ],
      "text/plain": [
       "<pandas.io.formats.style.Styler at 0x148eb1df0>"
      ]
     },
     "execution_count": 129,
     "metadata": {},
     "output_type": "execute_result"
    }
   ],
   "source": [
    "# Fill diagonal and upper half with NaNs\n",
    "mask = np.zeros_like(corr_matrix, dtype=bool)\n",
    "mask[np.triu_indices_from(mask)] = True\n",
    "corr_matrix[mask] = np.nan\n",
    "(corr_matrix\n",
    " .style\n",
    " .set_properties(**{'text-align': 'center'})\n",
    " .background_gradient(cmap='coolwarm', axis=None, vmin=-1, vmax=1)\n",
    " .highlight_null(color='#f1f1f1')  # Color NaNs grey\n",
    " .format(precision=2, na_rep=\" \")\n",
    " .set_caption('Correlation Matrix'))"
   ]
  }
 ],
 "metadata": {
  "kernelspec": {
   "display_name": "venv",
   "language": "python",
   "name": "python3"
  },
  "language_info": {
   "codemirror_mode": {
    "name": "ipython",
    "version": 3
   },
   "file_extension": ".py",
   "mimetype": "text/x-python",
   "name": "python",
   "nbconvert_exporter": "python",
   "pygments_lexer": "ipython3",
   "version": "3.9.6"
  },
  "orig_nbformat": 4
 },
 "nbformat": 4,
 "nbformat_minor": 2
}
