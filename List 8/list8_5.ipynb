{
 "cells": [
  {
   "cell_type": "code",
   "execution_count": 262,
   "metadata": {},
   "outputs": [],
   "source": [
    "import pandas as pd\n",
    "import numpy as np\n",
    "import statsmodels.api as sm \n",
    "import statsmodels.formula.api as smf\n",
    "from statsmodels.iolib.summary2 import summary_params # вывод результатов тестирования\n",
    "from statsmodels.iolib.summary2 import summary_col # вывод результатов тестирования\n",
    "from statsmodels.stats.outliers_influence import variance_inflation_factor # VIF\n",
    "import scipy\n",
    "import matplotlib.pyplot as plt\n",
    "import seaborn as sns"
   ]
  },
  {
   "attachments": {},
   "cell_type": "markdown",
   "metadata": {},
   "source": [
    "## 5 wage equation #2 (структурные сдвиги)\n",
    "### 5.1 VIFs\n",
    "Для набора данных `wage2` рассмотрим линейную регрессию\n",
    "\n",
    "\n",
    "**log(wage) на age, urban, age⋆urban, IQ, IQ⋆urban.**\n",
    "\n",
    "Какие регрессии нужно рассматривать для вычисления показателей VIF для коэффициентов\n",
    "**age, urban, age⋆urban**?\n",
    "\n",
    "Ответ\n",
    "\n",
    "- **age на urban, age⋆urban, IQ, IQ⋆urban**\n",
    "- **urban на age, age⋆urban, IQ, IQ⋆urban**\n",
    "- **age*urban на age, urban, IQ, IQ⋆urban**\n"
   ]
  },
  {
   "cell_type": "code",
   "execution_count": 263,
   "metadata": {},
   "outputs": [
    {
     "data": {
      "text/html": [
       "<div>\n",
       "<style scoped>\n",
       "    .dataframe tbody tr th:only-of-type {\n",
       "        vertical-align: middle;\n",
       "    }\n",
       "\n",
       "    .dataframe tbody tr th {\n",
       "        vertical-align: top;\n",
       "    }\n",
       "\n",
       "    .dataframe thead th {\n",
       "        text-align: right;\n",
       "    }\n",
       "</style>\n",
       "<table border=\"1\" class=\"dataframe\">\n",
       "  <thead>\n",
       "    <tr style=\"text-align: right;\">\n",
       "      <th></th>\n",
       "      <th>wage</th>\n",
       "      <th>hours</th>\n",
       "      <th>IQ</th>\n",
       "      <th>KWW</th>\n",
       "      <th>educ</th>\n",
       "      <th>exper</th>\n",
       "      <th>tenure</th>\n",
       "      <th>age</th>\n",
       "      <th>married</th>\n",
       "      <th>black</th>\n",
       "      <th>south</th>\n",
       "      <th>urban</th>\n",
       "      <th>sibs</th>\n",
       "      <th>brthord</th>\n",
       "      <th>meduc</th>\n",
       "      <th>feduc</th>\n",
       "      <th>lwage</th>\n",
       "    </tr>\n",
       "  </thead>\n",
       "  <tbody>\n",
       "    <tr>\n",
       "      <th>0</th>\n",
       "      <td>769</td>\n",
       "      <td>40</td>\n",
       "      <td>93</td>\n",
       "      <td>35</td>\n",
       "      <td>12</td>\n",
       "      <td>11</td>\n",
       "      <td>2</td>\n",
       "      <td>31</td>\n",
       "      <td>1</td>\n",
       "      <td>0</td>\n",
       "      <td>0</td>\n",
       "      <td>1</td>\n",
       "      <td>1</td>\n",
       "      <td>2.0</td>\n",
       "      <td>8.0</td>\n",
       "      <td>8.0</td>\n",
       "      <td>6.645091</td>\n",
       "    </tr>\n",
       "    <tr>\n",
       "      <th>1</th>\n",
       "      <td>808</td>\n",
       "      <td>50</td>\n",
       "      <td>119</td>\n",
       "      <td>41</td>\n",
       "      <td>18</td>\n",
       "      <td>11</td>\n",
       "      <td>16</td>\n",
       "      <td>37</td>\n",
       "      <td>1</td>\n",
       "      <td>0</td>\n",
       "      <td>0</td>\n",
       "      <td>1</td>\n",
       "      <td>1</td>\n",
       "      <td>NaN</td>\n",
       "      <td>14.0</td>\n",
       "      <td>14.0</td>\n",
       "      <td>6.694562</td>\n",
       "    </tr>\n",
       "    <tr>\n",
       "      <th>2</th>\n",
       "      <td>825</td>\n",
       "      <td>40</td>\n",
       "      <td>108</td>\n",
       "      <td>46</td>\n",
       "      <td>14</td>\n",
       "      <td>11</td>\n",
       "      <td>9</td>\n",
       "      <td>33</td>\n",
       "      <td>1</td>\n",
       "      <td>0</td>\n",
       "      <td>0</td>\n",
       "      <td>1</td>\n",
       "      <td>1</td>\n",
       "      <td>2.0</td>\n",
       "      <td>14.0</td>\n",
       "      <td>14.0</td>\n",
       "      <td>6.715384</td>\n",
       "    </tr>\n",
       "    <tr>\n",
       "      <th>3</th>\n",
       "      <td>650</td>\n",
       "      <td>40</td>\n",
       "      <td>96</td>\n",
       "      <td>32</td>\n",
       "      <td>12</td>\n",
       "      <td>13</td>\n",
       "      <td>7</td>\n",
       "      <td>32</td>\n",
       "      <td>1</td>\n",
       "      <td>0</td>\n",
       "      <td>0</td>\n",
       "      <td>1</td>\n",
       "      <td>4</td>\n",
       "      <td>3.0</td>\n",
       "      <td>12.0</td>\n",
       "      <td>12.0</td>\n",
       "      <td>6.476973</td>\n",
       "    </tr>\n",
       "    <tr>\n",
       "      <th>4</th>\n",
       "      <td>562</td>\n",
       "      <td>40</td>\n",
       "      <td>74</td>\n",
       "      <td>27</td>\n",
       "      <td>11</td>\n",
       "      <td>14</td>\n",
       "      <td>5</td>\n",
       "      <td>34</td>\n",
       "      <td>1</td>\n",
       "      <td>0</td>\n",
       "      <td>0</td>\n",
       "      <td>1</td>\n",
       "      <td>10</td>\n",
       "      <td>6.0</td>\n",
       "      <td>6.0</td>\n",
       "      <td>11.0</td>\n",
       "      <td>6.331502</td>\n",
       "    </tr>\n",
       "    <tr>\n",
       "      <th>...</th>\n",
       "      <td>...</td>\n",
       "      <td>...</td>\n",
       "      <td>...</td>\n",
       "      <td>...</td>\n",
       "      <td>...</td>\n",
       "      <td>...</td>\n",
       "      <td>...</td>\n",
       "      <td>...</td>\n",
       "      <td>...</td>\n",
       "      <td>...</td>\n",
       "      <td>...</td>\n",
       "      <td>...</td>\n",
       "      <td>...</td>\n",
       "      <td>...</td>\n",
       "      <td>...</td>\n",
       "      <td>...</td>\n",
       "      <td>...</td>\n",
       "    </tr>\n",
       "    <tr>\n",
       "      <th>930</th>\n",
       "      <td>520</td>\n",
       "      <td>40</td>\n",
       "      <td>79</td>\n",
       "      <td>28</td>\n",
       "      <td>16</td>\n",
       "      <td>6</td>\n",
       "      <td>1</td>\n",
       "      <td>30</td>\n",
       "      <td>1</td>\n",
       "      <td>1</td>\n",
       "      <td>1</td>\n",
       "      <td>0</td>\n",
       "      <td>0</td>\n",
       "      <td>1.0</td>\n",
       "      <td>11.0</td>\n",
       "      <td>NaN</td>\n",
       "      <td>6.253829</td>\n",
       "    </tr>\n",
       "    <tr>\n",
       "      <th>931</th>\n",
       "      <td>1202</td>\n",
       "      <td>40</td>\n",
       "      <td>102</td>\n",
       "      <td>32</td>\n",
       "      <td>13</td>\n",
       "      <td>10</td>\n",
       "      <td>3</td>\n",
       "      <td>31</td>\n",
       "      <td>1</td>\n",
       "      <td>0</td>\n",
       "      <td>1</td>\n",
       "      <td>1</td>\n",
       "      <td>7</td>\n",
       "      <td>7.0</td>\n",
       "      <td>8.0</td>\n",
       "      <td>6.0</td>\n",
       "      <td>7.091742</td>\n",
       "    </tr>\n",
       "    <tr>\n",
       "      <th>932</th>\n",
       "      <td>538</td>\n",
       "      <td>45</td>\n",
       "      <td>77</td>\n",
       "      <td>22</td>\n",
       "      <td>12</td>\n",
       "      <td>12</td>\n",
       "      <td>10</td>\n",
       "      <td>28</td>\n",
       "      <td>1</td>\n",
       "      <td>1</td>\n",
       "      <td>1</td>\n",
       "      <td>0</td>\n",
       "      <td>9</td>\n",
       "      <td>NaN</td>\n",
       "      <td>7.0</td>\n",
       "      <td>NaN</td>\n",
       "      <td>6.287858</td>\n",
       "    </tr>\n",
       "    <tr>\n",
       "      <th>933</th>\n",
       "      <td>873</td>\n",
       "      <td>44</td>\n",
       "      <td>109</td>\n",
       "      <td>25</td>\n",
       "      <td>12</td>\n",
       "      <td>12</td>\n",
       "      <td>12</td>\n",
       "      <td>28</td>\n",
       "      <td>1</td>\n",
       "      <td>0</td>\n",
       "      <td>1</td>\n",
       "      <td>0</td>\n",
       "      <td>1</td>\n",
       "      <td>1.0</td>\n",
       "      <td>NaN</td>\n",
       "      <td>11.0</td>\n",
       "      <td>6.771935</td>\n",
       "    </tr>\n",
       "    <tr>\n",
       "      <th>934</th>\n",
       "      <td>1000</td>\n",
       "      <td>40</td>\n",
       "      <td>107</td>\n",
       "      <td>32</td>\n",
       "      <td>12</td>\n",
       "      <td>17</td>\n",
       "      <td>18</td>\n",
       "      <td>35</td>\n",
       "      <td>1</td>\n",
       "      <td>0</td>\n",
       "      <td>1</td>\n",
       "      <td>0</td>\n",
       "      <td>5</td>\n",
       "      <td>1.0</td>\n",
       "      <td>NaN</td>\n",
       "      <td>NaN</td>\n",
       "      <td>6.907755</td>\n",
       "    </tr>\n",
       "  </tbody>\n",
       "</table>\n",
       "<p>935 rows × 17 columns</p>\n",
       "</div>"
      ],
      "text/plain": [
       "     wage  hours   IQ  KWW  educ  exper  tenure  age  married  black  south   \n",
       "0     769     40   93   35    12     11       2   31        1      0      0  \\\n",
       "1     808     50  119   41    18     11      16   37        1      0      0   \n",
       "2     825     40  108   46    14     11       9   33        1      0      0   \n",
       "3     650     40   96   32    12     13       7   32        1      0      0   \n",
       "4     562     40   74   27    11     14       5   34        1      0      0   \n",
       "..    ...    ...  ...  ...   ...    ...     ...  ...      ...    ...    ...   \n",
       "930   520     40   79   28    16      6       1   30        1      1      1   \n",
       "931  1202     40  102   32    13     10       3   31        1      0      1   \n",
       "932   538     45   77   22    12     12      10   28        1      1      1   \n",
       "933   873     44  109   25    12     12      12   28        1      0      1   \n",
       "934  1000     40  107   32    12     17      18   35        1      0      1   \n",
       "\n",
       "     urban  sibs  brthord  meduc  feduc     lwage  \n",
       "0        1     1      2.0    8.0    8.0  6.645091  \n",
       "1        1     1      NaN   14.0   14.0  6.694562  \n",
       "2        1     1      2.0   14.0   14.0  6.715384  \n",
       "3        1     4      3.0   12.0   12.0  6.476973  \n",
       "4        1    10      6.0    6.0   11.0  6.331502  \n",
       "..     ...   ...      ...    ...    ...       ...  \n",
       "930      0     0      1.0   11.0    NaN  6.253829  \n",
       "931      1     7      7.0    8.0    6.0  7.091742  \n",
       "932      0     9      NaN    7.0    NaN  6.287858  \n",
       "933      0     1      1.0    NaN   11.0  6.771935  \n",
       "934      0     5      1.0    NaN    NaN  6.907755  \n",
       "\n",
       "[935 rows x 17 columns]"
      ]
     },
     "execution_count": 263,
     "metadata": {},
     "output_type": "execute_result"
    }
   ],
   "source": [
    "df_wage2 = pd.read_csv('https://raw.githubusercontent.com/artamonoff/Econometrica/master/python-notebooks/data-csv/wage2.csv')\n",
    "# data_sleep = pd.read_csv('https://raw.githubusercontent.com/artamonoff/Econometrica/master/python-notebooks/data-csv/SwissLabor.csv')\n",
    "df_wage2"
   ]
  },
  {
   "cell_type": "code",
   "execution_count": 264,
   "metadata": {},
   "outputs": [],
   "source": [
    "# sns.pairplot(data_sleep)\n",
    "# df_wage2"
   ]
  },
  {
   "cell_type": "code",
   "execution_count": 265,
   "metadata": {},
   "outputs": [],
   "source": [
    "# Добавляем колонку age*urban\n",
    "# df_wage2['age^2'] = df_wage2['age'] ** 2\n",
    "# df_wage2['ageurban'] = df_wage2['age'] * df_wage2['urban']\n",
    "# df_wage2"
   ]
  },
  {
   "cell_type": "code",
   "execution_count": 266,
   "metadata": {},
   "outputs": [],
   "source": [
    "# Модель log(wage) на age, urban, age⋆urban, IQ, IQ⋆urban.\n",
    "Wage2_eq51 = smf.ols(formula='np.log(wage) ~ age + urban + I(age*urban) + IQ + I(IQ*urban)', data=df_wage2).fit()\n",
    "# Wage2_eq51.summary()"
   ]
  },
  {
   "cell_type": "code",
   "execution_count": 267,
   "metadata": {},
   "outputs": [],
   "source": [
    "# Модель 1:  age на urban, age⋆urban, IQ, IQ⋆urban\n",
    "# Создаем спецификацию модели через формулу и подгоняем модель\n",
    "model_51 = smf.ols(formula='age ~ urban + I(age*urban) + IQ + I(IQ*urban)', data=df_wage2).fit()"
   ]
  },
  {
   "cell_type": "code",
   "execution_count": 268,
   "metadata": {},
   "outputs": [],
   "source": [
    "# model_51.params"
   ]
  },
  {
   "cell_type": "code",
   "execution_count": 269,
   "metadata": {},
   "outputs": [],
   "source": [
    "# Модель 2: urban на age, age⋆urban, IQ, IQ⋆urban\n",
    "# Создаем спецификацию модели через формулу и подгоняем модель\n",
    "model_52 = smf.ols(formula='urban ~ age + I(age*urban) + IQ + I(IQ*urban)', data=df_wage2).fit()"
   ]
  },
  {
   "cell_type": "code",
   "execution_count": 270,
   "metadata": {},
   "outputs": [],
   "source": [
    "# Модель 3: age⋆urban на age, urban, IQ, IQ⋆urban\n",
    "# Создаем спецификацию модели через формулу и подгоняем модель\n",
    "model_53 = smf.ols(formula = 'I(age*urban) ~ age + urban + IQ + I(IQ*urban)', data = df_wage2).fit()"
   ]
  },
  {
   "cell_type": "code",
   "execution_count": 271,
   "metadata": {},
   "outputs": [
    {
     "name": "stdout",
     "output_type": "stream",
     "text": [
      "\n",
      "====================================================\n",
      "                      age     urban   I(age * urban)\n",
      "----------------------------------------------------\n",
      "I(IQ * urban)       0.001   0.003     -0.005        \n",
      "                    (0.008) (0.000)   (0.007)       \n",
      "I(age * urban)      1.000   0.021                   \n",
      "                    (0.022) (0.000)                 \n",
      "IQ                  -0.001  -0.002    0.001         \n",
      "                    (0.007) (0.000)   (0.006)       \n",
      "Intercept           33.242  0.688     -23.206       \n",
      "                    (0.692) (0.015)   (0.764)       \n",
      "R-squared           0.699   0.994     0.991         \n",
      "R-squared Adj.      0.698   0.994     0.991         \n",
      "age                         -0.015    0.698         \n",
      "                            (0.000)   (0.015)       \n",
      "urban               -33.242           33.565        \n",
      "                    (1.111)           (0.692)       \n",
      "No. Observations    935     935       935           \n",
      "R-squared           0.699   0.994     0.991         \n",
      "Adj. R-squared      0.698   0.994     0.991         \n",
      "Residual Std. Error 1.709   0.036     1.428         \n",
      "F-statistic         539.592 36288.321 25938.386     \n",
      "Prob (F-statistic)  0.000   0.000     0.000         \n",
      "====================================================\n",
      "Standard errors in parentheses.\n"
     ]
    }
   ],
   "source": [
    "#Результаты подгонки\n",
    "info_dict = {'No. Observations': lambda x: '{0:d}'.format(int(x.nobs)), \n",
    "             'R-squared': lambda x: \"%#8.3f\" % x.rsquared,\n",
    "             'Adj. R-squared': lambda x: \"%#8.3f\" % x.rsquared_adj,\n",
    "             'Residual Std. Error': lambda x: \"%#8.3f\" % x.mse_resid**0.5,\n",
    "             'F-statistic': lambda x: '{:.3f}'.format(x.fvalue), \n",
    "             'Prob (F-statistic)': lambda x: '{:.3f}'.format(x.f_pvalue)\n",
    "             }\n",
    "\n",
    "print(summary_col([model_51, model_52, model_53],\n",
    "                  stars=False, float_format='%.3f',\n",
    "                  info_dict = info_dict\n",
    "                 )\n",
    "     )"
   ]
  },
  {
   "cell_type": "code",
   "execution_count": 272,
   "metadata": {},
   "outputs": [
    {
     "data": {
      "text/plain": [
       "3.32"
      ]
     },
     "execution_count": 272,
     "metadata": {},
     "output_type": "execute_result"
    }
   ],
   "source": [
    "# VIF для age c округлением до 2-х десятичных знаков\n",
    "VIF_1 = 1/(1 - model_51.rsquared)\n",
    "VIF_1.round(2)"
   ]
  },
  {
   "cell_type": "code",
   "execution_count": 273,
   "metadata": {},
   "outputs": [
    {
     "data": {
      "text/plain": [
       "157.08"
      ]
     },
     "execution_count": 273,
     "metadata": {},
     "output_type": "execute_result"
    }
   ],
   "source": [
    "# VIF для urban c округлением до 2-х десятичных знаков\n",
    "VIF_2 = 1/(1 - model_52.rsquared)\n",
    "VIF_2.round(2)"
   ]
  },
  {
   "cell_type": "code",
   "execution_count": 274,
   "metadata": {},
   "outputs": [
    {
     "data": {
      "text/plain": [
       "112.56"
      ]
     },
     "execution_count": 274,
     "metadata": {},
     "output_type": "execute_result"
    }
   ],
   "source": [
    "# VIF для I(age * urban) c округлением до 2-х десятичных знаков\n",
    "VIF_3 = 1/(1 - model_53.rsquared)\n",
    "VIF_3.round(2)"
   ]
  },
  {
   "cell_type": "code",
   "execution_count": 275,
   "metadata": {},
   "outputs": [
    {
     "data": {
      "text/plain": [
       "['Intercept', 'age', 'urban', 'I(age * urban)', 'IQ', 'I(IQ * urban)']"
      ]
     },
     "execution_count": 275,
     "metadata": {},
     "output_type": "execute_result"
    }
   ],
   "source": [
    "# names of exog\n",
    "Wage2_eq51.model.exog_names"
   ]
  },
  {
   "cell_type": "code",
   "execution_count": 276,
   "metadata": {},
   "outputs": [
    {
     "name": "stdout",
     "output_type": "stream",
     "text": [
      "VIF for exog age :  3.32\n"
     ]
    }
   ],
   "source": [
    "# VIF для totwrk c округлением до 2-х десятичных знаков\n",
    "VIF_1 = variance_inflation_factor(exog = Wage2_eq51.model.exog, exog_idx = 1)\n",
    "print('VIF for exog', Wage2_eq51.model.exog_names[1], ': ', VIF_1.round(2))"
   ]
  },
  {
   "cell_type": "code",
   "execution_count": 277,
   "metadata": {},
   "outputs": [
    {
     "name": "stdout",
     "output_type": "stream",
     "text": [
      "VIF for exog urban :  157.08\n"
     ]
    }
   ],
   "source": [
    "# VIF для south c округлением до 2-х десятичных знаков\n",
    "VIF_2 = variance_inflation_factor(exog = Wage2_eq51.model.exog, exog_idx = 2)\n",
    "print('VIF for exog', Wage2_eq51.model.exog_names[2], ': ', VIF_2.round(2))"
   ]
  },
  {
   "cell_type": "code",
   "execution_count": 278,
   "metadata": {},
   "outputs": [
    {
     "name": "stdout",
     "output_type": "stream",
     "text": [
      "VIF for exog I(age * urban) :  112.56\n"
     ]
    }
   ],
   "source": [
    "# VIF для totwrk*south c округлением до 2-х десятичных знаков\n",
    "VIF_3 = variance_inflation_factor(exog = Wage2_eq51.model.exog, exog_idx = 3)\n",
    "print('VIF for exog', Wage2_eq51.model.exog_names[3], ': ', VIF_3.round(2))"
   ]
  },
  {
   "attachments": {},
   "cell_type": "markdown",
   "metadata": {},
   "source": [
    "### 5.2 Последствия\n",
    "\n",
    "Для набора данных `wage` рассмотрим линейную регрессию\n",
    "**log(wage) на age, IQ, south, urban, age⋆urban, IQ⋆urban, south⋆urban.**\n",
    "\n",
    "Результаты оценивания:\n"
   ]
  },
  {
   "cell_type": "code",
   "execution_count": 279,
   "metadata": {},
   "outputs": [],
   "source": [
    "# Модель log(wage) на age, IQ, south, urban, age⋆urban, IQ⋆urban, south⋆urban\n",
    "formula = 'np.log(wage) ~ age + IQ + south + urban + I(age*urban) + I(IQ*urban) + I(south*urban)'\n",
    "Wage_eq52 = smf.ols(formula = formula, data = df_wage2).fit()\n"
   ]
  },
  {
   "cell_type": "code",
   "execution_count": 280,
   "metadata": {},
   "outputs": [
    {
     "name": "stdout",
     "output_type": "stream",
     "text": [
      "<statsmodels.regression.linear_model.RegressionResultsWrapper object at 0x14a09d4f0>\n",
      "\n",
      "================================\n",
      "                    np.log(wage)\n",
      "--------------------------------\n",
      "Intercept           4.999***    \n",
      "                    (0.312)     \n",
      "age                 0.024***    \n",
      "                    (0.007)     \n",
      "IQ                  0.008***    \n",
      "                    (0.002)     \n",
      "south               -0.014      \n",
      "                    (0.052)     \n",
      "urban               0.237       \n",
      "                    (0.368)     \n",
      "I(age * urban)      -0.001      \n",
      "                    (0.009)     \n",
      "I(IQ * urban)       -0.000      \n",
      "                    (0.002)     \n",
      "I(south * urban)    -0.117*     \n",
      "                    (0.061)     \n",
      "R-squared           0.182       \n",
      "R-squared Adj.      0.176       \n",
      "No. Observations    935         \n",
      "Residual Std. Error 0.382       \n",
      "F-statistic         29.417      \n",
      "Prob (F-statistic)  0.000       \n",
      "================================\n",
      "Standard errors in parentheses.\n",
      "* p<.1, ** p<.05, ***p<.01\n"
     ]
    }
   ],
   "source": [
    "info_dict = {'No. Observations': lambda x: '{0:d}'.format(int(x.nobs)), \n",
    "             'Residual Std. Error': lambda x: \"%#8.3f\" % x.mse_resid**0.5,\n",
    "             'F-statistic': lambda x: '{:.3f}'.format(x.fvalue), \n",
    "             'Prob (F-statistic)': lambda x: '{:.3f}'.format(x.f_pvalue)\n",
    "             }\n",
    "print(Wage_eq52)\n",
    "print(summary_col(Wage_eq52, float_format='%.3f', stars=True, info_dict = info_dict))"
   ]
  },
  {
   "cell_type": "code",
   "execution_count": 281,
   "metadata": {},
   "outputs": [
    {
     "data": {
      "text/html": [
       "<div>\n",
       "<style scoped>\n",
       "    .dataframe tbody tr th:only-of-type {\n",
       "        vertical-align: middle;\n",
       "    }\n",
       "\n",
       "    .dataframe tbody tr th {\n",
       "        vertical-align: top;\n",
       "    }\n",
       "\n",
       "    .dataframe thead th {\n",
       "        text-align: right;\n",
       "    }\n",
       "</style>\n",
       "<table border=\"1\" class=\"dataframe\">\n",
       "  <thead>\n",
       "    <tr style=\"text-align: right;\">\n",
       "      <th></th>\n",
       "      <th>Coef.</th>\n",
       "      <th>Std.Err.</th>\n",
       "      <th>t</th>\n",
       "      <th>P&gt;|t|</th>\n",
       "      <th>[0.005</th>\n",
       "      <th>0.995]</th>\n",
       "      <th>significance</th>\n",
       "    </tr>\n",
       "  </thead>\n",
       "  <tbody>\n",
       "    <tr>\n",
       "      <th>Intercept</th>\n",
       "      <td>4.998585</td>\n",
       "      <td>0.312097</td>\n",
       "      <td>16.016143</td>\n",
       "      <td>3.747490e-51</td>\n",
       "      <td>4.193019</td>\n",
       "      <td>5.804151</td>\n",
       "      <td>Значим</td>\n",
       "    </tr>\n",
       "    <tr>\n",
       "      <th>age</th>\n",
       "      <td>0.024434</td>\n",
       "      <td>0.007418</td>\n",
       "      <td>3.293902</td>\n",
       "      <td>1.025486e-03</td>\n",
       "      <td>0.005287</td>\n",
       "      <td>0.043582</td>\n",
       "      <td>Значим</td>\n",
       "    </tr>\n",
       "    <tr>\n",
       "      <th>IQ</th>\n",
       "      <td>0.008376</td>\n",
       "      <td>0.001637</td>\n",
       "      <td>5.115522</td>\n",
       "      <td>3.802358e-07</td>\n",
       "      <td>0.004149</td>\n",
       "      <td>0.012602</td>\n",
       "      <td>Значим</td>\n",
       "    </tr>\n",
       "    <tr>\n",
       "      <th>south</th>\n",
       "      <td>-0.013979</td>\n",
       "      <td>0.051635</td>\n",
       "      <td>-0.270719</td>\n",
       "      <td>7.866674e-01</td>\n",
       "      <td>-0.147256</td>\n",
       "      <td>0.119299</td>\n",
       "      <td>Незначим</td>\n",
       "    </tr>\n",
       "    <tr>\n",
       "      <th>urban</th>\n",
       "      <td>0.236892</td>\n",
       "      <td>0.368427</td>\n",
       "      <td>0.642983</td>\n",
       "      <td>5.203938e-01</td>\n",
       "      <td>-0.714070</td>\n",
       "      <td>1.187854</td>\n",
       "      <td>Незначим</td>\n",
       "    </tr>\n",
       "    <tr>\n",
       "      <th>I(age * urban)</th>\n",
       "      <td>-0.000609</td>\n",
       "      <td>0.008849</td>\n",
       "      <td>-0.068780</td>\n",
       "      <td>9.451792e-01</td>\n",
       "      <td>-0.023449</td>\n",
       "      <td>0.022232</td>\n",
       "      <td>Незначим</td>\n",
       "    </tr>\n",
       "    <tr>\n",
       "      <th>I(IQ * urban)</th>\n",
       "      <td>-0.000014</td>\n",
       "      <td>0.001921</td>\n",
       "      <td>-0.007335</td>\n",
       "      <td>9.941492e-01</td>\n",
       "      <td>-0.004972</td>\n",
       "      <td>0.004944</td>\n",
       "      <td>Незначим</td>\n",
       "    </tr>\n",
       "    <tr>\n",
       "      <th>I(south * urban)</th>\n",
       "      <td>-0.117172</td>\n",
       "      <td>0.060893</td>\n",
       "      <td>-1.924216</td>\n",
       "      <td>5.463341e-02</td>\n",
       "      <td>-0.274347</td>\n",
       "      <td>0.040003</td>\n",
       "      <td>Незначим</td>\n",
       "    </tr>\n",
       "  </tbody>\n",
       "</table>\n",
       "</div>"
      ],
      "text/plain": [
       "                     Coef.  Std.Err.          t         P>|t|    [0.005   \n",
       "Intercept         4.998585  0.312097  16.016143  3.747490e-51  4.193019  \\\n",
       "age               0.024434  0.007418   3.293902  1.025486e-03  0.005287   \n",
       "IQ                0.008376  0.001637   5.115522  3.802358e-07  0.004149   \n",
       "south            -0.013979  0.051635  -0.270719  7.866674e-01 -0.147256   \n",
       "urban             0.236892  0.368427   0.642983  5.203938e-01 -0.714070   \n",
       "I(age * urban)   -0.000609  0.008849  -0.068780  9.451792e-01 -0.023449   \n",
       "I(IQ * urban)    -0.000014  0.001921  -0.007335  9.941492e-01 -0.004972   \n",
       "I(south * urban) -0.117172  0.060893  -1.924216  5.463341e-02 -0.274347   \n",
       "\n",
       "                    0.995] significance  \n",
       "Intercept         5.804151       Значим  \n",
       "age               0.043582       Значим  \n",
       "IQ                0.012602       Значим  \n",
       "south             0.119299     Незначим  \n",
       "urban             1.187854     Незначим  \n",
       "I(age * urban)    0.022232     Незначим  \n",
       "I(IQ * urban)     0.004944     Незначим  \n",
       "I(south * urban)  0.040003     Незначим  "
      ]
     },
     "execution_count": 281,
     "metadata": {},
     "output_type": "execute_result"
    }
   ],
   "source": [
    "# Уровень значимости 1%\n",
    "alpha = 0.01\n",
    "df = summary_params(Wage_eq52, alpha=alpha)\n",
    "df['significance'] = df.apply(lambda x: 'Значим' if x['P>|t|']<alpha else 'Незначим', axis=1)\n",
    "df"
   ]
  },
  {
   "attachments": {},
   "cell_type": "markdown",
   "metadata": {},
   "source": [
    "#### На уровне значимости 1% значимы коэффициенты: age, IQ\n",
    "\n",
    "#### Тестируется значимость влияния места жительства, т.е. гипотеза\n",
    "#### $H_0:\\beta_{urban}=\\beta_{age*urban}=\\beta_{IQ*urban}=\\beta_{south*urban}=0$."
   ]
  },
  {
   "cell_type": "code",
   "execution_count": 282,
   "metadata": {},
   "outputs": [
    {
     "name": "stdout",
     "output_type": "stream",
     "text": [
      "F_stat = 10.250\n"
     ]
    }
   ],
   "source": [
    "# тестовая F_stat\n",
    "hypothesis = 'urban = I(age * urban) = I(IQ * urban) = I(south * urban) = 0'\n",
    "f_stat = Wage_eq52.f_test(hypothesis).fvalue\n",
    "print(f'F_stat = {f_stat:3.3f}')"
   ]
  },
  {
   "cell_type": "code",
   "execution_count": 283,
   "metadata": {},
   "outputs": [
    {
     "name": "stdout",
     "output_type": "stream",
     "text": [
      "F_crit = 3.340\n"
     ]
    }
   ],
   "source": [
    "# критическое значение F_crit\n",
    "# alpha=0.01\n",
    "f_crit = scipy.stats.f.ppf(1-alpha, 4, 934).round(2)\n",
    "print(f'F_crit = {f_crit:3.3f}')"
   ]
  },
  {
   "attachments": {},
   "cell_type": "markdown",
   "metadata": {},
   "source": [
    "### Так как F_stat > F_crit, то гипотеза отвергается. Значит коэффициенты совместно значимы"
   ]
  },
  {
   "cell_type": "code",
   "execution_count": 284,
   "metadata": {},
   "outputs": [
    {
     "data": {
      "text/html": [
       "<div>\n",
       "<style scoped>\n",
       "    .dataframe tbody tr th:only-of-type {\n",
       "        vertical-align: middle;\n",
       "    }\n",
       "\n",
       "    .dataframe tbody tr th {\n",
       "        vertical-align: top;\n",
       "    }\n",
       "\n",
       "    .dataframe thead th {\n",
       "        text-align: right;\n",
       "    }\n",
       "</style>\n",
       "<table border=\"1\" class=\"dataframe\">\n",
       "  <thead>\n",
       "    <tr style=\"text-align: right;\">\n",
       "      <th></th>\n",
       "      <th>VIF</th>\n",
       "    </tr>\n",
       "  </thead>\n",
       "  <tbody>\n",
       "    <tr>\n",
       "      <th>age</th>\n",
       "      <td>3.394929</td>\n",
       "    </tr>\n",
       "    <tr>\n",
       "      <th>IQ</th>\n",
       "      <td>3.879824</td>\n",
       "    </tr>\n",
       "    <tr>\n",
       "      <th>south</th>\n",
       "      <td>3.832146</td>\n",
       "    </tr>\n",
       "    <tr>\n",
       "      <th>urban</th>\n",
       "      <td>175.876722</td>\n",
       "    </tr>\n",
       "    <tr>\n",
       "      <th>I(age * urban)</th>\n",
       "      <td>114.318464</td>\n",
       "    </tr>\n",
       "    <tr>\n",
       "      <th>I(IQ * urban)</th>\n",
       "      <td>53.135490</td>\n",
       "    </tr>\n",
       "    <tr>\n",
       "      <th>I(south * urban)</th>\n",
       "      <td>4.087171</td>\n",
       "    </tr>\n",
       "  </tbody>\n",
       "</table>\n",
       "</div>"
      ],
      "text/plain": [
       "                         VIF\n",
       "age                 3.394929\n",
       "IQ                  3.879824\n",
       "south               3.832146\n",
       "urban             175.876722\n",
       "I(age * urban)    114.318464\n",
       "I(IQ * urban)      53.135490\n",
       "I(south * urban)    4.087171"
      ]
     },
     "execution_count": 284,
     "metadata": {},
     "output_type": "execute_result"
    }
   ],
   "source": [
    "#VIFs\n",
    "VIFS = pd.DataFrame(\n",
    "    {'VIF': [\n",
    "                variance_inflation_factor(\n",
    "                    Wage_eq52.model.exog, i\n",
    "                ) for i in range(int(Wage_eq52.df_model+1))\n",
    "            ]\n",
    "    }, index=Wage_eq52.model.exog_names\n",
    ")\n",
    "VIFS.drop(index='Intercept', inplace=True)\n",
    "VIFS"
   ]
  },
  {
   "cell_type": "code",
   "execution_count": 285,
   "metadata": {},
   "outputs": [
    {
     "data": {
      "text/html": [
       "<div>\n",
       "<style scoped>\n",
       "    .dataframe tbody tr th:only-of-type {\n",
       "        vertical-align: middle;\n",
       "    }\n",
       "\n",
       "    .dataframe tbody tr th {\n",
       "        vertical-align: top;\n",
       "    }\n",
       "\n",
       "    .dataframe thead th {\n",
       "        text-align: right;\n",
       "    }\n",
       "</style>\n",
       "<table border=\"1\" class=\"dataframe\">\n",
       "  <thead>\n",
       "    <tr style=\"text-align: right;\">\n",
       "      <th></th>\n",
       "      <th>age</th>\n",
       "      <th>IQ</th>\n",
       "      <th>south</th>\n",
       "      <th>urban</th>\n",
       "      <th>age * urban</th>\n",
       "      <th>IQ * urban</th>\n",
       "      <th>south * urban</th>\n",
       "    </tr>\n",
       "  </thead>\n",
       "  <tbody>\n",
       "    <tr>\n",
       "      <th>age</th>\n",
       "      <td>1.000</td>\n",
       "      <td>-0.044</td>\n",
       "      <td>-0.029</td>\n",
       "      <td>-0.007</td>\n",
       "      <td>0.137</td>\n",
       "      <td>-0.020</td>\n",
       "      <td>0.010</td>\n",
       "    </tr>\n",
       "    <tr>\n",
       "      <th>IQ</th>\n",
       "      <td>-0.044</td>\n",
       "      <td>1.000</td>\n",
       "      <td>-0.210</td>\n",
       "      <td>0.039</td>\n",
       "      <td>0.030</td>\n",
       "      <td>0.260</td>\n",
       "      <td>-0.097</td>\n",
       "    </tr>\n",
       "    <tr>\n",
       "      <th>south</th>\n",
       "      <td>-0.029</td>\n",
       "      <td>-0.210</td>\n",
       "      <td>1.000</td>\n",
       "      <td>-0.110</td>\n",
       "      <td>-0.106</td>\n",
       "      <td>-0.136</td>\n",
       "      <td>0.741</td>\n",
       "    </tr>\n",
       "    <tr>\n",
       "      <th>urban</th>\n",
       "      <td>-0.007</td>\n",
       "      <td>0.039</td>\n",
       "      <td>-0.110</td>\n",
       "      <td>1.000</td>\n",
       "      <td>0.985</td>\n",
       "      <td>0.964</td>\n",
       "      <td>0.334</td>\n",
       "    </tr>\n",
       "    <tr>\n",
       "      <th>age * urban</th>\n",
       "      <td>0.137</td>\n",
       "      <td>0.030</td>\n",
       "      <td>-0.106</td>\n",
       "      <td>0.985</td>\n",
       "      <td>1.000</td>\n",
       "      <td>0.947</td>\n",
       "      <td>0.332</td>\n",
       "    </tr>\n",
       "    <tr>\n",
       "      <th>IQ * urban</th>\n",
       "      <td>-0.020</td>\n",
       "      <td>0.260</td>\n",
       "      <td>-0.136</td>\n",
       "      <td>0.964</td>\n",
       "      <td>0.947</td>\n",
       "      <td>1.000</td>\n",
       "      <td>0.288</td>\n",
       "    </tr>\n",
       "    <tr>\n",
       "      <th>south * urban</th>\n",
       "      <td>0.010</td>\n",
       "      <td>-0.097</td>\n",
       "      <td>0.741</td>\n",
       "      <td>0.334</td>\n",
       "      <td>0.332</td>\n",
       "      <td>0.288</td>\n",
       "      <td>1.000</td>\n",
       "    </tr>\n",
       "  </tbody>\n",
       "</table>\n",
       "</div>"
      ],
      "text/plain": [
       "                 age     IQ  south  urban  age * urban  IQ * urban   \n",
       "age            1.000 -0.044 -0.029 -0.007        0.137      -0.020  \\\n",
       "IQ            -0.044  1.000 -0.210  0.039        0.030       0.260   \n",
       "south         -0.029 -0.210  1.000 -0.110       -0.106      -0.136   \n",
       "urban         -0.007  0.039 -0.110  1.000        0.985       0.964   \n",
       "age * urban    0.137  0.030 -0.106  0.985        1.000       0.947   \n",
       "IQ * urban    -0.020  0.260 -0.136  0.964        0.947       1.000   \n",
       "south * urban  0.010 -0.097  0.741  0.334        0.332       0.288   \n",
       "\n",
       "               south * urban  \n",
       "age                    0.010  \n",
       "IQ                    -0.097  \n",
       "south                  0.741  \n",
       "urban                  0.334  \n",
       "age * urban            0.332  \n",
       "IQ * urban             0.288  \n",
       "south * urban          1.000  "
      ]
     },
     "execution_count": 285,
     "metadata": {},
     "output_type": "execute_result"
    }
   ],
   "source": [
    "# Матрица корреляций\n",
    "df_corr = df_wage2[['age', 'IQ', 'south', 'urban']].copy()\n",
    "df_corr['age * urban'] = df_corr['age'] * df_corr['urban']\n",
    "df_corr['IQ * urban'] = df_corr['IQ'] * df_corr['urban']\n",
    "df_corr['south * urban'] = df_corr['south'] * df_corr['urban']\n",
    "# df_sleep['I(totwrk / 100)'] = data_sleep['totwrk']/100\n",
    "# df_sleep['I(totwrk ** 2 / 10000)'] = (data_sleep['totwrk']**2)/10000\n",
    "corr_matrix = df_corr.corr().round(3)\n",
    "corr_matrix"
   ]
  },
  {
   "cell_type": "code",
   "execution_count": 286,
   "metadata": {},
   "outputs": [
    {
     "data": {
      "image/png": "[encoded data removed]",
      "text/plain": [
       "<Figure size 640x480 with 2 Axes>"
      ]
     },
     "metadata": {},
     "output_type": "display_data"
    }
   ],
   "source": [
    "# Визуализация корреляций\n",
    "sm.graphics.plot_corr(corr_matrix, xnames=df_corr.columns, normcolor=True, cmap='coolwarm')\n",
    "plt.show()"
   ]
  },
  {
   "cell_type": "code",
   "execution_count": 287,
   "metadata": {},
   "outputs": [
    {
     "data": {
      "text/plain": [
       "Text(0.5, 1.0, 'Correlation Matrix')"
      ]
     },
     "execution_count": 287,
     "metadata": {},
     "output_type": "execute_result"
    },
    {
     "data": {
      "image/png": "[encoded data removed]",
      "text/plain": [
       "<Figure size 640x480 with 2 Axes>"
      ]
     },
     "metadata": {},
     "output_type": "display_data"
    }
   ],
   "source": [
    "# Визуализация корреляций\n",
    "sns.heatmap(corr_matrix, annot=True, fmt='.3g', vmin=-1, vmax=1, center=0, cmap='coolwarm', \n",
    "            square=True, linewidths=1, linecolor='white')\n",
    "# add customized title to heatmap\n",
    "plt.title('Correlation Matrix', loc='center', color='red', size=14, weight='bold')"
   ]
  },
  {
   "attachments": {},
   "cell_type": "markdown",
   "metadata": {},
   "source": [
    "### \"Продвинутая\" визуализация корреляций"
   ]
  },
  {
   "cell_type": "code",
   "execution_count": 288,
   "metadata": {},
   "outputs": [
    {
     "data": {
      "text/plain": [
       "Text(0.5, 1.0, 'Correlation Matrix')"
      ]
     },
     "execution_count": 288,
     "metadata": {},
     "output_type": "execute_result"
    },
    {
     "data": {
      "image/png": "[encoded data removed]",
      "text/plain": [
       "<Figure size 640x480 with 2 Axes>"
      ]
     },
     "metadata": {},
     "output_type": "display_data"
    }
   ],
   "source": [
    "corr_matrix = df_corr.corr().round(3)\n",
    "# нижнетреугольная матрица корреляций\n",
    "mask = np.triu(corr_matrix)\n",
    "sns.heatmap(corr_matrix, annot=True, fmt='.2g', vmin=-1, vmax=1, center=0, cmap='coolwarm', square=True, linewidths=1, linecolor='white', mask=mask)\n",
    "# add customized title to heatmap\n",
    "plt.title('Correlation Matrix', loc='center', color='red', size=14, weight='bold')"
   ]
  },
  {
   "cell_type": "code",
   "execution_count": 289,
   "metadata": {},
   "outputs": [
    {
     "data": {
      "text/plain": [
       "Text(0.5, 1.0, 'Correlation Matrix')"
      ]
     },
     "execution_count": 289,
     "metadata": {},
     "output_type": "execute_result"
    },
    {
     "data": {
      "image/png": "[encoded data removed]",
      "text/plain": [
       "<Figure size 640x480 with 2 Axes>"
      ]
     },
     "metadata": {},
     "output_type": "display_data"
    }
   ],
   "source": [
    "corr_matrix = df_corr.corr().round(3)\n",
    "# верхнетреугольная матрица корреляций\n",
    "mask = np.tril(corr_matrix)\n",
    "sns.heatmap(corr_matrix, annot=True, fmt='.2g', vmin=-1, vmax=1, center=0, cmap='coolwarm', square=True, linewidths=1, linecolor='white', mask=mask)\n",
    "# add customized title to heatmap\n",
    "plt.title('Correlation Matrix', loc='center', color='red', size=14, weight='bold')"
   ]
  },
  {
   "cell_type": "code",
   "execution_count": 290,
   "metadata": {},
   "outputs": [
    {
     "data": {
      "text/html": [
       "<style type=\"text/css\">\n",
       "#T_ee046_row0_col0, #T_ee046_row0_col1, #T_ee046_row0_col2, #T_ee046_row0_col3, #T_ee046_row0_col4, #T_ee046_row0_col5, #T_ee046_row0_col6, #T_ee046_row1_col1, #T_ee046_row1_col2, #T_ee046_row1_col3, #T_ee046_row1_col4, #T_ee046_row1_col5, #T_ee046_row1_col6, #T_ee046_row2_col2, #T_ee046_row2_col3, #T_ee046_row2_col4, #T_ee046_row2_col5, #T_ee046_row2_col6, #T_ee046_row3_col3, #T_ee046_row3_col4, #T_ee046_row3_col5, #T_ee046_row3_col6, #T_ee046_row4_col4, #T_ee046_row4_col5, #T_ee046_row4_col6, #T_ee046_row5_col5, #T_ee046_row5_col6, #T_ee046_row6_col6 {\n",
       "  text-align: center;\n",
       "  background-color: #000000;\n",
       "  color: #f1f1f1;\n",
       "  background-color: #f1f1f1;\n",
       "}\n",
       "#T_ee046_row1_col0 {\n",
       "  text-align: center;\n",
       "  background-color: #d7dce3;\n",
       "  color: #000000;\n",
       "}\n",
       "#T_ee046_row2_col0 {\n",
       "  text-align: center;\n",
       "  background-color: #d9dce1;\n",
       "  color: #000000;\n",
       "}\n",
       "#T_ee046_row2_col1 {\n",
       "  text-align: center;\n",
       "  background-color: #bfd3f6;\n",
       "  color: #000000;\n",
       "}\n",
       "#T_ee046_row3_col0 {\n",
       "  text-align: center;\n",
       "  background-color: #dcdddd;\n",
       "  color: #000000;\n",
       "}\n",
       "#T_ee046_row3_col1 {\n",
       "  text-align: center;\n",
       "  background-color: #e1dad6;\n",
       "  color: #000000;\n",
       "}\n",
       "#T_ee046_row3_col2 {\n",
       "  text-align: center;\n",
       "  background-color: #cdd9ec;\n",
       "  color: #000000;\n",
       "}\n",
       "#T_ee046_row4_col0 {\n",
       "  text-align: center;\n",
       "  background-color: #edd2c3;\n",
       "  color: #000000;\n",
       "}\n",
       "#T_ee046_row4_col1 {\n",
       "  text-align: center;\n",
       "  background-color: #e0dbd8;\n",
       "  color: #000000;\n",
       "}\n",
       "#T_ee046_row4_col2 {\n",
       "  text-align: center;\n",
       "  background-color: #cedaeb;\n",
       "  color: #000000;\n",
       "}\n",
       "#T_ee046_row4_col3 {\n",
       "  text-align: center;\n",
       "  background-color: #b50927;\n",
       "  color: #f1f1f1;\n",
       "}\n",
       "#T_ee046_row5_col0 {\n",
       "  text-align: center;\n",
       "  background-color: #dadce0;\n",
       "  color: #000000;\n",
       "}\n",
       "#T_ee046_row5_col1 {\n",
       "  text-align: center;\n",
       "  background-color: #f5c2aa;\n",
       "  color: #000000;\n",
       "}\n",
       "#T_ee046_row5_col2 {\n",
       "  text-align: center;\n",
       "  background-color: #cad8ef;\n",
       "  color: #000000;\n",
       "}\n",
       "#T_ee046_row5_col3 {\n",
       "  text-align: center;\n",
       "  background-color: #ba162b;\n",
       "  color: #f1f1f1;\n",
       "}\n",
       "#T_ee046_row5_col4 {\n",
       "  text-align: center;\n",
       "  background-color: #bd1f2d;\n",
       "  color: #f1f1f1;\n",
       "}\n",
       "#T_ee046_row6_col0 {\n",
       "  text-align: center;\n",
       "  background-color: #dedcdb;\n",
       "  color: #000000;\n",
       "}\n",
       "#T_ee046_row6_col1 {\n",
       "  text-align: center;\n",
       "  background-color: #cfdaea;\n",
       "  color: #000000;\n",
       "}\n",
       "#T_ee046_row6_col2 {\n",
       "  text-align: center;\n",
       "  background-color: #df634e;\n",
       "  color: #f1f1f1;\n",
       "}\n",
       "#T_ee046_row6_col3, #T_ee046_row6_col4 {\n",
       "  text-align: center;\n",
       "  background-color: #f7b89c;\n",
       "  color: #000000;\n",
       "}\n",
       "#T_ee046_row6_col5 {\n",
       "  text-align: center;\n",
       "  background-color: #f6bfa6;\n",
       "  color: #000000;\n",
       "}\n",
       "</style>\n",
       "<table id=\"T_ee046\">\n",
       "  <caption>Correlation Matrix</caption>\n",
       "  <thead>\n",
       "    <tr>\n",
       "      <th class=\"blank level0\" >&nbsp;</th>\n",
       "      <th id=\"T_ee046_level0_col0\" class=\"col_heading level0 col0\" >age</th>\n",
       "      <th id=\"T_ee046_level0_col1\" class=\"col_heading level0 col1\" >IQ</th>\n",
       "      <th id=\"T_ee046_level0_col2\" class=\"col_heading level0 col2\" >south</th>\n",
       "      <th id=\"T_ee046_level0_col3\" class=\"col_heading level0 col3\" >urban</th>\n",
       "      <th id=\"T_ee046_level0_col4\" class=\"col_heading level0 col4\" >age * urban</th>\n",
       "      <th id=\"T_ee046_level0_col5\" class=\"col_heading level0 col5\" >IQ * urban</th>\n",
       "      <th id=\"T_ee046_level0_col6\" class=\"col_heading level0 col6\" >south * urban</th>\n",
       "    </tr>\n",
       "  </thead>\n",
       "  <tbody>\n",
       "    <tr>\n",
       "      <th id=\"T_ee046_level0_row0\" class=\"row_heading level0 row0\" >age</th>\n",
       "      <td id=\"T_ee046_row0_col0\" class=\"data row0 col0\" > </td>\n",
       "      <td id=\"T_ee046_row0_col1\" class=\"data row0 col1\" > </td>\n",
       "      <td id=\"T_ee046_row0_col2\" class=\"data row0 col2\" > </td>\n",
       "      <td id=\"T_ee046_row0_col3\" class=\"data row0 col3\" > </td>\n",
       "      <td id=\"T_ee046_row0_col4\" class=\"data row0 col4\" > </td>\n",
       "      <td id=\"T_ee046_row0_col5\" class=\"data row0 col5\" > </td>\n",
       "      <td id=\"T_ee046_row0_col6\" class=\"data row0 col6\" > </td>\n",
       "    </tr>\n",
       "    <tr>\n",
       "      <th id=\"T_ee046_level0_row1\" class=\"row_heading level0 row1\" >IQ</th>\n",
       "      <td id=\"T_ee046_row1_col0\" class=\"data row1 col0\" >-0.04</td>\n",
       "      <td id=\"T_ee046_row1_col1\" class=\"data row1 col1\" > </td>\n",
       "      <td id=\"T_ee046_row1_col2\" class=\"data row1 col2\" > </td>\n",
       "      <td id=\"T_ee046_row1_col3\" class=\"data row1 col3\" > </td>\n",
       "      <td id=\"T_ee046_row1_col4\" class=\"data row1 col4\" > </td>\n",
       "      <td id=\"T_ee046_row1_col5\" class=\"data row1 col5\" > </td>\n",
       "      <td id=\"T_ee046_row1_col6\" class=\"data row1 col6\" > </td>\n",
       "    </tr>\n",
       "    <tr>\n",
       "      <th id=\"T_ee046_level0_row2\" class=\"row_heading level0 row2\" >south</th>\n",
       "      <td id=\"T_ee046_row2_col0\" class=\"data row2 col0\" >-0.03</td>\n",
       "      <td id=\"T_ee046_row2_col1\" class=\"data row2 col1\" >-0.21</td>\n",
       "      <td id=\"T_ee046_row2_col2\" class=\"data row2 col2\" > </td>\n",
       "      <td id=\"T_ee046_row2_col3\" class=\"data row2 col3\" > </td>\n",
       "      <td id=\"T_ee046_row2_col4\" class=\"data row2 col4\" > </td>\n",
       "      <td id=\"T_ee046_row2_col5\" class=\"data row2 col5\" > </td>\n",
       "      <td id=\"T_ee046_row2_col6\" class=\"data row2 col6\" > </td>\n",
       "    </tr>\n",
       "    <tr>\n",
       "      <th id=\"T_ee046_level0_row3\" class=\"row_heading level0 row3\" >urban</th>\n",
       "      <td id=\"T_ee046_row3_col0\" class=\"data row3 col0\" >-0.01</td>\n",
       "      <td id=\"T_ee046_row3_col1\" class=\"data row3 col1\" >0.04</td>\n",
       "      <td id=\"T_ee046_row3_col2\" class=\"data row3 col2\" >-0.11</td>\n",
       "      <td id=\"T_ee046_row3_col3\" class=\"data row3 col3\" > </td>\n",
       "      <td id=\"T_ee046_row3_col4\" class=\"data row3 col4\" > </td>\n",
       "      <td id=\"T_ee046_row3_col5\" class=\"data row3 col5\" > </td>\n",
       "      <td id=\"T_ee046_row3_col6\" class=\"data row3 col6\" > </td>\n",
       "    </tr>\n",
       "    <tr>\n",
       "      <th id=\"T_ee046_level0_row4\" class=\"row_heading level0 row4\" >age * urban</th>\n",
       "      <td id=\"T_ee046_row4_col0\" class=\"data row4 col0\" >0.14</td>\n",
       "      <td id=\"T_ee046_row4_col1\" class=\"data row4 col1\" >0.03</td>\n",
       "      <td id=\"T_ee046_row4_col2\" class=\"data row4 col2\" >-0.11</td>\n",
       "      <td id=\"T_ee046_row4_col3\" class=\"data row4 col3\" >0.98</td>\n",
       "      <td id=\"T_ee046_row4_col4\" class=\"data row4 col4\" > </td>\n",
       "      <td id=\"T_ee046_row4_col5\" class=\"data row4 col5\" > </td>\n",
       "      <td id=\"T_ee046_row4_col6\" class=\"data row4 col6\" > </td>\n",
       "    </tr>\n",
       "    <tr>\n",
       "      <th id=\"T_ee046_level0_row5\" class=\"row_heading level0 row5\" >IQ * urban</th>\n",
       "      <td id=\"T_ee046_row5_col0\" class=\"data row5 col0\" >-0.02</td>\n",
       "      <td id=\"T_ee046_row5_col1\" class=\"data row5 col1\" >0.26</td>\n",
       "      <td id=\"T_ee046_row5_col2\" class=\"data row5 col2\" >-0.14</td>\n",
       "      <td id=\"T_ee046_row5_col3\" class=\"data row5 col3\" >0.96</td>\n",
       "      <td id=\"T_ee046_row5_col4\" class=\"data row5 col4\" >0.95</td>\n",
       "      <td id=\"T_ee046_row5_col5\" class=\"data row5 col5\" > </td>\n",
       "      <td id=\"T_ee046_row5_col6\" class=\"data row5 col6\" > </td>\n",
       "    </tr>\n",
       "    <tr>\n",
       "      <th id=\"T_ee046_level0_row6\" class=\"row_heading level0 row6\" >south * urban</th>\n",
       "      <td id=\"T_ee046_row6_col0\" class=\"data row6 col0\" >0.01</td>\n",
       "      <td id=\"T_ee046_row6_col1\" class=\"data row6 col1\" >-0.10</td>\n",
       "      <td id=\"T_ee046_row6_col2\" class=\"data row6 col2\" >0.74</td>\n",
       "      <td id=\"T_ee046_row6_col3\" class=\"data row6 col3\" >0.33</td>\n",
       "      <td id=\"T_ee046_row6_col4\" class=\"data row6 col4\" >0.33</td>\n",
       "      <td id=\"T_ee046_row6_col5\" class=\"data row6 col5\" >0.29</td>\n",
       "      <td id=\"T_ee046_row6_col6\" class=\"data row6 col6\" > </td>\n",
       "    </tr>\n",
       "  </tbody>\n",
       "</table>\n"
      ],
      "text/plain": [
       "<pandas.io.formats.style.Styler at 0x14b2dc610>"
      ]
     },
     "execution_count": 290,
     "metadata": {},
     "output_type": "execute_result"
    }
   ],
   "source": [
    "# Fill diagonal and upper half with NaNs\n",
    "mask = np.zeros_like(corr_matrix, dtype=bool)\n",
    "mask[np.triu_indices_from(mask)] = True\n",
    "corr_matrix[mask] = np.nan\n",
    "(corr_matrix\n",
    " .style\n",
    " .set_properties(**{'text-align': 'center'})\n",
    " .background_gradient(cmap='coolwarm', axis=None, vmin=-1, vmax=1)\n",
    " .highlight_null(color='#f1f1f1')  # Color NaNs grey\n",
    " .format(precision=2, na_rep=\" \")\n",
    " .set_caption('Correlation Matrix'))"
   ]
  }
 ],
 "metadata": {
  "kernelspec": {
   "display_name": "venv",
   "language": "python",
   "name": "python3"
  },
  "language_info": {
   "codemirror_mode": {
    "name": "ipython",
    "version": 3
   },
   "file_extension": ".py",
   "mimetype": "text/x-python",
   "name": "python",
   "nbconvert_exporter": "python",
   "pygments_lexer": "ipython3",
   "version": "3.9.6"
  },
  "orig_nbformat": 4
 },
 "nbformat": 4,
 "nbformat_minor": 2
}
