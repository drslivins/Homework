{
 "cells": [
  {
   "cell_type": "code",
   "execution_count": 78,
   "metadata": {},
   "outputs": [],
   "source": [
    "import pandas as pd\n",
    "import numpy as np\n",
    "import statsmodels.formula.api as smf\n",
    "from statsmodels.iolib.summary2 import summary_params # вывод результатов тестирования\n",
    "from statsmodels.iolib.summary2 import summary_col # вывод результатов тестирования\n",
    "# import seaborn as sns\n",
    "from scipy import stats\n",
    "import re\n",
    "# import scipy.stats as stats"
   ]
  },
  {
   "cell_type": "code",
   "execution_count": 79,
   "metadata": {},
   "outputs": [],
   "source": [
    "source_file = 'sleep75.csv'\n",
    "url = 'https://raw.githubusercontent.com/artamonoff/Econometrica/master/python-notebooks/data-csv/'\n",
    "df = pd.read_csv(url + source_file)"
   ]
  },
  {
   "attachments": {},
   "cell_type": "markdown",
   "metadata": {},
   "source": [
    "## 1.2 sleep equation #1\n",
    "\n",
    "Для набора данных `sleep75` рассмотрим линейную регрессию **sleep** на **totwrk, age, smsa**: исходную и со структурными сдвигами относительно **гендерной** переменной."
   ]
  },
  {
   "cell_type": "code",
   "execution_count": 80,
   "metadata": {},
   "outputs": [
    {
     "name": "stdout",
     "output_type": "stream",
     "text": [
      "\n",
      "======================================\n",
      "                 sleep I     sleep II \n",
      "--------------------------------------\n",
      "Intercept      3498.670*** 3486.973***\n",
      "               (69.133)    (92.418)   \n",
      "R-squared      0.115       0.126      \n",
      "R-squared Adj. 0.112       0.117      \n",
      "age            2.997**     1.704      \n",
      "               (1.393)     (2.085)    \n",
      "age:male                   1.500      \n",
      "                           (2.825)    \n",
      "male                       135.200    \n",
      "                           (143.832)  \n",
      "smsa           -73.501**   -56.649    \n",
      "               (32.219)    (48.902)   \n",
      "smsa:male                  -34.735    \n",
      "                           (64.938)   \n",
      "totwrk         -0.150***   -0.143***  \n",
      "               (0.017)     (0.026)    \n",
      "totwrk:male                -0.045     \n",
      "                           (0.036)    \n",
      "======================================\n",
      "Standard errors in parentheses.\n",
      "* p<.1, ** p<.05, ***p<.01\n"
     ]
    }
   ],
   "source": [
    "formula = 'sleep ~ totwrk + age + smsa'\n",
    "Sleep_1 = smf.ols(formula = formula, data = df).fit()\n",
    "formula = 'sleep ~ totwrk + age + smsa + male + totwrk:male+age:male+smsa:male'\n",
    "Sleep_2 = smf.ols(formula = formula, data = df).fit()\n",
    "# info_dict = {\n",
    "#              'R-squared': lambda x: \"%#8.3f\" % x.rsquared,\n",
    "#              }\n",
    "print(\n",
    "    summary_col(\n",
    "        [Sleep_1, Sleep_2],\n",
    "        float_format='%.3f',\n",
    "        stars=True,\n",
    "        # info_dict = info_dict\n",
    "    )\n",
    ")\n"
   ]
  },
  {
   "cell_type": "code",
   "execution_count": 81,
   "metadata": {},
   "outputs": [],
   "source": [
    "rest = Sleep_1.rsquared\n",
    "unrest = Sleep_2.rsquared"
   ]
  },
  {
   "cell_type": "code",
   "execution_count": 82,
   "metadata": {},
   "outputs": [
    {
     "name": "stdout",
     "output_type": "stream",
     "text": [
      "F_obs = 2.13\n"
     ]
    }
   ],
   "source": [
    "F_obs = (unrest - rest)/(1-unrest)*(706-8)/4\n",
    "print(f'F_obs = {F_obs:.2f}')"
   ]
  },
  {
   "attachments": {},
   "cell_type": "markdown",
   "metadata": {},
   "source": [
    "#### Уровень значимости 5%."
   ]
  },
  {
   "cell_type": "code",
   "execution_count": 83,
   "metadata": {},
   "outputs": [
    {
     "name": "stdout",
     "output_type": "stream",
     "text": [
      "F_cr = 2.38\n"
     ]
    }
   ],
   "source": [
    "alpha = 0.05 # Уровень значимости\n",
    "F_cr = stats.f.ppf(1-alpha,4,706-8)\n",
    "print(f'F_cr = {F_cr:.2f}')\n"
   ]
  },
  {
   "cell_type": "code",
   "execution_count": 84,
   "metadata": {},
   "outputs": [
    {
     "name": "stdout",
     "output_type": "stream",
     "text": [
      "Значимы ли структурные сдивиги?  Незначимы\n"
     ]
    }
   ],
   "source": [
    "prompt = 'Значимы ли структурные сдивиги? '\n",
    "reply = 'Значимы' if F_obs > F_cr else 'Незначимы'\n",
    "print(f'{prompt} {reply}')"
   ]
  }
 ],
 "metadata": {
  "kernelspec": {
   "display_name": "venv",
   "language": "python",
   "name": "python3"
  },
  "language_info": {
   "codemirror_mode": {
    "name": "ipython",
    "version": 3
   },
   "file_extension": ".py",
   "mimetype": "text/x-python",
   "name": "python",
   "nbconvert_exporter": "python",
   "pygments_lexer": "ipython3",
   "version": "3.9.6"
  },
  "orig_nbformat": 4
 },
 "nbformat": 4,
 "nbformat_minor": 2
}
