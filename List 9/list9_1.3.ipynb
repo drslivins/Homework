{
 "cells": [
  {
   "cell_type": "code",
   "execution_count": 18,
   "metadata": {},
   "outputs": [],
   "source": [
    "import pandas as pd\n",
    "import numpy as np\n",
    "import statsmodels.formula.api as smf\n",
    "from statsmodels.iolib.summary2 import summary_params # вывод результатов тестирования\n",
    "from statsmodels.iolib.summary2 import summary_col # вывод результатов тестирования\n",
    "# import seaborn as sns\n",
    "from scipy import stats\n",
    "import re\n",
    "# import scipy.stats as stats"
   ]
  },
  {
   "cell_type": "code",
   "execution_count": 19,
   "metadata": {},
   "outputs": [],
   "source": [
    "source_file = 'sleep75.csv'\n",
    "url = 'https://raw.githubusercontent.com/artamonoff/Econometrica/master/python-notebooks/data-csv/'\n",
    "df = pd.read_csv(url + source_file)"
   ]
  },
  {
   "attachments": {},
   "cell_type": "markdown",
   "metadata": {},
   "source": [
    "## 1.3 sleep equation #2\n",
    "\n",
    "Для набора данных `sleep75` рассмотрим линейную регрессию ***sleep*** на ***totwrk, age, smsa**: исходную и со структурными сдвигами относительно **географической** переменной."
   ]
  },
  {
   "cell_type": "code",
   "execution_count": 20,
   "metadata": {},
   "outputs": [
    {
     "name": "stdout",
     "output_type": "stream",
     "text": [
      "\n",
      "======================================\n",
      "                 sleep I     sleep II \n",
      "--------------------------------------\n",
      "Intercept      3498.670*** 3557.513***\n",
      "               (69.133)    (75.504)   \n",
      "R-squared      0.115       0.131      \n",
      "R-squared Adj. 0.112       0.122      \n",
      "age            2.997**     1.485      \n",
      "               (1.393)     (1.545)    \n",
      "age:south                  8.267**    \n",
      "                           (3.495)    \n",
      "smsa           -73.501**   -61.554*   \n",
      "               (32.219)    (34.856)   \n",
      "smsa:south                 49.429     \n",
      "                           (107.111)  \n",
      "south                      -407.206** \n",
      "                           (189.627)  \n",
      "totwrk         -0.150***   -0.161***  \n",
      "               (0.017)     (0.018)    \n",
      "totwrk:south               0.078      \n",
      "                           (0.050)    \n",
      "======================================\n",
      "Standard errors in parentheses.\n",
      "* p<.1, ** p<.05, ***p<.01\n"
     ]
    }
   ],
   "source": [
    "formula = 'sleep ~ totwrk + age + smsa'\n",
    "Sleep_1 = smf.ols(formula = formula, data = df).fit()\n",
    "formula = 'sleep ~ totwrk + age + smsa + south + totwrk:south+age:south+smsa:south'\n",
    "Sleep_2 = smf.ols(formula = formula, data = df).fit()\n",
    "# info_dict = {\n",
    "#              'R-squared': lambda x: \"%#8.3f\" % x.rsquared,\n",
    "#              }\n",
    "print(\n",
    "    summary_col(\n",
    "        [Sleep_1, Sleep_2],\n",
    "        float_format='%.3f',\n",
    "        stars=True,\n",
    "        # info_dict = info_dict\n",
    "    )\n",
    ")\n"
   ]
  },
  {
   "cell_type": "code",
   "execution_count": 21,
   "metadata": {},
   "outputs": [
    {
     "name": "stdout",
     "output_type": "stream",
     "text": [
      "rest = 0.115\n",
      "unrest = 0.131\n"
     ]
    }
   ],
   "source": [
    "rest = Sleep_1.rsquared\n",
    "# rest = 0.115\n",
    "print(f'rest = {rest:3.3f}')\n",
    "unrest = Sleep_2.rsquared\n",
    "# unrest = 0.131\n",
    "print(f'unrest = {unrest:3.3f}')"
   ]
  },
  {
   "cell_type": "code",
   "execution_count": 22,
   "metadata": {},
   "outputs": [
    {
     "name": "stdout",
     "output_type": "stream",
     "text": [
      "F_obs = 3.14\n"
     ]
    }
   ],
   "source": [
    "F_obs = (unrest - rest)/(1-unrest)*(706-8)/4\n",
    "print(f'F_obs = {F_obs:.2f}')"
   ]
  },
  {
   "attachments": {},
   "cell_type": "markdown",
   "metadata": {},
   "source": [
    "#### Уровень значимости 10%."
   ]
  },
  {
   "cell_type": "code",
   "execution_count": 23,
   "metadata": {},
   "outputs": [
    {
     "name": "stdout",
     "output_type": "stream",
     "text": [
      "F_cr = 1.95\n"
     ]
    }
   ],
   "source": [
    "alpha = 0.1 # Уровень значимости\n",
    "F_cr = stats.f.ppf(1-alpha,4,706-8)\n",
    "print(f'F_cr = {F_cr:.2f}')\n"
   ]
  },
  {
   "cell_type": "code",
   "execution_count": 24,
   "metadata": {},
   "outputs": [
    {
     "name": "stdout",
     "output_type": "stream",
     "text": [
      "Значимы ли структурные сдивиги?  Значимы\n"
     ]
    }
   ],
   "source": [
    "prompt = 'Значимы ли структурные сдивиги? '\n",
    "reply = 'Значимы' if F_obs > F_cr else 'Незначимы'\n",
    "print(f'{prompt} {reply}')"
   ]
  }
 ],
 "metadata": {
  "kernelspec": {
   "display_name": "venv",
   "language": "python",
   "name": "python3"
  },
  "language_info": {
   "codemirror_mode": {
    "name": "ipython",
    "version": 3
   },
   "file_extension": ".py",
   "mimetype": "text/x-python",
   "name": "python",
   "nbconvert_exporter": "python",
   "pygments_lexer": "ipython3",
   "version": "3.9.6"
  },
  "orig_nbformat": 4
 },
 "nbformat": 4,
 "nbformat_minor": 2
}
