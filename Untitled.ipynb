{
 "cells": [
  {
   "cell_type": "code",
   "execution_count": 1,
   "id": "8f0b14ed",
   "metadata": {},
   "outputs": [],
   "source": [
    "import numpy as np \n",
    "import pandas as pd\n",
    "import scipy.stats as stats # Для табличных значений Стьюдента\n",
    "import seaborn as sns\n",
    "import io\n",
    "import statsmodels.formula.api as smf\n",
    "import scipy"
   ]
  },
  {
   "cell_type": "markdown",
   "id": "3f86fce1",
   "metadata": {},
   "source": [
    "# Задание 1"
   ]
  },
  {
   "cell_type": "code",
   "execution_count": 2,
   "id": "07701fb1",
   "metadata": {
    "scrolled": true
   },
   "outputs": [
    {
     "data": {
      "text/html": [
       "<div>\n",
       "<style scoped>\n",
       "    .dataframe tbody tr th:only-of-type {\n",
       "        vertical-align: middle;\n",
       "    }\n",
       "\n",
       "    .dataframe tbody tr th {\n",
       "        vertical-align: top;\n",
       "    }\n",
       "\n",
       "    .dataframe thead th {\n",
       "        text-align: right;\n",
       "    }\n",
       "</style>\n",
       "<table border=\"1\" class=\"dataframe\">\n",
       "  <thead>\n",
       "    <tr style=\"text-align: right;\">\n",
       "      <th></th>\n",
       "      <th>participation</th>\n",
       "      <th>income</th>\n",
       "      <th>age</th>\n",
       "      <th>education</th>\n",
       "      <th>youngkids</th>\n",
       "      <th>oldkids</th>\n",
       "      <th>foreign</th>\n",
       "    </tr>\n",
       "  </thead>\n",
       "  <tbody>\n",
       "    <tr>\n",
       "      <th>0</th>\n",
       "      <td>no</td>\n",
       "      <td>10.787497</td>\n",
       "      <td>3.0</td>\n",
       "      <td>8</td>\n",
       "      <td>1</td>\n",
       "      <td>1</td>\n",
       "      <td>no</td>\n",
       "    </tr>\n",
       "    <tr>\n",
       "      <th>1</th>\n",
       "      <td>yes</td>\n",
       "      <td>10.524251</td>\n",
       "      <td>4.5</td>\n",
       "      <td>8</td>\n",
       "      <td>0</td>\n",
       "      <td>1</td>\n",
       "      <td>no</td>\n",
       "    </tr>\n",
       "    <tr>\n",
       "      <th>2</th>\n",
       "      <td>no</td>\n",
       "      <td>10.968578</td>\n",
       "      <td>4.6</td>\n",
       "      <td>9</td>\n",
       "      <td>0</td>\n",
       "      <td>0</td>\n",
       "      <td>no</td>\n",
       "    </tr>\n",
       "    <tr>\n",
       "      <th>3</th>\n",
       "      <td>no</td>\n",
       "      <td>11.104999</td>\n",
       "      <td>3.1</td>\n",
       "      <td>11</td>\n",
       "      <td>2</td>\n",
       "      <td>0</td>\n",
       "      <td>no</td>\n",
       "    </tr>\n",
       "    <tr>\n",
       "      <th>4</th>\n",
       "      <td>no</td>\n",
       "      <td>11.108470</td>\n",
       "      <td>4.4</td>\n",
       "      <td>12</td>\n",
       "      <td>0</td>\n",
       "      <td>2</td>\n",
       "      <td>no</td>\n",
       "    </tr>\n",
       "    <tr>\n",
       "      <th>...</th>\n",
       "      <td>...</td>\n",
       "      <td>...</td>\n",
       "      <td>...</td>\n",
       "      <td>...</td>\n",
       "      <td>...</td>\n",
       "      <td>...</td>\n",
       "      <td>...</td>\n",
       "    </tr>\n",
       "    <tr>\n",
       "      <th>867</th>\n",
       "      <td>no</td>\n",
       "      <td>10.597393</td>\n",
       "      <td>2.4</td>\n",
       "      <td>4</td>\n",
       "      <td>2</td>\n",
       "      <td>1</td>\n",
       "      <td>yes</td>\n",
       "    </tr>\n",
       "    <tr>\n",
       "      <th>868</th>\n",
       "      <td>yes</td>\n",
       "      <td>10.377773</td>\n",
       "      <td>4.8</td>\n",
       "      <td>8</td>\n",
       "      <td>0</td>\n",
       "      <td>0</td>\n",
       "      <td>yes</td>\n",
       "    </tr>\n",
       "    <tr>\n",
       "      <th>869</th>\n",
       "      <td>no</td>\n",
       "      <td>10.133740</td>\n",
       "      <td>2.4</td>\n",
       "      <td>6</td>\n",
       "      <td>2</td>\n",
       "      <td>0</td>\n",
       "      <td>yes</td>\n",
       "    </tr>\n",
       "    <tr>\n",
       "      <th>870</th>\n",
       "      <td>yes</td>\n",
       "      <td>10.932351</td>\n",
       "      <td>4.1</td>\n",
       "      <td>10</td>\n",
       "      <td>0</td>\n",
       "      <td>1</td>\n",
       "      <td>yes</td>\n",
       "    </tr>\n",
       "    <tr>\n",
       "      <th>871</th>\n",
       "      <td>no</td>\n",
       "      <td>11.220691</td>\n",
       "      <td>5.1</td>\n",
       "      <td>10</td>\n",
       "      <td>0</td>\n",
       "      <td>0</td>\n",
       "      <td>yes</td>\n",
       "    </tr>\n",
       "  </tbody>\n",
       "</table>\n",
       "<p>872 rows × 7 columns</p>\n",
       "</div>"
      ],
      "text/plain": [
       "    participation     income  age  education  youngkids  oldkids foreign\n",
       "0              no  10.787497  3.0          8          1        1      no\n",
       "1             yes  10.524251  4.5          8          0        1      no\n",
       "2              no  10.968578  4.6          9          0        0      no\n",
       "3              no  11.104999  3.1         11          2        0      no\n",
       "4              no  11.108470  4.4         12          0        2      no\n",
       "..            ...        ...  ...        ...        ...      ...     ...\n",
       "867            no  10.597393  2.4          4          2        1     yes\n",
       "868           yes  10.377773  4.8          8          0        0     yes\n",
       "869            no  10.133740  2.4          6          2        0     yes\n",
       "870           yes  10.932351  4.1         10          0        1     yes\n",
       "871            no  11.220691  5.1         10          0        0     yes\n",
       "\n",
       "[872 rows x 7 columns]"
      ]
     },
     "execution_count": 2,
     "metadata": {},
     "output_type": "execute_result"
    }
   ],
   "source": [
    "df = pd.read_csv('https://raw.githubusercontent.com/artamonoff/Econometrica/master/python-notebooks/data-csv/SwissLabor.csv')\n",
    "df"
   ]
  },
  {
   "cell_type": "code",
   "execution_count": null,
   "id": "eded0b7b",
   "metadata": {},
   "outputs": [],
   "source": [
    "df['ageˆ'] = "
   ]
  },
  {
   "cell_type": "markdown",
   "id": "375a9915",
   "metadata": {},
   "source": [
    "# Задание 2"
   ]
  },
  {
   "cell_type": "markdown",
   "id": "96cf881e",
   "metadata": {},
   "source": [
    "## Спецификация\n",
    "$$\n",
    "np.log(income)=\\beta_{0}+\\beta_{1}*participation +\\beta_{2}*age\n",
    "$$"
   ]
  },
  {
   "cell_type": "code",
   "execution_count": 33,
   "id": "91cd5a29",
   "metadata": {},
   "outputs": [
    {
     "data": {
      "text/plain": [
       "Intercept               10.767\n",
       "participation[T.yes]    -0.144\n",
       "age                     -0.004\n",
       "dtype: float64"
      ]
     },
     "execution_count": 33,
     "metadata": {},
     "output_type": "execute_result"
    }
   ],
   "source": [
    "# специфицируем модель через формулу\n",
    "swiss_eq = smf.ols(formula='income~participation+age', data=df).fit()\n",
    "# Коэфициенты модели\n",
    "swiss_eq.params.round(3)"
   ]
  },
  {
   "cell_type": "markdown",
   "id": "564f5f62",
   "metadata": {},
   "source": [
    "# Задание 3"
   ]
  },
  {
   "cell_type": "code",
   "execution_count": 34,
   "id": "0e40bb0a",
   "metadata": {},
   "outputs": [
    {
     "data": {
      "text/plain": [
       "148.198"
      ]
     },
     "execution_count": 34,
     "metadata": {},
     "output_type": "execute_result"
    }
   ],
   "source": [
    "# TSS\n",
    "TSS = swiss_eq.centered_tss.round(3)\n",
    "TSS"
   ]
  },
  {
   "cell_type": "code",
   "execution_count": 35,
   "id": "cd5f8ee0",
   "metadata": {},
   "outputs": [
    {
     "data": {
      "text/plain": [
       "4.444"
      ]
     },
     "execution_count": 35,
     "metadata": {},
     "output_type": "execute_result"
    }
   ],
   "source": [
    "# ESS\n",
    "ESS = swiss_eq.ess.round(3)\n",
    "ESS"
   ]
  },
  {
   "cell_type": "code",
   "execution_count": 36,
   "id": "7472d0bd",
   "metadata": {},
   "outputs": [
    {
     "data": {
      "text/plain": [
       "143.754"
      ]
     },
     "execution_count": 36,
     "metadata": {},
     "output_type": "execute_result"
    }
   ],
   "source": [
    "# RSS\n",
    "RSS=swiss_eq.ssr.round(3)\n",
    "RSS"
   ]
  },
  {
   "cell_type": "markdown",
   "id": "90daf909",
   "metadata": {},
   "source": [
    "$$\n",
    "TSS = 148.198, ESS = 4.444, RSS = 143.754\n",
    "$$"
   ]
  },
  {
   "cell_type": "markdown",
   "id": "e32ad56f",
   "metadata": {},
   "source": [
    "# Задание 4"
   ]
  },
  {
   "cell_type": "code",
   "execution_count": 28,
   "id": "c65e6ef4",
   "metadata": {},
   "outputs": [
    {
     "data": {
      "text/plain": [
       "0.9700130905950146"
      ]
     },
     "execution_count": 28,
     "metadata": {},
     "output_type": "execute_result"
    }
   ],
   "source": [
    "# R^2 коэффициент детерминации\n",
    "# RSS/TSS\n",
    "R2 = RSS/TSS\n",
    "R2"
   ]
  },
  {
   "cell_type": "code",
   "execution_count": 29,
   "id": "07819e65",
   "metadata": {},
   "outputs": [
    {
     "data": {
      "text/plain": [
       "0.16561520737327187"
      ]
     },
     "execution_count": 29,
     "metadata": {},
     "output_type": "execute_result"
    }
   ],
   "source": [
    "#sˆ2\n",
    "sˆ2 = RSS/(872-4)\n",
    "sˆ2"
   ]
  },
  {
   "cell_type": "markdown",
   "id": "a6a61f7c",
   "metadata": {},
   "source": [
    "$$\n",
    "sˆ2 = 0.16561520737327187\n",
    "$$\n",
    "$$\n",
    "Rˆ2 = 0.9700130905950146\n",
    "$$"
   ]
  },
  {
   "cell_type": "markdown",
   "id": "04b2c8dd",
   "metadata": {},
   "source": [
    "# Задание 5"
   ]
  },
  {
   "cell_type": "markdown",
   "id": "7e87ba42",
   "metadata": {},
   "source": [
    "$$\n",
    "Rˆ2_{adj} = 1 - (1-Rˆ2)*\\frac{n-1}{n-m}\n",
    "$$\n",
    "n - Количество измерений\n",
    "k - Количество регрессоров\n",
    "m = k+1 - Количество коэффициентов, включая константу"
   ]
  },
  {
   "cell_type": "code",
   "execution_count": 30,
   "id": "baf2ef53",
   "metadata": {},
   "outputs": [
    {
     "data": {
      "text/plain": [
       "0.9699094492030619"
      ]
     },
     "execution_count": 30,
     "metadata": {},
     "output_type": "execute_result"
    }
   ],
   "source": [
    "# adj R^2\n",
    "n=872\n",
    "m=4\n",
    "Rˆ2 = 0.9700130905950146\n",
    "R2adj = 1 - (1-Rˆ2)*(n-1)/(n-m)\n",
    "R2adj"
   ]
  },
  {
   "cell_type": "markdown",
   "id": "dc9a898b",
   "metadata": {},
   "source": [
    "$$\n",
    "Rˆ2_{adj} = 0.9699094492030619\n",
    "$$"
   ]
  },
  {
   "cell_type": "markdown",
   "id": "6192d714",
   "metadata": {},
   "source": [
    "# Задание 6"
   ]
  },
  {
   "cell_type": "markdown",
   "id": "221357a4",
   "metadata": {},
   "source": [
    "## Интерпретация\n",
    "- Если человек не является рабочим на рынке труда, то его доход уменьшается на 1, и наоборот, при прочих равных\n",
    "- При изменении возраста на 1 год, доход увеличивается на 1, при прочих равных\n",
    "- При изменении образования на единицу, доход увеличивается на 1, при прочих равных\n"
   ]
  },
  {
   "cell_type": "markdown",
   "id": "324b552f",
   "metadata": {},
   "source": [
    "## Задание 7"
   ]
  },
  {
   "cell_type": "code",
   "execution_count": 10,
   "id": "bc344d29",
   "metadata": {},
   "outputs": [
    {
     "data": {
      "text/html": [
       "<table class=\"simpletable\">\n",
       "<tr>\n",
       "            <td></td>              <th>coef</th>     <th>std err</th>      <th>t</th>      <th>P>|t|</th>  <th>[0.025</th>    <th>0.975]</th>  \n",
       "</tr>\n",
       "<tr>\n",
       "  <th>Intercept</th>            <td>   10.2689</td> <td>    0.074</td> <td>  139.341</td> <td> 0.000</td> <td>   10.124</td> <td>   10.414</td>\n",
       "</tr>\n",
       "<tr>\n",
       "  <th>participation[T.yes]</th> <td>   -0.1128</td> <td>    0.027</td> <td>   -4.253</td> <td> 0.000</td> <td>   -0.165</td> <td>   -0.061</td>\n",
       "</tr>\n",
       "<tr>\n",
       "  <th>age</th>                  <td>    0.0161</td> <td>    0.013</td> <td>    1.281</td> <td> 0.201</td> <td>   -0.009</td> <td>    0.041</td>\n",
       "</tr>\n",
       "<tr>\n",
       "  <th>education</th>            <td>    0.0434</td> <td>    0.004</td> <td>    9.901</td> <td> 0.000</td> <td>    0.035</td> <td>    0.052</td>\n",
       "</tr>\n",
       "</table>"
      ],
      "text/plain": [
       "<class 'statsmodels.iolib.table.SimpleTable'>"
      ]
     },
     "execution_count": 10,
     "metadata": {},
     "output_type": "execute_result"
    }
   ],
   "source": [
    "model = smf.ols(data = df, formula = 'income~participation+age+education').fit()\n",
    "model.summary(alpha = 0.05).tables[1]"
   ]
  },
  {
   "cell_type": "code",
   "execution_count": 11,
   "id": "69a4edab",
   "metadata": {},
   "outputs": [
    {
     "data": {
      "text/html": [
       "<div>\n",
       "<style scoped>\n",
       "    .dataframe tbody tr th:only-of-type {\n",
       "        vertical-align: middle;\n",
       "    }\n",
       "\n",
       "    .dataframe tbody tr th {\n",
       "        vertical-align: top;\n",
       "    }\n",
       "\n",
       "    .dataframe thead th {\n",
       "        text-align: right;\n",
       "    }\n",
       "</style>\n",
       "<table border=\"1\" class=\"dataframe\">\n",
       "  <thead>\n",
       "    <tr style=\"text-align: right;\">\n",
       "      <th></th>\n",
       "      <th>coef</th>\n",
       "      <th>std err</th>\n",
       "      <th>t</th>\n",
       "      <th>P&gt;|t|</th>\n",
       "      <th>[0.025</th>\n",
       "      <th>0.975]</th>\n",
       "    </tr>\n",
       "  </thead>\n",
       "  <tbody>\n",
       "    <tr>\n",
       "      <th>Intercept</th>\n",
       "      <td>2.3771</td>\n",
       "      <td>0.005</td>\n",
       "      <td>441.048</td>\n",
       "      <td>0.000</td>\n",
       "      <td>2.367</td>\n",
       "      <td>2.388</td>\n",
       "    </tr>\n",
       "    <tr>\n",
       "      <th>participation[T.yes]</th>\n",
       "      <td>-0.0134</td>\n",
       "      <td>0.003</td>\n",
       "      <td>-5.069</td>\n",
       "      <td>0.000</td>\n",
       "      <td>-0.019</td>\n",
       "      <td>-0.008</td>\n",
       "    </tr>\n",
       "    <tr>\n",
       "      <th>age</th>\n",
       "      <td>-0.0007</td>\n",
       "      <td>0.001</td>\n",
       "      <td>-0.565</td>\n",
       "      <td>0.572</td>\n",
       "      <td>-0.003</td>\n",
       "      <td>0.002</td>\n",
       "    </tr>\n",
       "  </tbody>\n",
       "</table>\n",
       "</div>"
      ],
      "text/plain": [
       "                        coef  std err        t  P>|t|  [0.025  0.975]\n",
       "Intercept             2.3771    0.005  441.048  0.000   2.367   2.388\n",
       "participation[T.yes] -0.0134    0.003   -5.069  0.000  -0.019  -0.008\n",
       "age                  -0.0007    0.001   -0.565  0.572  -0.003   0.002"
      ]
     },
     "execution_count": 11,
     "metadata": {},
     "output_type": "execute_result"
    }
   ],
   "source": [
    "df = pd.read_html(swiss_eq.summary().tables[1].as_html(), header=0, index_col=0)[0] # Эту строку запоминать не нужно\n",
    "df"
   ]
  },
  {
   "cell_type": "code",
   "execution_count": 12,
   "id": "c78181e9",
   "metadata": {},
   "outputs": [
    {
     "data": {
      "text/html": [
       "<div>\n",
       "<style scoped>\n",
       "    .dataframe tbody tr th:only-of-type {\n",
       "        vertical-align: middle;\n",
       "    }\n",
       "\n",
       "    .dataframe tbody tr th {\n",
       "        vertical-align: top;\n",
       "    }\n",
       "\n",
       "    .dataframe thead th {\n",
       "        text-align: right;\n",
       "    }\n",
       "</style>\n",
       "<table border=\"1\" class=\"dataframe\">\n",
       "  <thead>\n",
       "    <tr style=\"text-align: right;\">\n",
       "      <th></th>\n",
       "      <th>coef</th>\n",
       "      <th>std err</th>\n",
       "      <th>t</th>\n",
       "      <th>P&gt;|t|</th>\n",
       "      <th>[0.025</th>\n",
       "      <th>0.975]</th>\n",
       "      <th>tvalues</th>\n",
       "    </tr>\n",
       "  </thead>\n",
       "  <tbody>\n",
       "    <tr>\n",
       "      <th>Intercept</th>\n",
       "      <td>2.3771</td>\n",
       "      <td>0.005</td>\n",
       "      <td>441.048</td>\n",
       "      <td>0.000</td>\n",
       "      <td>2.367</td>\n",
       "      <td>2.388</td>\n",
       "      <td>475.420000</td>\n",
       "    </tr>\n",
       "    <tr>\n",
       "      <th>participation[T.yes]</th>\n",
       "      <td>-0.0134</td>\n",
       "      <td>0.003</td>\n",
       "      <td>-5.069</td>\n",
       "      <td>0.000</td>\n",
       "      <td>-0.019</td>\n",
       "      <td>-0.008</td>\n",
       "      <td>-4.466667</td>\n",
       "    </tr>\n",
       "    <tr>\n",
       "      <th>age</th>\n",
       "      <td>-0.0007</td>\n",
       "      <td>0.001</td>\n",
       "      <td>-0.565</td>\n",
       "      <td>0.572</td>\n",
       "      <td>-0.003</td>\n",
       "      <td>0.002</td>\n",
       "      <td>-0.700000</td>\n",
       "    </tr>\n",
       "  </tbody>\n",
       "</table>\n",
       "</div>"
      ],
      "text/plain": [
       "                        coef  std err        t  P>|t|  [0.025  0.975]  \\\n",
       "Intercept             2.3771    0.005  441.048  0.000   2.367   2.388   \n",
       "participation[T.yes] -0.0134    0.003   -5.069  0.000  -0.019  -0.008   \n",
       "age                  -0.0007    0.001   -0.565  0.572  -0.003   0.002   \n",
       "\n",
       "                         tvalues  \n",
       "Intercept             475.420000  \n",
       "participation[T.yes]   -4.466667  \n",
       "age                    -0.700000  "
      ]
     },
     "execution_count": 12,
     "metadata": {},
     "output_type": "execute_result"
    }
   ],
   "source": [
    "# Дополним DataFrame признаком t-values\n",
    "df['tvalues']  = df['coef']/df['std err']\n",
    "df"
   ]
  },
  {
   "cell_type": "code",
   "execution_count": 13,
   "id": "ec9ca810",
   "metadata": {},
   "outputs": [
    {
     "name": "stdout",
     "output_type": "stream",
     "text": [
      "Уровень значимости alpha:  0.05\n",
      "Критическое значение t_crit:  1.963\n"
     ]
    }
   ],
   "source": [
    "alpha = 0.05 # уровень значимости\n",
    "print('Уровень значимости alpha: ', alpha)\n",
    "DF = int(swiss_eq.df_resid) # число степеней свободы \n",
    "t_crit = scipy.stats.t.ppf(1-alpha/2, DF)\n",
    "print('Критическое значение t_crit: ', t_crit.round(3))"
   ]
  },
  {
   "cell_type": "code",
   "execution_count": 14,
   "id": "ee880c23",
   "metadata": {},
   "outputs": [
    {
     "data": {
      "text/html": [
       "<div>\n",
       "<style scoped>\n",
       "    .dataframe tbody tr th:only-of-type {\n",
       "        vertical-align: middle;\n",
       "    }\n",
       "\n",
       "    .dataframe tbody tr th {\n",
       "        vertical-align: top;\n",
       "    }\n",
       "\n",
       "    .dataframe thead th {\n",
       "        text-align: right;\n",
       "    }\n",
       "</style>\n",
       "<table border=\"1\" class=\"dataframe\">\n",
       "  <thead>\n",
       "    <tr style=\"text-align: right;\">\n",
       "      <th></th>\n",
       "      <th>coef</th>\n",
       "      <th>std err</th>\n",
       "      <th>t</th>\n",
       "      <th>P&gt;|t|</th>\n",
       "      <th>[0.025</th>\n",
       "      <th>0.975]</th>\n",
       "      <th>tvalues</th>\n",
       "      <th>znachimosty</th>\n",
       "    </tr>\n",
       "  </thead>\n",
       "  <tbody>\n",
       "    <tr>\n",
       "      <th>Intercept</th>\n",
       "      <td>2.3771</td>\n",
       "      <td>0.005</td>\n",
       "      <td>441.048</td>\n",
       "      <td>0.000</td>\n",
       "      <td>2.367</td>\n",
       "      <td>2.388</td>\n",
       "      <td>475.420000</td>\n",
       "      <td>znachim</td>\n",
       "    </tr>\n",
       "    <tr>\n",
       "      <th>participation[T.yes]</th>\n",
       "      <td>-0.0134</td>\n",
       "      <td>0.003</td>\n",
       "      <td>-5.069</td>\n",
       "      <td>0.000</td>\n",
       "      <td>-0.019</td>\n",
       "      <td>-0.008</td>\n",
       "      <td>-4.466667</td>\n",
       "      <td>znachim</td>\n",
       "    </tr>\n",
       "    <tr>\n",
       "      <th>age</th>\n",
       "      <td>-0.0007</td>\n",
       "      <td>0.001</td>\n",
       "      <td>-0.565</td>\n",
       "      <td>0.572</td>\n",
       "      <td>-0.003</td>\n",
       "      <td>0.002</td>\n",
       "      <td>-0.700000</td>\n",
       "      <td>ne znachim</td>\n",
       "    </tr>\n",
       "  </tbody>\n",
       "</table>\n",
       "</div>"
      ],
      "text/plain": [
       "                        coef  std err        t  P>|t|  [0.025  0.975]  \\\n",
       "Intercept             2.3771    0.005  441.048  0.000   2.367   2.388   \n",
       "participation[T.yes] -0.0134    0.003   -5.069  0.000  -0.019  -0.008   \n",
       "age                  -0.0007    0.001   -0.565  0.572  -0.003   0.002   \n",
       "\n",
       "                         tvalues znachimosty  \n",
       "Intercept             475.420000     znachim  \n",
       "participation[T.yes]   -4.466667     znachim  \n",
       "age                    -0.700000  ne znachim  "
      ]
     },
     "execution_count": 14,
     "metadata": {},
     "output_type": "execute_result"
    }
   ],
   "source": [
    "df['znachimosty'] = df.apply(lambda x : 'znachim' if np.abs(x['tvalues']) > t_crit else 'ne znachim', axis = 1 )\n",
    "df"
   ]
  },
  {
   "cell_type": "markdown",
   "id": "ad848728",
   "metadata": {},
   "source": [
    "### Значимыми являются все переменные, кроме возраста"
   ]
  },
  {
   "cell_type": "markdown",
   "id": "642bfdb8",
   "metadata": {},
   "source": [
    "# Задание 3"
   ]
  },
  {
   "cell_type": "code",
   "execution_count": 15,
   "id": "0fd01ead",
   "metadata": {},
   "outputs": [
    {
     "data": {
      "text/html": [
       "<div>\n",
       "<style scoped>\n",
       "    .dataframe tbody tr th:only-of-type {\n",
       "        vertical-align: middle;\n",
       "    }\n",
       "\n",
       "    .dataframe tbody tr th {\n",
       "        vertical-align: top;\n",
       "    }\n",
       "\n",
       "    .dataframe thead th {\n",
       "        text-align: right;\n",
       "    }\n",
       "</style>\n",
       "<table border=\"1\" class=\"dataframe\">\n",
       "  <thead>\n",
       "    <tr style=\"text-align: right;\">\n",
       "      <th></th>\n",
       "      <th>participation</th>\n",
       "      <th>income</th>\n",
       "      <th>age</th>\n",
       "      <th>education</th>\n",
       "      <th>youngkids</th>\n",
       "      <th>oldkids</th>\n",
       "      <th>foreign</th>\n",
       "    </tr>\n",
       "  </thead>\n",
       "  <tbody>\n",
       "    <tr>\n",
       "      <th>0</th>\n",
       "      <td>no</td>\n",
       "      <td>10.787497</td>\n",
       "      <td>3.0</td>\n",
       "      <td>8</td>\n",
       "      <td>1</td>\n",
       "      <td>1</td>\n",
       "      <td>no</td>\n",
       "    </tr>\n",
       "    <tr>\n",
       "      <th>1</th>\n",
       "      <td>yes</td>\n",
       "      <td>10.524251</td>\n",
       "      <td>4.5</td>\n",
       "      <td>8</td>\n",
       "      <td>0</td>\n",
       "      <td>1</td>\n",
       "      <td>no</td>\n",
       "    </tr>\n",
       "    <tr>\n",
       "      <th>2</th>\n",
       "      <td>no</td>\n",
       "      <td>10.968578</td>\n",
       "      <td>4.6</td>\n",
       "      <td>9</td>\n",
       "      <td>0</td>\n",
       "      <td>0</td>\n",
       "      <td>no</td>\n",
       "    </tr>\n",
       "    <tr>\n",
       "      <th>3</th>\n",
       "      <td>no</td>\n",
       "      <td>11.104999</td>\n",
       "      <td>3.1</td>\n",
       "      <td>11</td>\n",
       "      <td>2</td>\n",
       "      <td>0</td>\n",
       "      <td>no</td>\n",
       "    </tr>\n",
       "    <tr>\n",
       "      <th>4</th>\n",
       "      <td>no</td>\n",
       "      <td>11.108470</td>\n",
       "      <td>4.4</td>\n",
       "      <td>12</td>\n",
       "      <td>0</td>\n",
       "      <td>2</td>\n",
       "      <td>no</td>\n",
       "    </tr>\n",
       "  </tbody>\n",
       "</table>\n",
       "</div>"
      ],
      "text/plain": [
       "  participation     income  age  education  youngkids  oldkids foreign\n",
       "0            no  10.787497  3.0          8          1        1      no\n",
       "1           yes  10.524251  4.5          8          0        1      no\n",
       "2            no  10.968578  4.6          9          0        0      no\n",
       "3            no  11.104999  3.1         11          2        0      no\n",
       "4            no  11.108470  4.4         12          0        2      no"
      ]
     },
     "execution_count": 15,
     "metadata": {},
     "output_type": "execute_result"
    }
   ],
   "source": [
    "df = pd.read_csv('https://raw.githubusercontent.com/artamonoff/Econometrica/master/python-notebooks/data-csv/SwissLabor.csv')\n",
    "df.head()"
   ]
  },
  {
   "cell_type": "code",
   "execution_count": 32,
   "id": "44446722",
   "metadata": {
    "scrolled": true
   },
   "outputs": [
    {
     "data": {
      "text/plain": [
       "<AxesSubplot:xlabel='age', ylabel='income'>"
      ]
     },
     "execution_count": 32,
     "metadata": {},
     "output_type": "execute_result"
    },
    {
     "data": {
      "image/png": "[encoded data removed]",
      "text/plain": [
       "<Figure size 640x480 with 1 Axes>"
      ]
     },
     "metadata": {},
     "output_type": "display_data"
    }
   ],
   "source": [
    "sns.regplot(data=df, y='income', x='age', ci=None, order=2, line_kws={\"color\": \"C1\"})"
   ]
  },
  {
   "cell_type": "markdown",
   "id": "f1736efd",
   "metadata": {},
   "source": [
    "# Задание 4"
   ]
  },
  {
   "cell_type": "code",
   "execution_count": 17,
   "id": "8351f206",
   "metadata": {},
   "outputs": [
    {
     "data": {
      "text/plain": [
       "<AxesSubplot:xlabel='age', ylabel='income'>"
      ]
     },
     "execution_count": 17,
     "metadata": {},
     "output_type": "execute_result"
    },
    {
     "data": {
      "image/png": "[encoded data removed]",
      "text/plain": [
       "<Figure size 640x480 with 1 Axes>"
      ]
     },
     "metadata": {},
     "output_type": "display_data"
    }
   ],
   "source": [
    "sns.regplot(data=df[df['participation']=='no'], y='income', x='age', ci=None, order=2, line_kws={\"color\": \"red\"}) "
   ]
  },
  {
   "cell_type": "markdown",
   "id": "e96ab5fe",
   "metadata": {},
   "source": [
    "### Среди людей, не являющихся участниками рынка труда, нетрудовой доход более неоднозначный, разброс меньше\n"
   ]
  },
  {
   "cell_type": "markdown",
   "id": "80f7a9f7",
   "metadata": {},
   "source": [
    "# Задание 8"
   ]
  },
  {
   "cell_type": "code",
   "execution_count": 18,
   "id": "02aa43fe",
   "metadata": {},
   "outputs": [
    {
     "data": {
      "text/plain": [
       "participation[no]     10.269\n",
       "participation[yes]    10.156\n",
       "age                    0.016\n",
       "education              0.043\n",
       "dtype: float64"
      ]
     },
     "execution_count": 18,
     "metadata": {},
     "output_type": "execute_result"
    }
   ],
   "source": [
    "# специфицируем модель через формулу\n",
    "swiss1_eq = smf.ols(formula='income~-1+participation+age+education', data=df).fit()\n",
    "# Коэфициенты модели\n",
    "swiss1_eq.params.round(3)"
   ]
  },
  {
   "cell_type": "code",
   "execution_count": 19,
   "id": "8c4b4d4e",
   "metadata": {},
   "outputs": [
    {
     "data": {
      "text/plain": [
       "148.198"
      ]
     },
     "execution_count": 19,
     "metadata": {},
     "output_type": "execute_result"
    }
   ],
   "source": [
    "# TSS\n",
    "TSS = swiss1_eq.centered_tss.round(3)\n",
    "TSS"
   ]
  },
  {
   "cell_type": "code",
   "execution_count": 20,
   "id": "57e52e5d",
   "metadata": {},
   "outputs": [
    {
     "data": {
      "text/plain": [
       "19.032"
      ]
     },
     "execution_count": 20,
     "metadata": {},
     "output_type": "execute_result"
    }
   ],
   "source": [
    "# ESS\n",
    "ESS = swiss1_eq.ess.round(3)\n",
    "ESS"
   ]
  },
  {
   "cell_type": "code",
   "execution_count": 21,
   "id": "b577e261",
   "metadata": {},
   "outputs": [
    {
     "data": {
      "text/plain": [
       "129.166"
      ]
     },
     "execution_count": 21,
     "metadata": {},
     "output_type": "execute_result"
    }
   ],
   "source": [
    "# RSS\n",
    "RSS=swiss1_eq.ssr.round(3)\n",
    "RSS"
   ]
  },
  {
   "cell_type": "code",
   "execution_count": 22,
   "id": "eb47f941",
   "metadata": {},
   "outputs": [
    {
     "data": {
      "text/plain": [
       "0.871577214267399"
      ]
     },
     "execution_count": 22,
     "metadata": {},
     "output_type": "execute_result"
    }
   ],
   "source": [
    "# R^2 коэффициент детерминации\n",
    "# RSS/TSS\n",
    "R2 = RSS/TSS\n",
    "R2"
   ]
  },
  {
   "cell_type": "markdown",
   "id": "e0c70e74",
   "metadata": {},
   "source": [
    "## Вывод: константа не является фактором, следовательно, не влияет на вариацию признаков. Они получились такие же, как в первой составленной модели"
   ]
  },
  {
   "cell_type": "code",
   "execution_count": null,
   "id": "31832f67",
   "metadata": {},
   "outputs": [],
   "source": []
  }
 ],
 "metadata": {
  "kernelspec": {
   "display_name": "Python 3 (ipykernel)",
   "language": "python",
   "name": "python3"
  },
  "language_info": {
   "codemirror_mode": {
    "name": "ipython",
    "version": 3
   },
   "file_extension": ".py",
   "mimetype": "text/x-python",
   "name": "python",
   "nbconvert_exporter": "python",
   "pygments_lexer": "ipython3",
   "version": "3.9.13"
  }
 },
 "nbformat": 4,
 "nbformat_minor": 5
}
