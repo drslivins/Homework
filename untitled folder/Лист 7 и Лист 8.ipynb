{
 "cells": [
  {
   "cell_type": "markdown",
   "id": "84152c70",
   "metadata": {},
   "source": [
    "# Homework\n",
    "## List 7\n",
    "### Задача 2"
   ]
  },
  {
   "cell_type": "code",
   "execution_count": 1,
   "id": "43e1b05c",
   "metadata": {},
   "outputs": [],
   "source": [
    "import numpy as np\n",
    "import re"
   ]
  },
  {
   "cell_type": "code",
   "execution_count": 2,
   "id": "a393a022",
   "metadata": {},
   "outputs": [
    {
     "data": {
      "text/plain": [
       "'totwrk                       -0.167***         \\n                              (0.018)          \\n                                               \\nage                           -6.255           \\n                             (11.191)          \\n                                               \\nI(age2)                        0.109           \\n                              (0.134)          \\n                                               \\nsouth                       114.547***         \\n                             (40.637)          \\n                                               \\nmale                         90.457***         \\n                             (34.257)          \\n                                               \\nConstant                    3613.995***        \\n                             (218.433)         '"
      ]
     },
     "execution_count": 2,
     "metadata": {},
     "output_type": "execute_result"
    }
   ],
   "source": [
    "data_string = '''totwrk                       -0.167***         \n",
    "                              (0.018)          \n",
    "                                               \n",
    "age                           -6.255           \n",
    "                             (11.191)          \n",
    "                                               \n",
    "I(age2)                        0.109           \n",
    "                              (0.134)          \n",
    "                                               \n",
    "south                       114.547***         \n",
    "                             (40.637)          \n",
    "                                               \n",
    "male                         90.457***         \n",
    "                             (34.257)          \n",
    "                                               \n",
    "Constant                    3613.995***        \n",
    "                             (218.433)         '''\n",
    "data_string"
   ]
  },
  {
   "cell_type": "code",
   "execution_count": 48,
   "id": "d1380a7c",
   "metadata": {},
   "outputs": [
    {
     "data": {
      "text/plain": [
       "['0.021',\n",
       " '0.004',\n",
       " '0.008',\n",
       " '0.001',\n",
       " '-0.099',\n",
       " '0.027',\n",
       " '0.201',\n",
       " '0.040',\n",
       " '0.175',\n",
       " '0.028',\n",
       " '4.974',\n",
       " '0.165']"
      ]
     },
     "execution_count": 48,
     "metadata": {},
     "output_type": "execute_result"
    }
   ],
   "source": [
    "# Выделим числа из строки с помощью регулярных выражений\n",
    "#(необходимо выделить подстроку, удовлетворяющая определенному шаблону символов)\n",
    "digital_date = re.findall(r'([-+]?\\d+.\\d+)',data_string)\n",
    "digital_date"
   ]
  },
  {
   "cell_type": "code",
   "execution_count": 4,
   "id": "85a30f22",
   "metadata": {},
   "outputs": [
    {
     "data": {
      "text/plain": [
       "array([['-0.167', '0.018'],\n",
       "       ['-6.255', '11.191'],\n",
       "       ['0.109', '0.134'],\n",
       "       ['114.547', '40.637'],\n",
       "       ['90.457', '34.257'],\n",
       "       ['3613.995', '218.433']], dtype='<U8')"
      ]
     },
     "execution_count": 4,
     "metadata": {},
     "output_type": "execute_result"
    }
   ],
   "source": [
    "beta = np.reshape(data_num,(6,2))\n",
    "beta"
   ]
  },
  {
   "cell_type": "code",
   "execution_count": 5,
   "id": "2bdf00f5",
   "metadata": {},
   "outputs": [
    {
     "data": {
      "text/plain": [
       "array(['-0.167', '-6.255', '0.109', '114.547', '90.457', '3613.995'],\n",
       "      dtype='<U8')"
      ]
     },
     "execution_count": 5,
     "metadata": {},
     "output_type": "execute_result"
    }
   ],
   "source": [
    "beta[:,0]"
   ]
  },
  {
   "cell_type": "code",
   "execution_count": 15,
   "id": "393ad9df",
   "metadata": {},
   "outputs": [],
   "source": [
    "# ppl_string --- переменная, которая содержит изначальную строку данных\n",
    "ppl_string = '''totwrk age south male\n",
    "-----------------------\n",
    "1  2160  32    1    0  \n",
    "2  1720  24    0    1  \n",
    "3  2390  44    0    1   '''"
   ]
  },
  {
   "cell_type": "code",
   "execution_count": 16,
   "id": "d76981ff",
   "metadata": {},
   "outputs": [
    {
     "data": {
      "text/plain": [
       "['1',\n",
       " '2160',\n",
       " '32',\n",
       " '1',\n",
       " '0',\n",
       " '2',\n",
       " '1720',\n",
       " '24',\n",
       " '0',\n",
       " '1',\n",
       " '3',\n",
       " '2390',\n",
       " '44',\n",
       " '0',\n",
       " '1']"
      ]
     },
     "execution_count": 16,
     "metadata": {},
     "output_type": "execute_result"
    }
   ],
   "source": [
    "ppl_lst = re.findall(r'([-+]?\\d+)', ppl_string)\n",
    "ppl_lst"
   ]
  },
  {
   "cell_type": "code",
   "execution_count": 33,
   "id": "0032a64e",
   "metadata": {},
   "outputs": [
    {
     "data": {
      "text/plain": [
       "array([['1', '2160', '32', '1', '0'],\n",
       "       ['2', '1720', '24', '0', '1'],\n",
       "       ['3', '2390', '44', '0', '1']], dtype='<U4')"
      ]
     },
     "execution_count": 33,
     "metadata": {},
     "output_type": "execute_result"
    }
   ],
   "source": [
    "X = np.reshape(ppl_lst,(3,5))\n",
    "X"
   ]
  },
  {
   "cell_type": "code",
   "execution_count": 34,
   "id": "a40c4ffb",
   "metadata": {},
   "outputs": [
    {
     "data": {
      "text/plain": [
       "array([['2160', '32', '1', '0'],\n",
       "       ['1720', '24', '0', '1'],\n",
       "       ['2390', '44', '0', '1']], dtype='<U4')"
      ]
     },
     "execution_count": 34,
     "metadata": {},
     "output_type": "execute_result"
    }
   ],
   "source": [
    "X = np.delete(X,0,1)\n",
    "X"
   ]
  },
  {
   "cell_type": "code",
   "execution_count": 35,
   "id": "883fe7a4",
   "metadata": {},
   "outputs": [
    {
     "data": {
      "text/plain": [
       "array([['2160', '32', '1', '0', '1.0'],\n",
       "       ['1720', '24', '0', '1', '1.0'],\n",
       "       ['2390', '44', '0', '1', '1.0']], dtype='<U32')"
      ]
     },
     "execution_count": 35,
     "metadata": {},
     "output_type": "execute_result"
    }
   ],
   "source": [
    "X = np.c_[X,np.ones(3)]\n",
    "X"
   ]
  },
  {
   "cell_type": "code",
   "execution_count": 36,
   "id": "9e5ea4ea",
   "metadata": {},
   "outputs": [
    {
     "data": {
      "text/plain": [
       "(3, 5)"
      ]
     },
     "execution_count": 36,
     "metadata": {},
     "output_type": "execute_result"
    }
   ],
   "source": [
    "X.shape"
   ]
  },
  {
   "cell_type": "code",
   "execution_count": 37,
   "id": "129e0a5f",
   "metadata": {},
   "outputs": [
    {
     "data": {
      "text/plain": [
       "(6, 2)"
      ]
     },
     "execution_count": 37,
     "metadata": {},
     "output_type": "execute_result"
    }
   ],
   "source": [
    "beta.shape"
   ]
  },
  {
   "cell_type": "code",
   "execution_count": 38,
   "id": "811045ea",
   "metadata": {},
   "outputs": [
    {
     "data": {
      "text/plain": [
       "array([[2.16e+03, 3.20e+01, 1.00e+00, 0.00e+00, 1.00e+00],\n",
       "       [1.72e+03, 2.40e+01, 0.00e+00, 1.00e+00, 1.00e+00],\n",
       "       [2.39e+03, 4.40e+01, 0.00e+00, 1.00e+00, 1.00e+00]])"
      ]
     },
     "execution_count": 38,
     "metadata": {},
     "output_type": "execute_result"
    }
   ],
   "source": [
    "beta = beta.astype(float)\n",
    "X = X.astype(float).round(3)\n",
    "X"
   ]
  },
  {
   "cell_type": "code",
   "execution_count": 49,
   "id": "3242b513",
   "metadata": {},
   "outputs": [
    {
     "data": {
      "text/plain": [
       "array([['0.021', '0.004'],\n",
       "       ['0.008', '0.001'],\n",
       "       ['-0.099', '0.027'],\n",
       "       ['0.201', '0.040'],\n",
       "       ['0.175', '0.028'],\n",
       "       ['4.974', '0.165']], dtype='<U6')"
      ]
     },
     "execution_count": 49,
     "metadata": {},
     "output_type": "execute_result"
    }
   ],
   "source": [
    "beta"
   ]
  },
  {
   "cell_type": "code",
   "execution_count": 51,
   "id": "4ff7e55f",
   "metadata": {
    "scrolled": true
   },
   "outputs": [
    {
     "data": {
      "text/plain": [
       "array([[2.16e+03, 3.20e+01, 1.00e+00, 0.00e+00, 1.00e+00],\n",
       "       [1.72e+03, 2.40e+01, 0.00e+00, 1.00e+00, 1.00e+00],\n",
       "       [2.39e+03, 4.40e+01, 0.00e+00, 1.00e+00, 1.00e+00]])"
      ]
     },
     "execution_count": 51,
     "metadata": {},
     "output_type": "execute_result"
    }
   ],
   "source": [
    "X"
   ]
  },
  {
   "cell_type": "code",
   "execution_count": 54,
   "id": "65c54eee",
   "metadata": {},
   "outputs": [
    {
     "ename": "ValueError",
     "evalue": "matmul: Input operand 1 has a mismatch in its core dimension 0, with gufunc signature (n?,k),(k,m?)->(n?,m?) (size 6 is different from 5)",
     "output_type": "error",
     "traceback": [
      "\u001b[0;31m---------------------------------------------------------------------------\u001b[0m",
      "\u001b[0;31mValueError\u001b[0m                                Traceback (most recent call last)",
      "\u001b[0;32m/var/folders/qd/xx805xcn5knc8hwt59c2tvdc0000gn/T/ipykernel_82317/1987623048.py\u001b[0m in \u001b[0;36m<module>\u001b[0;34m\u001b[0m\n\u001b[0;32m----> 1\u001b[0;31m \u001b[0mX\u001b[0m\u001b[0;34m@\u001b[0m\u001b[0mbeta\u001b[0m\u001b[0;34m[\u001b[0m\u001b[0;34m:\u001b[0m\u001b[0;34m,\u001b[0m\u001b[0;36m0\u001b[0m\u001b[0;34m]\u001b[0m\u001b[0;34m\u001b[0m\u001b[0;34m\u001b[0m\u001b[0m\n\u001b[0m",
      "\u001b[0;31mValueError\u001b[0m: matmul: Input operand 1 has a mismatch in its core dimension 0, with gufunc signature (n?,k),(k,m?)->(n?,m?) (size 6 is different from 5)"
     ]
    }
   ],
   "source": [
    "X@beta[:,0]"
   ]
  },
  {
   "cell_type": "markdown",
   "id": "69ce2d5c",
   "metadata": {},
   "source": [
    "### Задача 3"
   ]
  },
  {
   "cell_type": "code",
   "execution_count": 40,
   "id": "44989d68",
   "metadata": {},
   "outputs": [
    {
     "data": {
      "text/plain": [
       "'age                          0.021***          \\n                              (0.004)          \\n                                               \\nIQ                           0.008***          \\n                              (0.001)          \\n                                               \\nsouth                        -0.099***         \\n                              (0.027)          \\n                                               \\nmarried                      0.201***          \\n                              (0.040)          \\n                                               \\nurban                        0.175***          \\n                              (0.028)          \\n                                               \\nConstant                     4.974***          \\n                              (0.165) '"
      ]
     },
     "execution_count": 40,
     "metadata": {},
     "output_type": "execute_result"
    }
   ],
   "source": [
    "data_string = '''age                          0.021***          \n",
    "                              (0.004)          \n",
    "                                               \n",
    "IQ                           0.008***          \n",
    "                              (0.001)          \n",
    "                                               \n",
    "south                        -0.099***         \n",
    "                              (0.027)          \n",
    "                                               \n",
    "married                      0.201***          \n",
    "                              (0.040)          \n",
    "                                               \n",
    "urban                        0.175***          \n",
    "                              (0.028)          \n",
    "                                               \n",
    "Constant                     4.974***          \n",
    "                              (0.165) '''\n",
    "data_string"
   ]
  },
  {
   "cell_type": "code",
   "execution_count": 41,
   "id": "07fe7276",
   "metadata": {},
   "outputs": [
    {
     "data": {
      "text/plain": [
       "['0.021',\n",
       " '0.004',\n",
       " '0.008',\n",
       " '0.001',\n",
       " '-0.099',\n",
       " '0.027',\n",
       " '0.201',\n",
       " '0.040',\n",
       " '0.175',\n",
       " '0.028',\n",
       " '4.974',\n",
       " '0.165']"
      ]
     },
     "execution_count": 41,
     "metadata": {},
     "output_type": "execute_result"
    }
   ],
   "source": [
    "data_num = re.findall(r'([-+]?\\d+.\\d+)',data_string)\n",
    "data_num"
   ]
  },
  {
   "cell_type": "code",
   "execution_count": 55,
   "id": "4f45e5fb",
   "metadata": {},
   "outputs": [
    {
     "data": {
      "text/plain": [
       "['0.021',\n",
       " '0.004',\n",
       " '0.008',\n",
       " '0.001',\n",
       " '-0.099',\n",
       " '0.027',\n",
       " '0.201',\n",
       " '0.040',\n",
       " '0.175',\n",
       " '0.028',\n",
       " '4.974',\n",
       " '0.165']"
      ]
     },
     "execution_count": 55,
     "metadata": {},
     "output_type": "execute_result"
    }
   ],
   "source": [
    "digital_date = re.findall(r'([-+]?\\d+.\\d+)',data_string)\n",
    "digital_date"
   ]
  },
  {
   "cell_type": "code",
   "execution_count": 56,
   "id": "719607f3",
   "metadata": {},
   "outputs": [
    {
     "data": {
      "text/plain": [
       "array([['0.021', '0.004'],\n",
       "       ['0.008', '0.001'],\n",
       "       ['-0.099', '0.027'],\n",
       "       ['0.201', '0.040'],\n",
       "       ['0.175', '0.028'],\n",
       "       ['4.974', '0.165']], dtype='<U6')"
      ]
     },
     "execution_count": 56,
     "metadata": {},
     "output_type": "execute_result"
    }
   ],
   "source": [
    "beta = np.reshape(digital_date,(6,2))\n",
    "beta"
   ]
  },
  {
   "cell_type": "code",
   "execution_count": 45,
   "id": "5382b945",
   "metadata": {},
   "outputs": [],
   "source": [
    "# ppl_string --- переменная, которая содержит изначальную строку данных\n",
    "ppl_string = '''age IQ  south married urban\n",
    "-----------------------------\n",
    "1 36  105   1      1      1  \n",
    "2 29  123   0      1      0  \n",
    "3 25  112   1      0      1 '''"
   ]
  },
  {
   "cell_type": "code",
   "execution_count": 57,
   "id": "03e8e0ab",
   "metadata": {},
   "outputs": [
    {
     "data": {
      "text/plain": [
       "['1',\n",
       " '36',\n",
       " '105',\n",
       " '1',\n",
       " '1',\n",
       " '1',\n",
       " '2',\n",
       " '29',\n",
       " '123',\n",
       " '0',\n",
       " '1',\n",
       " '0',\n",
       " '3',\n",
       " '25',\n",
       " '112',\n",
       " '1',\n",
       " '0',\n",
       " '1']"
      ]
     },
     "execution_count": 57,
     "metadata": {},
     "output_type": "execute_result"
    }
   ],
   "source": [
    "ppl_lst = re.findall(r'([-+]?\\d+)', ppl_string)\n",
    "ppl_lst"
   ]
  },
  {
   "cell_type": "code",
   "execution_count": 58,
   "id": "96d7a1ab",
   "metadata": {},
   "outputs": [
    {
     "data": {
      "text/plain": [
       "array([['1', '36', '105', '1', '1', '1'],\n",
       "       ['2', '29', '123', '0', '1', '0'],\n",
       "       ['3', '25', '112', '1', '0', '1']], dtype='<U3')"
      ]
     },
     "execution_count": 58,
     "metadata": {},
     "output_type": "execute_result"
    }
   ],
   "source": [
    "ppl_numb = np.reshape(ppl_lst,(3,6))\n",
    "ppl_numb"
   ]
  },
  {
   "cell_type": "code",
   "execution_count": 59,
   "id": "cd5d546e",
   "metadata": {},
   "outputs": [
    {
     "data": {
      "text/plain": [
       "array([['36', '105', '1', '1', '1'],\n",
       "       ['29', '123', '0', '1', '0'],\n",
       "       ['25', '112', '1', '0', '1']], dtype='<U3')"
      ]
     },
     "execution_count": 59,
     "metadata": {},
     "output_type": "execute_result"
    }
   ],
   "source": [
    "ppl_numb = np.delete(ppl_numb,0,1)\n",
    "ppl_numb"
   ]
  },
  {
   "cell_type": "code",
   "execution_count": 60,
   "id": "7efeb1f3",
   "metadata": {},
   "outputs": [
    {
     "data": {
      "text/plain": [
       "array([['36', '105', '1', '1', '1', '1.0'],\n",
       "       ['29', '123', '0', '1', '0', '1.0'],\n",
       "       ['25', '112', '1', '0', '1', '1.0']], dtype='<U32')"
      ]
     },
     "execution_count": 60,
     "metadata": {},
     "output_type": "execute_result"
    }
   ],
   "source": [
    "ppl_numb = np.c_[ppl_numb,np.ones(3)]\n",
    "ppl_numb"
   ]
  },
  {
   "cell_type": "code",
   "execution_count": 61,
   "id": "42bc976c",
   "metadata": {},
   "outputs": [],
   "source": [
    "beta = beta.astype(float)\n",
    "ppl_numb = ppl_numb.astype(float)"
   ]
  },
  {
   "cell_type": "code",
   "execution_count": 62,
   "id": "8dbde370",
   "metadata": {},
   "outputs": [
    {
     "data": {
      "text/plain": [
       "array([[ 2.100e-02,  4.000e-03],\n",
       "       [ 8.000e-03,  1.000e-03],\n",
       "       [-9.900e-02,  2.700e-02],\n",
       "       [ 2.010e-01,  4.000e-02],\n",
       "       [ 1.750e-01,  2.800e-02],\n",
       "       [ 4.974e+00,  1.650e-01]])"
      ]
     },
     "execution_count": 62,
     "metadata": {},
     "output_type": "execute_result"
    }
   ],
   "source": [
    "beta"
   ]
  },
  {
   "cell_type": "code",
   "execution_count": 63,
   "id": "b8fb9e22",
   "metadata": {},
   "outputs": [
    {
     "data": {
      "text/plain": [
       "array([[ 36., 105.,   1.,   1.,   1.,   1.],\n",
       "       [ 29., 123.,   0.,   1.,   0.,   1.],\n",
       "       [ 25., 112.,   1.,   0.,   1.,   1.]])"
      ]
     },
     "execution_count": 63,
     "metadata": {},
     "output_type": "execute_result"
    }
   ],
   "source": [
    "ppl_numb"
   ]
  },
  {
   "cell_type": "code",
   "execution_count": 64,
   "id": "e3ee63af",
   "metadata": {},
   "outputs": [
    {
     "data": {
      "text/plain": [
       "array([6.847, 6.768, 6.471])"
      ]
     },
     "execution_count": 64,
     "metadata": {},
     "output_type": "execute_result"
    }
   ],
   "source": [
    "ppl_numb@beta[:,0]"
   ]
  },
  {
   "cell_type": "markdown",
   "id": "44f55ead",
   "metadata": {},
   "source": [
    "### Задача 4"
   ]
  },
  {
   "cell_type": "code",
   "execution_count": 66,
   "id": "b9a99fb3",
   "metadata": {},
   "outputs": [
    {
     "data": {
      "text/plain": [
       "'exper                        0.037***          \\n                              (0.006)          \\n                                               \\nI(exper2)                    -0.001***         \\n                             (0.0001)          \\n                                               \\nfemale                       -0.363***         \\n                              (0.040)          \\n                                               \\nmarried                      0.144***          \\n                              (0.045)          \\n                                               \\nsmsa                         0.273***          \\n                              (0.044)          \\n                                               \\nConstant                     1.250***          \\n                              (0.061)'"
      ]
     },
     "execution_count": 66,
     "metadata": {},
     "output_type": "execute_result"
    }
   ],
   "source": [
    "data_string = '''exper                        0.037***          \n",
    "                              (0.006)          \n",
    "                                               \n",
    "I(exper2)                    -0.001***         \n",
    "                             (0.0001)          \n",
    "                                               \n",
    "female                       -0.363***         \n",
    "                              (0.040)          \n",
    "                                               \n",
    "married                      0.144***          \n",
    "                              (0.045)          \n",
    "                                               \n",
    "smsa                         0.273***          \n",
    "                              (0.044)          \n",
    "                                               \n",
    "Constant                     1.250***          \n",
    "                              (0.061)'''\n",
    "data_string"
   ]
  },
  {
   "cell_type": "code",
   "execution_count": 67,
   "id": "559822f3",
   "metadata": {},
   "outputs": [
    {
     "data": {
      "text/plain": [
       "['0.037',\n",
       " '0.006',\n",
       " '-0.001',\n",
       " '0.0001',\n",
       " '-0.363',\n",
       " '0.040',\n",
       " '0.144',\n",
       " '0.045',\n",
       " '0.273',\n",
       " '0.044',\n",
       " '1.250',\n",
       " '0.061']"
      ]
     },
     "execution_count": 67,
     "metadata": {},
     "output_type": "execute_result"
    }
   ],
   "source": [
    "# Выделим числа из строки с помощью регулярных выражений\n",
    "#(необходимо выделить подстроку, удовлетворяющая определенному шаблону символов)\n",
    "digital_date = re.findall(r'([-+]?\\d+.\\d+)',data_string)\n",
    "digital_date"
   ]
  },
  {
   "cell_type": "code",
   "execution_count": 68,
   "id": "d23fc812",
   "metadata": {},
   "outputs": [
    {
     "data": {
      "text/plain": [
       "array([['0.037', '0.006'],\n",
       "       ['-0.001', '0.0001'],\n",
       "       ['-0.363', '0.040'],\n",
       "       ['0.144', '0.045'],\n",
       "       ['0.273', '0.044'],\n",
       "       ['1.250', '0.061']], dtype='<U6')"
      ]
     },
     "execution_count": 68,
     "metadata": {},
     "output_type": "execute_result"
    }
   ],
   "source": [
    "beta = np.reshape(digital_date,(6,2))\n",
    "beta\n"
   ]
  },
  {
   "cell_type": "code",
   "execution_count": 69,
   "id": "99dc6455",
   "metadata": {},
   "outputs": [],
   "source": [
    "ppl_string = '''exper female married smsa\n",
    "---------------------------\n",
    "1   5     1       1     1  \n",
    "2  26     0       0     1  \n",
    "3  38     1       1     0'''"
   ]
  },
  {
   "cell_type": "code",
   "execution_count": 70,
   "id": "e267ecf7",
   "metadata": {},
   "outputs": [
    {
     "data": {
      "text/plain": [
       "['1', '5', '1', '1', '1', '2', '26', '0', '0', '1', '3', '38', '1', '1', '0']"
      ]
     },
     "execution_count": 70,
     "metadata": {},
     "output_type": "execute_result"
    }
   ],
   "source": [
    "ppl_lst = re.findall(r'([-+]?\\d+)', ppl_string)\n",
    "ppl_lst"
   ]
  },
  {
   "cell_type": "code",
   "execution_count": 71,
   "id": "8644e486",
   "metadata": {},
   "outputs": [
    {
     "data": {
      "text/plain": [
       "array([['1', '5', '1', '1', '1'],\n",
       "       ['2', '26', '0', '0', '1'],\n",
       "       ['3', '38', '1', '1', '0']], dtype='<U2')"
      ]
     },
     "execution_count": 71,
     "metadata": {},
     "output_type": "execute_result"
    }
   ],
   "source": [
    "ppl_numb = np.reshape(ppl_lst,(3,5))\n",
    "ppl_numb"
   ]
  },
  {
   "cell_type": "code",
   "execution_count": 72,
   "id": "06e207fd",
   "metadata": {},
   "outputs": [
    {
     "data": {
      "text/plain": [
       "array([['5', '1', '1', '1'],\n",
       "       ['26', '0', '0', '1'],\n",
       "       ['38', '1', '1', '0']], dtype='<U2')"
      ]
     },
     "execution_count": 72,
     "metadata": {},
     "output_type": "execute_result"
    }
   ],
   "source": [
    "ppl_numb = np.delete(ppl_numb,0,1)\n",
    "ppl_numb"
   ]
  },
  {
   "cell_type": "code",
   "execution_count": 73,
   "id": "0d7cb6e3",
   "metadata": {},
   "outputs": [
    {
     "data": {
      "text/plain": [
       "array([['5', '1', '1', '1', '1.0'],\n",
       "       ['26', '0', '0', '1', '1.0'],\n",
       "       ['38', '1', '1', '0', '1.0']], dtype='<U32')"
      ]
     },
     "execution_count": 73,
     "metadata": {},
     "output_type": "execute_result"
    }
   ],
   "source": [
    "ppl_numb = np.c_[ppl_numb,np.ones(3)]\n",
    "ppl_numb"
   ]
  },
  {
   "cell_type": "code",
   "execution_count": 74,
   "id": "7aa2c06f",
   "metadata": {},
   "outputs": [
    {
     "data": {
      "text/plain": [
       "array([['5', '1', '1', '1', '1.0', '1.0'],\n",
       "       ['26', '0', '0', '1', '1.0', '1.0'],\n",
       "       ['38', '1', '1', '0', '1.0', '1.0']], dtype='<U32')"
      ]
     },
     "execution_count": 74,
     "metadata": {},
     "output_type": "execute_result"
    }
   ],
   "source": [
    "ppl_numb = np.c_[ppl_numb,np.ones(3)]\n",
    "ppl_numb"
   ]
  },
  {
   "cell_type": "code",
   "execution_count": 75,
   "id": "ca32bd45",
   "metadata": {},
   "outputs": [],
   "source": [
    "beta = beta.astype(float)\n",
    "ppl_numb = ppl_numb.astype(float)"
   ]
  },
  {
   "cell_type": "code",
   "execution_count": 76,
   "id": "d5bc21cb",
   "metadata": {},
   "outputs": [
    {
     "data": {
      "text/plain": [
       "array([[ 3.70e-02,  6.00e-03],\n",
       "       [-1.00e-03,  1.00e-04],\n",
       "       [-3.63e-01,  4.00e-02],\n",
       "       [ 1.44e-01,  4.50e-02],\n",
       "       [ 2.73e-01,  4.40e-02],\n",
       "       [ 1.25e+00,  6.10e-02]])"
      ]
     },
     "execution_count": 76,
     "metadata": {},
     "output_type": "execute_result"
    }
   ],
   "source": [
    "beta"
   ]
  },
  {
   "cell_type": "code",
   "execution_count": 77,
   "id": "2858c3aa",
   "metadata": {},
   "outputs": [
    {
     "data": {
      "text/plain": [
       "array([[ 5.,  1.,  1.,  1.,  1.,  1.],\n",
       "       [26.,  0.,  0.,  1.,  1.,  1.],\n",
       "       [38.,  1.,  1.,  0.,  1.,  1.]])"
      ]
     },
     "execution_count": 77,
     "metadata": {},
     "output_type": "execute_result"
    }
   ],
   "source": [
    "ppl_numb"
   ]
  },
  {
   "cell_type": "code",
   "execution_count": 78,
   "id": "c4f5b076",
   "metadata": {},
   "outputs": [
    {
     "data": {
      "text/plain": [
       "array([1.488, 2.629, 2.565])"
      ]
     },
     "execution_count": 78,
     "metadata": {},
     "output_type": "execute_result"
    }
   ],
   "source": [
    "ppl_numb@beta[:,0]"
   ]
  },
  {
   "cell_type": "markdown",
   "id": "77455526",
   "metadata": {},
   "source": [
    "### Задача 5"
   ]
  },
  {
   "cell_type": "code",
   "execution_count": 79,
   "id": "271f9841",
   "metadata": {},
   "outputs": [
    {
     "data": {
      "text/plain": [
       "'log(capital)                 0.208***          \\n                              (0.017)          \\n                                               \\nlog(labour)                  0.715***          \\n                              (0.023)          \\n                                               \\nConstant                     -1.711***         \\n                              (0.097)'"
      ]
     },
     "execution_count": 79,
     "metadata": {},
     "output_type": "execute_result"
    }
   ],
   "source": [
    "data_string = '''log(capital)                 0.208***          \n",
    "                              (0.017)          \n",
    "                                               \n",
    "log(labour)                  0.715***          \n",
    "                              (0.023)          \n",
    "                                               \n",
    "Constant                     -1.711***         \n",
    "                              (0.097)'''\n",
    "data_string"
   ]
  },
  {
   "cell_type": "code",
   "execution_count": 80,
   "id": "b09e3abf",
   "metadata": {},
   "outputs": [
    {
     "data": {
      "text/plain": [
       "['0.208', '0.017', '0.715', '0.023', '-1.711', '0.097']"
      ]
     },
     "execution_count": 80,
     "metadata": {},
     "output_type": "execute_result"
    }
   ],
   "source": [
    "# Выделим числа из строки с помощью регулярных выражений\n",
    "#(необходимо выделить подстроку, удовлетворяющая определенному шаблону символов)\n",
    "digital_date = re.findall(r'([-+]?\\d+.\\d+)',data_string)\n",
    "digital_date"
   ]
  },
  {
   "cell_type": "code",
   "execution_count": 81,
   "id": "5f94ea79",
   "metadata": {},
   "outputs": [
    {
     "data": {
      "text/plain": [
       "array([['0.208', '0.017'],\n",
       "       ['0.715', '0.023'],\n",
       "       ['-1.711', '0.097']], dtype='<U6')"
      ]
     },
     "execution_count": 81,
     "metadata": {},
     "output_type": "execute_result"
    }
   ],
   "source": [
    "beta = np.reshape(digital_date,(3,2))\n",
    "beta\n"
   ]
  },
  {
   "cell_type": "code",
   "execution_count": 82,
   "id": "f3ae0d67",
   "metadata": {},
   "outputs": [
    {
     "data": {
      "text/plain": [
       "array(['0.208', '0.715', '-1.711'], dtype='<U6')"
      ]
     },
     "execution_count": 82,
     "metadata": {},
     "output_type": "execute_result"
    }
   ],
   "source": [
    "beta[:,0]"
   ]
  },
  {
   "cell_type": "code",
   "execution_count": 83,
   "id": "3706020a",
   "metadata": {},
   "outputs": [],
   "source": [
    "ppl_string = '''capital labour\n",
    "----------------\n",
    "1  2.970    85  \n",
    "2 10.450    60  \n",
    "3  3.850   105'''"
   ]
  },
  {
   "cell_type": "code",
   "execution_count": 84,
   "id": "97ee1458",
   "metadata": {},
   "outputs": [],
   "source": [
    "ppl_lst = re.findall(r'([-+]?\\d+.\\d+|[-+]?\\d+)',ppl_string)"
   ]
  },
  {
   "cell_type": "code",
   "execution_count": 85,
   "id": "7da7b2e1",
   "metadata": {},
   "outputs": [
    {
     "data": {
      "text/plain": [
       "array([['1', '2.970', '85'],\n",
       "       ['2 10', '450', '60'],\n",
       "       ['3', '3.850', '105']], dtype='<U5')"
      ]
     },
     "execution_count": 85,
     "metadata": {},
     "output_type": "execute_result"
    }
   ],
   "source": [
    "ppl_numb = np.reshape(ppl_lst,(3,3))\n",
    "ppl_numb"
   ]
  },
  {
   "cell_type": "code",
   "execution_count": 86,
   "id": "6da312c5",
   "metadata": {},
   "outputs": [
    {
     "data": {
      "text/plain": [
       "array([['2.970', '85'],\n",
       "       ['450', '60'],\n",
       "       ['3.850', '105']], dtype='<U5')"
      ]
     },
     "execution_count": 86,
     "metadata": {},
     "output_type": "execute_result"
    }
   ],
   "source": [
    "ppl_numb = np.delete(ppl_numb,0,1)\n",
    "ppl_numb"
   ]
  },
  {
   "cell_type": "code",
   "execution_count": 87,
   "id": "8c43150a",
   "metadata": {},
   "outputs": [
    {
     "data": {
      "text/plain": [
       "array([['2.970', '85', '1.0'],\n",
       "       ['450', '60', '1.0'],\n",
       "       ['3.850', '105', '1.0']], dtype='<U32')"
      ]
     },
     "execution_count": 87,
     "metadata": {},
     "output_type": "execute_result"
    }
   ],
   "source": [
    "ppl_numb = np.c_[ppl_numb,np.ones(3)]\n",
    "ppl_numb"
   ]
  },
  {
   "cell_type": "code",
   "execution_count": 88,
   "id": "e47a30f2",
   "metadata": {},
   "outputs": [],
   "source": [
    "beta = beta.astype(float)\n",
    "ppl_numb = ppl_numb.astype(float)"
   ]
  },
  {
   "cell_type": "code",
   "execution_count": 89,
   "id": "ffcec88c",
   "metadata": {},
   "outputs": [
    {
     "data": {
      "text/plain": [
       "array([[ 0.208,  0.017],\n",
       "       [ 0.715,  0.023],\n",
       "       [-1.711,  0.097]])"
      ]
     },
     "execution_count": 89,
     "metadata": {},
     "output_type": "execute_result"
    }
   ],
   "source": [
    "beta"
   ]
  },
  {
   "cell_type": "code",
   "execution_count": 90,
   "id": "07d0ccc8",
   "metadata": {},
   "outputs": [
    {
     "data": {
      "text/plain": [
       "array([[  2.97,  85.  ,   1.  ],\n",
       "       [450.  ,  60.  ,   1.  ],\n",
       "       [  3.85, 105.  ,   1.  ]])"
      ]
     },
     "execution_count": 90,
     "metadata": {},
     "output_type": "execute_result"
    }
   ],
   "source": [
    "ppl_numb"
   ]
  },
  {
   "cell_type": "code",
   "execution_count": 91,
   "id": "4e2386c6",
   "metadata": {},
   "outputs": [
    {
     "data": {
      "text/plain": [
       "array([ 59.68176, 134.789  ,  74.1648 ])"
      ]
     },
     "execution_count": 91,
     "metadata": {},
     "output_type": "execute_result"
    }
   ],
   "source": [
    "ppl_numb@beta[:,0]"
   ]
  },
  {
   "cell_type": "markdown",
   "id": "12a2ed8f",
   "metadata": {},
   "source": [
    "### Задача 7"
   ]
  },
  {
   "cell_type": "code",
   "execution_count": 93,
   "id": "2ecf59fb",
   "metadata": {},
   "outputs": [
    {
     "data": {
      "text/plain": [
       "'log(capital)                 0.183***          \\n                              (0.017)          \\n                                               \\nlog(labour)                  0.515***          \\n                              (0.083)          \\n                                               \\nI(log(capital)2)             0.023***          \\n                              (0.005)          \\n                                               \\nI(log(labour)2)               0.020**          \\n                              (0.010)          \\n                                               \\nConstant                     -1.304***         \\n                              (0.189)'"
      ]
     },
     "execution_count": 93,
     "metadata": {},
     "output_type": "execute_result"
    }
   ],
   "source": [
    "data_string = '''log(capital)                 0.183***          \n",
    "                              (0.017)          \n",
    "                                               \n",
    "log(labour)                  0.515***          \n",
    "                              (0.083)          \n",
    "                                               \n",
    "I(log(capital)2)             0.023***          \n",
    "                              (0.005)          \n",
    "                                               \n",
    "I(log(labour)2)               0.020**          \n",
    "                              (0.010)          \n",
    "                                               \n",
    "Constant                     -1.304***         \n",
    "                              (0.189)'''\n",
    "data_string"
   ]
  },
  {
   "cell_type": "code",
   "execution_count": 94,
   "id": "44e62a83",
   "metadata": {},
   "outputs": [
    {
     "data": {
      "text/plain": [
       "['0.183',\n",
       " '0.017',\n",
       " '0.515',\n",
       " '0.083',\n",
       " '0.023',\n",
       " '0.005',\n",
       " '0.020',\n",
       " '0.010',\n",
       " '-1.304',\n",
       " '0.189']"
      ]
     },
     "execution_count": 94,
     "metadata": {},
     "output_type": "execute_result"
    }
   ],
   "source": [
    "# Выделим числа из строки с помощью регулярных выражений\n",
    "#(необходимо выделить подстроку, удовлетворяющая определенному шаблону символов)\n",
    "digital_date = re.findall(r'([-+]?\\d+.\\d+)',data_string)\n",
    "digital_date\n"
   ]
  },
  {
   "cell_type": "code",
   "execution_count": 95,
   "id": "a8e749ca",
   "metadata": {},
   "outputs": [
    {
     "data": {
      "text/plain": [
       "array([['0.183', '0.017'],\n",
       "       ['0.515', '0.083'],\n",
       "       ['0.023', '0.005'],\n",
       "       ['0.020', '0.010'],\n",
       "       ['-1.304', '0.189']], dtype='<U6')"
      ]
     },
     "execution_count": 95,
     "metadata": {},
     "output_type": "execute_result"
    }
   ],
   "source": [
    "beta = np.reshape(digital_date,(5,2))\n",
    "beta"
   ]
  },
  {
   "cell_type": "code",
   "execution_count": 96,
   "id": "16a04a15",
   "metadata": {},
   "outputs": [
    {
     "data": {
      "text/plain": [
       "array(['0.183', '0.515', '0.023', '0.020', '-1.304'], dtype='<U6')"
      ]
     },
     "execution_count": 96,
     "metadata": {},
     "output_type": "execute_result"
    }
   ],
   "source": [
    "beta[:,0]"
   ]
  },
  {
   "cell_type": "code",
   "execution_count": 97,
   "id": "10fb2fb3",
   "metadata": {},
   "outputs": [],
   "source": [
    "ppl_string = '''capital labour\n",
    "----------------\n",
    "1 22.140   407  \n",
    "2  7.320   197  \n",
    "3  0.670    31 '''"
   ]
  },
  {
   "cell_type": "code",
   "execution_count": 98,
   "id": "58449803",
   "metadata": {},
   "outputs": [
    {
     "data": {
      "text/plain": [
       "['1', '22', '140', '407', '2', '7', '320', '197', '3', '0', '670', '31']"
      ]
     },
     "execution_count": 98,
     "metadata": {},
     "output_type": "execute_result"
    }
   ],
   "source": [
    "ppl_lst = re.findall(r'([-+]?\\d+)', ppl_string)\n",
    "ppl_lst"
   ]
  },
  {
   "cell_type": "code",
   "execution_count": 102,
   "id": "43bdfaa7",
   "metadata": {},
   "outputs": [
    {
     "ename": "ValueError",
     "evalue": "cannot reshape array of size 12 into shape (3,2)",
     "output_type": "error",
     "traceback": [
      "\u001b[0;31m---------------------------------------------------------------------------\u001b[0m",
      "\u001b[0;31mValueError\u001b[0m                                Traceback (most recent call last)",
      "\u001b[0;32m/var/folders/qd/xx805xcn5knc8hwt59c2tvdc0000gn/T/ipykernel_82317/1001062881.py\u001b[0m in \u001b[0;36m<module>\u001b[0;34m\u001b[0m\n\u001b[0;32m----> 1\u001b[0;31m \u001b[0mppl_numb\u001b[0m \u001b[0;34m=\u001b[0m \u001b[0mnp\u001b[0m\u001b[0;34m.\u001b[0m\u001b[0mreshape\u001b[0m\u001b[0;34m(\u001b[0m\u001b[0mppl_lst\u001b[0m\u001b[0;34m,\u001b[0m\u001b[0;34m(\u001b[0m\u001b[0;36m3\u001b[0m\u001b[0;34m,\u001b[0m\u001b[0;36m2\u001b[0m\u001b[0;34m)\u001b[0m\u001b[0;34m)\u001b[0m\u001b[0;34m\u001b[0m\u001b[0;34m\u001b[0m\u001b[0m\n\u001b[0m\u001b[1;32m      2\u001b[0m \u001b[0mppl_numb\u001b[0m\u001b[0;34m\u001b[0m\u001b[0;34m\u001b[0m\u001b[0m\n",
      "\u001b[0;32m<__array_function__ internals>\u001b[0m in \u001b[0;36mreshape\u001b[0;34m(*args, **kwargs)\u001b[0m\n",
      "\u001b[0;32m~/opt/anaconda3/lib/python3.9/site-packages/numpy/core/fromnumeric.py\u001b[0m in \u001b[0;36mreshape\u001b[0;34m(a, newshape, order)\u001b[0m\n\u001b[1;32m    296\u001b[0m            [5, 6]])\n\u001b[1;32m    297\u001b[0m     \"\"\"\n\u001b[0;32m--> 298\u001b[0;31m     \u001b[0;32mreturn\u001b[0m \u001b[0m_wrapfunc\u001b[0m\u001b[0;34m(\u001b[0m\u001b[0ma\u001b[0m\u001b[0;34m,\u001b[0m \u001b[0;34m'reshape'\u001b[0m\u001b[0;34m,\u001b[0m \u001b[0mnewshape\u001b[0m\u001b[0;34m,\u001b[0m \u001b[0morder\u001b[0m\u001b[0;34m=\u001b[0m\u001b[0morder\u001b[0m\u001b[0;34m)\u001b[0m\u001b[0;34m\u001b[0m\u001b[0;34m\u001b[0m\u001b[0m\n\u001b[0m\u001b[1;32m    299\u001b[0m \u001b[0;34m\u001b[0m\u001b[0m\n\u001b[1;32m    300\u001b[0m \u001b[0;34m\u001b[0m\u001b[0m\n",
      "\u001b[0;32m~/opt/anaconda3/lib/python3.9/site-packages/numpy/core/fromnumeric.py\u001b[0m in \u001b[0;36m_wrapfunc\u001b[0;34m(obj, method, *args, **kwds)\u001b[0m\n\u001b[1;32m     52\u001b[0m     \u001b[0mbound\u001b[0m \u001b[0;34m=\u001b[0m \u001b[0mgetattr\u001b[0m\u001b[0;34m(\u001b[0m\u001b[0mobj\u001b[0m\u001b[0;34m,\u001b[0m \u001b[0mmethod\u001b[0m\u001b[0;34m,\u001b[0m \u001b[0;32mNone\u001b[0m\u001b[0;34m)\u001b[0m\u001b[0;34m\u001b[0m\u001b[0;34m\u001b[0m\u001b[0m\n\u001b[1;32m     53\u001b[0m     \u001b[0;32mif\u001b[0m \u001b[0mbound\u001b[0m \u001b[0;32mis\u001b[0m \u001b[0;32mNone\u001b[0m\u001b[0;34m:\u001b[0m\u001b[0;34m\u001b[0m\u001b[0;34m\u001b[0m\u001b[0m\n\u001b[0;32m---> 54\u001b[0;31m         \u001b[0;32mreturn\u001b[0m \u001b[0m_wrapit\u001b[0m\u001b[0;34m(\u001b[0m\u001b[0mobj\u001b[0m\u001b[0;34m,\u001b[0m \u001b[0mmethod\u001b[0m\u001b[0;34m,\u001b[0m \u001b[0;34m*\u001b[0m\u001b[0margs\u001b[0m\u001b[0;34m,\u001b[0m \u001b[0;34m**\u001b[0m\u001b[0mkwds\u001b[0m\u001b[0;34m)\u001b[0m\u001b[0;34m\u001b[0m\u001b[0;34m\u001b[0m\u001b[0m\n\u001b[0m\u001b[1;32m     55\u001b[0m \u001b[0;34m\u001b[0m\u001b[0m\n\u001b[1;32m     56\u001b[0m     \u001b[0;32mtry\u001b[0m\u001b[0;34m:\u001b[0m\u001b[0;34m\u001b[0m\u001b[0;34m\u001b[0m\u001b[0m\n",
      "\u001b[0;32m~/opt/anaconda3/lib/python3.9/site-packages/numpy/core/fromnumeric.py\u001b[0m in \u001b[0;36m_wrapit\u001b[0;34m(obj, method, *args, **kwds)\u001b[0m\n\u001b[1;32m     41\u001b[0m     \u001b[0;32mexcept\u001b[0m \u001b[0mAttributeError\u001b[0m\u001b[0;34m:\u001b[0m\u001b[0;34m\u001b[0m\u001b[0;34m\u001b[0m\u001b[0m\n\u001b[1;32m     42\u001b[0m         \u001b[0mwrap\u001b[0m \u001b[0;34m=\u001b[0m \u001b[0;32mNone\u001b[0m\u001b[0;34m\u001b[0m\u001b[0;34m\u001b[0m\u001b[0m\n\u001b[0;32m---> 43\u001b[0;31m     \u001b[0mresult\u001b[0m \u001b[0;34m=\u001b[0m \u001b[0mgetattr\u001b[0m\u001b[0;34m(\u001b[0m\u001b[0masarray\u001b[0m\u001b[0;34m(\u001b[0m\u001b[0mobj\u001b[0m\u001b[0;34m)\u001b[0m\u001b[0;34m,\u001b[0m \u001b[0mmethod\u001b[0m\u001b[0;34m)\u001b[0m\u001b[0;34m(\u001b[0m\u001b[0;34m*\u001b[0m\u001b[0margs\u001b[0m\u001b[0;34m,\u001b[0m \u001b[0;34m**\u001b[0m\u001b[0mkwds\u001b[0m\u001b[0;34m)\u001b[0m\u001b[0;34m\u001b[0m\u001b[0;34m\u001b[0m\u001b[0m\n\u001b[0m\u001b[1;32m     44\u001b[0m     \u001b[0;32mif\u001b[0m \u001b[0mwrap\u001b[0m\u001b[0;34m:\u001b[0m\u001b[0;34m\u001b[0m\u001b[0;34m\u001b[0m\u001b[0m\n\u001b[1;32m     45\u001b[0m         \u001b[0;32mif\u001b[0m \u001b[0;32mnot\u001b[0m \u001b[0misinstance\u001b[0m\u001b[0;34m(\u001b[0m\u001b[0mresult\u001b[0m\u001b[0;34m,\u001b[0m \u001b[0mmu\u001b[0m\u001b[0;34m.\u001b[0m\u001b[0mndarray\u001b[0m\u001b[0;34m)\u001b[0m\u001b[0;34m:\u001b[0m\u001b[0;34m\u001b[0m\u001b[0;34m\u001b[0m\u001b[0m\n",
      "\u001b[0;31mValueError\u001b[0m: cannot reshape array of size 12 into shape (3,2)"
     ]
    }
   ],
   "source": [
    "ppl_numb = np.reshape(ppl_lst,(3,2))\n",
    "ppl_numb"
   ]
  },
  {
   "cell_type": "markdown",
   "id": "4e187150",
   "metadata": {},
   "source": [
    "## Лист 8"
   ]
  },
  {
   "cell_type": "markdown",
   "id": "c6d5a285",
   "metadata": {},
   "source": [
    "### Задача 2.1"
   ]
  },
  {
   "cell_type": "code",
   "execution_count": 103,
   "id": "07770fb9",
   "metadata": {},
   "outputs": [],
   "source": [
    "import pandas as pd\n",
    "import numpy as np\n",
    "import statsmodels.api as sm \n",
    "import statsmodels.formula.api as smf\n",
    "from statsmodels.iolib.summary2 import summary_params # вывод результатов тестирования\n",
    "from statsmodels.iolib.summary2 import summary_col # вывод результатов тестирования\n",
    "from statsmodels.stats.outliers_influence import variance_inflation_factor # VIF\n",
    "import scipy\n",
    "import matplotlib.pyplot as plt\n",
    "import seaborn as sns"
   ]
  },
  {
   "cell_type": "code",
   "execution_count": 107,
   "id": "2825ba71",
   "metadata": {},
   "outputs": [
    {
     "data": {
      "text/html": [
       "<div>\n",
       "<style scoped>\n",
       "    .dataframe tbody tr th:only-of-type {\n",
       "        vertical-align: middle;\n",
       "    }\n",
       "\n",
       "    .dataframe tbody tr th {\n",
       "        vertical-align: top;\n",
       "    }\n",
       "\n",
       "    .dataframe thead th {\n",
       "        text-align: right;\n",
       "    }\n",
       "</style>\n",
       "<table border=\"1\" class=\"dataframe\">\n",
       "  <thead>\n",
       "    <tr style=\"text-align: right;\">\n",
       "      <th></th>\n",
       "      <th>age</th>\n",
       "      <th>black</th>\n",
       "      <th>case</th>\n",
       "      <th>clerical</th>\n",
       "      <th>construc</th>\n",
       "      <th>educ</th>\n",
       "      <th>earns74</th>\n",
       "      <th>gdhlth</th>\n",
       "      <th>inlf</th>\n",
       "      <th>leis1</th>\n",
       "      <th>...</th>\n",
       "      <th>totwrk</th>\n",
       "      <th>union</th>\n",
       "      <th>worknrm</th>\n",
       "      <th>workscnd</th>\n",
       "      <th>exper</th>\n",
       "      <th>yngkid</th>\n",
       "      <th>yrsmarr</th>\n",
       "      <th>hrwage</th>\n",
       "      <th>agesq</th>\n",
       "      <th>age_2</th>\n",
       "    </tr>\n",
       "  </thead>\n",
       "  <tbody>\n",
       "    <tr>\n",
       "      <th>0</th>\n",
       "      <td>32</td>\n",
       "      <td>0</td>\n",
       "      <td>1</td>\n",
       "      <td>0.000000</td>\n",
       "      <td>0.000000</td>\n",
       "      <td>12</td>\n",
       "      <td>0</td>\n",
       "      <td>0</td>\n",
       "      <td>1</td>\n",
       "      <td>3529</td>\n",
       "      <td>...</td>\n",
       "      <td>3438</td>\n",
       "      <td>0</td>\n",
       "      <td>3438</td>\n",
       "      <td>0</td>\n",
       "      <td>14</td>\n",
       "      <td>0</td>\n",
       "      <td>13</td>\n",
       "      <td>7.070004</td>\n",
       "      <td>1024</td>\n",
       "      <td>1024</td>\n",
       "    </tr>\n",
       "    <tr>\n",
       "      <th>1</th>\n",
       "      <td>31</td>\n",
       "      <td>0</td>\n",
       "      <td>2</td>\n",
       "      <td>0.000000</td>\n",
       "      <td>0.000000</td>\n",
       "      <td>14</td>\n",
       "      <td>9500</td>\n",
       "      <td>1</td>\n",
       "      <td>1</td>\n",
       "      <td>2140</td>\n",
       "      <td>...</td>\n",
       "      <td>5020</td>\n",
       "      <td>0</td>\n",
       "      <td>5020</td>\n",
       "      <td>0</td>\n",
       "      <td>11</td>\n",
       "      <td>0</td>\n",
       "      <td>0</td>\n",
       "      <td>1.429999</td>\n",
       "      <td>961</td>\n",
       "      <td>961</td>\n",
       "    </tr>\n",
       "    <tr>\n",
       "      <th>2</th>\n",
       "      <td>44</td>\n",
       "      <td>0</td>\n",
       "      <td>3</td>\n",
       "      <td>0.000000</td>\n",
       "      <td>0.000000</td>\n",
       "      <td>17</td>\n",
       "      <td>42500</td>\n",
       "      <td>1</td>\n",
       "      <td>1</td>\n",
       "      <td>4595</td>\n",
       "      <td>...</td>\n",
       "      <td>2815</td>\n",
       "      <td>0</td>\n",
       "      <td>2815</td>\n",
       "      <td>0</td>\n",
       "      <td>21</td>\n",
       "      <td>0</td>\n",
       "      <td>0</td>\n",
       "      <td>20.529997</td>\n",
       "      <td>1936</td>\n",
       "      <td>1936</td>\n",
       "    </tr>\n",
       "    <tr>\n",
       "      <th>3</th>\n",
       "      <td>30</td>\n",
       "      <td>0</td>\n",
       "      <td>4</td>\n",
       "      <td>0.000000</td>\n",
       "      <td>0.000000</td>\n",
       "      <td>12</td>\n",
       "      <td>42500</td>\n",
       "      <td>1</td>\n",
       "      <td>1</td>\n",
       "      <td>3211</td>\n",
       "      <td>...</td>\n",
       "      <td>3786</td>\n",
       "      <td>0</td>\n",
       "      <td>3786</td>\n",
       "      <td>0</td>\n",
       "      <td>12</td>\n",
       "      <td>0</td>\n",
       "      <td>12</td>\n",
       "      <td>9.619998</td>\n",
       "      <td>900</td>\n",
       "      <td>900</td>\n",
       "    </tr>\n",
       "    <tr>\n",
       "      <th>4</th>\n",
       "      <td>64</td>\n",
       "      <td>0</td>\n",
       "      <td>5</td>\n",
       "      <td>0.000000</td>\n",
       "      <td>0.000000</td>\n",
       "      <td>14</td>\n",
       "      <td>2500</td>\n",
       "      <td>1</td>\n",
       "      <td>1</td>\n",
       "      <td>4052</td>\n",
       "      <td>...</td>\n",
       "      <td>2580</td>\n",
       "      <td>0</td>\n",
       "      <td>2580</td>\n",
       "      <td>0</td>\n",
       "      <td>44</td>\n",
       "      <td>0</td>\n",
       "      <td>33</td>\n",
       "      <td>2.750000</td>\n",
       "      <td>4096</td>\n",
       "      <td>4096</td>\n",
       "    </tr>\n",
       "    <tr>\n",
       "      <th>...</th>\n",
       "      <td>...</td>\n",
       "      <td>...</td>\n",
       "      <td>...</td>\n",
       "      <td>...</td>\n",
       "      <td>...</td>\n",
       "      <td>...</td>\n",
       "      <td>...</td>\n",
       "      <td>...</td>\n",
       "      <td>...</td>\n",
       "      <td>...</td>\n",
       "      <td>...</td>\n",
       "      <td>...</td>\n",
       "      <td>...</td>\n",
       "      <td>...</td>\n",
       "      <td>...</td>\n",
       "      <td>...</td>\n",
       "      <td>...</td>\n",
       "      <td>...</td>\n",
       "      <td>...</td>\n",
       "      <td>...</td>\n",
       "      <td>...</td>\n",
       "    </tr>\n",
       "    <tr>\n",
       "      <th>701</th>\n",
       "      <td>45</td>\n",
       "      <td>0</td>\n",
       "      <td>702</td>\n",
       "      <td>0.182331</td>\n",
       "      <td>0.030075</td>\n",
       "      <td>12</td>\n",
       "      <td>5500</td>\n",
       "      <td>1</td>\n",
       "      <td>0</td>\n",
       "      <td>5069</td>\n",
       "      <td>...</td>\n",
       "      <td>2026</td>\n",
       "      <td>0</td>\n",
       "      <td>2026</td>\n",
       "      <td>0</td>\n",
       "      <td>27</td>\n",
       "      <td>0</td>\n",
       "      <td>18</td>\n",
       "      <td>NaN</td>\n",
       "      <td>2025</td>\n",
       "      <td>2025</td>\n",
       "    </tr>\n",
       "    <tr>\n",
       "      <th>702</th>\n",
       "      <td>34</td>\n",
       "      <td>0</td>\n",
       "      <td>703</td>\n",
       "      <td>0.182331</td>\n",
       "      <td>0.030075</td>\n",
       "      <td>10</td>\n",
       "      <td>2500</td>\n",
       "      <td>0</td>\n",
       "      <td>0</td>\n",
       "      <td>5885</td>\n",
       "      <td>...</td>\n",
       "      <td>675</td>\n",
       "      <td>1</td>\n",
       "      <td>465</td>\n",
       "      <td>210</td>\n",
       "      <td>18</td>\n",
       "      <td>0</td>\n",
       "      <td>4</td>\n",
       "      <td>NaN</td>\n",
       "      <td>1156</td>\n",
       "      <td>1156</td>\n",
       "    </tr>\n",
       "    <tr>\n",
       "      <th>703</th>\n",
       "      <td>37</td>\n",
       "      <td>0</td>\n",
       "      <td>704</td>\n",
       "      <td>0.182331</td>\n",
       "      <td>0.030075</td>\n",
       "      <td>12</td>\n",
       "      <td>3500</td>\n",
       "      <td>1</td>\n",
       "      <td>0</td>\n",
       "      <td>4719</td>\n",
       "      <td>...</td>\n",
       "      <td>1851</td>\n",
       "      <td>0</td>\n",
       "      <td>1851</td>\n",
       "      <td>0</td>\n",
       "      <td>19</td>\n",
       "      <td>0</td>\n",
       "      <td>17</td>\n",
       "      <td>NaN</td>\n",
       "      <td>1369</td>\n",
       "      <td>1369</td>\n",
       "    </tr>\n",
       "    <tr>\n",
       "      <th>704</th>\n",
       "      <td>54</td>\n",
       "      <td>0</td>\n",
       "      <td>705</td>\n",
       "      <td>0.182331</td>\n",
       "      <td>0.030075</td>\n",
       "      <td>17</td>\n",
       "      <td>32500</td>\n",
       "      <td>1</td>\n",
       "      <td>0</td>\n",
       "      <td>5149</td>\n",
       "      <td>...</td>\n",
       "      <td>1961</td>\n",
       "      <td>1</td>\n",
       "      <td>1481</td>\n",
       "      <td>480</td>\n",
       "      <td>31</td>\n",
       "      <td>0</td>\n",
       "      <td>22</td>\n",
       "      <td>NaN</td>\n",
       "      <td>2916</td>\n",
       "      <td>2916</td>\n",
       "    </tr>\n",
       "    <tr>\n",
       "      <th>705</th>\n",
       "      <td>30</td>\n",
       "      <td>0</td>\n",
       "      <td>706</td>\n",
       "      <td>0.182331</td>\n",
       "      <td>0.030075</td>\n",
       "      <td>16</td>\n",
       "      <td>6750</td>\n",
       "      <td>1</td>\n",
       "      <td>0</td>\n",
       "      <td>4747</td>\n",
       "      <td>...</td>\n",
       "      <td>2363</td>\n",
       "      <td>0</td>\n",
       "      <td>2363</td>\n",
       "      <td>0</td>\n",
       "      <td>8</td>\n",
       "      <td>1</td>\n",
       "      <td>9</td>\n",
       "      <td>NaN</td>\n",
       "      <td>900</td>\n",
       "      <td>900</td>\n",
       "    </tr>\n",
       "  </tbody>\n",
       "</table>\n",
       "<p>706 rows × 35 columns</p>\n",
       "</div>"
      ],
      "text/plain": [
       "     age  black  case  clerical  construc  educ  earns74  gdhlth  inlf  leis1  \\\n",
       "0     32      0     1  0.000000  0.000000    12        0       0     1   3529   \n",
       "1     31      0     2  0.000000  0.000000    14     9500       1     1   2140   \n",
       "2     44      0     3  0.000000  0.000000    17    42500       1     1   4595   \n",
       "3     30      0     4  0.000000  0.000000    12    42500       1     1   3211   \n",
       "4     64      0     5  0.000000  0.000000    14     2500       1     1   4052   \n",
       "..   ...    ...   ...       ...       ...   ...      ...     ...   ...    ...   \n",
       "701   45      0   702  0.182331  0.030075    12     5500       1     0   5069   \n",
       "702   34      0   703  0.182331  0.030075    10     2500       0     0   5885   \n",
       "703   37      0   704  0.182331  0.030075    12     3500       1     0   4719   \n",
       "704   54      0   705  0.182331  0.030075    17    32500       1     0   5149   \n",
       "705   30      0   706  0.182331  0.030075    16     6750       1     0   4747   \n",
       "\n",
       "     ...  totwrk  union  worknrm  workscnd  exper  yngkid  yrsmarr     hrwage  \\\n",
       "0    ...    3438      0     3438         0     14       0       13   7.070004   \n",
       "1    ...    5020      0     5020         0     11       0        0   1.429999   \n",
       "2    ...    2815      0     2815         0     21       0        0  20.529997   \n",
       "3    ...    3786      0     3786         0     12       0       12   9.619998   \n",
       "4    ...    2580      0     2580         0     44       0       33   2.750000   \n",
       "..   ...     ...    ...      ...       ...    ...     ...      ...        ...   \n",
       "701  ...    2026      0     2026         0     27       0       18        NaN   \n",
       "702  ...     675      1      465       210     18       0        4        NaN   \n",
       "703  ...    1851      0     1851         0     19       0       17        NaN   \n",
       "704  ...    1961      1     1481       480     31       0       22        NaN   \n",
       "705  ...    2363      0     2363         0      8       1        9        NaN   \n",
       "\n",
       "     agesq  age_2  \n",
       "0     1024   1024  \n",
       "1      961    961  \n",
       "2     1936   1936  \n",
       "3      900    900  \n",
       "4     4096   4096  \n",
       "..     ...    ...  \n",
       "701   2025   2025  \n",
       "702   1156   1156  \n",
       "703   1369   1369  \n",
       "704   2916   2916  \n",
       "705    900    900  \n",
       "\n",
       "[706 rows x 35 columns]"
      ]
     },
     "execution_count": 107,
     "metadata": {},
     "output_type": "execute_result"
    }
   ],
   "source": [
    "df = pd.read_csv('https://raw.githubusercontent.com/ryupepa/Econometrica/master/python-notebooks/data-csv/sleep75.csv')\n",
    "df['age_2']=df['age']*df['age']\n",
    "df"
   ]
  },
  {
   "cell_type": "code",
   "execution_count": 108,
   "id": "b2eed1be",
   "metadata": {},
   "outputs": [
    {
     "data": {
      "text/plain": [
       "Intercept   -1552.146\n",
       "totwrk         -0.019\n",
       "age            83.036\n",
       "smsa           -0.555\n",
       "male            2.636\n",
       "south          17.250\n",
       "dtype: float64"
      ]
     },
     "execution_count": 108,
     "metadata": {},
     "output_type": "execute_result"
    }
   ],
   "source": [
    "model = smf.ols(data = df , formula = 'sleep~totwrk +  age + +age_2+ smsa + male + south').fit()\n",
    "model_1 = smf.ols(data = df , formula = 'age_2~totwrk +  age + smsa + male + south').fit()\n",
    "model_2 = smf.ols(data = df , formula = 'male~totwrk+  age+age_2 + smsa  + south').fit()\n",
    "model_3 = smf.ols(data = df , formula = 'age~totwrk+  age + smsa +male + south').fit()\n",
    "model_1.params.round(3)"
   ]
  },
  {
   "cell_type": "code",
   "execution_count": 109,
   "id": "afd4c2fe",
   "metadata": {},
   "outputs": [
    {
     "data": {
      "text/plain": [
       "0.9847552819309748"
      ]
     },
     "execution_count": 109,
     "metadata": {},
     "output_type": "execute_result"
    }
   ],
   "source": [
    "model_1.rsquared"
   ]
  },
  {
   "cell_type": "code",
   "execution_count": 110,
   "id": "75f51646",
   "metadata": {},
   "outputs": [
    {
     "data": {
      "text/plain": [
       "66.67"
      ]
     },
     "execution_count": 110,
     "metadata": {},
     "output_type": "execute_result"
    }
   ],
   "source": [
    "VIF_1 = 1/(1 - model_1.rsquared.round(3))\n",
    "VIF_1.round(2)"
   ]
  },
  {
   "cell_type": "code",
   "execution_count": 111,
   "id": "be4fc766",
   "metadata": {},
   "outputs": [
    {
     "data": {
      "text/plain": [
       "1.17"
      ]
     },
     "execution_count": 111,
     "metadata": {},
     "output_type": "execute_result"
    }
   ],
   "source": [
    "VIF_2 = 1/(1 - model_2.rsquared.round(3))\n",
    "VIF_2.round(2)"
   ]
  },
  {
   "cell_type": "code",
   "execution_count": 112,
   "id": "50d50a40",
   "metadata": {},
   "outputs": [
    {
     "name": "stderr",
     "output_type": "stream",
     "text": [
      "/var/folders/qd/xx805xcn5knc8hwt59c2tvdc0000gn/T/ipykernel_82317/3405113206.py:1: RuntimeWarning: divide by zero encountered in double_scalars\n",
      "  VIF_3 = 1/(1 - model_3.rsquared.round(3))\n"
     ]
    },
    {
     "data": {
      "text/plain": [
       "inf"
      ]
     },
     "execution_count": 112,
     "metadata": {},
     "output_type": "execute_result"
    }
   ],
   "source": [
    "VIF_3 = 1/(1 - model_3.rsquared.round(3))\n",
    "VIF_3.round(2)"
   ]
  },
  {
   "cell_type": "markdown",
   "id": "a79fb76c",
   "metadata": {},
   "source": [
    "### Задача 2.2"
   ]
  },
  {
   "cell_type": "code",
   "execution_count": 113,
   "id": "8de3c455",
   "metadata": {},
   "outputs": [],
   "source": [
    "import pandas as pd\n",
    "import numpy as np\n",
    "import statsmodels.api as sm \n",
    "import statsmodels.formula.api as smf\n",
    "from statsmodels.iolib.summary2 import summary_params # вывод результатов тестирования\n",
    "from statsmodels.iolib.summary2 import summary_col # вывод результатов тестирования\n",
    "from statsmodels.stats.outliers_influence import variance_inflation_factor # VIF\n",
    "import scipy\n",
    "import matplotlib.pyplot as plt\n",
    "import seaborn as sns"
   ]
  },
  {
   "cell_type": "code",
   "execution_count": 114,
   "id": "4654ec06",
   "metadata": {},
   "outputs": [
    {
     "data": {
      "text/html": [
       "<div>\n",
       "<style scoped>\n",
       "    .dataframe tbody tr th:only-of-type {\n",
       "        vertical-align: middle;\n",
       "    }\n",
       "\n",
       "    .dataframe tbody tr th {\n",
       "        vertical-align: top;\n",
       "    }\n",
       "\n",
       "    .dataframe thead th {\n",
       "        text-align: right;\n",
       "    }\n",
       "</style>\n",
       "<table border=\"1\" class=\"dataframe\">\n",
       "  <thead>\n",
       "    <tr style=\"text-align: right;\">\n",
       "      <th></th>\n",
       "      <th>age</th>\n",
       "      <th>black</th>\n",
       "      <th>case</th>\n",
       "      <th>clerical</th>\n",
       "      <th>construc</th>\n",
       "      <th>educ</th>\n",
       "      <th>earns74</th>\n",
       "      <th>gdhlth</th>\n",
       "      <th>inlf</th>\n",
       "      <th>leis1</th>\n",
       "      <th>...</th>\n",
       "      <th>totwrk</th>\n",
       "      <th>union</th>\n",
       "      <th>worknrm</th>\n",
       "      <th>workscnd</th>\n",
       "      <th>exper</th>\n",
       "      <th>yngkid</th>\n",
       "      <th>yrsmarr</th>\n",
       "      <th>hrwage</th>\n",
       "      <th>agesq</th>\n",
       "      <th>age_2</th>\n",
       "    </tr>\n",
       "  </thead>\n",
       "  <tbody>\n",
       "    <tr>\n",
       "      <th>0</th>\n",
       "      <td>32</td>\n",
       "      <td>0</td>\n",
       "      <td>1</td>\n",
       "      <td>0.000000</td>\n",
       "      <td>0.000000</td>\n",
       "      <td>12</td>\n",
       "      <td>0</td>\n",
       "      <td>0</td>\n",
       "      <td>1</td>\n",
       "      <td>3529</td>\n",
       "      <td>...</td>\n",
       "      <td>3438</td>\n",
       "      <td>0</td>\n",
       "      <td>3438</td>\n",
       "      <td>0</td>\n",
       "      <td>14</td>\n",
       "      <td>0</td>\n",
       "      <td>13</td>\n",
       "      <td>7.070004</td>\n",
       "      <td>1024</td>\n",
       "      <td>1024</td>\n",
       "    </tr>\n",
       "    <tr>\n",
       "      <th>1</th>\n",
       "      <td>31</td>\n",
       "      <td>0</td>\n",
       "      <td>2</td>\n",
       "      <td>0.000000</td>\n",
       "      <td>0.000000</td>\n",
       "      <td>14</td>\n",
       "      <td>9500</td>\n",
       "      <td>1</td>\n",
       "      <td>1</td>\n",
       "      <td>2140</td>\n",
       "      <td>...</td>\n",
       "      <td>5020</td>\n",
       "      <td>0</td>\n",
       "      <td>5020</td>\n",
       "      <td>0</td>\n",
       "      <td>11</td>\n",
       "      <td>0</td>\n",
       "      <td>0</td>\n",
       "      <td>1.429999</td>\n",
       "      <td>961</td>\n",
       "      <td>961</td>\n",
       "    </tr>\n",
       "    <tr>\n",
       "      <th>2</th>\n",
       "      <td>44</td>\n",
       "      <td>0</td>\n",
       "      <td>3</td>\n",
       "      <td>0.000000</td>\n",
       "      <td>0.000000</td>\n",
       "      <td>17</td>\n",
       "      <td>42500</td>\n",
       "      <td>1</td>\n",
       "      <td>1</td>\n",
       "      <td>4595</td>\n",
       "      <td>...</td>\n",
       "      <td>2815</td>\n",
       "      <td>0</td>\n",
       "      <td>2815</td>\n",
       "      <td>0</td>\n",
       "      <td>21</td>\n",
       "      <td>0</td>\n",
       "      <td>0</td>\n",
       "      <td>20.529997</td>\n",
       "      <td>1936</td>\n",
       "      <td>1936</td>\n",
       "    </tr>\n",
       "    <tr>\n",
       "      <th>3</th>\n",
       "      <td>30</td>\n",
       "      <td>0</td>\n",
       "      <td>4</td>\n",
       "      <td>0.000000</td>\n",
       "      <td>0.000000</td>\n",
       "      <td>12</td>\n",
       "      <td>42500</td>\n",
       "      <td>1</td>\n",
       "      <td>1</td>\n",
       "      <td>3211</td>\n",
       "      <td>...</td>\n",
       "      <td>3786</td>\n",
       "      <td>0</td>\n",
       "      <td>3786</td>\n",
       "      <td>0</td>\n",
       "      <td>12</td>\n",
       "      <td>0</td>\n",
       "      <td>12</td>\n",
       "      <td>9.619998</td>\n",
       "      <td>900</td>\n",
       "      <td>900</td>\n",
       "    </tr>\n",
       "    <tr>\n",
       "      <th>4</th>\n",
       "      <td>64</td>\n",
       "      <td>0</td>\n",
       "      <td>5</td>\n",
       "      <td>0.000000</td>\n",
       "      <td>0.000000</td>\n",
       "      <td>14</td>\n",
       "      <td>2500</td>\n",
       "      <td>1</td>\n",
       "      <td>1</td>\n",
       "      <td>4052</td>\n",
       "      <td>...</td>\n",
       "      <td>2580</td>\n",
       "      <td>0</td>\n",
       "      <td>2580</td>\n",
       "      <td>0</td>\n",
       "      <td>44</td>\n",
       "      <td>0</td>\n",
       "      <td>33</td>\n",
       "      <td>2.750000</td>\n",
       "      <td>4096</td>\n",
       "      <td>4096</td>\n",
       "    </tr>\n",
       "    <tr>\n",
       "      <th>...</th>\n",
       "      <td>...</td>\n",
       "      <td>...</td>\n",
       "      <td>...</td>\n",
       "      <td>...</td>\n",
       "      <td>...</td>\n",
       "      <td>...</td>\n",
       "      <td>...</td>\n",
       "      <td>...</td>\n",
       "      <td>...</td>\n",
       "      <td>...</td>\n",
       "      <td>...</td>\n",
       "      <td>...</td>\n",
       "      <td>...</td>\n",
       "      <td>...</td>\n",
       "      <td>...</td>\n",
       "      <td>...</td>\n",
       "      <td>...</td>\n",
       "      <td>...</td>\n",
       "      <td>...</td>\n",
       "      <td>...</td>\n",
       "      <td>...</td>\n",
       "    </tr>\n",
       "    <tr>\n",
       "      <th>701</th>\n",
       "      <td>45</td>\n",
       "      <td>0</td>\n",
       "      <td>702</td>\n",
       "      <td>0.182331</td>\n",
       "      <td>0.030075</td>\n",
       "      <td>12</td>\n",
       "      <td>5500</td>\n",
       "      <td>1</td>\n",
       "      <td>0</td>\n",
       "      <td>5069</td>\n",
       "      <td>...</td>\n",
       "      <td>2026</td>\n",
       "      <td>0</td>\n",
       "      <td>2026</td>\n",
       "      <td>0</td>\n",
       "      <td>27</td>\n",
       "      <td>0</td>\n",
       "      <td>18</td>\n",
       "      <td>NaN</td>\n",
       "      <td>2025</td>\n",
       "      <td>2025</td>\n",
       "    </tr>\n",
       "    <tr>\n",
       "      <th>702</th>\n",
       "      <td>34</td>\n",
       "      <td>0</td>\n",
       "      <td>703</td>\n",
       "      <td>0.182331</td>\n",
       "      <td>0.030075</td>\n",
       "      <td>10</td>\n",
       "      <td>2500</td>\n",
       "      <td>0</td>\n",
       "      <td>0</td>\n",
       "      <td>5885</td>\n",
       "      <td>...</td>\n",
       "      <td>675</td>\n",
       "      <td>1</td>\n",
       "      <td>465</td>\n",
       "      <td>210</td>\n",
       "      <td>18</td>\n",
       "      <td>0</td>\n",
       "      <td>4</td>\n",
       "      <td>NaN</td>\n",
       "      <td>1156</td>\n",
       "      <td>1156</td>\n",
       "    </tr>\n",
       "    <tr>\n",
       "      <th>703</th>\n",
       "      <td>37</td>\n",
       "      <td>0</td>\n",
       "      <td>704</td>\n",
       "      <td>0.182331</td>\n",
       "      <td>0.030075</td>\n",
       "      <td>12</td>\n",
       "      <td>3500</td>\n",
       "      <td>1</td>\n",
       "      <td>0</td>\n",
       "      <td>4719</td>\n",
       "      <td>...</td>\n",
       "      <td>1851</td>\n",
       "      <td>0</td>\n",
       "      <td>1851</td>\n",
       "      <td>0</td>\n",
       "      <td>19</td>\n",
       "      <td>0</td>\n",
       "      <td>17</td>\n",
       "      <td>NaN</td>\n",
       "      <td>1369</td>\n",
       "      <td>1369</td>\n",
       "    </tr>\n",
       "    <tr>\n",
       "      <th>704</th>\n",
       "      <td>54</td>\n",
       "      <td>0</td>\n",
       "      <td>705</td>\n",
       "      <td>0.182331</td>\n",
       "      <td>0.030075</td>\n",
       "      <td>17</td>\n",
       "      <td>32500</td>\n",
       "      <td>1</td>\n",
       "      <td>0</td>\n",
       "      <td>5149</td>\n",
       "      <td>...</td>\n",
       "      <td>1961</td>\n",
       "      <td>1</td>\n",
       "      <td>1481</td>\n",
       "      <td>480</td>\n",
       "      <td>31</td>\n",
       "      <td>0</td>\n",
       "      <td>22</td>\n",
       "      <td>NaN</td>\n",
       "      <td>2916</td>\n",
       "      <td>2916</td>\n",
       "    </tr>\n",
       "    <tr>\n",
       "      <th>705</th>\n",
       "      <td>30</td>\n",
       "      <td>0</td>\n",
       "      <td>706</td>\n",
       "      <td>0.182331</td>\n",
       "      <td>0.030075</td>\n",
       "      <td>16</td>\n",
       "      <td>6750</td>\n",
       "      <td>1</td>\n",
       "      <td>0</td>\n",
       "      <td>4747</td>\n",
       "      <td>...</td>\n",
       "      <td>2363</td>\n",
       "      <td>0</td>\n",
       "      <td>2363</td>\n",
       "      <td>0</td>\n",
       "      <td>8</td>\n",
       "      <td>1</td>\n",
       "      <td>9</td>\n",
       "      <td>NaN</td>\n",
       "      <td>900</td>\n",
       "      <td>900</td>\n",
       "    </tr>\n",
       "  </tbody>\n",
       "</table>\n",
       "<p>706 rows × 35 columns</p>\n",
       "</div>"
      ],
      "text/plain": [
       "     age  black  case  clerical  construc  educ  earns74  gdhlth  inlf  leis1  \\\n",
       "0     32      0     1  0.000000  0.000000    12        0       0     1   3529   \n",
       "1     31      0     2  0.000000  0.000000    14     9500       1     1   2140   \n",
       "2     44      0     3  0.000000  0.000000    17    42500       1     1   4595   \n",
       "3     30      0     4  0.000000  0.000000    12    42500       1     1   3211   \n",
       "4     64      0     5  0.000000  0.000000    14     2500       1     1   4052   \n",
       "..   ...    ...   ...       ...       ...   ...      ...     ...   ...    ...   \n",
       "701   45      0   702  0.182331  0.030075    12     5500       1     0   5069   \n",
       "702   34      0   703  0.182331  0.030075    10     2500       0     0   5885   \n",
       "703   37      0   704  0.182331  0.030075    12     3500       1     0   4719   \n",
       "704   54      0   705  0.182331  0.030075    17    32500       1     0   5149   \n",
       "705   30      0   706  0.182331  0.030075    16     6750       1     0   4747   \n",
       "\n",
       "     ...  totwrk  union  worknrm  workscnd  exper  yngkid  yrsmarr     hrwage  \\\n",
       "0    ...    3438      0     3438         0     14       0       13   7.070004   \n",
       "1    ...    5020      0     5020         0     11       0        0   1.429999   \n",
       "2    ...    2815      0     2815         0     21       0        0  20.529997   \n",
       "3    ...    3786      0     3786         0     12       0       12   9.619998   \n",
       "4    ...    2580      0     2580         0     44       0       33   2.750000   \n",
       "..   ...     ...    ...      ...       ...    ...     ...      ...        ...   \n",
       "701  ...    2026      0     2026         0     27       0       18        NaN   \n",
       "702  ...     675      1      465       210     18       0        4        NaN   \n",
       "703  ...    1851      0     1851         0     19       0       17        NaN   \n",
       "704  ...    1961      1     1481       480     31       0       22        NaN   \n",
       "705  ...    2363      0     2363         0      8       1        9        NaN   \n",
       "\n",
       "     agesq  age_2  \n",
       "0     1024   1024  \n",
       "1      961    961  \n",
       "2     1936   1936  \n",
       "3      900    900  \n",
       "4     4096   4096  \n",
       "..     ...    ...  \n",
       "701   2025   2025  \n",
       "702   1156   1156  \n",
       "703   1369   1369  \n",
       "704   2916   2916  \n",
       "705    900    900  \n",
       "\n",
       "[706 rows x 35 columns]"
      ]
     },
     "execution_count": 114,
     "metadata": {},
     "output_type": "execute_result"
    }
   ],
   "source": [
    "df = pd.read_csv('https://raw.githubusercontent.com/ryupepa/Econometrica/master/python-notebooks/data-csv/sleep75.csv')\n",
    "df['age_2']=df['age']*df['age']\n",
    "df"
   ]
  },
  {
   "cell_type": "code",
   "execution_count": 115,
   "id": "f8542e60",
   "metadata": {},
   "outputs": [],
   "source": [
    "# Модель sleep на totwrk/100, totwrk^2/10000, age, smsa, male\n",
    "Sleep_eq12 = smf.ols(formula = 'sleep~totwrk +  age + +age_2+ smsa + male + south', data = df).fit()"
   ]
  },
  {
   "cell_type": "code",
   "execution_count": 116,
   "id": "104867d3",
   "metadata": {},
   "outputs": [
    {
     "name": "stdout",
     "output_type": "stream",
     "text": [
      "\n",
      "===============================\n",
      "                       sleep   \n",
      "-------------------------------\n",
      "Intercept           3638.626***\n",
      "                    (218.595)  \n",
      "totwrk              -0.168***  \n",
      "                    (0.018)    \n",
      "age                 -6.165     \n",
      "                    (11.176)   \n",
      "age_2               0.108      \n",
      "                    (0.134)    \n",
      "smsa                -56.699*   \n",
      "                    (32.931)   \n",
      "male                90.972***  \n",
      "                    (34.210)   \n",
      "south               97.640**   \n",
      "                    (41.752)   \n",
      "R-squared           0.131      \n",
      "R-squared Adj.      0.124      \n",
      "No. Observations    706        \n",
      "Residual Std. Error 415.975    \n",
      "F-statistic         17.615     \n",
      "Prob (F-statistic)  0.000      \n",
      "===============================\n",
      "Standard errors in parentheses.\n",
      "* p<.1, ** p<.05, ***p<.01\n"
     ]
    }
   ],
   "source": [
    "info_dict = {'No. Observations': lambda x: '{0:d}'.format(int(x.nobs)), \n",
    "             'Residual Std. Error': lambda x: \"%#8.3f\" % x.mse_resid**0.5,\n",
    "             'F-statistic': lambda x: '{:.3f}'.format(x.fvalue), \n",
    "             'Prob (F-statistic)': lambda x: '{:.3f}'.format(x.f_pvalue)\n",
    "             }\n",
    "print(summary_col(Sleep_eq12, float_format='%.3f', stars=True, info_dict = info_dict))"
   ]
  },
  {
   "cell_type": "code",
   "execution_count": 117,
   "id": "559db026",
   "metadata": {},
   "outputs": [
    {
     "data": {
      "text/html": [
       "<div>\n",
       "<style scoped>\n",
       "    .dataframe tbody tr th:only-of-type {\n",
       "        vertical-align: middle;\n",
       "    }\n",
       "\n",
       "    .dataframe tbody tr th {\n",
       "        vertical-align: top;\n",
       "    }\n",
       "\n",
       "    .dataframe thead th {\n",
       "        text-align: right;\n",
       "    }\n",
       "</style>\n",
       "<table border=\"1\" class=\"dataframe\">\n",
       "  <thead>\n",
       "    <tr style=\"text-align: right;\">\n",
       "      <th></th>\n",
       "      <th>Coef.</th>\n",
       "      <th>Std.Err.</th>\n",
       "      <th>t</th>\n",
       "      <th>P&gt;|t|</th>\n",
       "      <th>[0.05</th>\n",
       "      <th>0.95]</th>\n",
       "      <th>significance</th>\n",
       "    </tr>\n",
       "  </thead>\n",
       "  <tbody>\n",
       "    <tr>\n",
       "      <th>Intercept</th>\n",
       "      <td>3638.626269</td>\n",
       "      <td>218.595464</td>\n",
       "      <td>16.645479</td>\n",
       "      <td>1.181161e-52</td>\n",
       "      <td>3278.591570</td>\n",
       "      <td>3998.660968</td>\n",
       "      <td>Значим</td>\n",
       "    </tr>\n",
       "    <tr>\n",
       "      <th>totwrk</th>\n",
       "      <td>-0.168165</td>\n",
       "      <td>0.018113</td>\n",
       "      <td>-9.283974</td>\n",
       "      <td>2.018779e-19</td>\n",
       "      <td>-0.197998</td>\n",
       "      <td>-0.138331</td>\n",
       "      <td>Значим</td>\n",
       "    </tr>\n",
       "    <tr>\n",
       "      <th>age</th>\n",
       "      <td>-6.165070</td>\n",
       "      <td>11.175631</td>\n",
       "      <td>-0.551653</td>\n",
       "      <td>5.813624e-01</td>\n",
       "      <td>-24.571741</td>\n",
       "      <td>12.241601</td>\n",
       "      <td>Незначим</td>\n",
       "    </tr>\n",
       "    <tr>\n",
       "      <th>age_2</th>\n",
       "      <td>0.108344</td>\n",
       "      <td>0.133550</td>\n",
       "      <td>0.811266</td>\n",
       "      <td>4.174889e-01</td>\n",
       "      <td>-0.111617</td>\n",
       "      <td>0.328305</td>\n",
       "      <td>Незначим</td>\n",
       "    </tr>\n",
       "    <tr>\n",
       "      <th>smsa</th>\n",
       "      <td>-56.698990</td>\n",
       "      <td>32.931132</td>\n",
       "      <td>-1.721744</td>\n",
       "      <td>8.555826e-02</td>\n",
       "      <td>-110.937765</td>\n",
       "      <td>-2.460215</td>\n",
       "      <td>Значим</td>\n",
       "    </tr>\n",
       "    <tr>\n",
       "      <th>male</th>\n",
       "      <td>90.971527</td>\n",
       "      <td>34.210484</td>\n",
       "      <td>2.659171</td>\n",
       "      <td>8.012687e-03</td>\n",
       "      <td>34.625612</td>\n",
       "      <td>147.317441</td>\n",
       "      <td>Значим</td>\n",
       "    </tr>\n",
       "    <tr>\n",
       "      <th>south</th>\n",
       "      <td>97.639593</td>\n",
       "      <td>41.751613</td>\n",
       "      <td>2.338583</td>\n",
       "      <td>1.963799e-02</td>\n",
       "      <td>28.873165</td>\n",
       "      <td>166.406022</td>\n",
       "      <td>Значим</td>\n",
       "    </tr>\n",
       "  </tbody>\n",
       "</table>\n",
       "</div>"
      ],
      "text/plain": [
       "                 Coef.    Std.Err.          t         P>|t|        [0.05  \\\n",
       "Intercept  3638.626269  218.595464  16.645479  1.181161e-52  3278.591570   \n",
       "totwrk       -0.168165    0.018113  -9.283974  2.018779e-19    -0.197998   \n",
       "age          -6.165070   11.175631  -0.551653  5.813624e-01   -24.571741   \n",
       "age_2         0.108344    0.133550   0.811266  4.174889e-01    -0.111617   \n",
       "smsa        -56.698990   32.931132  -1.721744  8.555826e-02  -110.937765   \n",
       "male         90.971527   34.210484   2.659171  8.012687e-03    34.625612   \n",
       "south        97.639593   41.751613   2.338583  1.963799e-02    28.873165   \n",
       "\n",
       "                 0.95] significance  \n",
       "Intercept  3998.660968       Значим  \n",
       "totwrk       -0.138331       Значим  \n",
       "age          12.241601     Незначим  \n",
       "age_2         0.328305     Незначим  \n",
       "smsa         -2.460215       Значим  \n",
       "male        147.317441       Значим  \n",
       "south       166.406022       Значим  "
      ]
     },
     "execution_count": 117,
     "metadata": {},
     "output_type": "execute_result"
    }
   ],
   "source": [
    "df = summary_params(Sleep_eq12, alpha=0.1)\n",
    "df['significance'] = df.apply(lambda x: 'Значим' if x['P>|t|']<0.1 else 'Незначим', axis=1)\n",
    "df"
   ]
  },
  {
   "cell_type": "markdown",
   "id": "f82312c4",
   "metadata": {},
   "source": [
    "### Задание 3.1"
   ]
  },
  {
   "cell_type": "code",
   "execution_count": 118,
   "id": "1d1729bb",
   "metadata": {},
   "outputs": [],
   "source": [
    "import pandas as pd\n",
    "import numpy as np\n",
    "import statsmodels.api as sm \n",
    "import statsmodels.formula.api as smf\n",
    "from statsmodels.iolib.summary2 import summary_params # вывод результатов тестирования\n",
    "from statsmodels.iolib.summary2 import summary_col # вывод результатов тестирования\n",
    "from statsmodels.stats.outliers_influence import variance_inflation_factor # VIF\n",
    "import scipy\n",
    "import matplotlib.pyplot as plt\n",
    "import seaborn as sns"
   ]
  },
  {
   "cell_type": "code",
   "execution_count": 119,
   "id": "d5e580d8",
   "metadata": {},
   "outputs": [
    {
     "data": {
      "text/html": [
       "<div>\n",
       "<style scoped>\n",
       "    .dataframe tbody tr th:only-of-type {\n",
       "        vertical-align: middle;\n",
       "    }\n",
       "\n",
       "    .dataframe tbody tr th {\n",
       "        vertical-align: top;\n",
       "    }\n",
       "\n",
       "    .dataframe thead th {\n",
       "        text-align: right;\n",
       "    }\n",
       "</style>\n",
       "<table border=\"1\" class=\"dataframe\">\n",
       "  <thead>\n",
       "    <tr style=\"text-align: right;\">\n",
       "      <th></th>\n",
       "      <th>age</th>\n",
       "      <th>black</th>\n",
       "      <th>case</th>\n",
       "      <th>clerical</th>\n",
       "      <th>construc</th>\n",
       "      <th>educ</th>\n",
       "      <th>earns74</th>\n",
       "      <th>gdhlth</th>\n",
       "      <th>inlf</th>\n",
       "      <th>leis1</th>\n",
       "      <th>...</th>\n",
       "      <th>totwrk</th>\n",
       "      <th>union</th>\n",
       "      <th>worknrm</th>\n",
       "      <th>workscnd</th>\n",
       "      <th>exper</th>\n",
       "      <th>yngkid</th>\n",
       "      <th>yrsmarr</th>\n",
       "      <th>hrwage</th>\n",
       "      <th>agesq</th>\n",
       "      <th>totwrk_south</th>\n",
       "    </tr>\n",
       "  </thead>\n",
       "  <tbody>\n",
       "    <tr>\n",
       "      <th>0</th>\n",
       "      <td>32</td>\n",
       "      <td>0</td>\n",
       "      <td>1</td>\n",
       "      <td>0.000000</td>\n",
       "      <td>0.000000</td>\n",
       "      <td>12</td>\n",
       "      <td>0</td>\n",
       "      <td>0</td>\n",
       "      <td>1</td>\n",
       "      <td>3529</td>\n",
       "      <td>...</td>\n",
       "      <td>3438</td>\n",
       "      <td>0</td>\n",
       "      <td>3438</td>\n",
       "      <td>0</td>\n",
       "      <td>14</td>\n",
       "      <td>0</td>\n",
       "      <td>13</td>\n",
       "      <td>7.070004</td>\n",
       "      <td>1024</td>\n",
       "      <td>0</td>\n",
       "    </tr>\n",
       "    <tr>\n",
       "      <th>1</th>\n",
       "      <td>31</td>\n",
       "      <td>0</td>\n",
       "      <td>2</td>\n",
       "      <td>0.000000</td>\n",
       "      <td>0.000000</td>\n",
       "      <td>14</td>\n",
       "      <td>9500</td>\n",
       "      <td>1</td>\n",
       "      <td>1</td>\n",
       "      <td>2140</td>\n",
       "      <td>...</td>\n",
       "      <td>5020</td>\n",
       "      <td>0</td>\n",
       "      <td>5020</td>\n",
       "      <td>0</td>\n",
       "      <td>11</td>\n",
       "      <td>0</td>\n",
       "      <td>0</td>\n",
       "      <td>1.429999</td>\n",
       "      <td>961</td>\n",
       "      <td>5020</td>\n",
       "    </tr>\n",
       "    <tr>\n",
       "      <th>2</th>\n",
       "      <td>44</td>\n",
       "      <td>0</td>\n",
       "      <td>3</td>\n",
       "      <td>0.000000</td>\n",
       "      <td>0.000000</td>\n",
       "      <td>17</td>\n",
       "      <td>42500</td>\n",
       "      <td>1</td>\n",
       "      <td>1</td>\n",
       "      <td>4595</td>\n",
       "      <td>...</td>\n",
       "      <td>2815</td>\n",
       "      <td>0</td>\n",
       "      <td>2815</td>\n",
       "      <td>0</td>\n",
       "      <td>21</td>\n",
       "      <td>0</td>\n",
       "      <td>0</td>\n",
       "      <td>20.529997</td>\n",
       "      <td>1936</td>\n",
       "      <td>0</td>\n",
       "    </tr>\n",
       "    <tr>\n",
       "      <th>3</th>\n",
       "      <td>30</td>\n",
       "      <td>0</td>\n",
       "      <td>4</td>\n",
       "      <td>0.000000</td>\n",
       "      <td>0.000000</td>\n",
       "      <td>12</td>\n",
       "      <td>42500</td>\n",
       "      <td>1</td>\n",
       "      <td>1</td>\n",
       "      <td>3211</td>\n",
       "      <td>...</td>\n",
       "      <td>3786</td>\n",
       "      <td>0</td>\n",
       "      <td>3786</td>\n",
       "      <td>0</td>\n",
       "      <td>12</td>\n",
       "      <td>0</td>\n",
       "      <td>12</td>\n",
       "      <td>9.619998</td>\n",
       "      <td>900</td>\n",
       "      <td>0</td>\n",
       "    </tr>\n",
       "    <tr>\n",
       "      <th>4</th>\n",
       "      <td>64</td>\n",
       "      <td>0</td>\n",
       "      <td>5</td>\n",
       "      <td>0.000000</td>\n",
       "      <td>0.000000</td>\n",
       "      <td>14</td>\n",
       "      <td>2500</td>\n",
       "      <td>1</td>\n",
       "      <td>1</td>\n",
       "      <td>4052</td>\n",
       "      <td>...</td>\n",
       "      <td>2580</td>\n",
       "      <td>0</td>\n",
       "      <td>2580</td>\n",
       "      <td>0</td>\n",
       "      <td>44</td>\n",
       "      <td>0</td>\n",
       "      <td>33</td>\n",
       "      <td>2.750000</td>\n",
       "      <td>4096</td>\n",
       "      <td>0</td>\n",
       "    </tr>\n",
       "    <tr>\n",
       "      <th>...</th>\n",
       "      <td>...</td>\n",
       "      <td>...</td>\n",
       "      <td>...</td>\n",
       "      <td>...</td>\n",
       "      <td>...</td>\n",
       "      <td>...</td>\n",
       "      <td>...</td>\n",
       "      <td>...</td>\n",
       "      <td>...</td>\n",
       "      <td>...</td>\n",
       "      <td>...</td>\n",
       "      <td>...</td>\n",
       "      <td>...</td>\n",
       "      <td>...</td>\n",
       "      <td>...</td>\n",
       "      <td>...</td>\n",
       "      <td>...</td>\n",
       "      <td>...</td>\n",
       "      <td>...</td>\n",
       "      <td>...</td>\n",
       "      <td>...</td>\n",
       "    </tr>\n",
       "    <tr>\n",
       "      <th>701</th>\n",
       "      <td>45</td>\n",
       "      <td>0</td>\n",
       "      <td>702</td>\n",
       "      <td>0.182331</td>\n",
       "      <td>0.030075</td>\n",
       "      <td>12</td>\n",
       "      <td>5500</td>\n",
       "      <td>1</td>\n",
       "      <td>0</td>\n",
       "      <td>5069</td>\n",
       "      <td>...</td>\n",
       "      <td>2026</td>\n",
       "      <td>0</td>\n",
       "      <td>2026</td>\n",
       "      <td>0</td>\n",
       "      <td>27</td>\n",
       "      <td>0</td>\n",
       "      <td>18</td>\n",
       "      <td>NaN</td>\n",
       "      <td>2025</td>\n",
       "      <td>0</td>\n",
       "    </tr>\n",
       "    <tr>\n",
       "      <th>702</th>\n",
       "      <td>34</td>\n",
       "      <td>0</td>\n",
       "      <td>703</td>\n",
       "      <td>0.182331</td>\n",
       "      <td>0.030075</td>\n",
       "      <td>10</td>\n",
       "      <td>2500</td>\n",
       "      <td>0</td>\n",
       "      <td>0</td>\n",
       "      <td>5885</td>\n",
       "      <td>...</td>\n",
       "      <td>675</td>\n",
       "      <td>1</td>\n",
       "      <td>465</td>\n",
       "      <td>210</td>\n",
       "      <td>18</td>\n",
       "      <td>0</td>\n",
       "      <td>4</td>\n",
       "      <td>NaN</td>\n",
       "      <td>1156</td>\n",
       "      <td>0</td>\n",
       "    </tr>\n",
       "    <tr>\n",
       "      <th>703</th>\n",
       "      <td>37</td>\n",
       "      <td>0</td>\n",
       "      <td>704</td>\n",
       "      <td>0.182331</td>\n",
       "      <td>0.030075</td>\n",
       "      <td>12</td>\n",
       "      <td>3500</td>\n",
       "      <td>1</td>\n",
       "      <td>0</td>\n",
       "      <td>4719</td>\n",
       "      <td>...</td>\n",
       "      <td>1851</td>\n",
       "      <td>0</td>\n",
       "      <td>1851</td>\n",
       "      <td>0</td>\n",
       "      <td>19</td>\n",
       "      <td>0</td>\n",
       "      <td>17</td>\n",
       "      <td>NaN</td>\n",
       "      <td>1369</td>\n",
       "      <td>0</td>\n",
       "    </tr>\n",
       "    <tr>\n",
       "      <th>704</th>\n",
       "      <td>54</td>\n",
       "      <td>0</td>\n",
       "      <td>705</td>\n",
       "      <td>0.182331</td>\n",
       "      <td>0.030075</td>\n",
       "      <td>17</td>\n",
       "      <td>32500</td>\n",
       "      <td>1</td>\n",
       "      <td>0</td>\n",
       "      <td>5149</td>\n",
       "      <td>...</td>\n",
       "      <td>1961</td>\n",
       "      <td>1</td>\n",
       "      <td>1481</td>\n",
       "      <td>480</td>\n",
       "      <td>31</td>\n",
       "      <td>0</td>\n",
       "      <td>22</td>\n",
       "      <td>NaN</td>\n",
       "      <td>2916</td>\n",
       "      <td>1961</td>\n",
       "    </tr>\n",
       "    <tr>\n",
       "      <th>705</th>\n",
       "      <td>30</td>\n",
       "      <td>0</td>\n",
       "      <td>706</td>\n",
       "      <td>0.182331</td>\n",
       "      <td>0.030075</td>\n",
       "      <td>16</td>\n",
       "      <td>6750</td>\n",
       "      <td>1</td>\n",
       "      <td>0</td>\n",
       "      <td>4747</td>\n",
       "      <td>...</td>\n",
       "      <td>2363</td>\n",
       "      <td>0</td>\n",
       "      <td>2363</td>\n",
       "      <td>0</td>\n",
       "      <td>8</td>\n",
       "      <td>1</td>\n",
       "      <td>9</td>\n",
       "      <td>NaN</td>\n",
       "      <td>900</td>\n",
       "      <td>2363</td>\n",
       "    </tr>\n",
       "  </tbody>\n",
       "</table>\n",
       "<p>706 rows × 35 columns</p>\n",
       "</div>"
      ],
      "text/plain": [
       "     age  black  case  clerical  construc  educ  earns74  gdhlth  inlf  leis1  \\\n",
       "0     32      0     1  0.000000  0.000000    12        0       0     1   3529   \n",
       "1     31      0     2  0.000000  0.000000    14     9500       1     1   2140   \n",
       "2     44      0     3  0.000000  0.000000    17    42500       1     1   4595   \n",
       "3     30      0     4  0.000000  0.000000    12    42500       1     1   3211   \n",
       "4     64      0     5  0.000000  0.000000    14     2500       1     1   4052   \n",
       "..   ...    ...   ...       ...       ...   ...      ...     ...   ...    ...   \n",
       "701   45      0   702  0.182331  0.030075    12     5500       1     0   5069   \n",
       "702   34      0   703  0.182331  0.030075    10     2500       0     0   5885   \n",
       "703   37      0   704  0.182331  0.030075    12     3500       1     0   4719   \n",
       "704   54      0   705  0.182331  0.030075    17    32500       1     0   5149   \n",
       "705   30      0   706  0.182331  0.030075    16     6750       1     0   4747   \n",
       "\n",
       "     ...  totwrk  union  worknrm  workscnd  exper  yngkid  yrsmarr     hrwage  \\\n",
       "0    ...    3438      0     3438         0     14       0       13   7.070004   \n",
       "1    ...    5020      0     5020         0     11       0        0   1.429999   \n",
       "2    ...    2815      0     2815         0     21       0        0  20.529997   \n",
       "3    ...    3786      0     3786         0     12       0       12   9.619998   \n",
       "4    ...    2580      0     2580         0     44       0       33   2.750000   \n",
       "..   ...     ...    ...      ...       ...    ...     ...      ...        ...   \n",
       "701  ...    2026      0     2026         0     27       0       18        NaN   \n",
       "702  ...     675      1      465       210     18       0        4        NaN   \n",
       "703  ...    1851      0     1851         0     19       0       17        NaN   \n",
       "704  ...    1961      1     1481       480     31       0       22        NaN   \n",
       "705  ...    2363      0     2363         0      8       1        9        NaN   \n",
       "\n",
       "     agesq  totwrk_south  \n",
       "0     1024             0  \n",
       "1      961          5020  \n",
       "2     1936             0  \n",
       "3      900             0  \n",
       "4     4096             0  \n",
       "..     ...           ...  \n",
       "701   2025             0  \n",
       "702   1156             0  \n",
       "703   1369             0  \n",
       "704   2916          1961  \n",
       "705    900          2363  \n",
       "\n",
       "[706 rows x 35 columns]"
      ]
     },
     "execution_count": 119,
     "metadata": {},
     "output_type": "execute_result"
    }
   ],
   "source": [
    "df = pd.read_csv('https://raw.githubusercontent.com/ryupepa/Econometrica/master/python-notebooks/data-csv/sleep75.csv')\n",
    "df['totwrk_south']=df['totwrk']*df['south']\n",
    "df"
   ]
  },
  {
   "cell_type": "code",
   "execution_count": 120,
   "id": "a67461a1",
   "metadata": {},
   "outputs": [
    {
     "data": {
      "text/plain": [
       "Intercept       1883.936\n",
       "totwrk_south       0.862\n",
       "age               -3.438\n",
       "smsa             -46.641\n",
       "male             645.996\n",
       "south          -1780.732\n",
       "dtype: float64"
      ]
     },
     "execution_count": 120,
     "metadata": {},
     "output_type": "execute_result"
    }
   ],
   "source": [
    "model = smf.ols(data = df , formula = 'sleep~totwrk + totwrk_south+  age + smsa + male + south').fit()\n",
    "model_1 = smf.ols(data = df , formula = 'totwrk~totwrk_south +  age + smsa + male + south').fit()\n",
    "model_2 = smf.ols(data = df , formula = 'south~totwrk+ totwrk_south+  age + smsa  + male').fit()\n",
    "model_3 = smf.ols(data = df , formula = 'totwrk_south~totwrk+  age + smsa +male + south').fit()\n",
    "model_1.params.round(3)"
   ]
  },
  {
   "cell_type": "code",
   "execution_count": 121,
   "id": "bfe235d9",
   "metadata": {},
   "outputs": [
    {
     "data": {
      "text/plain": [
       "0.2408992634093874"
      ]
     },
     "execution_count": 121,
     "metadata": {},
     "output_type": "execute_result"
    }
   ],
   "source": [
    "model_1.rsquared"
   ]
  },
  {
   "cell_type": "code",
   "execution_count": 122,
   "id": "e4647d11",
   "metadata": {},
   "outputs": [
    {
     "data": {
      "text/plain": [
       "1.32"
      ]
     },
     "execution_count": 122,
     "metadata": {},
     "output_type": "execute_result"
    }
   ],
   "source": [
    "VIF_1 = 1/(1 - model_1.rsquared.round(3))\n",
    "VIF_1.round(2)"
   ]
  },
  {
   "cell_type": "code",
   "execution_count": 123,
   "id": "194f9635",
   "metadata": {},
   "outputs": [
    {
     "data": {
      "text/plain": [
       "8.55"
      ]
     },
     "execution_count": 123,
     "metadata": {},
     "output_type": "execute_result"
    }
   ],
   "source": [
    "VIF_2 = 1/(1 - model_2.rsquared.round(3))\n",
    "VIF_2.round(2)"
   ]
  },
  {
   "cell_type": "code",
   "execution_count": 125,
   "id": "93824303",
   "metadata": {},
   "outputs": [
    {
     "data": {
      "text/plain": [
       "8.77"
      ]
     },
     "execution_count": 125,
     "metadata": {},
     "output_type": "execute_result"
    }
   ],
   "source": [
    "VIF_3 = 1/(1 - model_3.rsquared.round(3))\n",
    "VIF_3.round(2)"
   ]
  },
  {
   "cell_type": "markdown",
   "id": "12ba6636",
   "metadata": {},
   "source": [
    "### Задача 3.2"
   ]
  },
  {
   "cell_type": "code",
   "execution_count": 127,
   "id": "65a75fbf",
   "metadata": {},
   "outputs": [
    {
     "data": {
      "text/html": [
       "<div>\n",
       "<style scoped>\n",
       "    .dataframe tbody tr th:only-of-type {\n",
       "        vertical-align: middle;\n",
       "    }\n",
       "\n",
       "    .dataframe tbody tr th {\n",
       "        vertical-align: top;\n",
       "    }\n",
       "\n",
       "    .dataframe thead th {\n",
       "        text-align: right;\n",
       "    }\n",
       "</style>\n",
       "<table border=\"1\" class=\"dataframe\">\n",
       "  <thead>\n",
       "    <tr style=\"text-align: right;\">\n",
       "      <th></th>\n",
       "      <th>age</th>\n",
       "      <th>black</th>\n",
       "      <th>case</th>\n",
       "      <th>clerical</th>\n",
       "      <th>construc</th>\n",
       "      <th>educ</th>\n",
       "      <th>earns74</th>\n",
       "      <th>gdhlth</th>\n",
       "      <th>inlf</th>\n",
       "      <th>leis1</th>\n",
       "      <th>...</th>\n",
       "      <th>totwrk</th>\n",
       "      <th>union</th>\n",
       "      <th>worknrm</th>\n",
       "      <th>workscnd</th>\n",
       "      <th>exper</th>\n",
       "      <th>yngkid</th>\n",
       "      <th>yrsmarr</th>\n",
       "      <th>hrwage</th>\n",
       "      <th>agesq</th>\n",
       "      <th>totwrk_south</th>\n",
       "    </tr>\n",
       "  </thead>\n",
       "  <tbody>\n",
       "    <tr>\n",
       "      <th>0</th>\n",
       "      <td>32</td>\n",
       "      <td>0</td>\n",
       "      <td>1</td>\n",
       "      <td>0.000000</td>\n",
       "      <td>0.000000</td>\n",
       "      <td>12</td>\n",
       "      <td>0</td>\n",
       "      <td>0</td>\n",
       "      <td>1</td>\n",
       "      <td>3529</td>\n",
       "      <td>...</td>\n",
       "      <td>3438</td>\n",
       "      <td>0</td>\n",
       "      <td>3438</td>\n",
       "      <td>0</td>\n",
       "      <td>14</td>\n",
       "      <td>0</td>\n",
       "      <td>13</td>\n",
       "      <td>7.070004</td>\n",
       "      <td>1024</td>\n",
       "      <td>0</td>\n",
       "    </tr>\n",
       "    <tr>\n",
       "      <th>1</th>\n",
       "      <td>31</td>\n",
       "      <td>0</td>\n",
       "      <td>2</td>\n",
       "      <td>0.000000</td>\n",
       "      <td>0.000000</td>\n",
       "      <td>14</td>\n",
       "      <td>9500</td>\n",
       "      <td>1</td>\n",
       "      <td>1</td>\n",
       "      <td>2140</td>\n",
       "      <td>...</td>\n",
       "      <td>5020</td>\n",
       "      <td>0</td>\n",
       "      <td>5020</td>\n",
       "      <td>0</td>\n",
       "      <td>11</td>\n",
       "      <td>0</td>\n",
       "      <td>0</td>\n",
       "      <td>1.429999</td>\n",
       "      <td>961</td>\n",
       "      <td>5020</td>\n",
       "    </tr>\n",
       "    <tr>\n",
       "      <th>2</th>\n",
       "      <td>44</td>\n",
       "      <td>0</td>\n",
       "      <td>3</td>\n",
       "      <td>0.000000</td>\n",
       "      <td>0.000000</td>\n",
       "      <td>17</td>\n",
       "      <td>42500</td>\n",
       "      <td>1</td>\n",
       "      <td>1</td>\n",
       "      <td>4595</td>\n",
       "      <td>...</td>\n",
       "      <td>2815</td>\n",
       "      <td>0</td>\n",
       "      <td>2815</td>\n",
       "      <td>0</td>\n",
       "      <td>21</td>\n",
       "      <td>0</td>\n",
       "      <td>0</td>\n",
       "      <td>20.529997</td>\n",
       "      <td>1936</td>\n",
       "      <td>0</td>\n",
       "    </tr>\n",
       "    <tr>\n",
       "      <th>3</th>\n",
       "      <td>30</td>\n",
       "      <td>0</td>\n",
       "      <td>4</td>\n",
       "      <td>0.000000</td>\n",
       "      <td>0.000000</td>\n",
       "      <td>12</td>\n",
       "      <td>42500</td>\n",
       "      <td>1</td>\n",
       "      <td>1</td>\n",
       "      <td>3211</td>\n",
       "      <td>...</td>\n",
       "      <td>3786</td>\n",
       "      <td>0</td>\n",
       "      <td>3786</td>\n",
       "      <td>0</td>\n",
       "      <td>12</td>\n",
       "      <td>0</td>\n",
       "      <td>12</td>\n",
       "      <td>9.619998</td>\n",
       "      <td>900</td>\n",
       "      <td>0</td>\n",
       "    </tr>\n",
       "    <tr>\n",
       "      <th>4</th>\n",
       "      <td>64</td>\n",
       "      <td>0</td>\n",
       "      <td>5</td>\n",
       "      <td>0.000000</td>\n",
       "      <td>0.000000</td>\n",
       "      <td>14</td>\n",
       "      <td>2500</td>\n",
       "      <td>1</td>\n",
       "      <td>1</td>\n",
       "      <td>4052</td>\n",
       "      <td>...</td>\n",
       "      <td>2580</td>\n",
       "      <td>0</td>\n",
       "      <td>2580</td>\n",
       "      <td>0</td>\n",
       "      <td>44</td>\n",
       "      <td>0</td>\n",
       "      <td>33</td>\n",
       "      <td>2.750000</td>\n",
       "      <td>4096</td>\n",
       "      <td>0</td>\n",
       "    </tr>\n",
       "    <tr>\n",
       "      <th>...</th>\n",
       "      <td>...</td>\n",
       "      <td>...</td>\n",
       "      <td>...</td>\n",
       "      <td>...</td>\n",
       "      <td>...</td>\n",
       "      <td>...</td>\n",
       "      <td>...</td>\n",
       "      <td>...</td>\n",
       "      <td>...</td>\n",
       "      <td>...</td>\n",
       "      <td>...</td>\n",
       "      <td>...</td>\n",
       "      <td>...</td>\n",
       "      <td>...</td>\n",
       "      <td>...</td>\n",
       "      <td>...</td>\n",
       "      <td>...</td>\n",
       "      <td>...</td>\n",
       "      <td>...</td>\n",
       "      <td>...</td>\n",
       "      <td>...</td>\n",
       "    </tr>\n",
       "    <tr>\n",
       "      <th>701</th>\n",
       "      <td>45</td>\n",
       "      <td>0</td>\n",
       "      <td>702</td>\n",
       "      <td>0.182331</td>\n",
       "      <td>0.030075</td>\n",
       "      <td>12</td>\n",
       "      <td>5500</td>\n",
       "      <td>1</td>\n",
       "      <td>0</td>\n",
       "      <td>5069</td>\n",
       "      <td>...</td>\n",
       "      <td>2026</td>\n",
       "      <td>0</td>\n",
       "      <td>2026</td>\n",
       "      <td>0</td>\n",
       "      <td>27</td>\n",
       "      <td>0</td>\n",
       "      <td>18</td>\n",
       "      <td>NaN</td>\n",
       "      <td>2025</td>\n",
       "      <td>0</td>\n",
       "    </tr>\n",
       "    <tr>\n",
       "      <th>702</th>\n",
       "      <td>34</td>\n",
       "      <td>0</td>\n",
       "      <td>703</td>\n",
       "      <td>0.182331</td>\n",
       "      <td>0.030075</td>\n",
       "      <td>10</td>\n",
       "      <td>2500</td>\n",
       "      <td>0</td>\n",
       "      <td>0</td>\n",
       "      <td>5885</td>\n",
       "      <td>...</td>\n",
       "      <td>675</td>\n",
       "      <td>1</td>\n",
       "      <td>465</td>\n",
       "      <td>210</td>\n",
       "      <td>18</td>\n",
       "      <td>0</td>\n",
       "      <td>4</td>\n",
       "      <td>NaN</td>\n",
       "      <td>1156</td>\n",
       "      <td>0</td>\n",
       "    </tr>\n",
       "    <tr>\n",
       "      <th>703</th>\n",
       "      <td>37</td>\n",
       "      <td>0</td>\n",
       "      <td>704</td>\n",
       "      <td>0.182331</td>\n",
       "      <td>0.030075</td>\n",
       "      <td>12</td>\n",
       "      <td>3500</td>\n",
       "      <td>1</td>\n",
       "      <td>0</td>\n",
       "      <td>4719</td>\n",
       "      <td>...</td>\n",
       "      <td>1851</td>\n",
       "      <td>0</td>\n",
       "      <td>1851</td>\n",
       "      <td>0</td>\n",
       "      <td>19</td>\n",
       "      <td>0</td>\n",
       "      <td>17</td>\n",
       "      <td>NaN</td>\n",
       "      <td>1369</td>\n",
       "      <td>0</td>\n",
       "    </tr>\n",
       "    <tr>\n",
       "      <th>704</th>\n",
       "      <td>54</td>\n",
       "      <td>0</td>\n",
       "      <td>705</td>\n",
       "      <td>0.182331</td>\n",
       "      <td>0.030075</td>\n",
       "      <td>17</td>\n",
       "      <td>32500</td>\n",
       "      <td>1</td>\n",
       "      <td>0</td>\n",
       "      <td>5149</td>\n",
       "      <td>...</td>\n",
       "      <td>1961</td>\n",
       "      <td>1</td>\n",
       "      <td>1481</td>\n",
       "      <td>480</td>\n",
       "      <td>31</td>\n",
       "      <td>0</td>\n",
       "      <td>22</td>\n",
       "      <td>NaN</td>\n",
       "      <td>2916</td>\n",
       "      <td>1961</td>\n",
       "    </tr>\n",
       "    <tr>\n",
       "      <th>705</th>\n",
       "      <td>30</td>\n",
       "      <td>0</td>\n",
       "      <td>706</td>\n",
       "      <td>0.182331</td>\n",
       "      <td>0.030075</td>\n",
       "      <td>16</td>\n",
       "      <td>6750</td>\n",
       "      <td>1</td>\n",
       "      <td>0</td>\n",
       "      <td>4747</td>\n",
       "      <td>...</td>\n",
       "      <td>2363</td>\n",
       "      <td>0</td>\n",
       "      <td>2363</td>\n",
       "      <td>0</td>\n",
       "      <td>8</td>\n",
       "      <td>1</td>\n",
       "      <td>9</td>\n",
       "      <td>NaN</td>\n",
       "      <td>900</td>\n",
       "      <td>2363</td>\n",
       "    </tr>\n",
       "  </tbody>\n",
       "</table>\n",
       "<p>706 rows × 35 columns</p>\n",
       "</div>"
      ],
      "text/plain": [
       "     age  black  case  clerical  construc  educ  earns74  gdhlth  inlf  leis1  \\\n",
       "0     32      0     1  0.000000  0.000000    12        0       0     1   3529   \n",
       "1     31      0     2  0.000000  0.000000    14     9500       1     1   2140   \n",
       "2     44      0     3  0.000000  0.000000    17    42500       1     1   4595   \n",
       "3     30      0     4  0.000000  0.000000    12    42500       1     1   3211   \n",
       "4     64      0     5  0.000000  0.000000    14     2500       1     1   4052   \n",
       "..   ...    ...   ...       ...       ...   ...      ...     ...   ...    ...   \n",
       "701   45      0   702  0.182331  0.030075    12     5500       1     0   5069   \n",
       "702   34      0   703  0.182331  0.030075    10     2500       0     0   5885   \n",
       "703   37      0   704  0.182331  0.030075    12     3500       1     0   4719   \n",
       "704   54      0   705  0.182331  0.030075    17    32500       1     0   5149   \n",
       "705   30      0   706  0.182331  0.030075    16     6750       1     0   4747   \n",
       "\n",
       "     ...  totwrk  union  worknrm  workscnd  exper  yngkid  yrsmarr     hrwage  \\\n",
       "0    ...    3438      0     3438         0     14       0       13   7.070004   \n",
       "1    ...    5020      0     5020         0     11       0        0   1.429999   \n",
       "2    ...    2815      0     2815         0     21       0        0  20.529997   \n",
       "3    ...    3786      0     3786         0     12       0       12   9.619998   \n",
       "4    ...    2580      0     2580         0     44       0       33   2.750000   \n",
       "..   ...     ...    ...      ...       ...    ...     ...      ...        ...   \n",
       "701  ...    2026      0     2026         0     27       0       18        NaN   \n",
       "702  ...     675      1      465       210     18       0        4        NaN   \n",
       "703  ...    1851      0     1851         0     19       0       17        NaN   \n",
       "704  ...    1961      1     1481       480     31       0       22        NaN   \n",
       "705  ...    2363      0     2363         0      8       1        9        NaN   \n",
       "\n",
       "     agesq  totwrk_south  \n",
       "0     1024             0  \n",
       "1      961          5020  \n",
       "2     1936             0  \n",
       "3      900             0  \n",
       "4     4096             0  \n",
       "..     ...           ...  \n",
       "701   2025             0  \n",
       "702   1156             0  \n",
       "703   1369             0  \n",
       "704   2916          1961  \n",
       "705    900          2363  \n",
       "\n",
       "[706 rows x 35 columns]"
      ]
     },
     "execution_count": 127,
     "metadata": {},
     "output_type": "execute_result"
    }
   ],
   "source": [
    "df = pd.read_csv('https://raw.githubusercontent.com/ryupepa/Econometrica/master/python-notebooks/data-csv/sleep75.csv')\n",
    "df['totwrk_south']=df['totwrk']*df['south']\n",
    "df"
   ]
  },
  {
   "cell_type": "code",
   "execution_count": 128,
   "id": "55c2a62f",
   "metadata": {},
   "outputs": [],
   "source": [
    "# Модель sleep на totwrk/100, totwrk^2/10000, age, smsa, male\n",
    "Sleep_eq12 = smf.ols(formula = 'sleep~totwrk +  age + totwrk_south+ smsa + male + south', data = df).fit()"
   ]
  },
  {
   "cell_type": "code",
   "execution_count": 129,
   "id": "d6916c22",
   "metadata": {},
   "outputs": [
    {
     "name": "stdout",
     "output_type": "stream",
     "text": [
      "\n",
      "===============================\n",
      "                       sleep   \n",
      "-------------------------------\n",
      "Intercept           3484.252***\n",
      "                    (70.188)   \n",
      "totwrk              -0.178***  \n",
      "                    (0.019)    \n",
      "age                 2.908**    \n",
      "                    (1.386)    \n",
      "totwrk_south        0.064      \n",
      "                    (0.050)    \n",
      "smsa                -56.929*   \n",
      "                    (32.909)   \n",
      "male                91.015***  \n",
      "                    (34.186)   \n",
      "south               -41.027    \n",
      "                    (118.036)  \n",
      "R-squared           0.133      \n",
      "R-squared Adj.      0.125      \n",
      "No. Observations    706        \n",
      "Residual Std. Error 415.690    \n",
      "F-statistic         17.799     \n",
      "Prob (F-statistic)  0.000      \n",
      "===============================\n",
      "Standard errors in parentheses.\n",
      "* p<.1, ** p<.05, ***p<.01\n"
     ]
    }
   ],
   "source": [
    "info_dict = {'No. Observations': lambda x: '{0:d}'.format(int(x.nobs)), \n",
    "             'Residual Std. Error': lambda x: \"%#8.3f\" % x.mse_resid**0.5,\n",
    "             'F-statistic': lambda x: '{:.3f}'.format(x.fvalue), \n",
    "             'Prob (F-statistic)': lambda x: '{:.3f}'.format(x.f_pvalue)\n",
    "             }\n",
    "print(summary_col(Sleep_eq12, float_format='%.3f', stars=True, info_dict = info_dict))"
   ]
  },
  {
   "cell_type": "code",
   "execution_count": 130,
   "id": "85829d97",
   "metadata": {},
   "outputs": [
    {
     "data": {
      "text/html": [
       "<div>\n",
       "<style scoped>\n",
       "    .dataframe tbody tr th:only-of-type {\n",
       "        vertical-align: middle;\n",
       "    }\n",
       "\n",
       "    .dataframe tbody tr th {\n",
       "        vertical-align: top;\n",
       "    }\n",
       "\n",
       "    .dataframe thead th {\n",
       "        text-align: right;\n",
       "    }\n",
       "</style>\n",
       "<table border=\"1\" class=\"dataframe\">\n",
       "  <thead>\n",
       "    <tr style=\"text-align: right;\">\n",
       "      <th></th>\n",
       "      <th>Coef.</th>\n",
       "      <th>Std.Err.</th>\n",
       "      <th>t</th>\n",
       "      <th>P&gt;|t|</th>\n",
       "      <th>[0.025</th>\n",
       "      <th>0.975]</th>\n",
       "      <th>significance</th>\n",
       "    </tr>\n",
       "  </thead>\n",
       "  <tbody>\n",
       "    <tr>\n",
       "      <th>Intercept</th>\n",
       "      <td>3484.251830</td>\n",
       "      <td>70.188075</td>\n",
       "      <td>49.641649</td>\n",
       "      <td>2.396751e-231</td>\n",
       "      <td>3346.447119</td>\n",
       "      <td>3622.056540</td>\n",
       "      <td>Значим</td>\n",
       "    </tr>\n",
       "    <tr>\n",
       "      <th>totwrk</th>\n",
       "      <td>-0.178110</td>\n",
       "      <td>0.018965</td>\n",
       "      <td>-9.391382</td>\n",
       "      <td>8.193899e-20</td>\n",
       "      <td>-0.215346</td>\n",
       "      <td>-0.140875</td>\n",
       "      <td>Значим</td>\n",
       "    </tr>\n",
       "    <tr>\n",
       "      <th>age</th>\n",
       "      <td>2.908394</td>\n",
       "      <td>1.385722</td>\n",
       "      <td>2.098829</td>\n",
       "      <td>3.619016e-02</td>\n",
       "      <td>0.187717</td>\n",
       "      <td>5.629071</td>\n",
       "      <td>Значим</td>\n",
       "    </tr>\n",
       "    <tr>\n",
       "      <th>totwrk_south</th>\n",
       "      <td>0.063627</td>\n",
       "      <td>0.050001</td>\n",
       "      <td>1.272498</td>\n",
       "      <td>2.036193e-01</td>\n",
       "      <td>-0.034544</td>\n",
       "      <td>0.161798</td>\n",
       "      <td>Незначим</td>\n",
       "    </tr>\n",
       "    <tr>\n",
       "      <th>smsa</th>\n",
       "      <td>-56.929434</td>\n",
       "      <td>32.908726</td>\n",
       "      <td>-1.729919</td>\n",
       "      <td>8.408614e-02</td>\n",
       "      <td>-121.541227</td>\n",
       "      <td>7.682359</td>\n",
       "      <td>Незначим</td>\n",
       "    </tr>\n",
       "    <tr>\n",
       "      <th>male</th>\n",
       "      <td>91.015100</td>\n",
       "      <td>34.185730</td>\n",
       "      <td>2.662371</td>\n",
       "      <td>7.937669e-03</td>\n",
       "      <td>23.896084</td>\n",
       "      <td>158.134117</td>\n",
       "      <td>Значим</td>\n",
       "    </tr>\n",
       "    <tr>\n",
       "      <th>south</th>\n",
       "      <td>-41.026786</td>\n",
       "      <td>118.036491</td>\n",
       "      <td>-0.347577</td>\n",
       "      <td>7.282624e-01</td>\n",
       "      <td>-272.775332</td>\n",
       "      <td>190.721760</td>\n",
       "      <td>Незначим</td>\n",
       "    </tr>\n",
       "  </tbody>\n",
       "</table>\n",
       "</div>"
      ],
      "text/plain": [
       "                    Coef.    Std.Err.          t          P>|t|       [0.025  \\\n",
       "Intercept     3484.251830   70.188075  49.641649  2.396751e-231  3346.447119   \n",
       "totwrk          -0.178110    0.018965  -9.391382   8.193899e-20    -0.215346   \n",
       "age              2.908394    1.385722   2.098829   3.619016e-02     0.187717   \n",
       "totwrk_south     0.063627    0.050001   1.272498   2.036193e-01    -0.034544   \n",
       "smsa           -56.929434   32.908726  -1.729919   8.408614e-02  -121.541227   \n",
       "male            91.015100   34.185730   2.662371   7.937669e-03    23.896084   \n",
       "south          -41.026786  118.036491  -0.347577   7.282624e-01  -272.775332   \n",
       "\n",
       "                   0.975] significance  \n",
       "Intercept     3622.056540       Значим  \n",
       "totwrk          -0.140875       Значим  \n",
       "age              5.629071       Значим  \n",
       "totwrk_south     0.161798     Незначим  \n",
       "smsa             7.682359     Незначим  \n",
       "male           158.134117       Значим  \n",
       "south          190.721760     Незначим  "
      ]
     },
     "execution_count": 130,
     "metadata": {},
     "output_type": "execute_result"
    }
   ],
   "source": [
    "df = summary_params(Sleep_eq12, alpha=0.05)\n",
    "df['significance'] = df.apply(lambda x: 'Значим' if x['P>|t|']<0.05 else 'Незначим', axis=1)\n",
    "df"
   ]
  },
  {
   "cell_type": "markdown",
   "id": "0ef166e4",
   "metadata": {},
   "source": [
    "### Задача 4.1"
   ]
  },
  {
   "cell_type": "code",
   "execution_count": 132,
   "id": "fade5e87",
   "metadata": {},
   "outputs": [],
   "source": [
    "import pandas as pd\n",
    "import numpy as np\n",
    "import statsmodels.api as sm \n",
    "import statsmodels.formula.api as smf\n",
    "from statsmodels.iolib.summary2 import summary_params # вывод результатов тестирования\n",
    "from statsmodels.iolib.summary2 import summary_col # вывод результатов тестирования\n",
    "from statsmodels.stats.outliers_influence import variance_inflation_factor # VIF\n",
    "import scipy\n",
    "import matplotlib.pyplot as plt\n",
    "import seaborn as sns"
   ]
  },
  {
   "cell_type": "code",
   "execution_count": 134,
   "id": "e20b5196",
   "metadata": {},
   "outputs": [
    {
     "data": {
      "text/html": [
       "<div>\n",
       "<style scoped>\n",
       "    .dataframe tbody tr th:only-of-type {\n",
       "        vertical-align: middle;\n",
       "    }\n",
       "\n",
       "    .dataframe tbody tr th {\n",
       "        vertical-align: top;\n",
       "    }\n",
       "\n",
       "    .dataframe thead th {\n",
       "        text-align: right;\n",
       "    }\n",
       "</style>\n",
       "<table border=\"1\" class=\"dataframe\">\n",
       "  <thead>\n",
       "    <tr style=\"text-align: right;\">\n",
       "      <th></th>\n",
       "      <th>wage</th>\n",
       "      <th>hours</th>\n",
       "      <th>IQ</th>\n",
       "      <th>KWW</th>\n",
       "      <th>educ</th>\n",
       "      <th>exper</th>\n",
       "      <th>tenure</th>\n",
       "      <th>age</th>\n",
       "      <th>married</th>\n",
       "      <th>black</th>\n",
       "      <th>south</th>\n",
       "      <th>urban</th>\n",
       "      <th>sibs</th>\n",
       "      <th>brthord</th>\n",
       "      <th>meduc</th>\n",
       "      <th>feduc</th>\n",
       "      <th>lwage</th>\n",
       "      <th>age_2</th>\n",
       "    </tr>\n",
       "  </thead>\n",
       "  <tbody>\n",
       "    <tr>\n",
       "      <th>0</th>\n",
       "      <td>769</td>\n",
       "      <td>40</td>\n",
       "      <td>93</td>\n",
       "      <td>35</td>\n",
       "      <td>12</td>\n",
       "      <td>11</td>\n",
       "      <td>2</td>\n",
       "      <td>31</td>\n",
       "      <td>1</td>\n",
       "      <td>0</td>\n",
       "      <td>0</td>\n",
       "      <td>1</td>\n",
       "      <td>1</td>\n",
       "      <td>2.0</td>\n",
       "      <td>8.0</td>\n",
       "      <td>8.0</td>\n",
       "      <td>6.645091</td>\n",
       "      <td>961</td>\n",
       "    </tr>\n",
       "    <tr>\n",
       "      <th>1</th>\n",
       "      <td>808</td>\n",
       "      <td>50</td>\n",
       "      <td>119</td>\n",
       "      <td>41</td>\n",
       "      <td>18</td>\n",
       "      <td>11</td>\n",
       "      <td>16</td>\n",
       "      <td>37</td>\n",
       "      <td>1</td>\n",
       "      <td>0</td>\n",
       "      <td>0</td>\n",
       "      <td>1</td>\n",
       "      <td>1</td>\n",
       "      <td>NaN</td>\n",
       "      <td>14.0</td>\n",
       "      <td>14.0</td>\n",
       "      <td>6.694562</td>\n",
       "      <td>1369</td>\n",
       "    </tr>\n",
       "    <tr>\n",
       "      <th>2</th>\n",
       "      <td>825</td>\n",
       "      <td>40</td>\n",
       "      <td>108</td>\n",
       "      <td>46</td>\n",
       "      <td>14</td>\n",
       "      <td>11</td>\n",
       "      <td>9</td>\n",
       "      <td>33</td>\n",
       "      <td>1</td>\n",
       "      <td>0</td>\n",
       "      <td>0</td>\n",
       "      <td>1</td>\n",
       "      <td>1</td>\n",
       "      <td>2.0</td>\n",
       "      <td>14.0</td>\n",
       "      <td>14.0</td>\n",
       "      <td>6.715384</td>\n",
       "      <td>1089</td>\n",
       "    </tr>\n",
       "    <tr>\n",
       "      <th>3</th>\n",
       "      <td>650</td>\n",
       "      <td>40</td>\n",
       "      <td>96</td>\n",
       "      <td>32</td>\n",
       "      <td>12</td>\n",
       "      <td>13</td>\n",
       "      <td>7</td>\n",
       "      <td>32</td>\n",
       "      <td>1</td>\n",
       "      <td>0</td>\n",
       "      <td>0</td>\n",
       "      <td>1</td>\n",
       "      <td>4</td>\n",
       "      <td>3.0</td>\n",
       "      <td>12.0</td>\n",
       "      <td>12.0</td>\n",
       "      <td>6.476973</td>\n",
       "      <td>1024</td>\n",
       "    </tr>\n",
       "    <tr>\n",
       "      <th>4</th>\n",
       "      <td>562</td>\n",
       "      <td>40</td>\n",
       "      <td>74</td>\n",
       "      <td>27</td>\n",
       "      <td>11</td>\n",
       "      <td>14</td>\n",
       "      <td>5</td>\n",
       "      <td>34</td>\n",
       "      <td>1</td>\n",
       "      <td>0</td>\n",
       "      <td>0</td>\n",
       "      <td>1</td>\n",
       "      <td>10</td>\n",
       "      <td>6.0</td>\n",
       "      <td>6.0</td>\n",
       "      <td>11.0</td>\n",
       "      <td>6.331502</td>\n",
       "      <td>1156</td>\n",
       "    </tr>\n",
       "    <tr>\n",
       "      <th>...</th>\n",
       "      <td>...</td>\n",
       "      <td>...</td>\n",
       "      <td>...</td>\n",
       "      <td>...</td>\n",
       "      <td>...</td>\n",
       "      <td>...</td>\n",
       "      <td>...</td>\n",
       "      <td>...</td>\n",
       "      <td>...</td>\n",
       "      <td>...</td>\n",
       "      <td>...</td>\n",
       "      <td>...</td>\n",
       "      <td>...</td>\n",
       "      <td>...</td>\n",
       "      <td>...</td>\n",
       "      <td>...</td>\n",
       "      <td>...</td>\n",
       "      <td>...</td>\n",
       "    </tr>\n",
       "    <tr>\n",
       "      <th>930</th>\n",
       "      <td>520</td>\n",
       "      <td>40</td>\n",
       "      <td>79</td>\n",
       "      <td>28</td>\n",
       "      <td>16</td>\n",
       "      <td>6</td>\n",
       "      <td>1</td>\n",
       "      <td>30</td>\n",
       "      <td>1</td>\n",
       "      <td>1</td>\n",
       "      <td>1</td>\n",
       "      <td>0</td>\n",
       "      <td>0</td>\n",
       "      <td>1.0</td>\n",
       "      <td>11.0</td>\n",
       "      <td>NaN</td>\n",
       "      <td>6.253829</td>\n",
       "      <td>900</td>\n",
       "    </tr>\n",
       "    <tr>\n",
       "      <th>931</th>\n",
       "      <td>1202</td>\n",
       "      <td>40</td>\n",
       "      <td>102</td>\n",
       "      <td>32</td>\n",
       "      <td>13</td>\n",
       "      <td>10</td>\n",
       "      <td>3</td>\n",
       "      <td>31</td>\n",
       "      <td>1</td>\n",
       "      <td>0</td>\n",
       "      <td>1</td>\n",
       "      <td>1</td>\n",
       "      <td>7</td>\n",
       "      <td>7.0</td>\n",
       "      <td>8.0</td>\n",
       "      <td>6.0</td>\n",
       "      <td>7.091742</td>\n",
       "      <td>961</td>\n",
       "    </tr>\n",
       "    <tr>\n",
       "      <th>932</th>\n",
       "      <td>538</td>\n",
       "      <td>45</td>\n",
       "      <td>77</td>\n",
       "      <td>22</td>\n",
       "      <td>12</td>\n",
       "      <td>12</td>\n",
       "      <td>10</td>\n",
       "      <td>28</td>\n",
       "      <td>1</td>\n",
       "      <td>1</td>\n",
       "      <td>1</td>\n",
       "      <td>0</td>\n",
       "      <td>9</td>\n",
       "      <td>NaN</td>\n",
       "      <td>7.0</td>\n",
       "      <td>NaN</td>\n",
       "      <td>6.287858</td>\n",
       "      <td>784</td>\n",
       "    </tr>\n",
       "    <tr>\n",
       "      <th>933</th>\n",
       "      <td>873</td>\n",
       "      <td>44</td>\n",
       "      <td>109</td>\n",
       "      <td>25</td>\n",
       "      <td>12</td>\n",
       "      <td>12</td>\n",
       "      <td>12</td>\n",
       "      <td>28</td>\n",
       "      <td>1</td>\n",
       "      <td>0</td>\n",
       "      <td>1</td>\n",
       "      <td>0</td>\n",
       "      <td>1</td>\n",
       "      <td>1.0</td>\n",
       "      <td>NaN</td>\n",
       "      <td>11.0</td>\n",
       "      <td>6.771935</td>\n",
       "      <td>784</td>\n",
       "    </tr>\n",
       "    <tr>\n",
       "      <th>934</th>\n",
       "      <td>1000</td>\n",
       "      <td>40</td>\n",
       "      <td>107</td>\n",
       "      <td>32</td>\n",
       "      <td>12</td>\n",
       "      <td>17</td>\n",
       "      <td>18</td>\n",
       "      <td>35</td>\n",
       "      <td>1</td>\n",
       "      <td>0</td>\n",
       "      <td>1</td>\n",
       "      <td>0</td>\n",
       "      <td>5</td>\n",
       "      <td>1.0</td>\n",
       "      <td>NaN</td>\n",
       "      <td>NaN</td>\n",
       "      <td>6.907755</td>\n",
       "      <td>1225</td>\n",
       "    </tr>\n",
       "  </tbody>\n",
       "</table>\n",
       "<p>935 rows × 18 columns</p>\n",
       "</div>"
      ],
      "text/plain": [
       "     wage  hours   IQ  KWW  educ  exper  tenure  age  married  black  south  \\\n",
       "0     769     40   93   35    12     11       2   31        1      0      0   \n",
       "1     808     50  119   41    18     11      16   37        1      0      0   \n",
       "2     825     40  108   46    14     11       9   33        1      0      0   \n",
       "3     650     40   96   32    12     13       7   32        1      0      0   \n",
       "4     562     40   74   27    11     14       5   34        1      0      0   \n",
       "..    ...    ...  ...  ...   ...    ...     ...  ...      ...    ...    ...   \n",
       "930   520     40   79   28    16      6       1   30        1      1      1   \n",
       "931  1202     40  102   32    13     10       3   31        1      0      1   \n",
       "932   538     45   77   22    12     12      10   28        1      1      1   \n",
       "933   873     44  109   25    12     12      12   28        1      0      1   \n",
       "934  1000     40  107   32    12     17      18   35        1      0      1   \n",
       "\n",
       "     urban  sibs  brthord  meduc  feduc     lwage  age_2  \n",
       "0        1     1      2.0    8.0    8.0  6.645091    961  \n",
       "1        1     1      NaN   14.0   14.0  6.694562   1369  \n",
       "2        1     1      2.0   14.0   14.0  6.715384   1089  \n",
       "3        1     4      3.0   12.0   12.0  6.476973   1024  \n",
       "4        1    10      6.0    6.0   11.0  6.331502   1156  \n",
       "..     ...   ...      ...    ...    ...       ...    ...  \n",
       "930      0     0      1.0   11.0    NaN  6.253829    900  \n",
       "931      1     7      7.0    8.0    6.0  7.091742    961  \n",
       "932      0     9      NaN    7.0    NaN  6.287858    784  \n",
       "933      0     1      1.0    NaN   11.0  6.771935    784  \n",
       "934      0     5      1.0    NaN    NaN  6.907755   1225  \n",
       "\n",
       "[935 rows x 18 columns]"
      ]
     },
     "execution_count": 134,
     "metadata": {},
     "output_type": "execute_result"
    }
   ],
   "source": [
    "df = pd.read_csv('https://raw.githubusercontent.com/artamonoff/Econometrica/master/python-notebooks/data-csv/wage2.csv')\n",
    "df['age_2']=df['age']*df['age']\n",
    "df"
   ]
  },
  {
   "cell_type": "code",
   "execution_count": 135,
   "id": "e59e830a",
   "metadata": {},
   "outputs": [
    {
     "data": {
      "text/plain": [
       "Intercept    16.514\n",
       "age_2         0.015\n",
       "IQ           -0.000\n",
       "married      -0.003\n",
       "urban         0.014\n",
       "south         0.010\n",
       "dtype: float64"
      ]
     },
     "execution_count": 135,
     "metadata": {},
     "output_type": "execute_result"
    }
   ],
   "source": [
    "model = smf.ols(data = df , formula = 'np.log(wage)~age_2+  age + IQ+married + urban + south').fit()\n",
    "model_1 = smf.ols(data = df , formula = 'age~ age_2+IQ+married + urban+ south').fit()\n",
    "model_2 = smf.ols(data = df , formula = 'age_2~  age + IQ + urban+married + south').fit()\n",
    "model_3 = smf.ols(data = df , formula = 'urban~age+age_2+ IQ + married + south').fit()\n",
    "model_1.params.round(3)"
   ]
  },
  {
   "cell_type": "code",
   "execution_count": 136,
   "id": "c25bc458",
   "metadata": {},
   "outputs": [
    {
     "data": {
      "text/plain": [
       "0.9984198929582937"
      ]
     },
     "execution_count": 136,
     "metadata": {},
     "output_type": "execute_result"
    }
   ],
   "source": [
    "model_1.rsquared"
   ]
  },
  {
   "cell_type": "code",
   "execution_count": 137,
   "id": "0645bbb5",
   "metadata": {},
   "outputs": [
    {
     "data": {
      "text/plain": [
       "500.0"
      ]
     },
     "execution_count": 137,
     "metadata": {},
     "output_type": "execute_result"
    }
   ],
   "source": [
    "VIF_1 = 1/(1 - model_1.rsquared.round(3))\n",
    "VIF_1.round(2)"
   ]
  },
  {
   "cell_type": "code",
   "execution_count": 138,
   "id": "f9e12ac8",
   "metadata": {},
   "outputs": [
    {
     "data": {
      "text/plain": [
       "500.0"
      ]
     },
     "execution_count": 138,
     "metadata": {},
     "output_type": "execute_result"
    }
   ],
   "source": [
    "VIF_2 = 1/(1 - model_2.rsquared.round(3))\n",
    "VIF_2.round(2)"
   ]
  },
  {
   "cell_type": "code",
   "execution_count": 139,
   "id": "8e8489ed",
   "metadata": {},
   "outputs": [
    {
     "data": {
      "text/plain": [
       "1.02"
      ]
     },
     "execution_count": 139,
     "metadata": {},
     "output_type": "execute_result"
    }
   ],
   "source": [
    "VIF_3 = 1/(1 - model_3.rsquared.round(3))\n",
    "VIF_3.round(2)"
   ]
  },
  {
   "cell_type": "markdown",
   "id": "1e54ad3f",
   "metadata": {},
   "source": [
    "### Задача 4.2"
   ]
  },
  {
   "cell_type": "code",
   "execution_count": 145,
   "id": "8f88881f",
   "metadata": {},
   "outputs": [],
   "source": [
    "import pandas as pd\n",
    "import numpy as np\n",
    "import statsmodels.api as sm \n",
    "import statsmodels.formula.api as smf\n",
    "from statsmodels.iolib.summary2 import summary_params # вывод результатов тестирования\n",
    "from statsmodels.iolib.summary2 import summary_col # вывод результатов тестирования\n",
    "from statsmodels.stats.outliers_influence import variance_inflation_factor # VIF\n",
    "import scipy\n",
    "import matplotlib.pyplot as plt\n",
    "import seaborn as sns"
   ]
  },
  {
   "cell_type": "code",
   "execution_count": 146,
   "id": "c367f280",
   "metadata": {},
   "outputs": [
    {
     "data": {
      "text/html": [
       "<div>\n",
       "<style scoped>\n",
       "    .dataframe tbody tr th:only-of-type {\n",
       "        vertical-align: middle;\n",
       "    }\n",
       "\n",
       "    .dataframe tbody tr th {\n",
       "        vertical-align: top;\n",
       "    }\n",
       "\n",
       "    .dataframe thead th {\n",
       "        text-align: right;\n",
       "    }\n",
       "</style>\n",
       "<table border=\"1\" class=\"dataframe\">\n",
       "  <thead>\n",
       "    <tr style=\"text-align: right;\">\n",
       "      <th></th>\n",
       "      <th>wage</th>\n",
       "      <th>hours</th>\n",
       "      <th>IQ</th>\n",
       "      <th>KWW</th>\n",
       "      <th>educ</th>\n",
       "      <th>exper</th>\n",
       "      <th>tenure</th>\n",
       "      <th>age</th>\n",
       "      <th>married</th>\n",
       "      <th>black</th>\n",
       "      <th>south</th>\n",
       "      <th>urban</th>\n",
       "      <th>sibs</th>\n",
       "      <th>brthord</th>\n",
       "      <th>meduc</th>\n",
       "      <th>feduc</th>\n",
       "      <th>lwage</th>\n",
       "      <th>age_2</th>\n",
       "    </tr>\n",
       "  </thead>\n",
       "  <tbody>\n",
       "    <tr>\n",
       "      <th>0</th>\n",
       "      <td>769</td>\n",
       "      <td>40</td>\n",
       "      <td>93</td>\n",
       "      <td>35</td>\n",
       "      <td>12</td>\n",
       "      <td>11</td>\n",
       "      <td>2</td>\n",
       "      <td>31</td>\n",
       "      <td>1</td>\n",
       "      <td>0</td>\n",
       "      <td>0</td>\n",
       "      <td>1</td>\n",
       "      <td>1</td>\n",
       "      <td>2.0</td>\n",
       "      <td>8.0</td>\n",
       "      <td>8.0</td>\n",
       "      <td>6.645091</td>\n",
       "      <td>961</td>\n",
       "    </tr>\n",
       "    <tr>\n",
       "      <th>1</th>\n",
       "      <td>808</td>\n",
       "      <td>50</td>\n",
       "      <td>119</td>\n",
       "      <td>41</td>\n",
       "      <td>18</td>\n",
       "      <td>11</td>\n",
       "      <td>16</td>\n",
       "      <td>37</td>\n",
       "      <td>1</td>\n",
       "      <td>0</td>\n",
       "      <td>0</td>\n",
       "      <td>1</td>\n",
       "      <td>1</td>\n",
       "      <td>NaN</td>\n",
       "      <td>14.0</td>\n",
       "      <td>14.0</td>\n",
       "      <td>6.694562</td>\n",
       "      <td>1369</td>\n",
       "    </tr>\n",
       "    <tr>\n",
       "      <th>2</th>\n",
       "      <td>825</td>\n",
       "      <td>40</td>\n",
       "      <td>108</td>\n",
       "      <td>46</td>\n",
       "      <td>14</td>\n",
       "      <td>11</td>\n",
       "      <td>9</td>\n",
       "      <td>33</td>\n",
       "      <td>1</td>\n",
       "      <td>0</td>\n",
       "      <td>0</td>\n",
       "      <td>1</td>\n",
       "      <td>1</td>\n",
       "      <td>2.0</td>\n",
       "      <td>14.0</td>\n",
       "      <td>14.0</td>\n",
       "      <td>6.715384</td>\n",
       "      <td>1089</td>\n",
       "    </tr>\n",
       "    <tr>\n",
       "      <th>3</th>\n",
       "      <td>650</td>\n",
       "      <td>40</td>\n",
       "      <td>96</td>\n",
       "      <td>32</td>\n",
       "      <td>12</td>\n",
       "      <td>13</td>\n",
       "      <td>7</td>\n",
       "      <td>32</td>\n",
       "      <td>1</td>\n",
       "      <td>0</td>\n",
       "      <td>0</td>\n",
       "      <td>1</td>\n",
       "      <td>4</td>\n",
       "      <td>3.0</td>\n",
       "      <td>12.0</td>\n",
       "      <td>12.0</td>\n",
       "      <td>6.476973</td>\n",
       "      <td>1024</td>\n",
       "    </tr>\n",
       "    <tr>\n",
       "      <th>4</th>\n",
       "      <td>562</td>\n",
       "      <td>40</td>\n",
       "      <td>74</td>\n",
       "      <td>27</td>\n",
       "      <td>11</td>\n",
       "      <td>14</td>\n",
       "      <td>5</td>\n",
       "      <td>34</td>\n",
       "      <td>1</td>\n",
       "      <td>0</td>\n",
       "      <td>0</td>\n",
       "      <td>1</td>\n",
       "      <td>10</td>\n",
       "      <td>6.0</td>\n",
       "      <td>6.0</td>\n",
       "      <td>11.0</td>\n",
       "      <td>6.331502</td>\n",
       "      <td>1156</td>\n",
       "    </tr>\n",
       "    <tr>\n",
       "      <th>...</th>\n",
       "      <td>...</td>\n",
       "      <td>...</td>\n",
       "      <td>...</td>\n",
       "      <td>...</td>\n",
       "      <td>...</td>\n",
       "      <td>...</td>\n",
       "      <td>...</td>\n",
       "      <td>...</td>\n",
       "      <td>...</td>\n",
       "      <td>...</td>\n",
       "      <td>...</td>\n",
       "      <td>...</td>\n",
       "      <td>...</td>\n",
       "      <td>...</td>\n",
       "      <td>...</td>\n",
       "      <td>...</td>\n",
       "      <td>...</td>\n",
       "      <td>...</td>\n",
       "    </tr>\n",
       "    <tr>\n",
       "      <th>930</th>\n",
       "      <td>520</td>\n",
       "      <td>40</td>\n",
       "      <td>79</td>\n",
       "      <td>28</td>\n",
       "      <td>16</td>\n",
       "      <td>6</td>\n",
       "      <td>1</td>\n",
       "      <td>30</td>\n",
       "      <td>1</td>\n",
       "      <td>1</td>\n",
       "      <td>1</td>\n",
       "      <td>0</td>\n",
       "      <td>0</td>\n",
       "      <td>1.0</td>\n",
       "      <td>11.0</td>\n",
       "      <td>NaN</td>\n",
       "      <td>6.253829</td>\n",
       "      <td>900</td>\n",
       "    </tr>\n",
       "    <tr>\n",
       "      <th>931</th>\n",
       "      <td>1202</td>\n",
       "      <td>40</td>\n",
       "      <td>102</td>\n",
       "      <td>32</td>\n",
       "      <td>13</td>\n",
       "      <td>10</td>\n",
       "      <td>3</td>\n",
       "      <td>31</td>\n",
       "      <td>1</td>\n",
       "      <td>0</td>\n",
       "      <td>1</td>\n",
       "      <td>1</td>\n",
       "      <td>7</td>\n",
       "      <td>7.0</td>\n",
       "      <td>8.0</td>\n",
       "      <td>6.0</td>\n",
       "      <td>7.091742</td>\n",
       "      <td>961</td>\n",
       "    </tr>\n",
       "    <tr>\n",
       "      <th>932</th>\n",
       "      <td>538</td>\n",
       "      <td>45</td>\n",
       "      <td>77</td>\n",
       "      <td>22</td>\n",
       "      <td>12</td>\n",
       "      <td>12</td>\n",
       "      <td>10</td>\n",
       "      <td>28</td>\n",
       "      <td>1</td>\n",
       "      <td>1</td>\n",
       "      <td>1</td>\n",
       "      <td>0</td>\n",
       "      <td>9</td>\n",
       "      <td>NaN</td>\n",
       "      <td>7.0</td>\n",
       "      <td>NaN</td>\n",
       "      <td>6.287858</td>\n",
       "      <td>784</td>\n",
       "    </tr>\n",
       "    <tr>\n",
       "      <th>933</th>\n",
       "      <td>873</td>\n",
       "      <td>44</td>\n",
       "      <td>109</td>\n",
       "      <td>25</td>\n",
       "      <td>12</td>\n",
       "      <td>12</td>\n",
       "      <td>12</td>\n",
       "      <td>28</td>\n",
       "      <td>1</td>\n",
       "      <td>0</td>\n",
       "      <td>1</td>\n",
       "      <td>0</td>\n",
       "      <td>1</td>\n",
       "      <td>1.0</td>\n",
       "      <td>NaN</td>\n",
       "      <td>11.0</td>\n",
       "      <td>6.771935</td>\n",
       "      <td>784</td>\n",
       "    </tr>\n",
       "    <tr>\n",
       "      <th>934</th>\n",
       "      <td>1000</td>\n",
       "      <td>40</td>\n",
       "      <td>107</td>\n",
       "      <td>32</td>\n",
       "      <td>12</td>\n",
       "      <td>17</td>\n",
       "      <td>18</td>\n",
       "      <td>35</td>\n",
       "      <td>1</td>\n",
       "      <td>0</td>\n",
       "      <td>1</td>\n",
       "      <td>0</td>\n",
       "      <td>5</td>\n",
       "      <td>1.0</td>\n",
       "      <td>NaN</td>\n",
       "      <td>NaN</td>\n",
       "      <td>6.907755</td>\n",
       "      <td>1225</td>\n",
       "    </tr>\n",
       "  </tbody>\n",
       "</table>\n",
       "<p>935 rows × 18 columns</p>\n",
       "</div>"
      ],
      "text/plain": [
       "     wage  hours   IQ  KWW  educ  exper  tenure  age  married  black  south  \\\n",
       "0     769     40   93   35    12     11       2   31        1      0      0   \n",
       "1     808     50  119   41    18     11      16   37        1      0      0   \n",
       "2     825     40  108   46    14     11       9   33        1      0      0   \n",
       "3     650     40   96   32    12     13       7   32        1      0      0   \n",
       "4     562     40   74   27    11     14       5   34        1      0      0   \n",
       "..    ...    ...  ...  ...   ...    ...     ...  ...      ...    ...    ...   \n",
       "930   520     40   79   28    16      6       1   30        1      1      1   \n",
       "931  1202     40  102   32    13     10       3   31        1      0      1   \n",
       "932   538     45   77   22    12     12      10   28        1      1      1   \n",
       "933   873     44  109   25    12     12      12   28        1      0      1   \n",
       "934  1000     40  107   32    12     17      18   35        1      0      1   \n",
       "\n",
       "     urban  sibs  brthord  meduc  feduc     lwage  age_2  \n",
       "0        1     1      2.0    8.0    8.0  6.645091    961  \n",
       "1        1     1      NaN   14.0   14.0  6.694562   1369  \n",
       "2        1     1      2.0   14.0   14.0  6.715384   1089  \n",
       "3        1     4      3.0   12.0   12.0  6.476973   1024  \n",
       "4        1    10      6.0    6.0   11.0  6.331502   1156  \n",
       "..     ...   ...      ...    ...    ...       ...    ...  \n",
       "930      0     0      1.0   11.0    NaN  6.253829    900  \n",
       "931      1     7      7.0    8.0    6.0  7.091742    961  \n",
       "932      0     9      NaN    7.0    NaN  6.287858    784  \n",
       "933      0     1      1.0    NaN   11.0  6.771935    784  \n",
       "934      0     5      1.0    NaN    NaN  6.907755   1225  \n",
       "\n",
       "[935 rows x 18 columns]"
      ]
     },
     "execution_count": 146,
     "metadata": {},
     "output_type": "execute_result"
    }
   ],
   "source": [
    "df = pd.read_csv('https://raw.githubusercontent.com/artamonoff/Econometrica/master/python-notebooks/data-csv/wage2.csv')\n",
    "df['age_2']=df['age']*df['age']\n",
    "df"
   ]
  },
  {
   "cell_type": "code",
   "execution_count": 147,
   "id": "fed37644",
   "metadata": {},
   "outputs": [],
   "source": [
    "wage_eq12 = smf.ols(formula = 'np.log(wage)~age_2+  age + IQ+married + urban + south', data = df)"
   ]
  },
  {
   "cell_type": "code",
   "execution_count": 149,
   "id": "02ddc82b",
   "metadata": {},
   "outputs": [
    {
     "ename": "AttributeError",
     "evalue": "'OLS' object has no attribute 'params'",
     "output_type": "error",
     "traceback": [
      "\u001b[0;31m---------------------------------------------------------------------------\u001b[0m",
      "\u001b[0;31mAttributeError\u001b[0m                            Traceback (most recent call last)",
      "\u001b[0;32m/var/folders/qd/xx805xcn5knc8hwt59c2tvdc0000gn/T/ipykernel_82317/2051658086.py\u001b[0m in \u001b[0;36m<module>\u001b[0;34m\u001b[0m\n\u001b[1;32m      3\u001b[0m              \u001b[0;34m'F-statistic'\u001b[0m\u001b[0;34m:\u001b[0m \u001b[0;32mlambda\u001b[0m \u001b[0mx\u001b[0m\u001b[0;34m:\u001b[0m \u001b[0;34m'{:.3f}'\u001b[0m\u001b[0;34m.\u001b[0m\u001b[0mformat\u001b[0m\u001b[0;34m(\u001b[0m\u001b[0mx\u001b[0m\u001b[0;34m.\u001b[0m\u001b[0mfvalue\u001b[0m\u001b[0;34m)\u001b[0m\u001b[0;34m,\u001b[0m\u001b[0;34m\u001b[0m\u001b[0;34m\u001b[0m\u001b[0m\n\u001b[1;32m      4\u001b[0m              'Prob (F-statistic)': lambda x: '{:.3f}'.format(x.f_pvalue)}\n\u001b[0;32m----> 5\u001b[0;31m \u001b[0mprint\u001b[0m\u001b[0;34m(\u001b[0m\u001b[0msummary_col\u001b[0m\u001b[0;34m(\u001b[0m\u001b[0mwage_eq12\u001b[0m\u001b[0;34m,\u001b[0m \u001b[0mfloat_format\u001b[0m\u001b[0;34m=\u001b[0m\u001b[0;34m'%.3f'\u001b[0m\u001b[0;34m,\u001b[0m \u001b[0mstars\u001b[0m\u001b[0;34m=\u001b[0m\u001b[0;32mTrue\u001b[0m\u001b[0;34m,\u001b[0m \u001b[0minfo_dict\u001b[0m \u001b[0;34m=\u001b[0m \u001b[0minfo_dict\u001b[0m\u001b[0;34m)\u001b[0m\u001b[0;34m)\u001b[0m\u001b[0;34m\u001b[0m\u001b[0;34m\u001b[0m\u001b[0m\n\u001b[0m",
      "\u001b[0;32m~/opt/anaconda3/lib/python3.9/site-packages/statsmodels/iolib/summary2.py\u001b[0m in \u001b[0;36msummary_col\u001b[0;34m(results, float_format, model_names, stars, info_dict, regressor_order, drop_omitted)\u001b[0m\n\u001b[1;32m    490\u001b[0m         \u001b[0mresults\u001b[0m \u001b[0;34m=\u001b[0m \u001b[0;34m[\u001b[0m\u001b[0mresults\u001b[0m\u001b[0;34m]\u001b[0m\u001b[0;34m\u001b[0m\u001b[0;34m\u001b[0m\u001b[0m\n\u001b[1;32m    491\u001b[0m \u001b[0;34m\u001b[0m\u001b[0m\n\u001b[0;32m--> 492\u001b[0;31m     cols = [_col_params(x, stars=stars, float_format=float_format) for x in\n\u001b[0m\u001b[1;32m    493\u001b[0m             results]\n\u001b[1;32m    494\u001b[0m \u001b[0;34m\u001b[0m\u001b[0m\n",
      "\u001b[0;32m~/opt/anaconda3/lib/python3.9/site-packages/statsmodels/iolib/summary2.py\u001b[0m in \u001b[0;36m<listcomp>\u001b[0;34m(.0)\u001b[0m\n\u001b[1;32m    490\u001b[0m         \u001b[0mresults\u001b[0m \u001b[0;34m=\u001b[0m \u001b[0;34m[\u001b[0m\u001b[0mresults\u001b[0m\u001b[0;34m]\u001b[0m\u001b[0;34m\u001b[0m\u001b[0;34m\u001b[0m\u001b[0m\n\u001b[1;32m    491\u001b[0m \u001b[0;34m\u001b[0m\u001b[0m\n\u001b[0;32m--> 492\u001b[0;31m     cols = [_col_params(x, stars=stars, float_format=float_format) for x in\n\u001b[0m\u001b[1;32m    493\u001b[0m             results]\n\u001b[1;32m    494\u001b[0m \u001b[0;34m\u001b[0m\u001b[0m\n",
      "\u001b[0;32m~/opt/anaconda3/lib/python3.9/site-packages/statsmodels/iolib/summary2.py\u001b[0m in \u001b[0;36m_col_params\u001b[0;34m(result, float_format, stars)\u001b[0m\n\u001b[1;32m    388\u001b[0m \u001b[0;34m\u001b[0m\u001b[0m\n\u001b[1;32m    389\u001b[0m     \u001b[0;31m# Extract parameters\u001b[0m\u001b[0;34m\u001b[0m\u001b[0;34m\u001b[0m\u001b[0m\n\u001b[0;32m--> 390\u001b[0;31m     \u001b[0mres\u001b[0m \u001b[0;34m=\u001b[0m \u001b[0msummary_params\u001b[0m\u001b[0;34m(\u001b[0m\u001b[0mresult\u001b[0m\u001b[0;34m)\u001b[0m\u001b[0;34m\u001b[0m\u001b[0;34m\u001b[0m\u001b[0m\n\u001b[0m\u001b[1;32m    391\u001b[0m     \u001b[0;31m# Format float\u001b[0m\u001b[0;34m\u001b[0m\u001b[0;34m\u001b[0m\u001b[0m\n\u001b[1;32m    392\u001b[0m     \u001b[0;32mfor\u001b[0m \u001b[0mcol\u001b[0m \u001b[0;32min\u001b[0m \u001b[0mres\u001b[0m\u001b[0;34m.\u001b[0m\u001b[0mcolumns\u001b[0m\u001b[0;34m[\u001b[0m\u001b[0;34m:\u001b[0m\u001b[0;36m2\u001b[0m\u001b[0;34m]\u001b[0m\u001b[0;34m:\u001b[0m\u001b[0;34m\u001b[0m\u001b[0;34m\u001b[0m\u001b[0m\n",
      "\u001b[0;32m~/opt/anaconda3/lib/python3.9/site-packages/statsmodels/iolib/summary2.py\u001b[0m in \u001b[0;36msummary_params\u001b[0;34m(results, yname, xname, alpha, use_t, skip_header, float_format)\u001b[0m\n\u001b[1;32m    354\u001b[0m         \u001b[0mresults\u001b[0m\u001b[0;34m,\u001b[0m \u001b[0mparams\u001b[0m\u001b[0;34m,\u001b[0m \u001b[0mbse\u001b[0m\u001b[0;34m,\u001b[0m \u001b[0mtvalues\u001b[0m\u001b[0;34m,\u001b[0m \u001b[0mpvalues\u001b[0m\u001b[0;34m,\u001b[0m \u001b[0mconf_int\u001b[0m \u001b[0;34m=\u001b[0m \u001b[0mresults\u001b[0m\u001b[0;34m\u001b[0m\u001b[0;34m\u001b[0m\u001b[0m\n\u001b[1;32m    355\u001b[0m     \u001b[0;32melse\u001b[0m\u001b[0;34m:\u001b[0m\u001b[0;34m\u001b[0m\u001b[0;34m\u001b[0m\u001b[0m\n\u001b[0;32m--> 356\u001b[0;31m         \u001b[0mparams\u001b[0m \u001b[0;34m=\u001b[0m \u001b[0mresults\u001b[0m\u001b[0;34m.\u001b[0m\u001b[0mparams\u001b[0m\u001b[0;34m\u001b[0m\u001b[0;34m\u001b[0m\u001b[0m\n\u001b[0m\u001b[1;32m    357\u001b[0m         \u001b[0mbse\u001b[0m \u001b[0;34m=\u001b[0m \u001b[0mresults\u001b[0m\u001b[0;34m.\u001b[0m\u001b[0mbse\u001b[0m\u001b[0;34m\u001b[0m\u001b[0;34m\u001b[0m\u001b[0m\n\u001b[1;32m    358\u001b[0m         \u001b[0mtvalues\u001b[0m \u001b[0;34m=\u001b[0m \u001b[0mresults\u001b[0m\u001b[0;34m.\u001b[0m\u001b[0mtvalues\u001b[0m\u001b[0;34m\u001b[0m\u001b[0;34m\u001b[0m\u001b[0m\n",
      "\u001b[0;31mAttributeError\u001b[0m: 'OLS' object has no attribute 'params'"
     ]
    }
   ],
   "source": [
    "info_dict = {'No. Observations': lambda x: '{0:d}'.format(int(x.nobs)), \n",
    "             'Residual Std. Error': lambda x: \"%#8.3f\" % x.mse_resid**0.5,\n",
    "             'F-statistic': lambda x: '{:.3f}'.format(x.fvalue), \n",
    "             'Prob (F-statistic)': lambda x: '{:.3f}'.format(x.f_pvalue)}\n",
    "print(summary_col(wage_eq12, float_format='%.3f', stars=True, info_dict = info_dict))"
   ]
  },
  {
   "cell_type": "code",
   "execution_count": null,
   "id": "c4487533",
   "metadata": {},
   "outputs": [],
   "source": []
  }
 ],
 "metadata": {
  "kernelspec": {
   "display_name": "Python 3 (ipykernel)",
   "language": "python",
   "name": "python3"
  },
  "language_info": {
   "codemirror_mode": {
    "name": "ipython",
    "version": 3
   },
   "file_extension": ".py",
   "mimetype": "text/x-python",
   "name": "python",
   "nbconvert_exporter": "python",
   "pygments_lexer": "ipython3",
   "version": "3.9.13"
  }
 },
 "nbformat": 4,
 "nbformat_minor": 5
}
